{
 "cells": [
  {
   "cell_type": "markdown",
   "id": "c0db6c84-a6b0-4d83-9361-bba8e747ab1e",
   "metadata": {},
   "source": [
    "# <b> Sprawozdanie PSD - lista 2 </b> #\n",
    "### Stefan Borek (260359) ###\n",
    "4-5-2022"
   ]
  },
  {
   "cell_type": "markdown",
   "id": "10815b95-2973-4efc-9c05-c1c454f88c32",
   "metadata": {},
   "source": [
    "## Polecania: ##\n",
    "1. Pobrać listę słów, które będą uznawane za poprawne oraz zbiór danych tekstowych (tzw. korpus) dla języka angielskiego.\n",
    "2. Wykorzystać podejścia naiwne oraz filtr Blooma (o rozmiarze równym liczbie słów) do oznaczenia słów z korpusu niewystępujących w liście słów (tj. niepoprawnych).\n",
    "3. Porównać wymagania pamięciowe oraz czasowe dla podejść naiwnych oraz filtru Blooma.\n",
    "4. Przedstawić listę 10 słów najczęściej oznaczanych jako niepoprawne, oraz wyznaczyć po 3 najbliższe propozycje z listy poprawnych słów na podstawie odległości Levenshteina 4."
   ]
  },
  {
   "cell_type": "code",
   "execution_count": 1,
   "id": "ec8a4b92-d897-4714-8785-44198393ff37",
   "metadata": {},
   "outputs": [],
   "source": [
    "import nltk\n",
    "from nltk.corpus import words, movie_reviews\n",
    "from nltk.stem import WordNetLemmatizer\n",
    "from nltk.stem.snowball import SnowballStemmer\n",
    "from collections import Counter\n",
    "import time\n",
    "import re"
   ]
  },
  {
   "cell_type": "code",
   "execution_count": 3,
   "id": "33c8f2a7-d4b3-419c-9a9a-05b12a0712e9",
   "metadata": {},
   "outputs": [
    {
     "data": {
      "text/plain": [
       "235886"
      ]
     },
     "execution_count": 3,
     "metadata": {},
     "output_type": "execute_result"
    }
   ],
   "source": [
    "# wczytanie do listy - words (wszystkie słowa)\n",
    "all_words = words.words('en')\n",
    "len(all_words)"
   ]
  },
  {
   "cell_type": "code",
   "execution_count": 4,
   "id": "f8ae70bc-8422-4870-8f40-4967423fc8e8",
   "metadata": {},
   "outputs": [
    {
     "data": {
      "text/plain": [
       "1583820"
      ]
     },
     "execution_count": 4,
     "metadata": {},
     "output_type": "execute_result"
    }
   ],
   "source": [
    "# wczytanie do listy\n",
    "word_list = list(movie_reviews.words())\n",
    "len(word_list)"
   ]
  },
  {
   "cell_type": "markdown",
   "id": "03ecc248-eb1d-429b-a06e-d1849766f2b6",
   "metadata": {},
   "source": [
    "Usuniecie niepotrzebnych znaków."
   ]
  },
  {
   "cell_type": "code",
   "execution_count": 6,
   "id": "09f246ec-9418-494e-80cb-45376efc55b5",
   "metadata": {},
   "outputs": [
    {
     "data": {
      "text/plain": [
       "1329753"
      ]
     },
     "execution_count": 6,
     "metadata": {},
     "output_type": "execute_result"
    }
   ],
   "source": [
    "movie_reviews_words = []\n",
    "for w in word_list:\n",
    "    if re.match(r'^[a-zA-Z]+$', w):\n",
    "        movie_reviews_words.append(w)\n",
    "        \n",
    "len(movie_reviews_words)"
   ]
  },
  {
   "cell_type": "markdown",
   "id": "1950b770-7445-45d0-aa66-20b6c36ef010",
   "metadata": {},
   "source": [
    "## Implementacja filtru Blooma ##\n",
    "Filtr blooma to struktura danych zaprojektowana do sprawdzania, czy szukany element znajduje się w zdefiniowanym zbiorze elementów. Często jest wykorzystywany np. przed rejestracją użytkownika na portalach internetowych bay sprawdzić czy nazwa użytkonika jest już zjęta."
   ]
  },
  {
   "cell_type": "markdown",
   "id": "cbf05387-3e0e-4681-998f-2d37f1faa12b",
   "metadata": {},
   "source": [
    "Użycie biblioteki <b>bloom-filter2</b>"
   ]
  },
  {
   "cell_type": "code",
   "execution_count": 9,
   "id": "dc51b300-1dbe-4fc5-a02a-9d213650a864",
   "metadata": {},
   "outputs": [],
   "source": [
    "from bloom_filter2 import BloomFilter"
   ]
  },
  {
   "cell_type": "code",
   "execution_count": 10,
   "id": "413859e8-28f0-4f92-acb9-d8049556d675",
   "metadata": {},
   "outputs": [
    {
     "data": {
      "text/plain": [
       "BloomFilter(ideal_num_elements_n=235886, error_rate_p=0.050000, num_bits_m=1470803)"
      ]
     },
     "execution_count": 10,
     "metadata": {},
     "output_type": "execute_result"
    }
   ],
   "source": [
    "bloom = BloomFilter(max_elements=len(all_words), error_rate=0.05)\n",
    "bloom"
   ]
  },
  {
   "cell_type": "code",
   "execution_count": 11,
   "id": "3f7fd45b-a69d-42c4-a12f-6efb154a2547",
   "metadata": {},
   "outputs": [],
   "source": [
    "for item in all_words:\n",
    "    bloom.add(item)"
   ]
  },
  {
   "cell_type": "code",
   "execution_count": 12,
   "id": "296545ef-208f-49db-8178-3e9a92754006",
   "metadata": {},
   "outputs": [
    {
     "name": "stdout",
     "output_type": "stream",
     "text": [
      "Czas filtr blooma:\n",
      "8.961230993270874 s\n"
     ]
    }
   ],
   "source": [
    "accuracy = 0\n",
    "errors = []\n",
    "\n",
    "start = time.time()\n",
    "for item in movie_reviews_words:\n",
    "    if item not in bloom:\n",
    "        errors.append(item)\n",
    "    else:\n",
    "        accuracy += 1\n",
    "end = time.time()\n",
    "print('Czas filtr blooma:')\n",
    "print(end-start, 's')"
   ]
  },
  {
   "cell_type": "code",
   "execution_count": 13,
   "id": "af1a9be6-14f1-4277-baeb-84b858651633",
   "metadata": {},
   "outputs": [
    {
     "name": "stdout",
     "output_type": "stream",
     "text": [
      "errors:  181253\n",
      "accuracy:  0.7251455342147466\n"
     ]
    }
   ],
   "source": [
    "accuracy /= len(word_list)\n",
    "print('errors: ', len(errors))\n",
    "print('accuracy: ', accuracy)"
   ]
  },
  {
   "cell_type": "code",
   "execution_count": 14,
   "id": "dbac89d7-8e63-4277-8ccf-c0fd32d834a8",
   "metadata": {},
   "outputs": [],
   "source": [
    "error_words = Counter(errors)"
   ]
  },
  {
   "cell_type": "code",
   "execution_count": 15,
   "id": "d07879a8-8ce5-45ac-9361-edcbd2c0ce4a",
   "metadata": {},
   "outputs": [],
   "source": [
    "error_words = dict(sorted(error_words.items(), key=lambda item: item[1], reverse=True))"
   ]
  },
  {
   "cell_type": "code",
   "execution_count": 16,
   "id": "9aa3b98e-fe98-4291-914c-61c4aad3f91d",
   "metadata": {},
   "outputs": [
    {
     "data": {
      "text/plain": [
       "['has',\n",
       " 'characters',\n",
       " 'films',\n",
       " 'doesn',\n",
       " 'scenes',\n",
       " 'movies',\n",
       " 'seems',\n",
       " 'makes',\n",
       " 'isn',\n",
       " 'things']"
      ]
     },
     "execution_count": 16,
     "metadata": {},
     "output_type": "execute_result"
    }
   ],
   "source": [
    "top_mistakes = list(error_words)[:10]\n",
    "top_mistakes"
   ]
  },
  {
   "cell_type": "markdown",
   "id": "7820acea-c848-444e-8e22-6fde9e11937a",
   "metadata": {},
   "source": [
    "Wyszukanie najbliższych słów poprzez odległość <b>Levenshteina</b> obliczam ją przy pomocy funkcji edit_distance z biblioteki nltk.\\\n",
    "<b>Odległość Levenshteina</b> - ilość znaków w słowie, które powinny być zmienione aby otrzymać oczekiwane słowo."
   ]
  },
  {
   "cell_type": "code",
   "execution_count": 18,
   "id": "d42892d8-6a09-4dd7-8d24-f959ba87df5e",
   "metadata": {},
   "outputs": [
    {
     "name": "stdout",
     "output_type": "stream",
     "text": [
      "Wyniki:\n",
      "has --> as\n",
      "characters --> character\n",
      "films --> film\n",
      "doesn --> does\n",
      "scenes --> scene\n",
      "movies --> movie\n",
      "seems --> seem\n",
      "makes --> jakes\n",
      "isn --> hisn\n",
      "things --> thing\n"
     ]
    }
   ],
   "source": [
    "print('Wyniki:')\n",
    "for w1 in top_mistakes:\n",
    "    min_word = ''\n",
    "    min_dist = len(w1)\n",
    "    for w2 in all_words:\n",
    "        dd = nltk.edit_distance(w1, w2)\n",
    "        if dd < min_dist:\n",
    "            min_dist = dd\n",
    "            min_word = w2\n",
    "    print(w1, '-->', min_word)"
   ]
  },
  {
   "cell_type": "markdown",
   "id": "33ee550a-5415-47b8-8453-b05674dbc6b0",
   "metadata": {},
   "source": [
    "### Wnioski: ###\n",
    "Najsześciej występujące niepoprawne słowa są związane z ich odmianą. W korpusie nie znalazły sę odmiany oraz liczby mnogie niektórych słów z czy dość dobrze poradziła sobie nasza selekcja z użyciem odległości Levenshteina."
   ]
  },
  {
   "cell_type": "markdown",
   "id": "17777bbf-d899-4dc7-99e9-57aaef184697",
   "metadata": {},
   "source": [
    "### Podejscie naiwne ###\n",
    "Przechodzimy po koleji po słowach do znalezienia i szukamy ich w korpusie."
   ]
  },
  {
   "cell_type": "code",
   "execution_count": 20,
   "id": "7a48b2b0-1744-461d-bfaa-ec2debe124b4",
   "metadata": {},
   "outputs": [],
   "source": [
    "import multiprocessing as mp\n",
    "import time"
   ]
  },
  {
   "cell_type": "code",
   "execution_count": 21,
   "id": "da50c555-5271-4eb8-a684-13eea5993485",
   "metadata": {},
   "outputs": [
    {
     "name": "stdout",
     "output_type": "stream",
     "text": [
      "Czas podejście naiwne:\n",
      "85.86287879943848 s\n"
     ]
    }
   ],
   "source": [
    "def naive_aproach(words_list, corpus):\n",
    "    mistakes = 0\n",
    "    for word in words_list:\n",
    "        if word not in corpus:\n",
    "            mistakes += 1\n",
    "\n",
    "    return mistakes\n",
    "\n",
    "\n",
    "if __name__ == '__main__':\n",
    "    with mp.Pool(processes=7) as pool:\n",
    "        start = time.time()\n",
    "        p = mp.Process(target=naive_aproach, args=(word_list[:50000], all_words))\n",
    "        p.run()\n",
    "\n",
    "    \n",
    "    end = time.time()\n",
    "    print(\"Czas podejście naiwne:\")\n",
    "    print(end-start, 's')"
   ]
  },
  {
   "cell_type": "markdown",
   "id": "fa5238a5-f53f-4cc3-8a6c-9992b2868668",
   "metadata": {},
   "source": [
    "## Wnioski ##\n",
    "Podejście naiwne dla 50000 słów zajmuje już ponad 85 s co daje czas nieporównywalnie większy od filtru Blooma to pokazuje jaką przewagę daje nam zastosowanie tej metody i jak duże ma ona możliwości. "
   ]
  }
 ],
 "metadata": {
  "kernelspec": {
   "display_name": "Python 3 (ipykernel)",
   "language": "python",
   "name": "python3"
  },
  "language_info": {
   "codemirror_mode": {
    "name": "ipython",
    "version": 3
   },
   "file_extension": ".py",
   "mimetype": "text/x-python",
   "name": "python",
   "nbconvert_exporter": "python",
   "pygments_lexer": "ipython3",
   "version": "3.9.12"
  }
 },
 "nbformat": 4,
 "nbformat_minor": 5
}
