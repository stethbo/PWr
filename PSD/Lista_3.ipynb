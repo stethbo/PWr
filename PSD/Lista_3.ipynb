{
 "cells": [
  {
   "cell_type": "markdown",
   "id": "6500e3be-8d11-46f3-843f-4293f9445aac",
   "metadata": {},
   "source": [
    "# Sprawozdanie PSD - list 3 #\n",
    "# <b>Filtr Kalmana</b> #\n",
    "### Stefan Borek ###\n",
    "### 10-6-2022 ###\n"
   ]
  },
  {
   "cell_type": "code",
   "execution_count": 1,
   "id": "786c99f8",
   "metadata": {},
   "outputs": [],
   "source": [
    "import numpy as np\n",
    "import plotly.graph_objects as go\n",
    "import plotly.express as ex\n",
    "import pandas as pd\n",
    "from datetime import datetime\n",
    "from sklearn.metrics import mean_squared_error\n",
    "from IPython import display\n"
   ]
  },
  {
   "cell_type": "markdown",
   "id": "ee04d15f",
   "metadata": {},
   "source": [
    "## <b> 1.1 Filtr $\\alpha $ </b> \n",
    "\n",
    "<b>Równanie aktualizacji estymaty stanu:</b>\n",
    "\n",
    "$\\hat x_{N,N} = \\hat x_{N,N-1} + \\frac{1}{N}(z_{N}-\\hat{x}_{N, N-1})$"
   ]
  },
  {
   "cell_type": "code",
   "execution_count": 2,
   "id": "e8f38d2a-5eba-4a9d-803c-95a1ddf0d305",
   "metadata": {},
   "outputs": [],
   "source": [
    "def alpha_filter(x0, Z, N):\n",
    "    '''\n",
    "    * param x0: poczatkowe założenie nt. estymowanego parametru\n",
    "    * param list `Z`: ciąf obserwacji\n",
    "    :param int N: liczba obserwacji\n",
    "\n",
    "    :return x_nn: estymowane wartości w następnych N krokach\n",
    "    '''\n",
    "    x_nn = [x0]\n",
    "\n",
    "    for n in range(1, N):\n",
    "        x_new = x_nn[n-1] + 1/n * (Z[n] - x_nn[n-1])\n",
    "        x_nn.append(x_new)\n",
    "    return x_nn"
   ]
  },
  {
   "cell_type": "code",
   "execution_count": 3,
   "id": "8f14887e",
   "metadata": {},
   "outputs": [
    {
     "data": {
      "text/html": [
       "<div>\n",
       "<style scoped>\n",
       "    .dataframe tbody tr th:only-of-type {\n",
       "        vertical-align: middle;\n",
       "    }\n",
       "\n",
       "    .dataframe tbody tr th {\n",
       "        vertical-align: top;\n",
       "    }\n",
       "\n",
       "    .dataframe thead th {\n",
       "        text-align: right;\n",
       "    }\n",
       "</style>\n",
       "<table border=\"1\" class=\"dataframe\">\n",
       "  <thead>\n",
       "    <tr style=\"text-align: right;\">\n",
       "      <th></th>\n",
       "      <th>num</th>\n",
       "      <th>pomiar prędkości</th>\n",
       "      <th>prędkość rzeczywista</th>\n",
       "    </tr>\n",
       "  </thead>\n",
       "  <tbody>\n",
       "    <tr>\n",
       "      <th>0</th>\n",
       "      <td>0</td>\n",
       "      <td>20.167016</td>\n",
       "      <td>20</td>\n",
       "    </tr>\n",
       "    <tr>\n",
       "      <th>1</th>\n",
       "      <td>1</td>\n",
       "      <td>20.187876</td>\n",
       "      <td>20</td>\n",
       "    </tr>\n",
       "    <tr>\n",
       "      <th>2</th>\n",
       "      <td>2</td>\n",
       "      <td>19.668695</td>\n",
       "      <td>20</td>\n",
       "    </tr>\n",
       "    <tr>\n",
       "      <th>3</th>\n",
       "      <td>3</td>\n",
       "      <td>20.335405</td>\n",
       "      <td>20</td>\n",
       "    </tr>\n",
       "    <tr>\n",
       "      <th>4</th>\n",
       "      <td>4</td>\n",
       "      <td>20.089794</td>\n",
       "      <td>20</td>\n",
       "    </tr>\n",
       "  </tbody>\n",
       "</table>\n",
       "</div>"
      ],
      "text/plain": [
       "   num  pomiar prędkości  prędkość rzeczywista\n",
       "0    0         20.167016                    20\n",
       "1    1         20.187876                    20\n",
       "2    2         19.668695                    20\n",
       "3    3         20.335405                    20\n",
       "4    4         20.089794                    20"
      ]
     },
     "execution_count": 3,
     "metadata": {},
     "output_type": "execute_result"
    }
   ],
   "source": [
    "n = 100\n",
    "\n",
    "v_m = [20 + np.random.normal(0, .1) for _ in range(n)]\n",
    "v_real = [20 for _ in range(n)]\n",
    "x = np.arange(n)\n",
    "df = pd.DataFrame()\n",
    "df['num'] = np.arange(n)\n",
    "df['pomiar prędkości'] = [20 + np.random.normal(0, .5) for _ in range(n)]\n",
    "df['prędkość rzeczywista'] = [20 for _ in range(n)]\n",
    "df.head()"
   ]
  },
  {
   "cell_type": "code",
   "execution_count": 4,
   "id": "52fcd392",
   "metadata": {},
   "outputs": [],
   "source": [
    "X_nn = alpha_filter(v_m[0], v_m, len(v_m))"
   ]
  },
  {
   "cell_type": "code",
   "execution_count": 5,
   "id": "796e23fc",
   "metadata": {},
   "outputs": [
    {
     "data": {
      "text/html": [
       "<div>\n",
       "<style scoped>\n",
       "    .dataframe tbody tr th:only-of-type {\n",
       "        vertical-align: middle;\n",
       "    }\n",
       "\n",
       "    .dataframe tbody tr th {\n",
       "        vertical-align: top;\n",
       "    }\n",
       "\n",
       "    .dataframe thead th {\n",
       "        text-align: right;\n",
       "    }\n",
       "</style>\n",
       "<table border=\"1\" class=\"dataframe\">\n",
       "  <thead>\n",
       "    <tr style=\"text-align: right;\">\n",
       "      <th></th>\n",
       "      <th>num</th>\n",
       "      <th>pomiar prędkości</th>\n",
       "      <th>prędkość rzeczywista</th>\n",
       "      <th>prędkość po filterze alpfa</th>\n",
       "    </tr>\n",
       "  </thead>\n",
       "  <tbody>\n",
       "    <tr>\n",
       "      <th>0</th>\n",
       "      <td>0</td>\n",
       "      <td>20.167016</td>\n",
       "      <td>20</td>\n",
       "      <td>20.063846</td>\n",
       "    </tr>\n",
       "    <tr>\n",
       "      <th>1</th>\n",
       "      <td>1</td>\n",
       "      <td>20.187876</td>\n",
       "      <td>20</td>\n",
       "      <td>19.992986</td>\n",
       "    </tr>\n",
       "    <tr>\n",
       "      <th>2</th>\n",
       "      <td>2</td>\n",
       "      <td>19.668695</td>\n",
       "      <td>20</td>\n",
       "      <td>20.088057</td>\n",
       "    </tr>\n",
       "    <tr>\n",
       "      <th>3</th>\n",
       "      <td>3</td>\n",
       "      <td>20.335405</td>\n",
       "      <td>20</td>\n",
       "      <td>20.108757</td>\n",
       "    </tr>\n",
       "    <tr>\n",
       "      <th>4</th>\n",
       "      <td>4</td>\n",
       "      <td>20.089794</td>\n",
       "      <td>20</td>\n",
       "      <td>20.091776</td>\n",
       "    </tr>\n",
       "  </tbody>\n",
       "</table>\n",
       "</div>"
      ],
      "text/plain": [
       "   num  pomiar prędkości  prędkość rzeczywista  prędkość po filterze alpfa\n",
       "0    0         20.167016                    20                   20.063846\n",
       "1    1         20.187876                    20                   19.992986\n",
       "2    2         19.668695                    20                   20.088057\n",
       "3    3         20.335405                    20                   20.108757\n",
       "4    4         20.089794                    20                   20.091776"
      ]
     },
     "execution_count": 5,
     "metadata": {},
     "output_type": "execute_result"
    }
   ],
   "source": [
    "df['prędkość po filterze alpfa'] = X_nn\n",
    "df.head()"
   ]
  },
  {
   "cell_type": "code",
   "execution_count": 6,
   "id": "4717d393",
   "metadata": {},
   "outputs": [
    {
     "data": {
      "application/vnd.plotly.v1+json": {
       "config": {
        "plotlyServerURL": "https://plot.ly"
       },
       "data": [
        {
         "hovertemplate": "variable=pomiar prędkości<br>num=%{x}<br>value=%{y}<extra></extra>",
         "legendgroup": "pomiar prędkości",
         "marker": {
          "color": "#636efa",
          "symbol": "circle"
         },
         "mode": "markers",
         "name": "pomiar prędkości",
         "orientation": "v",
         "showlegend": true,
         "type": "scatter",
         "x": [
          0,
          1,
          2,
          3,
          4,
          5,
          6,
          7,
          8,
          9,
          10,
          11,
          12,
          13,
          14,
          15,
          16,
          17,
          18,
          19,
          20,
          21,
          22,
          23,
          24,
          25,
          26,
          27,
          28,
          29,
          30,
          31,
          32,
          33,
          34,
          35,
          36,
          37,
          38,
          39,
          40,
          41,
          42,
          43,
          44,
          45,
          46,
          47,
          48,
          49,
          50,
          51,
          52,
          53,
          54,
          55,
          56,
          57,
          58,
          59,
          60,
          61,
          62,
          63,
          64,
          65,
          66,
          67,
          68,
          69,
          70,
          71,
          72,
          73,
          74,
          75,
          76,
          77,
          78,
          79,
          80,
          81,
          82,
          83,
          84,
          85,
          86,
          87,
          88,
          89,
          90,
          91,
          92,
          93,
          94,
          95,
          96,
          97,
          98,
          99
         ],
         "xaxis": "x",
         "y": [
          20.16701648663463,
          20.1878763425738,
          19.668695487575484,
          20.335405189568732,
          20.089794300307744,
          20.314582092848404,
          20.438651165657507,
          20.81916881702296,
          20.510028164521685,
          18.546853682255172,
          19.608902860305363,
          19.99966353281584,
          20.30109450374676,
          19.716539807979792,
          20.324245461106454,
          20.313606204319786,
          20.23157242592743,
          19.64390749721525,
          20.25629225952495,
          19.413710692217506,
          19.654127167967665,
          21.294646154725207,
          19.63104347098839,
          19.417684514263698,
          20.24916983500523,
          20.501567668350877,
          20.299090767472162,
          20.233157884928428,
          20.38053646612503,
          20.28051038630614,
          20.143030676595384,
          18.852924676154977,
          19.608224754942306,
          19.86484983431359,
          19.803031937039005,
          20.027335109062417,
          19.47028647072426,
          20.38011694195263,
          19.65495255190416,
          19.807176993311383,
          19.50133914363398,
          19.528335237095064,
          19.948961389306525,
          20.703502285426417,
          19.707574654095385,
          19.668923069007942,
          20.210923982793265,
          20.40475085877737,
          20.402373162925922,
          20.00659939153601,
          19.914807316763227,
          20.594663504750383,
          20.29636791541331,
          19.71997258233324,
          19.552184006804573,
          20.66072784587092,
          20.3287170200768,
          19.65394362766236,
          20.529504361852513,
          20.121642802000387,
          20.685396155513704,
          20.35064481202817,
          20.23342625275411,
          20.070634723811928,
          20.869670827098027,
          20.425037085970473,
          19.489950042275794,
          20.348137065798454,
          20.205909771030512,
          20.281956723388472,
          20.564559749311144,
          19.885019969178337,
          19.851352976641707,
          19.653165379528843,
          20.023612665790758,
          19.98975465583623,
          20.16046456965362,
          19.318027290045386,
          19.970143207978683,
          20.02520703326981,
          20.209875789192743,
          19.78286707992185,
          19.07393253336184,
          20.41170363779067,
          19.4861462623861,
          19.510692543643184,
          20.19173765486322,
          20.119857074810174,
          20.35497962712756,
          19.680270917568595,
          19.54309788219282,
          20.38936999330523,
          19.3269237771911,
          20.158948040211115,
          19.661737137028297,
          19.650340247218093,
          20.208833599820768,
          20.338620638054444,
          20.0536331965815,
          20.51100059748002
         ],
         "yaxis": "y"
        },
        {
         "hovertemplate": "variable=prędkość po filterze alpfa<br>num=%{x}<br>value=%{y}<extra></extra>",
         "legendgroup": "prędkość po filterze alpfa",
         "marker": {
          "color": "#EF553B",
          "symbol": "circle"
         },
         "mode": "markers",
         "name": "prędkość po filterze alpfa",
         "orientation": "v",
         "showlegend": true,
         "type": "scatter",
         "x": [
          0,
          1,
          2,
          3,
          4,
          5,
          6,
          7,
          8,
          9,
          10,
          11,
          12,
          13,
          14,
          15,
          16,
          17,
          18,
          19,
          20,
          21,
          22,
          23,
          24,
          25,
          26,
          27,
          28,
          29,
          30,
          31,
          32,
          33,
          34,
          35,
          36,
          37,
          38,
          39,
          40,
          41,
          42,
          43,
          44,
          45,
          46,
          47,
          48,
          49,
          50,
          51,
          52,
          53,
          54,
          55,
          56,
          57,
          58,
          59,
          60,
          61,
          62,
          63,
          64,
          65,
          66,
          67,
          68,
          69,
          70,
          71,
          72,
          73,
          74,
          75,
          76,
          77,
          78,
          79,
          80,
          81,
          82,
          83,
          84,
          85,
          86,
          87,
          88,
          89,
          90,
          91,
          92,
          93,
          94,
          95,
          96,
          97,
          98,
          99
         ],
         "xaxis": "x",
         "y": [
          20.063846467471254,
          19.992986256394154,
          20.088056668880334,
          20.10875658927762,
          20.091776064865265,
          20.066217677779473,
          20.01235120037156,
          19.979805870703782,
          20.003531709786277,
          20.013700458840184,
          20.034498783259625,
          20.04446138146525,
          20.03079390943811,
          20.04119984079614,
          20.0356446389262,
          20.038178718963493,
          20.039181226256265,
          20.028174404213363,
          20.02780618857685,
          20.022182518166318,
          20.027570408284504,
          20.022378471488995,
          20.017240200831306,
          20.020912732930036,
          20.027807163103645,
          20.020326366779187,
          20.017661293132548,
          20.01335951381722,
          20.006264548090105,
          20.00108266260368,
          20.00640304046383,
          20.007655779995225,
          20.00785558362658,
          20.00147862824099,
          20.003066424231058,
          20.002701823106854,
          20.00244902321139,
          20.00300511976446,
          20.001235347219602,
          19.998581366764345,
          20.000273013272555,
          19.99680601479751,
          19.99445386220212,
          19.99153115860006,
          19.992919022767538,
          19.99571964041823,
          19.996819447097995,
          19.998228215673784,
          19.99571930438849,
          19.998513184321805,
          19.997979786620242,
          19.999063397823225,
          20.003011056264825,
          20.003381096147333,
          20.003921730075014,
          20.00400750183957,
          19.99969778313297,
          20.000303477957424,
          20.001441970818423,
          20.00434525659799,
          20.00640079469795,
          20.00640090141541,
          20.00554054872669,
          20.003849982871632,
          20.00493218445357,
          20.004740930247618,
          20.005619676107433,
          20.005623394620564,
          20.005497428672527,
          20.00669835319113,
          20.004007230777592,
          20.00296426664332,
          20.001273135404663,
          20.000498902136727,
          20.00029262744031,
          20.00070444549163,
          20.001129920136435,
          19.99985156891041,
          20.000131936947433,
          19.99893591079617,
          19.997715149398957,
          19.995976253519824,
          19.995413500583204,
          19.996415544819502,
          19.997105051512126,
          19.99670979657999,
          19.995750836972313,
          19.994571883053005,
          19.991110033548484,
          19.990194302768955,
          19.99194341538965,
          19.991434625743018,
          19.99118626449756,
          19.99210440273012,
          19.992725649800597,
          19.993388495019175,
          19.992887603216904,
          19.99345805508988,
          19.99195584746001,
          19.99294844527872
         ],
         "yaxis": "y"
        },
        {
         "hovertemplate": "num=%{x}<br>prędkość rzeczywista=%{y}<extra></extra>",
         "legendgroup": "",
         "line": {
          "color": "green",
          "dash": "solid"
         },
         "marker": {
          "symbol": "circle"
         },
         "mode": "lines",
         "name": "real",
         "orientation": "v",
         "showlegend": false,
         "type": "scatter",
         "x": [
          0,
          1,
          2,
          3,
          4,
          5,
          6,
          7,
          8,
          9,
          10,
          11,
          12,
          13,
          14,
          15,
          16,
          17,
          18,
          19,
          20,
          21,
          22,
          23,
          24,
          25,
          26,
          27,
          28,
          29,
          30,
          31,
          32,
          33,
          34,
          35,
          36,
          37,
          38,
          39,
          40,
          41,
          42,
          43,
          44,
          45,
          46,
          47,
          48,
          49,
          50,
          51,
          52,
          53,
          54,
          55,
          56,
          57,
          58,
          59,
          60,
          61,
          62,
          63,
          64,
          65,
          66,
          67,
          68,
          69,
          70,
          71,
          72,
          73,
          74,
          75,
          76,
          77,
          78,
          79,
          80,
          81,
          82,
          83,
          84,
          85,
          86,
          87,
          88,
          89,
          90,
          91,
          92,
          93,
          94,
          95,
          96,
          97,
          98,
          99
         ],
         "xaxis": "x",
         "y": [
          20,
          20,
          20,
          20,
          20,
          20,
          20,
          20,
          20,
          20,
          20,
          20,
          20,
          20,
          20,
          20,
          20,
          20,
          20,
          20,
          20,
          20,
          20,
          20,
          20,
          20,
          20,
          20,
          20,
          20,
          20,
          20,
          20,
          20,
          20,
          20,
          20,
          20,
          20,
          20,
          20,
          20,
          20,
          20,
          20,
          20,
          20,
          20,
          20,
          20,
          20,
          20,
          20,
          20,
          20,
          20,
          20,
          20,
          20,
          20,
          20,
          20,
          20,
          20,
          20,
          20,
          20,
          20,
          20,
          20,
          20,
          20,
          20,
          20,
          20,
          20,
          20,
          20,
          20,
          20,
          20,
          20,
          20,
          20,
          20,
          20,
          20,
          20,
          20,
          20,
          20,
          20,
          20,
          20,
          20,
          20,
          20,
          20,
          20,
          20
         ],
         "yaxis": "y"
        }
       ],
       "layout": {
        "template": {
         "data": {
          "bar": [
           {
            "error_x": {
             "color": "#2a3f5f"
            },
            "error_y": {
             "color": "#2a3f5f"
            },
            "marker": {
             "line": {
              "color": "#E5ECF6",
              "width": 0.5
             },
             "pattern": {
              "fillmode": "overlay",
              "size": 10,
              "solidity": 0.2
             }
            },
            "type": "bar"
           }
          ],
          "barpolar": [
           {
            "marker": {
             "line": {
              "color": "#E5ECF6",
              "width": 0.5
             },
             "pattern": {
              "fillmode": "overlay",
              "size": 10,
              "solidity": 0.2
             }
            },
            "type": "barpolar"
           }
          ],
          "carpet": [
           {
            "aaxis": {
             "endlinecolor": "#2a3f5f",
             "gridcolor": "white",
             "linecolor": "white",
             "minorgridcolor": "white",
             "startlinecolor": "#2a3f5f"
            },
            "baxis": {
             "endlinecolor": "#2a3f5f",
             "gridcolor": "white",
             "linecolor": "white",
             "minorgridcolor": "white",
             "startlinecolor": "#2a3f5f"
            },
            "type": "carpet"
           }
          ],
          "choropleth": [
           {
            "colorbar": {
             "outlinewidth": 0,
             "ticks": ""
            },
            "type": "choropleth"
           }
          ],
          "contour": [
           {
            "colorbar": {
             "outlinewidth": 0,
             "ticks": ""
            },
            "colorscale": [
             [
              0,
              "#0d0887"
             ],
             [
              0.1111111111111111,
              "#46039f"
             ],
             [
              0.2222222222222222,
              "#7201a8"
             ],
             [
              0.3333333333333333,
              "#9c179e"
             ],
             [
              0.4444444444444444,
              "#bd3786"
             ],
             [
              0.5555555555555556,
              "#d8576b"
             ],
             [
              0.6666666666666666,
              "#ed7953"
             ],
             [
              0.7777777777777778,
              "#fb9f3a"
             ],
             [
              0.8888888888888888,
              "#fdca26"
             ],
             [
              1,
              "#f0f921"
             ]
            ],
            "type": "contour"
           }
          ],
          "contourcarpet": [
           {
            "colorbar": {
             "outlinewidth": 0,
             "ticks": ""
            },
            "type": "contourcarpet"
           }
          ],
          "heatmap": [
           {
            "colorbar": {
             "outlinewidth": 0,
             "ticks": ""
            },
            "colorscale": [
             [
              0,
              "#0d0887"
             ],
             [
              0.1111111111111111,
              "#46039f"
             ],
             [
              0.2222222222222222,
              "#7201a8"
             ],
             [
              0.3333333333333333,
              "#9c179e"
             ],
             [
              0.4444444444444444,
              "#bd3786"
             ],
             [
              0.5555555555555556,
              "#d8576b"
             ],
             [
              0.6666666666666666,
              "#ed7953"
             ],
             [
              0.7777777777777778,
              "#fb9f3a"
             ],
             [
              0.8888888888888888,
              "#fdca26"
             ],
             [
              1,
              "#f0f921"
             ]
            ],
            "type": "heatmap"
           }
          ],
          "heatmapgl": [
           {
            "colorbar": {
             "outlinewidth": 0,
             "ticks": ""
            },
            "colorscale": [
             [
              0,
              "#0d0887"
             ],
             [
              0.1111111111111111,
              "#46039f"
             ],
             [
              0.2222222222222222,
              "#7201a8"
             ],
             [
              0.3333333333333333,
              "#9c179e"
             ],
             [
              0.4444444444444444,
              "#bd3786"
             ],
             [
              0.5555555555555556,
              "#d8576b"
             ],
             [
              0.6666666666666666,
              "#ed7953"
             ],
             [
              0.7777777777777778,
              "#fb9f3a"
             ],
             [
              0.8888888888888888,
              "#fdca26"
             ],
             [
              1,
              "#f0f921"
             ]
            ],
            "type": "heatmapgl"
           }
          ],
          "histogram": [
           {
            "marker": {
             "pattern": {
              "fillmode": "overlay",
              "size": 10,
              "solidity": 0.2
             }
            },
            "type": "histogram"
           }
          ],
          "histogram2d": [
           {
            "colorbar": {
             "outlinewidth": 0,
             "ticks": ""
            },
            "colorscale": [
             [
              0,
              "#0d0887"
             ],
             [
              0.1111111111111111,
              "#46039f"
             ],
             [
              0.2222222222222222,
              "#7201a8"
             ],
             [
              0.3333333333333333,
              "#9c179e"
             ],
             [
              0.4444444444444444,
              "#bd3786"
             ],
             [
              0.5555555555555556,
              "#d8576b"
             ],
             [
              0.6666666666666666,
              "#ed7953"
             ],
             [
              0.7777777777777778,
              "#fb9f3a"
             ],
             [
              0.8888888888888888,
              "#fdca26"
             ],
             [
              1,
              "#f0f921"
             ]
            ],
            "type": "histogram2d"
           }
          ],
          "histogram2dcontour": [
           {
            "colorbar": {
             "outlinewidth": 0,
             "ticks": ""
            },
            "colorscale": [
             [
              0,
              "#0d0887"
             ],
             [
              0.1111111111111111,
              "#46039f"
             ],
             [
              0.2222222222222222,
              "#7201a8"
             ],
             [
              0.3333333333333333,
              "#9c179e"
             ],
             [
              0.4444444444444444,
              "#bd3786"
             ],
             [
              0.5555555555555556,
              "#d8576b"
             ],
             [
              0.6666666666666666,
              "#ed7953"
             ],
             [
              0.7777777777777778,
              "#fb9f3a"
             ],
             [
              0.8888888888888888,
              "#fdca26"
             ],
             [
              1,
              "#f0f921"
             ]
            ],
            "type": "histogram2dcontour"
           }
          ],
          "mesh3d": [
           {
            "colorbar": {
             "outlinewidth": 0,
             "ticks": ""
            },
            "type": "mesh3d"
           }
          ],
          "parcoords": [
           {
            "line": {
             "colorbar": {
              "outlinewidth": 0,
              "ticks": ""
             }
            },
            "type": "parcoords"
           }
          ],
          "pie": [
           {
            "automargin": true,
            "type": "pie"
           }
          ],
          "scatter": [
           {
            "fillpattern": {
             "fillmode": "overlay",
             "size": 10,
             "solidity": 0.2
            },
            "type": "scatter"
           }
          ],
          "scatter3d": [
           {
            "line": {
             "colorbar": {
              "outlinewidth": 0,
              "ticks": ""
             }
            },
            "marker": {
             "colorbar": {
              "outlinewidth": 0,
              "ticks": ""
             }
            },
            "type": "scatter3d"
           }
          ],
          "scattercarpet": [
           {
            "marker": {
             "colorbar": {
              "outlinewidth": 0,
              "ticks": ""
             }
            },
            "type": "scattercarpet"
           }
          ],
          "scattergeo": [
           {
            "marker": {
             "colorbar": {
              "outlinewidth": 0,
              "ticks": ""
             }
            },
            "type": "scattergeo"
           }
          ],
          "scattergl": [
           {
            "marker": {
             "colorbar": {
              "outlinewidth": 0,
              "ticks": ""
             }
            },
            "type": "scattergl"
           }
          ],
          "scattermapbox": [
           {
            "marker": {
             "colorbar": {
              "outlinewidth": 0,
              "ticks": ""
             }
            },
            "type": "scattermapbox"
           }
          ],
          "scatterpolar": [
           {
            "marker": {
             "colorbar": {
              "outlinewidth": 0,
              "ticks": ""
             }
            },
            "type": "scatterpolar"
           }
          ],
          "scatterpolargl": [
           {
            "marker": {
             "colorbar": {
              "outlinewidth": 0,
              "ticks": ""
             }
            },
            "type": "scatterpolargl"
           }
          ],
          "scatterternary": [
           {
            "marker": {
             "colorbar": {
              "outlinewidth": 0,
              "ticks": ""
             }
            },
            "type": "scatterternary"
           }
          ],
          "surface": [
           {
            "colorbar": {
             "outlinewidth": 0,
             "ticks": ""
            },
            "colorscale": [
             [
              0,
              "#0d0887"
             ],
             [
              0.1111111111111111,
              "#46039f"
             ],
             [
              0.2222222222222222,
              "#7201a8"
             ],
             [
              0.3333333333333333,
              "#9c179e"
             ],
             [
              0.4444444444444444,
              "#bd3786"
             ],
             [
              0.5555555555555556,
              "#d8576b"
             ],
             [
              0.6666666666666666,
              "#ed7953"
             ],
             [
              0.7777777777777778,
              "#fb9f3a"
             ],
             [
              0.8888888888888888,
              "#fdca26"
             ],
             [
              1,
              "#f0f921"
             ]
            ],
            "type": "surface"
           }
          ],
          "table": [
           {
            "cells": {
             "fill": {
              "color": "#EBF0F8"
             },
             "line": {
              "color": "white"
             }
            },
            "header": {
             "fill": {
              "color": "#C8D4E3"
             },
             "line": {
              "color": "white"
             }
            },
            "type": "table"
           }
          ]
         },
         "layout": {
          "annotationdefaults": {
           "arrowcolor": "#2a3f5f",
           "arrowhead": 0,
           "arrowwidth": 1
          },
          "autotypenumbers": "strict",
          "coloraxis": {
           "colorbar": {
            "outlinewidth": 0,
            "ticks": ""
           }
          },
          "colorscale": {
           "diverging": [
            [
             0,
             "#8e0152"
            ],
            [
             0.1,
             "#c51b7d"
            ],
            [
             0.2,
             "#de77ae"
            ],
            [
             0.3,
             "#f1b6da"
            ],
            [
             0.4,
             "#fde0ef"
            ],
            [
             0.5,
             "#f7f7f7"
            ],
            [
             0.6,
             "#e6f5d0"
            ],
            [
             0.7,
             "#b8e186"
            ],
            [
             0.8,
             "#7fbc41"
            ],
            [
             0.9,
             "#4d9221"
            ],
            [
             1,
             "#276419"
            ]
           ],
           "sequential": [
            [
             0,
             "#0d0887"
            ],
            [
             0.1111111111111111,
             "#46039f"
            ],
            [
             0.2222222222222222,
             "#7201a8"
            ],
            [
             0.3333333333333333,
             "#9c179e"
            ],
            [
             0.4444444444444444,
             "#bd3786"
            ],
            [
             0.5555555555555556,
             "#d8576b"
            ],
            [
             0.6666666666666666,
             "#ed7953"
            ],
            [
             0.7777777777777778,
             "#fb9f3a"
            ],
            [
             0.8888888888888888,
             "#fdca26"
            ],
            [
             1,
             "#f0f921"
            ]
           ],
           "sequentialminus": [
            [
             0,
             "#0d0887"
            ],
            [
             0.1111111111111111,
             "#46039f"
            ],
            [
             0.2222222222222222,
             "#7201a8"
            ],
            [
             0.3333333333333333,
             "#9c179e"
            ],
            [
             0.4444444444444444,
             "#bd3786"
            ],
            [
             0.5555555555555556,
             "#d8576b"
            ],
            [
             0.6666666666666666,
             "#ed7953"
            ],
            [
             0.7777777777777778,
             "#fb9f3a"
            ],
            [
             0.8888888888888888,
             "#fdca26"
            ],
            [
             1,
             "#f0f921"
            ]
           ]
          },
          "colorway": [
           "#636efa",
           "#EF553B",
           "#00cc96",
           "#ab63fa",
           "#FFA15A",
           "#19d3f3",
           "#FF6692",
           "#B6E880",
           "#FF97FF",
           "#FECB52"
          ],
          "font": {
           "color": "#2a3f5f"
          },
          "geo": {
           "bgcolor": "white",
           "lakecolor": "white",
           "landcolor": "#E5ECF6",
           "showlakes": true,
           "showland": true,
           "subunitcolor": "white"
          },
          "hoverlabel": {
           "align": "left"
          },
          "hovermode": "closest",
          "mapbox": {
           "style": "light"
          },
          "paper_bgcolor": "white",
          "plot_bgcolor": "#E5ECF6",
          "polar": {
           "angularaxis": {
            "gridcolor": "white",
            "linecolor": "white",
            "ticks": ""
           },
           "bgcolor": "#E5ECF6",
           "radialaxis": {
            "gridcolor": "white",
            "linecolor": "white",
            "ticks": ""
           }
          },
          "scene": {
           "xaxis": {
            "backgroundcolor": "#E5ECF6",
            "gridcolor": "white",
            "gridwidth": 2,
            "linecolor": "white",
            "showbackground": true,
            "ticks": "",
            "zerolinecolor": "white"
           },
           "yaxis": {
            "backgroundcolor": "#E5ECF6",
            "gridcolor": "white",
            "gridwidth": 2,
            "linecolor": "white",
            "showbackground": true,
            "ticks": "",
            "zerolinecolor": "white"
           },
           "zaxis": {
            "backgroundcolor": "#E5ECF6",
            "gridcolor": "white",
            "gridwidth": 2,
            "linecolor": "white",
            "showbackground": true,
            "ticks": "",
            "zerolinecolor": "white"
           }
          },
          "shapedefaults": {
           "line": {
            "color": "#2a3f5f"
           }
          },
          "ternary": {
           "aaxis": {
            "gridcolor": "white",
            "linecolor": "white",
            "ticks": ""
           },
           "baxis": {
            "gridcolor": "white",
            "linecolor": "white",
            "ticks": ""
           },
           "bgcolor": "#E5ECF6",
           "caxis": {
            "gridcolor": "white",
            "linecolor": "white",
            "ticks": ""
           }
          },
          "title": {
           "x": 0.05
          },
          "xaxis": {
           "automargin": true,
           "gridcolor": "white",
           "linecolor": "white",
           "ticks": "",
           "title": {
            "standoff": 15
           },
           "zerolinecolor": "white",
           "zerolinewidth": 2
          },
          "yaxis": {
           "automargin": true,
           "gridcolor": "white",
           "linecolor": "white",
           "ticks": "",
           "title": {
            "standoff": 15
           },
           "zerolinecolor": "white",
           "zerolinewidth": 2
          }
         }
        },
        "title": {
         "text": "Prędkość w kolejnych pomiarach"
        },
        "xaxis": {
         "title": {
          "text": "nr. pomiaru"
         }
        },
        "yaxis": {
         "title": {
          "text": "prędkość [km/h]"
         }
        }
       }
      }
     },
     "metadata": {},
     "output_type": "display_data"
    }
   ],
   "source": [
    "fig1 = ex.scatter(\n",
    "    df, \n",
    "    x='num', \n",
    "    y=['pomiar prędkości', 'prędkość po filterze alpfa'], \n",
    "    title='Wartość prędkości w kolejnych pomiarach',\n",
    "    )\n",
    "fig2 = ex.line(\n",
    "    df,\n",
    "    x='num', \n",
    "    y='prędkość rzeczywista',\n",
    ")\n",
    "fig2.update_traces(line_color='green', name='real')\n",
    "fig = go.Figure(\n",
    "    data=fig1.data + fig2.data\n",
    "    )\n",
    "fig.update_layout(\n",
    "    xaxis_title=\"nr. pomiaru\",\n",
    "    yaxis_title=\"prędkość [km/h]\",\n",
    "    title='Prędkość w kolejnych pomiarach'\n",
    ")\n",
    "fig.show()"
   ]
  },
  {
   "cell_type": "markdown",
   "id": "0de452af",
   "metadata": {},
   "source": [
    "## <b>1.2 Filtr $\\alpha - \\beta $ </b>"
   ]
  },
  {
   "cell_type": "markdown",
   "id": "8b660aa5",
   "metadata": {},
   "source": [
    "<b>Równanie stanu dla położenia </b> \\\n",
    " $\\hat x_{n,n} = \\hat{x}_{n,n−1} + \\alpha(z_{n} − \\hat x_{n,n−1})$\n",
    "\n",
    "<b>Równanie stanu dla prędkości</b>\n",
    "\n",
    "  $\\hat{\\dot x }_{n,n} = \\hat{\\dot x}_{n,n−1} + \\beta(\\frac{z_{n} − \\hat x_{n,n−1}}{\\Delta t})$\n",
    "\n",
    "\n",
    "Parametr $ \\alpha $ i $ \\beta $ odpowiadają za precycję radaru, to znaczy są to niepewności pomiarowe."
   ]
  },
  {
   "cell_type": "code",
   "execution_count": 7,
   "id": "66b4c088",
   "metadata": {},
   "outputs": [],
   "source": [
    "def alpha_beta_filter(x0, dx0, Z, N, d_t, alpha=0.2, beta=0.1):\n",
    "    \"\"\"\n",
    "    Funkcja aplikująca filtra alfa - beta\n",
    "    :param x0: początkowa wartość estymowana\n",
    "    :param dx0: pochodna początkowej wartości\n",
    "    :param Z: kolejne obserwacje/estymacje\n",
    "    :param N: liczba obserwacji\n",
    "    :param float d_t: delat t, czas co który wykonujemy pomiar\n",
    "    :param alpha: parametr odpowiadający za niepwenosć pomiarową, domyślnie 0.2\n",
    "    :param beta: parametr odpowiadający za niepwenosć pomiarową, domyślnie 0.1\n",
    "    :return x_nn: estyator następnego stanu po N krokach\n",
    "    \"\"\"\n",
    "    x_nn = [x0 + d_t * dx0]\n",
    "    dx_nn = [dx0]\n",
    "    for n in range(1, N):\n",
    "        x_new = x_nn[n-1] + alpha * (Z[n] - x_nn[n-1])\n",
    "        dx_new = dx_nn[n-1] + beta * ( (Z[n]-x_nn[n-1]) / (d_t))\n",
    "\n",
    "        x_new = x_new + dx_new * d_t\n",
    "\n",
    "        x_nn.append(x_new)\n",
    "        dx_nn.append(dx_new)\n",
    "\n",
    "    return x_nn"
   ]
  },
  {
   "cell_type": "markdown",
   "id": "da4c798e",
   "metadata": {},
   "source": [
    "### <b> Zadanie parametrów do filtru $ \\alpha - \\beta $. </b> ###\n",
    "<b> Starman </b> - to manekin kosmonauty siedzącego w samochodzie Tesla Roadster wystrzelonym na orbitę przez firmę SpaceX🚀. Jego prędkość względem ziemi podawan jest na 7.97 km/s a odległość 322,461,474 km od Ziemi (09-06-2022). Na tej podstawie wygenerujemy dane na których zastosujemy filtr $ \\alpha - \\beta $."
   ]
  },
  {
   "cell_type": "code",
   "execution_count": 8,
   "id": "d0975112",
   "metadata": {},
   "outputs": [],
   "source": [
    "v = 7.97\n",
    "delta_time = 5 # co ile wykonujemy krok\n",
    "s = [322461474] # odległość starmana od ziemi\n",
    "s_real = [322461474]\n",
    "t = [1654804370] # w czasie pisania zadania 9-6-2022 ok 22:00 GMT+2\n",
    "for n in range(1, 100):\n",
    "    s.append(s[n-1] + delta_time * 7.97 + np.random.normal(0, 1) * 7.97)\n",
    "    s_real.append(s_real[n-1] + delta_time * 7.97)\n",
    "    t.append(t[n-1] + delta_time)"
   ]
  },
  {
   "cell_type": "code",
   "execution_count": 9,
   "id": "b002c7a0",
   "metadata": {},
   "outputs": [],
   "source": [
    "X_nn_ab = alpha_beta_filter(\n",
    "    x0=s[0],\n",
    "    dx0=v,\n",
    "    Z=s,\n",
    "    N=len(s),\n",
    "    d_t=delta_time,\n",
    ")"
   ]
  },
  {
   "cell_type": "code",
   "execution_count": 10,
   "id": "ec1e6679",
   "metadata": {},
   "outputs": [
    {
     "data": {
      "text/plain": [
       "'21:52:50 06/09/22'"
      ]
     },
     "execution_count": 10,
     "metadata": {},
     "output_type": "execute_result"
    }
   ],
   "source": [
    "datetime.fromtimestamp(t[0]).strftime('%H:%M:%S %D')"
   ]
  },
  {
   "cell_type": "code",
   "execution_count": 11,
   "id": "fad20d32",
   "metadata": {},
   "outputs": [
    {
     "name": "stderr",
     "output_type": "stream",
     "text": [
      "/var/folders/cw/3q5ykvvj1031m_07d0vbll1m0000gr/T/ipykernel_6813/2379898524.py:7: UserWarning:\n",
      "\n",
      "Could not infer format, so each element will be parsed individually, falling back to `dateutil`. To ensure parsing is consistent and as-expected, please specify a format.\n",
      "\n"
     ]
    },
    {
     "data": {
      "text/html": [
       "<div>\n",
       "<style scoped>\n",
       "    .dataframe tbody tr th:only-of-type {\n",
       "        vertical-align: middle;\n",
       "    }\n",
       "\n",
       "    .dataframe tbody tr th {\n",
       "        vertical-align: top;\n",
       "    }\n",
       "\n",
       "    .dataframe thead th {\n",
       "        text-align: right;\n",
       "    }\n",
       "</style>\n",
       "<table border=\"1\" class=\"dataframe\">\n",
       "  <thead>\n",
       "    <tr style=\"text-align: right;\">\n",
       "      <th></th>\n",
       "      <th>czas</th>\n",
       "      <th>odległość estymowana</th>\n",
       "      <th>odległość rzeczywista</th>\n",
       "      <th>filtrowana odległość</th>\n",
       "    </tr>\n",
       "  </thead>\n",
       "  <tbody>\n",
       "    <tr>\n",
       "      <th>0</th>\n",
       "      <td>2022-06-09 21:52:50</td>\n",
       "      <td>3.224615e+08</td>\n",
       "      <td>3.224615e+08</td>\n",
       "      <td>3.224615e+08</td>\n",
       "    </tr>\n",
       "    <tr>\n",
       "      <th>1</th>\n",
       "      <td>2022-06-09 21:52:55</td>\n",
       "      <td>3.224615e+08</td>\n",
       "      <td>3.224615e+08</td>\n",
       "      <td>3.224616e+08</td>\n",
       "    </tr>\n",
       "    <tr>\n",
       "      <th>2</th>\n",
       "      <td>2022-06-09 21:53:00</td>\n",
       "      <td>3.224616e+08</td>\n",
       "      <td>3.224616e+08</td>\n",
       "      <td>3.224616e+08</td>\n",
       "    </tr>\n",
       "    <tr>\n",
       "      <th>3</th>\n",
       "      <td>2022-06-09 21:53:05</td>\n",
       "      <td>3.224616e+08</td>\n",
       "      <td>3.224616e+08</td>\n",
       "      <td>3.224616e+08</td>\n",
       "    </tr>\n",
       "    <tr>\n",
       "      <th>4</th>\n",
       "      <td>2022-06-09 21:53:10</td>\n",
       "      <td>3.224616e+08</td>\n",
       "      <td>3.224616e+08</td>\n",
       "      <td>3.224617e+08</td>\n",
       "    </tr>\n",
       "  </tbody>\n",
       "</table>\n",
       "</div>"
      ],
      "text/plain": [
       "                 czas  odległość estymowana  odległość rzeczywista  \\\n",
       "0 2022-06-09 21:52:50          3.224615e+08           3.224615e+08   \n",
       "1 2022-06-09 21:52:55          3.224615e+08           3.224615e+08   \n",
       "2 2022-06-09 21:53:00          3.224616e+08           3.224616e+08   \n",
       "3 2022-06-09 21:53:05          3.224616e+08           3.224616e+08   \n",
       "4 2022-06-09 21:53:10          3.224616e+08           3.224616e+08   \n",
       "\n",
       "   filtrowana odległość  \n",
       "0          3.224615e+08  \n",
       "1          3.224616e+08  \n",
       "2          3.224616e+08  \n",
       "3          3.224616e+08  \n",
       "4          3.224617e+08  "
      ]
     },
     "execution_count": 11,
     "metadata": {},
     "output_type": "execute_result"
    }
   ],
   "source": [
    "df_starman = pd.DataFrame()\n",
    "df_starman['czas'] = [datetime.fromtimestamp(d).strftime('%H:%M:%S %D') for d in t]\n",
    "df_starman['odległość estymowana'] = s\n",
    "df_starman['odległość rzeczywista'] = s_real\n",
    "df_starman['filtrowana odległość'] = X_nn_ab\n",
    "\n",
    "df_starman['czas'] = pd.to_datetime(df_starman['czas'])\n",
    "df_starman.head()"
   ]
  },
  {
   "cell_type": "code",
   "execution_count": 12,
   "id": "0281b290",
   "metadata": {},
   "outputs": [
    {
     "data": {
      "application/vnd.plotly.v1+json": {
       "config": {
        "plotlyServerURL": "https://plot.ly"
       },
       "data": [
        {
         "hovertemplate": "variable=odległość estymowana<br>czas=%{x}<br>value=%{y}<extra></extra>",
         "legendgroup": "odległość estymowana",
         "marker": {
          "color": "#636efa",
          "symbol": "circle"
         },
         "mode": "markers",
         "name": "odległość estymowana",
         "orientation": "v",
         "showlegend": true,
         "type": "scatter",
         "x": [
          "2022-06-09T21:52:50",
          "2022-06-09T21:52:55",
          "2022-06-09T21:53:00",
          "2022-06-09T21:53:05",
          "2022-06-09T21:53:10",
          "2022-06-09T21:53:15",
          "2022-06-09T21:53:20",
          "2022-06-09T21:53:25",
          "2022-06-09T21:53:30",
          "2022-06-09T21:53:35",
          "2022-06-09T21:53:40",
          "2022-06-09T21:53:45",
          "2022-06-09T21:53:50",
          "2022-06-09T21:53:55",
          "2022-06-09T21:54:00",
          "2022-06-09T21:54:05",
          "2022-06-09T21:54:10",
          "2022-06-09T21:54:15",
          "2022-06-09T21:54:20",
          "2022-06-09T21:54:25",
          "2022-06-09T21:54:30",
          "2022-06-09T21:54:35",
          "2022-06-09T21:54:40",
          "2022-06-09T21:54:45",
          "2022-06-09T21:54:50",
          "2022-06-09T21:54:55",
          "2022-06-09T21:55:00",
          "2022-06-09T21:55:05",
          "2022-06-09T21:55:10",
          "2022-06-09T21:55:15",
          "2022-06-09T21:55:20",
          "2022-06-09T21:55:25",
          "2022-06-09T21:55:30",
          "2022-06-09T21:55:35",
          "2022-06-09T21:55:40",
          "2022-06-09T21:55:45",
          "2022-06-09T21:55:50",
          "2022-06-09T21:55:55",
          "2022-06-09T21:56:00",
          "2022-06-09T21:56:05",
          "2022-06-09T21:56:10",
          "2022-06-09T21:56:15",
          "2022-06-09T21:56:20",
          "2022-06-09T21:56:25",
          "2022-06-09T21:56:30",
          "2022-06-09T21:56:35",
          "2022-06-09T21:56:40",
          "2022-06-09T21:56:45",
          "2022-06-09T21:56:50",
          "2022-06-09T21:56:55",
          "2022-06-09T21:57:00",
          "2022-06-09T21:57:05",
          "2022-06-09T21:57:10",
          "2022-06-09T21:57:15",
          "2022-06-09T21:57:20",
          "2022-06-09T21:57:25",
          "2022-06-09T21:57:30",
          "2022-06-09T21:57:35",
          "2022-06-09T21:57:40",
          "2022-06-09T21:57:45",
          "2022-06-09T21:57:50",
          "2022-06-09T21:57:55",
          "2022-06-09T21:58:00",
          "2022-06-09T21:58:05",
          "2022-06-09T21:58:10",
          "2022-06-09T21:58:15",
          "2022-06-09T21:58:20",
          "2022-06-09T21:58:25",
          "2022-06-09T21:58:30",
          "2022-06-09T21:58:35",
          "2022-06-09T21:58:40",
          "2022-06-09T21:58:45",
          "2022-06-09T21:58:50",
          "2022-06-09T21:58:55",
          "2022-06-09T21:59:00",
          "2022-06-09T21:59:05",
          "2022-06-09T21:59:10",
          "2022-06-09T21:59:15",
          "2022-06-09T21:59:20",
          "2022-06-09T21:59:25",
          "2022-06-09T21:59:30",
          "2022-06-09T21:59:35",
          "2022-06-09T21:59:40",
          "2022-06-09T21:59:45",
          "2022-06-09T21:59:50",
          "2022-06-09T21:59:55",
          "2022-06-09T22:00:00",
          "2022-06-09T22:00:05",
          "2022-06-09T22:00:10",
          "2022-06-09T22:00:15",
          "2022-06-09T22:00:20",
          "2022-06-09T22:00:25",
          "2022-06-09T22:00:30",
          "2022-06-09T22:00:35",
          "2022-06-09T22:00:40",
          "2022-06-09T22:00:45",
          "2022-06-09T22:00:50",
          "2022-06-09T22:00:55",
          "2022-06-09T22:01:00",
          "2022-06-09T22:01:05"
         ],
         "xaxis": "x",
         "y": [
          322461474,
          322461521.07033145,
          322461557.02012235,
          322461587.4807548,
          322461633.5023145,
          322461667.34183806,
          322461718.3853891,
          322461754.5016353,
          322461791.0762782,
          322461828.04341185,
          322461863.6378156,
          322461910.8684116,
          322461953.5199518,
          322461996.3370955,
          322462032.46988386,
          322462073.89855045,
          322462105.0501282,
          322462146.9134364,
          322462182.1300855,
          322462238.03622,
          322462279.5917527,
          322462313.23681116,
          322462356.36728853,
          322462397.64542,
          322462444.09811825,
          322462484.09596765,
          322462507.38021094,
          322462539.43897045,
          322462568.9568726,
          322462615.5422077,
          322462662.47653186,
          322462696.960625,
          322462741.9721511,
          322462775.5501366,
          322462818.0552208,
          322462864.1190606,
          322462892.20051724,
          322462919.89891315,
          322462957.3021241,
          322463002.2976728,
          322463047.33383733,
          322463080.4129113,
          322463138.0510936,
          322463168.39593166,
          322463195.42101836,
          322463253.99333304,
          322463281.80001706,
          322463316.2404851,
          322463358.2425984,
          322463398.0853017,
          322463438.194008,
          322463479.508082,
          322463513.4372428,
          322463560.46530807,
          322463597.68380374,
          322463635.8518867,
          322463661.80149776,
          322463720.36009604,
          322463759.6424084,
          322463803.96653485,
          322463840.92458236,
          322463877.7612284,
          322463917.20539564,
          322463952.43089867,
          322463990.58731985,
          322464022.7582747,
          322464053.3724911,
          322464084.35114413,
          322464127.22874707,
          322464167.4404699,
          322464195.5784369,
          322464239.5719214,
          322464277.8139623,
          322464318.4078427,
          322464352.81901056,
          322464390.5108182,
          322464410.9997503,
          322464458.19815373,
          322464492.9386824,
          322464530.84152055,
          322464576.1665533,
          322464617.5765098,
          322464649.00535053,
          322464701.6892481,
          322464733.21147,
          322464768.9498662,
          322464797.4304069,
          322464843.4799739,
          322464867.4776753,
          322464903.75592935,
          322464941.17303777,
          322464972.39783865,
          322465011.16580075,
          322465043.7875832,
          322465079.0827275,
          322465115.6276,
          322465151.6586586,
          322465188.89893615,
          322465214.40620923,
          322465257.0598835
         ],
         "yaxis": "y"
        },
        {
         "hovertemplate": "variable=filtrowana odległość<br>czas=%{x}<br>value=%{y}<extra></extra>",
         "legendgroup": "filtrowana odległość",
         "marker": {
          "color": "#EF553B",
          "symbol": "circle"
         },
         "mode": "markers",
         "name": "filtrowana odległość",
         "orientation": "v",
         "showlegend": true,
         "type": "scatter",
         "x": [
          "2022-06-09T21:52:50",
          "2022-06-09T21:52:55",
          "2022-06-09T21:53:00",
          "2022-06-09T21:53:05",
          "2022-06-09T21:53:10",
          "2022-06-09T21:53:15",
          "2022-06-09T21:53:20",
          "2022-06-09T21:53:25",
          "2022-06-09T21:53:30",
          "2022-06-09T21:53:35",
          "2022-06-09T21:53:40",
          "2022-06-09T21:53:45",
          "2022-06-09T21:53:50",
          "2022-06-09T21:53:55",
          "2022-06-09T21:54:00",
          "2022-06-09T21:54:05",
          "2022-06-09T21:54:10",
          "2022-06-09T21:54:15",
          "2022-06-09T21:54:20",
          "2022-06-09T21:54:25",
          "2022-06-09T21:54:30",
          "2022-06-09T21:54:35",
          "2022-06-09T21:54:40",
          "2022-06-09T21:54:45",
          "2022-06-09T21:54:50",
          "2022-06-09T21:54:55",
          "2022-06-09T21:55:00",
          "2022-06-09T21:55:05",
          "2022-06-09T21:55:10",
          "2022-06-09T21:55:15",
          "2022-06-09T21:55:20",
          "2022-06-09T21:55:25",
          "2022-06-09T21:55:30",
          "2022-06-09T21:55:35",
          "2022-06-09T21:55:40",
          "2022-06-09T21:55:45",
          "2022-06-09T21:55:50",
          "2022-06-09T21:55:55",
          "2022-06-09T21:56:00",
          "2022-06-09T21:56:05",
          "2022-06-09T21:56:10",
          "2022-06-09T21:56:15",
          "2022-06-09T21:56:20",
          "2022-06-09T21:56:25",
          "2022-06-09T21:56:30",
          "2022-06-09T21:56:35",
          "2022-06-09T21:56:40",
          "2022-06-09T21:56:45",
          "2022-06-09T21:56:50",
          "2022-06-09T21:56:55",
          "2022-06-09T21:57:00",
          "2022-06-09T21:57:05",
          "2022-06-09T21:57:10",
          "2022-06-09T21:57:15",
          "2022-06-09T21:57:20",
          "2022-06-09T21:57:25",
          "2022-06-09T21:57:30",
          "2022-06-09T21:57:35",
          "2022-06-09T21:57:40",
          "2022-06-09T21:57:45",
          "2022-06-09T21:57:50",
          "2022-06-09T21:57:55",
          "2022-06-09T21:58:00",
          "2022-06-09T21:58:05",
          "2022-06-09T21:58:10",
          "2022-06-09T21:58:15",
          "2022-06-09T21:58:20",
          "2022-06-09T21:58:25",
          "2022-06-09T21:58:30",
          "2022-06-09T21:58:35",
          "2022-06-09T21:58:40",
          "2022-06-09T21:58:45",
          "2022-06-09T21:58:50",
          "2022-06-09T21:58:55",
          "2022-06-09T21:59:00",
          "2022-06-09T21:59:05",
          "2022-06-09T21:59:10",
          "2022-06-09T21:59:15",
          "2022-06-09T21:59:20",
          "2022-06-09T21:59:25",
          "2022-06-09T21:59:30",
          "2022-06-09T21:59:35",
          "2022-06-09T21:59:40",
          "2022-06-09T21:59:45",
          "2022-06-09T21:59:50",
          "2022-06-09T21:59:55",
          "2022-06-09T22:00:00",
          "2022-06-09T22:00:05",
          "2022-06-09T22:00:10",
          "2022-06-09T22:00:15",
          "2022-06-09T22:00:20",
          "2022-06-09T22:00:25",
          "2022-06-09T22:00:30",
          "2022-06-09T22:00:35",
          "2022-06-09T22:00:40",
          "2022-06-09T22:00:45",
          "2022-06-09T22:00:50",
          "2022-06-09T22:00:55",
          "2022-06-09T22:01:00",
          "2022-06-09T22:01:05"
         ],
         "xaxis": "x",
         "y": [
          322461513.85,
          322461555.8660995,
          322461596.7843395,
          322461634.6806995,
          322461674.084261,
          322461711.7007726,
          322461752.6711537,
          322461792.853756,
          322461832.1370186,
          322461870.5476948,
          322461907.70412856,
          322461947.19182307,
          322461987.9450996,
          322462029.95034915,
          322462071.03305995,
          322462112.47151095,
          322462151.110449,
          322462189.9745599,
          322462227.32473093,
          322462269.45724356,
          322462312.48781115,
          322462353.71617687,
          322462395.59007615,
          322462437.5503562,
          322462481.0638961,
          322462524.1775051,
          322462561.6455115,
          322462595.8110144,
          322462626.361583,
          322462659.0371674,
          322462694.9084361,
          322462730.70748866,
          322462769.47550213,
          322462807.8129735,
          322462848.0081921,
          322462890.9882218,
          322462931.1097664,
          322462967.62559605,
          322463003.2865547,
          322463040.71554315,
          322463080.3277962,
          322463118.64192504,
          322463162.7617814,
          322463204.6900491,
          322463242.7107776,
          322463285.9700788,
          322463325.72185045,
          322463363.46322477,
          322463401.5346843,
          322463439.6154543,
          322463477.95966697,
          322463517.05269337,
          322463554.7514016,
          322463594.8873719,
          322463634.7194904,
          322463674.33204144,
          322463709.9589501,
          322463751.21231127,
          322463792.9144724,
          322463836.24623287,
          322463878.7710857,
          322463920.0573114,
          322463960.6899339,
          322463999.4152289,
          322464037.1439583,
          322464072.32256436,
          322464104.6932852,
          322464134.7513784,
          322464166.62111044,
          322464200.24117655,
          322464232.2985489,
          322464267.47048086,
          322464304.29078275,
          322464343.27750635,
          322464382.3032692,
          322464421.8829959,
          322464456.5562392,
          322464493.89870596,
          322464530.6247827,
          322464567.60788554,
          322464607.11524117,
          322464648.0492438,
          322464687.17782474,
          322464730.46861136,
          322464771.67997086,
          322464811.52372724,
          322464847.68550843,
          322464885.40429336,
          322464918.58619976,
          322464950.9043487,
          322464983.26915836,
          322465014.3188343,
          322465046.59686416,
          322465078.66271645,
          322465111.4164282,
          322465145.34948933,
          322465180.3330669,
          322465216.6245714,
          322465250.53739333,
          322465286.85063475
         ],
         "yaxis": "y"
        },
        {
         "hovertemplate": "czas=%{x}<br>odległość rzeczywista=%{y}<extra></extra>",
         "legendgroup": "",
         "line": {
          "color": "green",
          "dash": "solid"
         },
         "marker": {
          "symbol": "circle"
         },
         "mode": "lines",
         "name": "real",
         "orientation": "v",
         "showlegend": false,
         "type": "scatter",
         "x": [
          "2022-06-09T21:52:50",
          "2022-06-09T21:52:55",
          "2022-06-09T21:53:00",
          "2022-06-09T21:53:05",
          "2022-06-09T21:53:10",
          "2022-06-09T21:53:15",
          "2022-06-09T21:53:20",
          "2022-06-09T21:53:25",
          "2022-06-09T21:53:30",
          "2022-06-09T21:53:35",
          "2022-06-09T21:53:40",
          "2022-06-09T21:53:45",
          "2022-06-09T21:53:50",
          "2022-06-09T21:53:55",
          "2022-06-09T21:54:00",
          "2022-06-09T21:54:05",
          "2022-06-09T21:54:10",
          "2022-06-09T21:54:15",
          "2022-06-09T21:54:20",
          "2022-06-09T21:54:25",
          "2022-06-09T21:54:30",
          "2022-06-09T21:54:35",
          "2022-06-09T21:54:40",
          "2022-06-09T21:54:45",
          "2022-06-09T21:54:50",
          "2022-06-09T21:54:55",
          "2022-06-09T21:55:00",
          "2022-06-09T21:55:05",
          "2022-06-09T21:55:10",
          "2022-06-09T21:55:15",
          "2022-06-09T21:55:20",
          "2022-06-09T21:55:25",
          "2022-06-09T21:55:30",
          "2022-06-09T21:55:35",
          "2022-06-09T21:55:40",
          "2022-06-09T21:55:45",
          "2022-06-09T21:55:50",
          "2022-06-09T21:55:55",
          "2022-06-09T21:56:00",
          "2022-06-09T21:56:05",
          "2022-06-09T21:56:10",
          "2022-06-09T21:56:15",
          "2022-06-09T21:56:20",
          "2022-06-09T21:56:25",
          "2022-06-09T21:56:30",
          "2022-06-09T21:56:35",
          "2022-06-09T21:56:40",
          "2022-06-09T21:56:45",
          "2022-06-09T21:56:50",
          "2022-06-09T21:56:55",
          "2022-06-09T21:57:00",
          "2022-06-09T21:57:05",
          "2022-06-09T21:57:10",
          "2022-06-09T21:57:15",
          "2022-06-09T21:57:20",
          "2022-06-09T21:57:25",
          "2022-06-09T21:57:30",
          "2022-06-09T21:57:35",
          "2022-06-09T21:57:40",
          "2022-06-09T21:57:45",
          "2022-06-09T21:57:50",
          "2022-06-09T21:57:55",
          "2022-06-09T21:58:00",
          "2022-06-09T21:58:05",
          "2022-06-09T21:58:10",
          "2022-06-09T21:58:15",
          "2022-06-09T21:58:20",
          "2022-06-09T21:58:25",
          "2022-06-09T21:58:30",
          "2022-06-09T21:58:35",
          "2022-06-09T21:58:40",
          "2022-06-09T21:58:45",
          "2022-06-09T21:58:50",
          "2022-06-09T21:58:55",
          "2022-06-09T21:59:00",
          "2022-06-09T21:59:05",
          "2022-06-09T21:59:10",
          "2022-06-09T21:59:15",
          "2022-06-09T21:59:20",
          "2022-06-09T21:59:25",
          "2022-06-09T21:59:30",
          "2022-06-09T21:59:35",
          "2022-06-09T21:59:40",
          "2022-06-09T21:59:45",
          "2022-06-09T21:59:50",
          "2022-06-09T21:59:55",
          "2022-06-09T22:00:00",
          "2022-06-09T22:00:05",
          "2022-06-09T22:00:10",
          "2022-06-09T22:00:15",
          "2022-06-09T22:00:20",
          "2022-06-09T22:00:25",
          "2022-06-09T22:00:30",
          "2022-06-09T22:00:35",
          "2022-06-09T22:00:40",
          "2022-06-09T22:00:45",
          "2022-06-09T22:00:50",
          "2022-06-09T22:00:55",
          "2022-06-09T22:01:00",
          "2022-06-09T22:01:05"
         ],
         "xaxis": "x",
         "y": [
          322461474,
          322461513.85,
          322461553.70000005,
          322461593.5500001,
          322461633.4000001,
          322461673.2500001,
          322461713.10000014,
          322461752.95000017,
          322461792.8000002,
          322461832.6500002,
          322461872.50000024,
          322461912.35000026,
          322461952.2000003,
          322461992.0500003,
          322462031.90000033,
          322462071.75000036,
          322462111.6000004,
          322462151.4500004,
          322462191.3000004,
          322462231.15000045,
          322462271.0000005,
          322462310.8500005,
          322462350.7000005,
          322462390.55000055,
          322462430.4000006,
          322462470.2500006,
          322462510.1000006,
          322462549.95000064,
          322462589.80000067,
          322462629.6500007,
          322462669.5000007,
          322462709.35000074,
          322462749.20000076,
          322462789.0500008,
          322462828.9000008,
          322462868.75000083,
          322462908.60000086,
          322462948.4500009,
          322462988.3000009,
          322463028.15000093,
          322463068.00000095,
          322463107.850001,
          322463147.700001,
          322463187.550001,
          322463227.40000105,
          322463267.2500011,
          322463307.1000011,
          322463346.9500011,
          322463386.80000114,
          322463426.65000117,
          322463466.5000012,
          322463506.3500012,
          322463546.20000124,
          322463586.05000126,
          322463625.9000013,
          322463665.7500013,
          322463705.60000134,
          322463745.45000136,
          322463785.3000014,
          322463825.1500014,
          322463865.00000143,
          322463904.85000145,
          322463944.7000015,
          322463984.5500015,
          322464024.4000015,
          322464064.25000155,
          322464104.1000016,
          322464143.9500016,
          322464183.8000016,
          322464223.65000165,
          322464263.50000167,
          322464303.3500017,
          322464343.2000017,
          322464383.05000174,
          322464422.90000176,
          322464462.7500018,
          322464502.6000018,
          322464542.45000184,
          322464582.30000186,
          322464622.1500019,
          322464662.0000019,
          322464701.85000193,
          322464741.70000196,
          322464781.550002,
          322464821.400002,
          322464861.250002,
          322464901.10000205,
          322464940.9500021,
          322464980.8000021,
          322465020.6500021,
          322465060.50000215,
          322465100.35000217,
          322465140.2000022,
          322465180.0500022,
          322465219.90000224,
          322465259.75000226,
          322465299.6000023,
          322465339.4500023,
          322465379.30000234,
          322465419.15000236
         ],
         "yaxis": "y"
        }
       ],
       "layout": {
        "template": {
         "data": {
          "bar": [
           {
            "error_x": {
             "color": "#2a3f5f"
            },
            "error_y": {
             "color": "#2a3f5f"
            },
            "marker": {
             "line": {
              "color": "#E5ECF6",
              "width": 0.5
             },
             "pattern": {
              "fillmode": "overlay",
              "size": 10,
              "solidity": 0.2
             }
            },
            "type": "bar"
           }
          ],
          "barpolar": [
           {
            "marker": {
             "line": {
              "color": "#E5ECF6",
              "width": 0.5
             },
             "pattern": {
              "fillmode": "overlay",
              "size": 10,
              "solidity": 0.2
             }
            },
            "type": "barpolar"
           }
          ],
          "carpet": [
           {
            "aaxis": {
             "endlinecolor": "#2a3f5f",
             "gridcolor": "white",
             "linecolor": "white",
             "minorgridcolor": "white",
             "startlinecolor": "#2a3f5f"
            },
            "baxis": {
             "endlinecolor": "#2a3f5f",
             "gridcolor": "white",
             "linecolor": "white",
             "minorgridcolor": "white",
             "startlinecolor": "#2a3f5f"
            },
            "type": "carpet"
           }
          ],
          "choropleth": [
           {
            "colorbar": {
             "outlinewidth": 0,
             "ticks": ""
            },
            "type": "choropleth"
           }
          ],
          "contour": [
           {
            "colorbar": {
             "outlinewidth": 0,
             "ticks": ""
            },
            "colorscale": [
             [
              0,
              "#0d0887"
             ],
             [
              0.1111111111111111,
              "#46039f"
             ],
             [
              0.2222222222222222,
              "#7201a8"
             ],
             [
              0.3333333333333333,
              "#9c179e"
             ],
             [
              0.4444444444444444,
              "#bd3786"
             ],
             [
              0.5555555555555556,
              "#d8576b"
             ],
             [
              0.6666666666666666,
              "#ed7953"
             ],
             [
              0.7777777777777778,
              "#fb9f3a"
             ],
             [
              0.8888888888888888,
              "#fdca26"
             ],
             [
              1,
              "#f0f921"
             ]
            ],
            "type": "contour"
           }
          ],
          "contourcarpet": [
           {
            "colorbar": {
             "outlinewidth": 0,
             "ticks": ""
            },
            "type": "contourcarpet"
           }
          ],
          "heatmap": [
           {
            "colorbar": {
             "outlinewidth": 0,
             "ticks": ""
            },
            "colorscale": [
             [
              0,
              "#0d0887"
             ],
             [
              0.1111111111111111,
              "#46039f"
             ],
             [
              0.2222222222222222,
              "#7201a8"
             ],
             [
              0.3333333333333333,
              "#9c179e"
             ],
             [
              0.4444444444444444,
              "#bd3786"
             ],
             [
              0.5555555555555556,
              "#d8576b"
             ],
             [
              0.6666666666666666,
              "#ed7953"
             ],
             [
              0.7777777777777778,
              "#fb9f3a"
             ],
             [
              0.8888888888888888,
              "#fdca26"
             ],
             [
              1,
              "#f0f921"
             ]
            ],
            "type": "heatmap"
           }
          ],
          "heatmapgl": [
           {
            "colorbar": {
             "outlinewidth": 0,
             "ticks": ""
            },
            "colorscale": [
             [
              0,
              "#0d0887"
             ],
             [
              0.1111111111111111,
              "#46039f"
             ],
             [
              0.2222222222222222,
              "#7201a8"
             ],
             [
              0.3333333333333333,
              "#9c179e"
             ],
             [
              0.4444444444444444,
              "#bd3786"
             ],
             [
              0.5555555555555556,
              "#d8576b"
             ],
             [
              0.6666666666666666,
              "#ed7953"
             ],
             [
              0.7777777777777778,
              "#fb9f3a"
             ],
             [
              0.8888888888888888,
              "#fdca26"
             ],
             [
              1,
              "#f0f921"
             ]
            ],
            "type": "heatmapgl"
           }
          ],
          "histogram": [
           {
            "marker": {
             "pattern": {
              "fillmode": "overlay",
              "size": 10,
              "solidity": 0.2
             }
            },
            "type": "histogram"
           }
          ],
          "histogram2d": [
           {
            "colorbar": {
             "outlinewidth": 0,
             "ticks": ""
            },
            "colorscale": [
             [
              0,
              "#0d0887"
             ],
             [
              0.1111111111111111,
              "#46039f"
             ],
             [
              0.2222222222222222,
              "#7201a8"
             ],
             [
              0.3333333333333333,
              "#9c179e"
             ],
             [
              0.4444444444444444,
              "#bd3786"
             ],
             [
              0.5555555555555556,
              "#d8576b"
             ],
             [
              0.6666666666666666,
              "#ed7953"
             ],
             [
              0.7777777777777778,
              "#fb9f3a"
             ],
             [
              0.8888888888888888,
              "#fdca26"
             ],
             [
              1,
              "#f0f921"
             ]
            ],
            "type": "histogram2d"
           }
          ],
          "histogram2dcontour": [
           {
            "colorbar": {
             "outlinewidth": 0,
             "ticks": ""
            },
            "colorscale": [
             [
              0,
              "#0d0887"
             ],
             [
              0.1111111111111111,
              "#46039f"
             ],
             [
              0.2222222222222222,
              "#7201a8"
             ],
             [
              0.3333333333333333,
              "#9c179e"
             ],
             [
              0.4444444444444444,
              "#bd3786"
             ],
             [
              0.5555555555555556,
              "#d8576b"
             ],
             [
              0.6666666666666666,
              "#ed7953"
             ],
             [
              0.7777777777777778,
              "#fb9f3a"
             ],
             [
              0.8888888888888888,
              "#fdca26"
             ],
             [
              1,
              "#f0f921"
             ]
            ],
            "type": "histogram2dcontour"
           }
          ],
          "mesh3d": [
           {
            "colorbar": {
             "outlinewidth": 0,
             "ticks": ""
            },
            "type": "mesh3d"
           }
          ],
          "parcoords": [
           {
            "line": {
             "colorbar": {
              "outlinewidth": 0,
              "ticks": ""
             }
            },
            "type": "parcoords"
           }
          ],
          "pie": [
           {
            "automargin": true,
            "type": "pie"
           }
          ],
          "scatter": [
           {
            "fillpattern": {
             "fillmode": "overlay",
             "size": 10,
             "solidity": 0.2
            },
            "type": "scatter"
           }
          ],
          "scatter3d": [
           {
            "line": {
             "colorbar": {
              "outlinewidth": 0,
              "ticks": ""
             }
            },
            "marker": {
             "colorbar": {
              "outlinewidth": 0,
              "ticks": ""
             }
            },
            "type": "scatter3d"
           }
          ],
          "scattercarpet": [
           {
            "marker": {
             "colorbar": {
              "outlinewidth": 0,
              "ticks": ""
             }
            },
            "type": "scattercarpet"
           }
          ],
          "scattergeo": [
           {
            "marker": {
             "colorbar": {
              "outlinewidth": 0,
              "ticks": ""
             }
            },
            "type": "scattergeo"
           }
          ],
          "scattergl": [
           {
            "marker": {
             "colorbar": {
              "outlinewidth": 0,
              "ticks": ""
             }
            },
            "type": "scattergl"
           }
          ],
          "scattermapbox": [
           {
            "marker": {
             "colorbar": {
              "outlinewidth": 0,
              "ticks": ""
             }
            },
            "type": "scattermapbox"
           }
          ],
          "scatterpolar": [
           {
            "marker": {
             "colorbar": {
              "outlinewidth": 0,
              "ticks": ""
             }
            },
            "type": "scatterpolar"
           }
          ],
          "scatterpolargl": [
           {
            "marker": {
             "colorbar": {
              "outlinewidth": 0,
              "ticks": ""
             }
            },
            "type": "scatterpolargl"
           }
          ],
          "scatterternary": [
           {
            "marker": {
             "colorbar": {
              "outlinewidth": 0,
              "ticks": ""
             }
            },
            "type": "scatterternary"
           }
          ],
          "surface": [
           {
            "colorbar": {
             "outlinewidth": 0,
             "ticks": ""
            },
            "colorscale": [
             [
              0,
              "#0d0887"
             ],
             [
              0.1111111111111111,
              "#46039f"
             ],
             [
              0.2222222222222222,
              "#7201a8"
             ],
             [
              0.3333333333333333,
              "#9c179e"
             ],
             [
              0.4444444444444444,
              "#bd3786"
             ],
             [
              0.5555555555555556,
              "#d8576b"
             ],
             [
              0.6666666666666666,
              "#ed7953"
             ],
             [
              0.7777777777777778,
              "#fb9f3a"
             ],
             [
              0.8888888888888888,
              "#fdca26"
             ],
             [
              1,
              "#f0f921"
             ]
            ],
            "type": "surface"
           }
          ],
          "table": [
           {
            "cells": {
             "fill": {
              "color": "#EBF0F8"
             },
             "line": {
              "color": "white"
             }
            },
            "header": {
             "fill": {
              "color": "#C8D4E3"
             },
             "line": {
              "color": "white"
             }
            },
            "type": "table"
           }
          ]
         },
         "layout": {
          "annotationdefaults": {
           "arrowcolor": "#2a3f5f",
           "arrowhead": 0,
           "arrowwidth": 1
          },
          "autotypenumbers": "strict",
          "coloraxis": {
           "colorbar": {
            "outlinewidth": 0,
            "ticks": ""
           }
          },
          "colorscale": {
           "diverging": [
            [
             0,
             "#8e0152"
            ],
            [
             0.1,
             "#c51b7d"
            ],
            [
             0.2,
             "#de77ae"
            ],
            [
             0.3,
             "#f1b6da"
            ],
            [
             0.4,
             "#fde0ef"
            ],
            [
             0.5,
             "#f7f7f7"
            ],
            [
             0.6,
             "#e6f5d0"
            ],
            [
             0.7,
             "#b8e186"
            ],
            [
             0.8,
             "#7fbc41"
            ],
            [
             0.9,
             "#4d9221"
            ],
            [
             1,
             "#276419"
            ]
           ],
           "sequential": [
            [
             0,
             "#0d0887"
            ],
            [
             0.1111111111111111,
             "#46039f"
            ],
            [
             0.2222222222222222,
             "#7201a8"
            ],
            [
             0.3333333333333333,
             "#9c179e"
            ],
            [
             0.4444444444444444,
             "#bd3786"
            ],
            [
             0.5555555555555556,
             "#d8576b"
            ],
            [
             0.6666666666666666,
             "#ed7953"
            ],
            [
             0.7777777777777778,
             "#fb9f3a"
            ],
            [
             0.8888888888888888,
             "#fdca26"
            ],
            [
             1,
             "#f0f921"
            ]
           ],
           "sequentialminus": [
            [
             0,
             "#0d0887"
            ],
            [
             0.1111111111111111,
             "#46039f"
            ],
            [
             0.2222222222222222,
             "#7201a8"
            ],
            [
             0.3333333333333333,
             "#9c179e"
            ],
            [
             0.4444444444444444,
             "#bd3786"
            ],
            [
             0.5555555555555556,
             "#d8576b"
            ],
            [
             0.6666666666666666,
             "#ed7953"
            ],
            [
             0.7777777777777778,
             "#fb9f3a"
            ],
            [
             0.8888888888888888,
             "#fdca26"
            ],
            [
             1,
             "#f0f921"
            ]
           ]
          },
          "colorway": [
           "#636efa",
           "#EF553B",
           "#00cc96",
           "#ab63fa",
           "#FFA15A",
           "#19d3f3",
           "#FF6692",
           "#B6E880",
           "#FF97FF",
           "#FECB52"
          ],
          "font": {
           "color": "#2a3f5f"
          },
          "geo": {
           "bgcolor": "white",
           "lakecolor": "white",
           "landcolor": "#E5ECF6",
           "showlakes": true,
           "showland": true,
           "subunitcolor": "white"
          },
          "hoverlabel": {
           "align": "left"
          },
          "hovermode": "closest",
          "mapbox": {
           "style": "light"
          },
          "paper_bgcolor": "white",
          "plot_bgcolor": "#E5ECF6",
          "polar": {
           "angularaxis": {
            "gridcolor": "white",
            "linecolor": "white",
            "ticks": ""
           },
           "bgcolor": "#E5ECF6",
           "radialaxis": {
            "gridcolor": "white",
            "linecolor": "white",
            "ticks": ""
           }
          },
          "scene": {
           "xaxis": {
            "backgroundcolor": "#E5ECF6",
            "gridcolor": "white",
            "gridwidth": 2,
            "linecolor": "white",
            "showbackground": true,
            "ticks": "",
            "zerolinecolor": "white"
           },
           "yaxis": {
            "backgroundcolor": "#E5ECF6",
            "gridcolor": "white",
            "gridwidth": 2,
            "linecolor": "white",
            "showbackground": true,
            "ticks": "",
            "zerolinecolor": "white"
           },
           "zaxis": {
            "backgroundcolor": "#E5ECF6",
            "gridcolor": "white",
            "gridwidth": 2,
            "linecolor": "white",
            "showbackground": true,
            "ticks": "",
            "zerolinecolor": "white"
           }
          },
          "shapedefaults": {
           "line": {
            "color": "#2a3f5f"
           }
          },
          "ternary": {
           "aaxis": {
            "gridcolor": "white",
            "linecolor": "white",
            "ticks": ""
           },
           "baxis": {
            "gridcolor": "white",
            "linecolor": "white",
            "ticks": ""
           },
           "bgcolor": "#E5ECF6",
           "caxis": {
            "gridcolor": "white",
            "linecolor": "white",
            "ticks": ""
           }
          },
          "title": {
           "x": 0.05
          },
          "xaxis": {
           "automargin": true,
           "gridcolor": "white",
           "linecolor": "white",
           "ticks": "",
           "title": {
            "standoff": 15
           },
           "zerolinecolor": "white",
           "zerolinewidth": 2
          },
          "yaxis": {
           "automargin": true,
           "gridcolor": "white",
           "linecolor": "white",
           "ticks": "",
           "title": {
            "standoff": 15
           },
           "zerolinecolor": "white",
           "zerolinewidth": 2
          }
         }
        },
        "title": {
         "text": "Odległość <b>Starmana🚀</b> od Ziemi🌍"
        },
        "xaxis": {
         "title": {
          "text": "czas"
         }
        },
        "yaxis": {
         "title": {
          "text": "odległość [km]"
         }
        }
       }
      }
     },
     "metadata": {},
     "output_type": "display_data"
    }
   ],
   "source": [
    "fig1 = ex.scatter(\n",
    "    df_starman, \n",
    "    x='czas', \n",
    "    y=['odległość estymowana',\t'filtrowana odległość'], \n",
    "    title='Wartość prędkości w kolejnych pomiarach',\n",
    "    )\n",
    "fig2 = ex.line(\n",
    "    df_starman,\n",
    "    x='czas', \n",
    "    y='odległość rzeczywista',\n",
    ")\n",
    "\n",
    "fig2.update_traces(line_color='green', name='real')\n",
    "fig = go.Figure(\n",
    "    data=fig1.data + fig2.data\n",
    "    )\n",
    "fig.update_layout(\n",
    "    xaxis_title=\"czas\",\n",
    "    yaxis_title=\"odległość [km]\",\n",
    "    title='Odległość <b>Starmana🚀</b> od Ziemi🌍'\n",
    ")\n",
    "fig.show()"
   ]
  },
  {
   "cell_type": "markdown",
   "id": "bf04400d",
   "metadata": {},
   "source": [
    "## <b> 1.3 Filtr $\\alpha - \\beta - \\gamma $ </b>"
   ]
  },
  {
   "cell_type": "markdown",
   "id": "e26c8d49",
   "metadata": {},
   "source": [
    "W przypadku filtru $\\alpha - \\beta - \\gamma $ będziemy uwzględniać stałą wartość przyspieszenia. \\\n",
    "<b> Filtr opisujemy 3 równaniami stanu: </b> \n",
    "\n",
    "  $\\hat x_{n,n} = \\hat{x}_{n,n-1} + \\alpha(z_{n} − \\hat x_{n,n−1})$\n",
    "\n",
    "\n",
    "  $\\hat{\\dot x }_{n,n} = \\hat{\\dot x}_{n,n−1} + \\beta(\\frac{z_{n} − \\hat x_{n,n−1}}{\\Delta t})$\n",
    "\n",
    "\n",
    "  $\\hat{ \\ddot {x}}_{n,n}=\\hat{ \\ddot {x}}_{n,n} + \\gamma(\\frac{z_n-\\hat x_{n,n-1}}{0.5 \\Delta t^2})$\n",
    "\n",
    "\n",
    "Parametr $ \\alpha $ i $ \\beta $ odpowiadają za precycję radaru, to znaczy są to niepewności pomiarowe."
   ]
  },
  {
   "cell_type": "code",
   "execution_count": 13,
   "id": "5a042257",
   "metadata": {},
   "outputs": [],
   "source": [
    "def alpha_beta_gamma_filter(x0, dx0, Z, N, d_t, alpha=0.5, beta=0.4, gamma=0.1):\n",
    "    \"\"\"\n",
    "    Funkcja aplikująca filtra alfa - beta\n",
    "    :param x0: początkowa wartość estymowana\n",
    "    :param dx0: pochodna początkowej wartości\n",
    "    :param Z: kolejne obserwacje/estymacje\n",
    "    :param N: liczba obserwacji\n",
    "    :param float d_t: delat t, czas co który wykonujemy pomiar\n",
    "    :param alpha: parametr odpowiadający za niepwenosć pomiarową, domyślnie 0.2\n",
    "    :param beta: parametr odpowiadający za niepwenosć pomiarową, domyślnie 0.1\n",
    "    :param gamma: parametr gamma \n",
    "    :return x_nn: estyator następnego stanu po N krokach\n",
    "    :return dx_nn: estymator staun dla prędkości w następnych krokach\n",
    "    \"\"\"\n",
    "    x_nn = [x0 + d_t * dx0]\n",
    "    dx_nn = [dx0]\n",
    "    ddx_nn = [0]\n",
    "    for n in range(1, N):\n",
    "        x_new = x_nn[n-1] + alpha * (Z[n] - x_nn[n-1])\n",
    "        dx_new = dx_nn[n-1] + beta * ( (Z[n]-x_nn[n-1]) / (d_t))\n",
    "        ddx_new = ddx_nn[n-1] + gamma * ( (Z[n] - x_nn[n-1]) / (0.5 * d_t ** 2))\n",
    "\n",
    "        x_nn.append(x_new + dx_new * d_t + ddx_new * (d_t ** 2 / 2))\n",
    "        dx_nn.append(dx_new + ddx_new * d_t)\n",
    "        ddx_nn.append(ddx_new)\n",
    "    \n",
    "    return x_nn"
   ]
  },
  {
   "cell_type": "code",
   "execution_count": 14,
   "id": "a887d5c8",
   "metadata": {},
   "outputs": [],
   "source": [
    "T = np.arange(0, 300, 5)\n",
    "\n",
    "v_0 = 0\n",
    "a = 15 # m/s^2\n",
    "s_real = [0 + 0.5 * a * t ** 2 for t in T]\n",
    "s_est = [s + np.random.normal(0, 1) * 0.5 * a * 5 ** 2 for s in s_real]\n",
    "s_est[0] = abs(s_est[0])\n",
    "v = a * T"
   ]
  },
  {
   "cell_type": "code",
   "execution_count": 15,
   "id": "7574354f",
   "metadata": {},
   "outputs": [],
   "source": [
    "s_abg = alpha_beta_gamma_filter(\n",
    "    x0=s_est[0],\n",
    "    dx0=v[0],\n",
    "    Z=s_est,\n",
    "    N=len(s_est),\n",
    "    d_t=delta_time,   \n",
    ")\n",
    "\n",
    "s_ab = alpha_beta_filter(\n",
    "    x0=s_est[0],\n",
    "    dx0=v[0],\n",
    "    Z=s_est,\n",
    "    N=len(s_est),\n",
    "    d_t=delta_time,   \n",
    ")\n",
    "\n",
    "s_a = alpha_filter(\n",
    "    x0=s_est[0],\n",
    "    Z=s_est,\n",
    "    N=len(s_est)\n",
    "    )"
   ]
  },
  {
   "cell_type": "code",
   "execution_count": 16,
   "id": "3920a105",
   "metadata": {},
   "outputs": [
    {
     "data": {
      "text/html": [
       "<div>\n",
       "<style scoped>\n",
       "    .dataframe tbody tr th:only-of-type {\n",
       "        vertical-align: middle;\n",
       "    }\n",
       "\n",
       "    .dataframe tbody tr th {\n",
       "        vertical-align: top;\n",
       "    }\n",
       "\n",
       "    .dataframe thead th {\n",
       "        text-align: right;\n",
       "    }\n",
       "</style>\n",
       "<table border=\"1\" class=\"dataframe\">\n",
       "  <thead>\n",
       "    <tr style=\"text-align: right;\">\n",
       "      <th></th>\n",
       "      <th>czas</th>\n",
       "      <th>odległość rzeczywista</th>\n",
       "      <th>odległość estymowana</th>\n",
       "      <th>filtr alfa</th>\n",
       "      <th>filtr alfa-beta</th>\n",
       "      <th>filtr alfa-beta-gama</th>\n",
       "    </tr>\n",
       "  </thead>\n",
       "  <tbody>\n",
       "    <tr>\n",
       "      <th>0</th>\n",
       "      <td>0</td>\n",
       "      <td>0.0</td>\n",
       "      <td>67.215195</td>\n",
       "      <td>67.215195</td>\n",
       "      <td>67.215195</td>\n",
       "      <td>67.215195</td>\n",
       "    </tr>\n",
       "    <tr>\n",
       "      <th>1</th>\n",
       "      <td>5</td>\n",
       "      <td>187.5</td>\n",
       "      <td>159.335474</td>\n",
       "      <td>159.335474</td>\n",
       "      <td>94.851279</td>\n",
       "      <td>159.335474</td>\n",
       "    </tr>\n",
       "    <tr>\n",
       "      <th>2</th>\n",
       "      <td>10</td>\n",
       "      <td>750.0</td>\n",
       "      <td>986.808463</td>\n",
       "      <td>573.071968</td>\n",
       "      <td>371.650462</td>\n",
       "      <td>1051.292658</td>\n",
       "    </tr>\n",
       "    <tr>\n",
       "      <th>3</th>\n",
       "      <td>15</td>\n",
       "      <td>1687.5</td>\n",
       "      <td>1686.988011</td>\n",
       "      <td>944.377316</td>\n",
       "      <td>864.659473</td>\n",
       "      <td>2349.127354</td>\n",
       "    </tr>\n",
       "    <tr>\n",
       "      <th>4</th>\n",
       "      <td>20</td>\n",
       "      <td>3000.0</td>\n",
       "      <td>3403.905292</td>\n",
       "      <td>1559.259310</td>\n",
       "      <td>1856.374720</td>\n",
       "      <td>4694.950035</td>\n",
       "    </tr>\n",
       "  </tbody>\n",
       "</table>\n",
       "</div>"
      ],
      "text/plain": [
       "   czas  odległość rzeczywista  odległość estymowana   filtr alfa  \\\n",
       "0     0                    0.0             67.215195    67.215195   \n",
       "1     5                  187.5            159.335474   159.335474   \n",
       "2    10                  750.0            986.808463   573.071968   \n",
       "3    15                 1687.5           1686.988011   944.377316   \n",
       "4    20                 3000.0           3403.905292  1559.259310   \n",
       "\n",
       "   filtr alfa-beta  filtr alfa-beta-gama  \n",
       "0        67.215195             67.215195  \n",
       "1        94.851279            159.335474  \n",
       "2       371.650462           1051.292658  \n",
       "3       864.659473           2349.127354  \n",
       "4      1856.374720           4694.950035  "
      ]
     },
     "execution_count": 16,
     "metadata": {},
     "output_type": "execute_result"
    }
   ],
   "source": [
    "df_falcon = pd.DataFrame()\n",
    "df_falcon['czas'] = T\n",
    "df_falcon['odległość rzeczywista'] = s_real\n",
    "df_falcon['odległość estymowana'] = s_est\n",
    "df_falcon['filtr alfa'] = s_a\n",
    "df_falcon['filtr alfa-beta'] = s_ab\n",
    "df_falcon['filtr alfa-beta-gama'] = s_abg\n",
    "df_falcon.head()"
   ]
  },
  {
   "cell_type": "code",
   "execution_count": 17,
   "id": "57f62f47",
   "metadata": {},
   "outputs": [
    {
     "data": {
      "application/vnd.plotly.v1+json": {
       "config": {
        "plotlyServerURL": "https://plot.ly"
       },
       "data": [
        {
         "hovertemplate": "variable=filtr alfa<br>czas=%{x}<br>value=%{y}<extra></extra>",
         "legendgroup": "filtr alfa",
         "marker": {
          "color": "#636efa",
          "symbol": "circle"
         },
         "mode": "markers",
         "name": "filtr alfa",
         "orientation": "v",
         "showlegend": true,
         "type": "scatter",
         "x": [
          0,
          5,
          10,
          15,
          20,
          25,
          30,
          35,
          40,
          45,
          50,
          55,
          60,
          65,
          70,
          75,
          80,
          85,
          90,
          95,
          100,
          105,
          110,
          115,
          120,
          125,
          130,
          135,
          140,
          145,
          150,
          155,
          160,
          165,
          170,
          175,
          180,
          185,
          190,
          195,
          200,
          205,
          210,
          215,
          220,
          225,
          230,
          235,
          240,
          245,
          250,
          255,
          260,
          265,
          270,
          275,
          280,
          285,
          290,
          295
         ],
         "xaxis": "x",
         "y": [
          67.21519517752151,
          159.33547420404054,
          573.0719684959881,
          944.377315884571,
          1559.2593098841576,
          2142.046848555617,
          2905.603263109249,
          3842.6872679167645,
          4842.8005010058705,
          5982.936384807293,
          7272.579973929004,
          8686.578857831111,
          10216.16648644539,
          11865.422567665239,
          13654.490608419826,
          15562.287043669134,
          17589.186486949817,
          19757.378355070552,
          22021.546321147864,
          24427.951331171625,
          26960.513062379356,
          29621.91581643004,
          32398.276097401045,
          35310.892267098134,
          38344.21735069263,
          41503.571464536755,
          44783.73766327725,
          48189.05962458618,
          51725.41009799209,
          55396.675009215774,
          59166.558679455535,
          63072.95634738011,
          67097.094357439,
          71241.1304935476,
          75525.83373911372,
          79935.86730307082,
          84464.99059939566,
          89125.74192867959,
          93908.8195199378,
          98810.809443794,
          103832.16035300805,
          108988.96707991674,
          114274.04196387189,
          119682.02895400817,
          125213.86436311375,
          130865.67463369507,
          136646.72197225472,
          142550.5251974213,
          148575.5198438221,
          154729.01955755206,
          161005.65523410577,
          167415.2255534962,
          173943.2285701451,
          180599.22555178797,
          187379.04453350612,
          194284.9413471533,
          201319.51066246946,
          208479.84000799502,
          215764.0635104052,
          223167.5919757975
         ],
         "yaxis": "y"
        },
        {
         "hovertemplate": "variable=filtr alfa-beta<br>czas=%{x}<br>value=%{y}<extra></extra>",
         "legendgroup": "filtr alfa-beta",
         "marker": {
          "color": "#EF553B",
          "symbol": "circle"
         },
         "mode": "markers",
         "name": "filtr alfa-beta",
         "orientation": "v",
         "showlegend": true,
         "type": "scatter",
         "x": [
          0,
          5,
          10,
          15,
          20,
          25,
          30,
          35,
          40,
          45,
          50,
          55,
          60,
          65,
          70,
          75,
          80,
          85,
          90,
          95,
          100,
          105,
          110,
          115,
          120,
          125,
          130,
          135,
          140,
          145,
          150,
          155,
          160,
          165,
          170,
          175,
          180,
          185,
          190,
          195,
          200,
          205,
          210,
          215,
          220,
          225,
          230,
          235,
          240,
          245,
          250,
          255,
          260,
          265,
          270,
          275,
          280,
          285,
          290,
          295
         ],
         "xaxis": "x",
         "y": [
          67.21519517752151,
          94.85127888547721,
          371.6504619588667,
          864.6594728626255,
          1856.3747197318976,
          3125.287487849979,
          4950.265153674377,
          7410.101092819535,
          10296.999415290218,
          13739.306541777421,
          17762.22858055303,
          22276.43920736899,
          27207.339369075158,
          32519.948143983107,
          38260.45378251931,
          44325.76902859828,
          50688.960336017764,
          57446.61619462025,
          64372.11013637841,
          71695.78638073447,
          79360.25622242386,
          87394.96055170085,
          95723.78637980128,
          104490.6344048733,
          113610.56806636653,
          123121.74039329002,
          132989.2579656775,
          143244.9968862474,
          153941.66407434037,
          165121.08459843404,
          176462.04958809234,
          188269.44551326326,
          200389.05222582957,
          212831.84389415348,
          225809.14772243157,
          239188.97038753537,
          252893.821576572,
          267045.2961108613,
          281544.19528957387,
          296338.28498938726,
          311421.8966839399,
          326991.99805559614,
          342985.26577791874,
          359334.17569869786,
          376041.22564390104,
          393049.7836065247,
          410480.7419703483,
          428256.3060894095,
          446351.11253209924,
          464870.8945330859,
          483748.4705328199,
          503131.64605918265,
          522807.6882955229,
          542906.7973503604,
          563366.0263091213,
          584215.9275175345,
          605499.8287771487,
          627170.2873133817,
          649187.4096838799,
          671461.0788728988
         ],
         "yaxis": "y"
        },
        {
         "hovertemplate": "variable=filtr alfa-beta-gama<br>czas=%{x}<br>value=%{y}<extra></extra>",
         "legendgroup": "filtr alfa-beta-gama",
         "marker": {
          "color": "#00cc96",
          "symbol": "circle"
         },
         "mode": "markers",
         "name": "filtr alfa-beta-gama",
         "orientation": "v",
         "showlegend": true,
         "type": "scatter",
         "x": [
          0,
          5,
          10,
          15,
          20,
          25,
          30,
          35,
          40,
          45,
          50,
          55,
          60,
          65,
          70,
          75,
          80,
          85,
          90,
          95,
          100,
          105,
          110,
          115,
          120,
          125,
          130,
          135,
          140,
          145,
          150,
          155,
          160,
          165,
          170,
          175,
          180,
          185,
          190,
          195,
          200,
          205,
          210,
          215,
          220,
          225,
          230,
          235,
          240,
          245,
          250,
          255,
          260,
          265,
          270,
          275,
          280,
          285,
          290,
          295
         ],
         "xaxis": "x",
         "y": [
          67.21519517752151,
          159.33547420404054,
          1051.292658106499,
          2349.1273537943307,
          4694.95003532626,
          6813.64402737994,
          9430.618549207378,
          12586.906131273943,
          15449.119857363214,
          18655.756597345513,
          22507.400853365478,
          26859.970885554987,
          31592.017152368237,
          36691.44409514203,
          42386.190607871824,
          48306.53205879915,
          54398.25955875472,
          61062.19515806076,
          67526.37318967731,
          74747.48775632834,
          82500.41153171378,
          90811.93038382729,
          99283.37785068389,
          108337.71866674436,
          117556.2930509374,
          127058.54493538853,
          136756.99953019357,
          146859.82449138534,
          157617.1816407783,
          169138.03450014925,
          180203.67373252992,
          192001.07163072095,
          203972.52809303193,
          216228.8168516404,
          229543.226034186,
          243288.52627358807,
          257072.69208614738,
          271298.19878400024,
          285605.30082244694,
          299935.3336815087,
          314484.5918520301,
          330121.9167320856,
          346542.6222655423,
          363317.6367625748,
          380274.8897957892,
          397127.55299606186,
          414372.9329042803,
          431832.5995681991,
          449579.06840392505,
          468113.57789612404,
          487168.86922567606,
          507147.39026040694,
          527054.4119171624,
          547267.8372181867,
          567537.6219052054,
          588083.7443468452,
          609198.6182817459,
          630796.5802196197,
          652776.8278192525,
          674845.9189611686
         ],
         "yaxis": "y"
        },
        {
         "hovertemplate": "czas=%{x}<br>odległość rzeczywista=%{y}<extra></extra>",
         "legendgroup": "",
         "line": {
          "color": "green",
          "dash": "solid"
         },
         "marker": {
          "symbol": "circle"
         },
         "mode": "lines",
         "name": "real",
         "orientation": "v",
         "showlegend": false,
         "type": "scatter",
         "x": [
          0,
          5,
          10,
          15,
          20,
          25,
          30,
          35,
          40,
          45,
          50,
          55,
          60,
          65,
          70,
          75,
          80,
          85,
          90,
          95,
          100,
          105,
          110,
          115,
          120,
          125,
          130,
          135,
          140,
          145,
          150,
          155,
          160,
          165,
          170,
          175,
          180,
          185,
          190,
          195,
          200,
          205,
          210,
          215,
          220,
          225,
          230,
          235,
          240,
          245,
          250,
          255,
          260,
          265,
          270,
          275,
          280,
          285,
          290,
          295
         ],
         "xaxis": "x",
         "y": [
          0,
          187.5,
          750,
          1687.5,
          3000,
          4687.5,
          6750,
          9187.5,
          12000,
          15187.5,
          18750,
          22687.5,
          27000,
          31687.5,
          36750,
          42187.5,
          48000,
          54187.5,
          60750,
          67687.5,
          75000,
          82687.5,
          90750,
          99187.5,
          108000,
          117187.5,
          126750,
          136687.5,
          147000,
          157687.5,
          168750,
          180187.5,
          192000,
          204187.5,
          216750,
          229687.5,
          243000,
          256687.5,
          270750,
          285187.5,
          300000,
          315187.5,
          330750,
          346687.5,
          363000,
          379687.5,
          396750,
          414187.5,
          432000,
          450187.5,
          468750,
          487687.5,
          507000,
          526687.5,
          546750,
          567187.5,
          588000,
          609187.5,
          630750,
          652687.5
         ],
         "yaxis": "y"
        }
       ],
       "layout": {
        "template": {
         "data": {
          "bar": [
           {
            "error_x": {
             "color": "#2a3f5f"
            },
            "error_y": {
             "color": "#2a3f5f"
            },
            "marker": {
             "line": {
              "color": "#E5ECF6",
              "width": 0.5
             },
             "pattern": {
              "fillmode": "overlay",
              "size": 10,
              "solidity": 0.2
             }
            },
            "type": "bar"
           }
          ],
          "barpolar": [
           {
            "marker": {
             "line": {
              "color": "#E5ECF6",
              "width": 0.5
             },
             "pattern": {
              "fillmode": "overlay",
              "size": 10,
              "solidity": 0.2
             }
            },
            "type": "barpolar"
           }
          ],
          "carpet": [
           {
            "aaxis": {
             "endlinecolor": "#2a3f5f",
             "gridcolor": "white",
             "linecolor": "white",
             "minorgridcolor": "white",
             "startlinecolor": "#2a3f5f"
            },
            "baxis": {
             "endlinecolor": "#2a3f5f",
             "gridcolor": "white",
             "linecolor": "white",
             "minorgridcolor": "white",
             "startlinecolor": "#2a3f5f"
            },
            "type": "carpet"
           }
          ],
          "choropleth": [
           {
            "colorbar": {
             "outlinewidth": 0,
             "ticks": ""
            },
            "type": "choropleth"
           }
          ],
          "contour": [
           {
            "colorbar": {
             "outlinewidth": 0,
             "ticks": ""
            },
            "colorscale": [
             [
              0,
              "#0d0887"
             ],
             [
              0.1111111111111111,
              "#46039f"
             ],
             [
              0.2222222222222222,
              "#7201a8"
             ],
             [
              0.3333333333333333,
              "#9c179e"
             ],
             [
              0.4444444444444444,
              "#bd3786"
             ],
             [
              0.5555555555555556,
              "#d8576b"
             ],
             [
              0.6666666666666666,
              "#ed7953"
             ],
             [
              0.7777777777777778,
              "#fb9f3a"
             ],
             [
              0.8888888888888888,
              "#fdca26"
             ],
             [
              1,
              "#f0f921"
             ]
            ],
            "type": "contour"
           }
          ],
          "contourcarpet": [
           {
            "colorbar": {
             "outlinewidth": 0,
             "ticks": ""
            },
            "type": "contourcarpet"
           }
          ],
          "heatmap": [
           {
            "colorbar": {
             "outlinewidth": 0,
             "ticks": ""
            },
            "colorscale": [
             [
              0,
              "#0d0887"
             ],
             [
              0.1111111111111111,
              "#46039f"
             ],
             [
              0.2222222222222222,
              "#7201a8"
             ],
             [
              0.3333333333333333,
              "#9c179e"
             ],
             [
              0.4444444444444444,
              "#bd3786"
             ],
             [
              0.5555555555555556,
              "#d8576b"
             ],
             [
              0.6666666666666666,
              "#ed7953"
             ],
             [
              0.7777777777777778,
              "#fb9f3a"
             ],
             [
              0.8888888888888888,
              "#fdca26"
             ],
             [
              1,
              "#f0f921"
             ]
            ],
            "type": "heatmap"
           }
          ],
          "heatmapgl": [
           {
            "colorbar": {
             "outlinewidth": 0,
             "ticks": ""
            },
            "colorscale": [
             [
              0,
              "#0d0887"
             ],
             [
              0.1111111111111111,
              "#46039f"
             ],
             [
              0.2222222222222222,
              "#7201a8"
             ],
             [
              0.3333333333333333,
              "#9c179e"
             ],
             [
              0.4444444444444444,
              "#bd3786"
             ],
             [
              0.5555555555555556,
              "#d8576b"
             ],
             [
              0.6666666666666666,
              "#ed7953"
             ],
             [
              0.7777777777777778,
              "#fb9f3a"
             ],
             [
              0.8888888888888888,
              "#fdca26"
             ],
             [
              1,
              "#f0f921"
             ]
            ],
            "type": "heatmapgl"
           }
          ],
          "histogram": [
           {
            "marker": {
             "pattern": {
              "fillmode": "overlay",
              "size": 10,
              "solidity": 0.2
             }
            },
            "type": "histogram"
           }
          ],
          "histogram2d": [
           {
            "colorbar": {
             "outlinewidth": 0,
             "ticks": ""
            },
            "colorscale": [
             [
              0,
              "#0d0887"
             ],
             [
              0.1111111111111111,
              "#46039f"
             ],
             [
              0.2222222222222222,
              "#7201a8"
             ],
             [
              0.3333333333333333,
              "#9c179e"
             ],
             [
              0.4444444444444444,
              "#bd3786"
             ],
             [
              0.5555555555555556,
              "#d8576b"
             ],
             [
              0.6666666666666666,
              "#ed7953"
             ],
             [
              0.7777777777777778,
              "#fb9f3a"
             ],
             [
              0.8888888888888888,
              "#fdca26"
             ],
             [
              1,
              "#f0f921"
             ]
            ],
            "type": "histogram2d"
           }
          ],
          "histogram2dcontour": [
           {
            "colorbar": {
             "outlinewidth": 0,
             "ticks": ""
            },
            "colorscale": [
             [
              0,
              "#0d0887"
             ],
             [
              0.1111111111111111,
              "#46039f"
             ],
             [
              0.2222222222222222,
              "#7201a8"
             ],
             [
              0.3333333333333333,
              "#9c179e"
             ],
             [
              0.4444444444444444,
              "#bd3786"
             ],
             [
              0.5555555555555556,
              "#d8576b"
             ],
             [
              0.6666666666666666,
              "#ed7953"
             ],
             [
              0.7777777777777778,
              "#fb9f3a"
             ],
             [
              0.8888888888888888,
              "#fdca26"
             ],
             [
              1,
              "#f0f921"
             ]
            ],
            "type": "histogram2dcontour"
           }
          ],
          "mesh3d": [
           {
            "colorbar": {
             "outlinewidth": 0,
             "ticks": ""
            },
            "type": "mesh3d"
           }
          ],
          "parcoords": [
           {
            "line": {
             "colorbar": {
              "outlinewidth": 0,
              "ticks": ""
             }
            },
            "type": "parcoords"
           }
          ],
          "pie": [
           {
            "automargin": true,
            "type": "pie"
           }
          ],
          "scatter": [
           {
            "fillpattern": {
             "fillmode": "overlay",
             "size": 10,
             "solidity": 0.2
            },
            "type": "scatter"
           }
          ],
          "scatter3d": [
           {
            "line": {
             "colorbar": {
              "outlinewidth": 0,
              "ticks": ""
             }
            },
            "marker": {
             "colorbar": {
              "outlinewidth": 0,
              "ticks": ""
             }
            },
            "type": "scatter3d"
           }
          ],
          "scattercarpet": [
           {
            "marker": {
             "colorbar": {
              "outlinewidth": 0,
              "ticks": ""
             }
            },
            "type": "scattercarpet"
           }
          ],
          "scattergeo": [
           {
            "marker": {
             "colorbar": {
              "outlinewidth": 0,
              "ticks": ""
             }
            },
            "type": "scattergeo"
           }
          ],
          "scattergl": [
           {
            "marker": {
             "colorbar": {
              "outlinewidth": 0,
              "ticks": ""
             }
            },
            "type": "scattergl"
           }
          ],
          "scattermapbox": [
           {
            "marker": {
             "colorbar": {
              "outlinewidth": 0,
              "ticks": ""
             }
            },
            "type": "scattermapbox"
           }
          ],
          "scatterpolar": [
           {
            "marker": {
             "colorbar": {
              "outlinewidth": 0,
              "ticks": ""
             }
            },
            "type": "scatterpolar"
           }
          ],
          "scatterpolargl": [
           {
            "marker": {
             "colorbar": {
              "outlinewidth": 0,
              "ticks": ""
             }
            },
            "type": "scatterpolargl"
           }
          ],
          "scatterternary": [
           {
            "marker": {
             "colorbar": {
              "outlinewidth": 0,
              "ticks": ""
             }
            },
            "type": "scatterternary"
           }
          ],
          "surface": [
           {
            "colorbar": {
             "outlinewidth": 0,
             "ticks": ""
            },
            "colorscale": [
             [
              0,
              "#0d0887"
             ],
             [
              0.1111111111111111,
              "#46039f"
             ],
             [
              0.2222222222222222,
              "#7201a8"
             ],
             [
              0.3333333333333333,
              "#9c179e"
             ],
             [
              0.4444444444444444,
              "#bd3786"
             ],
             [
              0.5555555555555556,
              "#d8576b"
             ],
             [
              0.6666666666666666,
              "#ed7953"
             ],
             [
              0.7777777777777778,
              "#fb9f3a"
             ],
             [
              0.8888888888888888,
              "#fdca26"
             ],
             [
              1,
              "#f0f921"
             ]
            ],
            "type": "surface"
           }
          ],
          "table": [
           {
            "cells": {
             "fill": {
              "color": "#EBF0F8"
             },
             "line": {
              "color": "white"
             }
            },
            "header": {
             "fill": {
              "color": "#C8D4E3"
             },
             "line": {
              "color": "white"
             }
            },
            "type": "table"
           }
          ]
         },
         "layout": {
          "annotationdefaults": {
           "arrowcolor": "#2a3f5f",
           "arrowhead": 0,
           "arrowwidth": 1
          },
          "autotypenumbers": "strict",
          "coloraxis": {
           "colorbar": {
            "outlinewidth": 0,
            "ticks": ""
           }
          },
          "colorscale": {
           "diverging": [
            [
             0,
             "#8e0152"
            ],
            [
             0.1,
             "#c51b7d"
            ],
            [
             0.2,
             "#de77ae"
            ],
            [
             0.3,
             "#f1b6da"
            ],
            [
             0.4,
             "#fde0ef"
            ],
            [
             0.5,
             "#f7f7f7"
            ],
            [
             0.6,
             "#e6f5d0"
            ],
            [
             0.7,
             "#b8e186"
            ],
            [
             0.8,
             "#7fbc41"
            ],
            [
             0.9,
             "#4d9221"
            ],
            [
             1,
             "#276419"
            ]
           ],
           "sequential": [
            [
             0,
             "#0d0887"
            ],
            [
             0.1111111111111111,
             "#46039f"
            ],
            [
             0.2222222222222222,
             "#7201a8"
            ],
            [
             0.3333333333333333,
             "#9c179e"
            ],
            [
             0.4444444444444444,
             "#bd3786"
            ],
            [
             0.5555555555555556,
             "#d8576b"
            ],
            [
             0.6666666666666666,
             "#ed7953"
            ],
            [
             0.7777777777777778,
             "#fb9f3a"
            ],
            [
             0.8888888888888888,
             "#fdca26"
            ],
            [
             1,
             "#f0f921"
            ]
           ],
           "sequentialminus": [
            [
             0,
             "#0d0887"
            ],
            [
             0.1111111111111111,
             "#46039f"
            ],
            [
             0.2222222222222222,
             "#7201a8"
            ],
            [
             0.3333333333333333,
             "#9c179e"
            ],
            [
             0.4444444444444444,
             "#bd3786"
            ],
            [
             0.5555555555555556,
             "#d8576b"
            ],
            [
             0.6666666666666666,
             "#ed7953"
            ],
            [
             0.7777777777777778,
             "#fb9f3a"
            ],
            [
             0.8888888888888888,
             "#fdca26"
            ],
            [
             1,
             "#f0f921"
            ]
           ]
          },
          "colorway": [
           "#636efa",
           "#EF553B",
           "#00cc96",
           "#ab63fa",
           "#FFA15A",
           "#19d3f3",
           "#FF6692",
           "#B6E880",
           "#FF97FF",
           "#FECB52"
          ],
          "font": {
           "color": "#2a3f5f"
          },
          "geo": {
           "bgcolor": "white",
           "lakecolor": "white",
           "landcolor": "#E5ECF6",
           "showlakes": true,
           "showland": true,
           "subunitcolor": "white"
          },
          "hoverlabel": {
           "align": "left"
          },
          "hovermode": "closest",
          "mapbox": {
           "style": "light"
          },
          "paper_bgcolor": "white",
          "plot_bgcolor": "#E5ECF6",
          "polar": {
           "angularaxis": {
            "gridcolor": "white",
            "linecolor": "white",
            "ticks": ""
           },
           "bgcolor": "#E5ECF6",
           "radialaxis": {
            "gridcolor": "white",
            "linecolor": "white",
            "ticks": ""
           }
          },
          "scene": {
           "xaxis": {
            "backgroundcolor": "#E5ECF6",
            "gridcolor": "white",
            "gridwidth": 2,
            "linecolor": "white",
            "showbackground": true,
            "ticks": "",
            "zerolinecolor": "white"
           },
           "yaxis": {
            "backgroundcolor": "#E5ECF6",
            "gridcolor": "white",
            "gridwidth": 2,
            "linecolor": "white",
            "showbackground": true,
            "ticks": "",
            "zerolinecolor": "white"
           },
           "zaxis": {
            "backgroundcolor": "#E5ECF6",
            "gridcolor": "white",
            "gridwidth": 2,
            "linecolor": "white",
            "showbackground": true,
            "ticks": "",
            "zerolinecolor": "white"
           }
          },
          "shapedefaults": {
           "line": {
            "color": "#2a3f5f"
           }
          },
          "ternary": {
           "aaxis": {
            "gridcolor": "white",
            "linecolor": "white",
            "ticks": ""
           },
           "baxis": {
            "gridcolor": "white",
            "linecolor": "white",
            "ticks": ""
           },
           "bgcolor": "#E5ECF6",
           "caxis": {
            "gridcolor": "white",
            "linecolor": "white",
            "ticks": ""
           }
          },
          "title": {
           "x": 0.05
          },
          "xaxis": {
           "automargin": true,
           "gridcolor": "white",
           "linecolor": "white",
           "ticks": "",
           "title": {
            "standoff": 15
           },
           "zerolinecolor": "white",
           "zerolinewidth": 2
          },
          "yaxis": {
           "automargin": true,
           "gridcolor": "white",
           "linecolor": "white",
           "ticks": "",
           "title": {
            "standoff": 15
           },
           "zerolinecolor": "white",
           "zerolinewidth": 2
          }
         }
        },
        "title": {
         "text": "Odległość rakiety<b> Falcon 1🚀</b> od Ziemi po starcie"
        },
        "xaxis": {
         "title": {
          "text": "czas[s]"
         }
        },
        "yaxis": {
         "title": {
          "text": "odległość [m]"
         }
        }
       }
      }
     },
     "metadata": {},
     "output_type": "display_data"
    }
   ],
   "source": [
    "fig1 = ex.scatter(\n",
    "    df_falcon, \n",
    "    x='czas', \n",
    "    y=['filtr alfa', 'filtr alfa-beta', 'filtr alfa-beta-gama'], \n",
    "    title='Wartość prędkości w kolejnych pomiarach',\n",
    "    )\n",
    "fig2 = ex.line(\n",
    "    df_falcon,\n",
    "    x='czas', \n",
    "    y='odległość rzeczywista',\n",
    ")\n",
    "\n",
    "fig2.update_traces(line_color='green', name='real')\n",
    "fig = go.Figure(\n",
    "    data=fig1.data + fig2.data\n",
    "    )\n",
    "fig.update_layout(\n",
    "    xaxis_title=\"czas[s]\",\n",
    "    yaxis_title=\"odległość [m]\",\n",
    "    title='Odległość rakiety<b> Falcon 1🚀</b> od Ziemi po starcie'\n",
    ")\n",
    "fig.show()"
   ]
  },
  {
   "cell_type": "markdown",
   "id": "35986e9e",
   "metadata": {},
   "source": [
    "## <b> 2.1 Filtr Kalmana 1-d </b> ##"
   ]
  },
  {
   "cell_type": "code",
   "execution_count": 18,
   "id": "f4ca2306",
   "metadata": {},
   "outputs": [],
   "source": [
    "def kalman_filter_1d(x0, dx0, ddx0, Z, d_t):\n",
    "    \"\"\"\n",
    "    :param float x0: początkowy stan systemu\n",
    "    :param dx0: początkowa pochodna\n",
    "    :param ddx0: druga pochodna początkowego stanu\n",
    "    :param list Z: obserwacje\n",
    "    :param int d_t: delta t, przyrost czasu w każdym kroku\n",
    "    \"\"\"\n",
    "\n",
    "    p0 = np.var(Z)\n",
    "    r = np.random.normal(0, p0 ** 2)\n",
    "\n",
    "    p_nn = [p0]\n",
    "    kn = p0/(p0 + r)\n",
    "    x_nn = [x0]\n",
    "    dx_nn = [dx0]\n",
    "    ddx_nn = [ddx0]\n",
    "\n",
    "    for n in range(1, len(Z)):\n",
    "        # aktualizowanie estymatora stanu\n",
    "        x_new = x_nn[n-1] + kn * (Z[n] - x_nn[n-1])\n",
    "\n",
    "        # predykcja\n",
    "        x_nn.append(x_new + dx_nn[n-1] * d_t + ddx_nn[n-1] * (d_t ** 2 / 2))\n",
    "        dx_nn.append(dx_nn[n-1] + ddx_nn[n-1] * d_t)\n",
    "        ddx_nn.append(ddx_nn[n-1])\n",
    "\n",
    "        # wzmocnienie kalmana\n",
    "        kn = p_nn[n-1] / (p_nn[n-1] + r)\n",
    "        \n",
    "        # aktualizacja kowariancji\n",
    "        p_nn.append((1 - kn) * p_nn[n-1])\n",
    "\n",
    "    return x_nn "
   ]
  },
  {
   "cell_type": "code",
   "execution_count": 19,
   "id": "3eece808",
   "metadata": {},
   "outputs": [],
   "source": [
    "df_falcon['kalman 1-d'] = kalman_filter_1d(\n",
    "    x0=s_est[0],\n",
    "    dx0=v[0],\n",
    "    ddx0=a,\n",
    "    Z=s_est,\n",
    "    d_t=delta_time\n",
    ")"
   ]
  },
  {
   "cell_type": "code",
   "execution_count": 20,
   "id": "9d2ff374",
   "metadata": {},
   "outputs": [
    {
     "data": {
      "application/vnd.plotly.v1+json": {
       "config": {
        "plotlyServerURL": "https://plot.ly"
       },
       "data": [
        {
         "hovertemplate": "variable=filtr alfa<br>czas=%{x}<br>value=%{y}<extra></extra>",
         "legendgroup": "filtr alfa",
         "marker": {
          "color": "#636efa",
          "symbol": "circle"
         },
         "mode": "markers",
         "name": "filtr alfa",
         "orientation": "v",
         "showlegend": true,
         "type": "scatter",
         "x": [
          0,
          5,
          10,
          15,
          20,
          25,
          30,
          35,
          40,
          45,
          50,
          55,
          60,
          65,
          70,
          75,
          80,
          85,
          90,
          95,
          100,
          105,
          110,
          115,
          120,
          125,
          130,
          135,
          140,
          145,
          150,
          155,
          160,
          165,
          170,
          175,
          180,
          185,
          190,
          195,
          200,
          205,
          210,
          215,
          220,
          225,
          230,
          235,
          240,
          245,
          250,
          255,
          260,
          265,
          270,
          275,
          280,
          285,
          290,
          295
         ],
         "xaxis": "x",
         "y": [
          67.21519517752151,
          159.33547420404054,
          573.0719684959881,
          944.377315884571,
          1559.2593098841576,
          2142.046848555617,
          2905.603263109249,
          3842.6872679167645,
          4842.8005010058705,
          5982.936384807293,
          7272.579973929004,
          8686.578857831111,
          10216.16648644539,
          11865.422567665239,
          13654.490608419826,
          15562.287043669134,
          17589.186486949817,
          19757.378355070552,
          22021.546321147864,
          24427.951331171625,
          26960.513062379356,
          29621.91581643004,
          32398.276097401045,
          35310.892267098134,
          38344.21735069263,
          41503.571464536755,
          44783.73766327725,
          48189.05962458618,
          51725.41009799209,
          55396.675009215774,
          59166.558679455535,
          63072.95634738011,
          67097.094357439,
          71241.1304935476,
          75525.83373911372,
          79935.86730307082,
          84464.99059939566,
          89125.74192867959,
          93908.8195199378,
          98810.809443794,
          103832.16035300805,
          108988.96707991674,
          114274.04196387189,
          119682.02895400817,
          125213.86436311375,
          130865.67463369507,
          136646.72197225472,
          142550.5251974213,
          148575.5198438221,
          154729.01955755206,
          161005.65523410577,
          167415.2255534962,
          173943.2285701451,
          180599.22555178797,
          187379.04453350612,
          194284.9413471533,
          201319.51066246946,
          208479.84000799502,
          215764.0635104052,
          223167.5919757975
         ],
         "yaxis": "y"
        },
        {
         "hovertemplate": "variable=filtr alfa-beta<br>czas=%{x}<br>value=%{y}<extra></extra>",
         "legendgroup": "filtr alfa-beta",
         "marker": {
          "color": "#EF553B",
          "symbol": "circle"
         },
         "mode": "markers",
         "name": "filtr alfa-beta",
         "orientation": "v",
         "showlegend": true,
         "type": "scatter",
         "x": [
          0,
          5,
          10,
          15,
          20,
          25,
          30,
          35,
          40,
          45,
          50,
          55,
          60,
          65,
          70,
          75,
          80,
          85,
          90,
          95,
          100,
          105,
          110,
          115,
          120,
          125,
          130,
          135,
          140,
          145,
          150,
          155,
          160,
          165,
          170,
          175,
          180,
          185,
          190,
          195,
          200,
          205,
          210,
          215,
          220,
          225,
          230,
          235,
          240,
          245,
          250,
          255,
          260,
          265,
          270,
          275,
          280,
          285,
          290,
          295
         ],
         "xaxis": "x",
         "y": [
          67.21519517752151,
          94.85127888547721,
          371.6504619588667,
          864.6594728626255,
          1856.3747197318976,
          3125.287487849979,
          4950.265153674377,
          7410.101092819535,
          10296.999415290218,
          13739.306541777421,
          17762.22858055303,
          22276.43920736899,
          27207.339369075158,
          32519.948143983107,
          38260.45378251931,
          44325.76902859828,
          50688.960336017764,
          57446.61619462025,
          64372.11013637841,
          71695.78638073447,
          79360.25622242386,
          87394.96055170085,
          95723.78637980128,
          104490.6344048733,
          113610.56806636653,
          123121.74039329002,
          132989.2579656775,
          143244.9968862474,
          153941.66407434037,
          165121.08459843404,
          176462.04958809234,
          188269.44551326326,
          200389.05222582957,
          212831.84389415348,
          225809.14772243157,
          239188.97038753537,
          252893.821576572,
          267045.2961108613,
          281544.19528957387,
          296338.28498938726,
          311421.8966839399,
          326991.99805559614,
          342985.26577791874,
          359334.17569869786,
          376041.22564390104,
          393049.7836065247,
          410480.7419703483,
          428256.3060894095,
          446351.11253209924,
          464870.8945330859,
          483748.4705328199,
          503131.64605918265,
          522807.6882955229,
          542906.7973503604,
          563366.0263091213,
          584215.9275175345,
          605499.8287771487,
          627170.2873133817,
          649187.4096838799,
          671461.0788728988
         ],
         "yaxis": "y"
        },
        {
         "hovertemplate": "variable=filtr alfa-beta-gama<br>czas=%{x}<br>value=%{y}<extra></extra>",
         "legendgroup": "filtr alfa-beta-gama",
         "marker": {
          "color": "#00cc96",
          "symbol": "circle"
         },
         "mode": "markers",
         "name": "filtr alfa-beta-gama",
         "orientation": "v",
         "showlegend": true,
         "type": "scatter",
         "x": [
          0,
          5,
          10,
          15,
          20,
          25,
          30,
          35,
          40,
          45,
          50,
          55,
          60,
          65,
          70,
          75,
          80,
          85,
          90,
          95,
          100,
          105,
          110,
          115,
          120,
          125,
          130,
          135,
          140,
          145,
          150,
          155,
          160,
          165,
          170,
          175,
          180,
          185,
          190,
          195,
          200,
          205,
          210,
          215,
          220,
          225,
          230,
          235,
          240,
          245,
          250,
          255,
          260,
          265,
          270,
          275,
          280,
          285,
          290,
          295
         ],
         "xaxis": "x",
         "y": [
          67.21519517752151,
          159.33547420404054,
          1051.292658106499,
          2349.1273537943307,
          4694.95003532626,
          6813.64402737994,
          9430.618549207378,
          12586.906131273943,
          15449.119857363214,
          18655.756597345513,
          22507.400853365478,
          26859.970885554987,
          31592.017152368237,
          36691.44409514203,
          42386.190607871824,
          48306.53205879915,
          54398.25955875472,
          61062.19515806076,
          67526.37318967731,
          74747.48775632834,
          82500.41153171378,
          90811.93038382729,
          99283.37785068389,
          108337.71866674436,
          117556.2930509374,
          127058.54493538853,
          136756.99953019357,
          146859.82449138534,
          157617.1816407783,
          169138.03450014925,
          180203.67373252992,
          192001.07163072095,
          203972.52809303193,
          216228.8168516404,
          229543.226034186,
          243288.52627358807,
          257072.69208614738,
          271298.19878400024,
          285605.30082244694,
          299935.3336815087,
          314484.5918520301,
          330121.9167320856,
          346542.6222655423,
          363317.6367625748,
          380274.8897957892,
          397127.55299606186,
          414372.9329042803,
          431832.5995681991,
          449579.06840392505,
          468113.57789612404,
          487168.86922567606,
          507147.39026040694,
          527054.4119171624,
          547267.8372181867,
          567537.6219052054,
          588083.7443468452,
          609198.6182817459,
          630796.5802196197,
          652776.8278192525,
          674845.9189611686
         ],
         "yaxis": "y"
        },
        {
         "hovertemplate": "variable=kalman 1-d<br>czas=%{x}<br>value=%{y}<extra></extra>",
         "legendgroup": "kalman 1-d",
         "marker": {
          "color": "#ab63fa",
          "symbol": "circle"
         },
         "mode": "markers",
         "name": "kalman 1-d",
         "orientation": "v",
         "showlegend": true,
         "type": "scatter",
         "x": [
          0,
          5,
          10,
          15,
          20,
          25,
          30,
          35,
          40,
          45,
          50,
          55,
          60,
          65,
          70,
          75,
          80,
          85,
          90,
          95,
          100,
          105,
          110,
          115,
          120,
          125,
          130,
          135,
          140,
          145,
          150,
          155,
          160,
          165,
          170,
          175,
          180,
          185,
          190,
          195,
          200,
          205,
          210,
          215,
          220,
          225,
          230,
          235,
          240,
          245,
          250,
          255,
          260,
          265,
          270,
          275,
          280,
          285,
          290,
          295
         ],
         "xaxis": "x",
         "y": [
          67.21519517752151,
          254.71519519906383,
          817.2151953702637,
          1754.71519557366,
          3067.215195959323,
          4754.715196288112,
          6817.215196748485,
          9254.715197367714,
          12067.215197973122,
          15254.71519868328,
          18817.215199530903,
          22754.71520046849,
          27067.215201470986,
          31754.71520254419,
          36817.21520375031,
          42254.71520502578,
          48067.215206367604,
          54254.71520785985,
          60817.215209323214,
          67754.71521094287,
          75067.2152126557,
          82754.7152144757,
          90817.21521633414,
          99254.71521833852,
          108067.21522040949,
          117254.71522257513,
          126817.21522480447,
          136754.71522712198,
          147067.2152295662,
          157754.71523216777,
          168817.21523467897,
          180254.715237356,
          192067.21524006646,
          204254.71524282193,
          216817.21524578394,
          229754.71524883798,
          243067.21525193172,
          256754.7152551695,
          270817.2152584733,
          285254.71526181017,
          300067.21526518,
          315254.7152687331,
          330817.2152724063,
          346754.71527614794,
          363067.21527996624,
          379754.71528381965,
          396817.21528780425,
          414254.7152918518,
          432067.21529594314,
          450254.7153001594,
          468817.2153044403,
          487754.71530890133,
          507067.21531337174,
          526754.7153179655,
          546817.2153226319,
          567254.7153273992,
          588067.2153323021,
          609254.7153373044,
          630817.2153423813,
          652754.7153474687
         ],
         "yaxis": "y"
        },
        {
         "hovertemplate": "czas=%{x}<br>odległość rzeczywista=%{y}<extra></extra>",
         "legendgroup": "",
         "line": {
          "color": "green",
          "dash": "solid"
         },
         "marker": {
          "symbol": "circle"
         },
         "mode": "lines",
         "name": "real",
         "orientation": "v",
         "showlegend": false,
         "type": "scatter",
         "x": [
          0,
          5,
          10,
          15,
          20,
          25,
          30,
          35,
          40,
          45,
          50,
          55,
          60,
          65,
          70,
          75,
          80,
          85,
          90,
          95,
          100,
          105,
          110,
          115,
          120,
          125,
          130,
          135,
          140,
          145,
          150,
          155,
          160,
          165,
          170,
          175,
          180,
          185,
          190,
          195,
          200,
          205,
          210,
          215,
          220,
          225,
          230,
          235,
          240,
          245,
          250,
          255,
          260,
          265,
          270,
          275,
          280,
          285,
          290,
          295
         ],
         "xaxis": "x",
         "y": [
          0,
          187.5,
          750,
          1687.5,
          3000,
          4687.5,
          6750,
          9187.5,
          12000,
          15187.5,
          18750,
          22687.5,
          27000,
          31687.5,
          36750,
          42187.5,
          48000,
          54187.5,
          60750,
          67687.5,
          75000,
          82687.5,
          90750,
          99187.5,
          108000,
          117187.5,
          126750,
          136687.5,
          147000,
          157687.5,
          168750,
          180187.5,
          192000,
          204187.5,
          216750,
          229687.5,
          243000,
          256687.5,
          270750,
          285187.5,
          300000,
          315187.5,
          330750,
          346687.5,
          363000,
          379687.5,
          396750,
          414187.5,
          432000,
          450187.5,
          468750,
          487687.5,
          507000,
          526687.5,
          546750,
          567187.5,
          588000,
          609187.5,
          630750,
          652687.5
         ],
         "yaxis": "y"
        }
       ],
       "layout": {
        "template": {
         "data": {
          "bar": [
           {
            "error_x": {
             "color": "#2a3f5f"
            },
            "error_y": {
             "color": "#2a3f5f"
            },
            "marker": {
             "line": {
              "color": "#E5ECF6",
              "width": 0.5
             },
             "pattern": {
              "fillmode": "overlay",
              "size": 10,
              "solidity": 0.2
             }
            },
            "type": "bar"
           }
          ],
          "barpolar": [
           {
            "marker": {
             "line": {
              "color": "#E5ECF6",
              "width": 0.5
             },
             "pattern": {
              "fillmode": "overlay",
              "size": 10,
              "solidity": 0.2
             }
            },
            "type": "barpolar"
           }
          ],
          "carpet": [
           {
            "aaxis": {
             "endlinecolor": "#2a3f5f",
             "gridcolor": "white",
             "linecolor": "white",
             "minorgridcolor": "white",
             "startlinecolor": "#2a3f5f"
            },
            "baxis": {
             "endlinecolor": "#2a3f5f",
             "gridcolor": "white",
             "linecolor": "white",
             "minorgridcolor": "white",
             "startlinecolor": "#2a3f5f"
            },
            "type": "carpet"
           }
          ],
          "choropleth": [
           {
            "colorbar": {
             "outlinewidth": 0,
             "ticks": ""
            },
            "type": "choropleth"
           }
          ],
          "contour": [
           {
            "colorbar": {
             "outlinewidth": 0,
             "ticks": ""
            },
            "colorscale": [
             [
              0,
              "#0d0887"
             ],
             [
              0.1111111111111111,
              "#46039f"
             ],
             [
              0.2222222222222222,
              "#7201a8"
             ],
             [
              0.3333333333333333,
              "#9c179e"
             ],
             [
              0.4444444444444444,
              "#bd3786"
             ],
             [
              0.5555555555555556,
              "#d8576b"
             ],
             [
              0.6666666666666666,
              "#ed7953"
             ],
             [
              0.7777777777777778,
              "#fb9f3a"
             ],
             [
              0.8888888888888888,
              "#fdca26"
             ],
             [
              1,
              "#f0f921"
             ]
            ],
            "type": "contour"
           }
          ],
          "contourcarpet": [
           {
            "colorbar": {
             "outlinewidth": 0,
             "ticks": ""
            },
            "type": "contourcarpet"
           }
          ],
          "heatmap": [
           {
            "colorbar": {
             "outlinewidth": 0,
             "ticks": ""
            },
            "colorscale": [
             [
              0,
              "#0d0887"
             ],
             [
              0.1111111111111111,
              "#46039f"
             ],
             [
              0.2222222222222222,
              "#7201a8"
             ],
             [
              0.3333333333333333,
              "#9c179e"
             ],
             [
              0.4444444444444444,
              "#bd3786"
             ],
             [
              0.5555555555555556,
              "#d8576b"
             ],
             [
              0.6666666666666666,
              "#ed7953"
             ],
             [
              0.7777777777777778,
              "#fb9f3a"
             ],
             [
              0.8888888888888888,
              "#fdca26"
             ],
             [
              1,
              "#f0f921"
             ]
            ],
            "type": "heatmap"
           }
          ],
          "heatmapgl": [
           {
            "colorbar": {
             "outlinewidth": 0,
             "ticks": ""
            },
            "colorscale": [
             [
              0,
              "#0d0887"
             ],
             [
              0.1111111111111111,
              "#46039f"
             ],
             [
              0.2222222222222222,
              "#7201a8"
             ],
             [
              0.3333333333333333,
              "#9c179e"
             ],
             [
              0.4444444444444444,
              "#bd3786"
             ],
             [
              0.5555555555555556,
              "#d8576b"
             ],
             [
              0.6666666666666666,
              "#ed7953"
             ],
             [
              0.7777777777777778,
              "#fb9f3a"
             ],
             [
              0.8888888888888888,
              "#fdca26"
             ],
             [
              1,
              "#f0f921"
             ]
            ],
            "type": "heatmapgl"
           }
          ],
          "histogram": [
           {
            "marker": {
             "pattern": {
              "fillmode": "overlay",
              "size": 10,
              "solidity": 0.2
             }
            },
            "type": "histogram"
           }
          ],
          "histogram2d": [
           {
            "colorbar": {
             "outlinewidth": 0,
             "ticks": ""
            },
            "colorscale": [
             [
              0,
              "#0d0887"
             ],
             [
              0.1111111111111111,
              "#46039f"
             ],
             [
              0.2222222222222222,
              "#7201a8"
             ],
             [
              0.3333333333333333,
              "#9c179e"
             ],
             [
              0.4444444444444444,
              "#bd3786"
             ],
             [
              0.5555555555555556,
              "#d8576b"
             ],
             [
              0.6666666666666666,
              "#ed7953"
             ],
             [
              0.7777777777777778,
              "#fb9f3a"
             ],
             [
              0.8888888888888888,
              "#fdca26"
             ],
             [
              1,
              "#f0f921"
             ]
            ],
            "type": "histogram2d"
           }
          ],
          "histogram2dcontour": [
           {
            "colorbar": {
             "outlinewidth": 0,
             "ticks": ""
            },
            "colorscale": [
             [
              0,
              "#0d0887"
             ],
             [
              0.1111111111111111,
              "#46039f"
             ],
             [
              0.2222222222222222,
              "#7201a8"
             ],
             [
              0.3333333333333333,
              "#9c179e"
             ],
             [
              0.4444444444444444,
              "#bd3786"
             ],
             [
              0.5555555555555556,
              "#d8576b"
             ],
             [
              0.6666666666666666,
              "#ed7953"
             ],
             [
              0.7777777777777778,
              "#fb9f3a"
             ],
             [
              0.8888888888888888,
              "#fdca26"
             ],
             [
              1,
              "#f0f921"
             ]
            ],
            "type": "histogram2dcontour"
           }
          ],
          "mesh3d": [
           {
            "colorbar": {
             "outlinewidth": 0,
             "ticks": ""
            },
            "type": "mesh3d"
           }
          ],
          "parcoords": [
           {
            "line": {
             "colorbar": {
              "outlinewidth": 0,
              "ticks": ""
             }
            },
            "type": "parcoords"
           }
          ],
          "pie": [
           {
            "automargin": true,
            "type": "pie"
           }
          ],
          "scatter": [
           {
            "fillpattern": {
             "fillmode": "overlay",
             "size": 10,
             "solidity": 0.2
            },
            "type": "scatter"
           }
          ],
          "scatter3d": [
           {
            "line": {
             "colorbar": {
              "outlinewidth": 0,
              "ticks": ""
             }
            },
            "marker": {
             "colorbar": {
              "outlinewidth": 0,
              "ticks": ""
             }
            },
            "type": "scatter3d"
           }
          ],
          "scattercarpet": [
           {
            "marker": {
             "colorbar": {
              "outlinewidth": 0,
              "ticks": ""
             }
            },
            "type": "scattercarpet"
           }
          ],
          "scattergeo": [
           {
            "marker": {
             "colorbar": {
              "outlinewidth": 0,
              "ticks": ""
             }
            },
            "type": "scattergeo"
           }
          ],
          "scattergl": [
           {
            "marker": {
             "colorbar": {
              "outlinewidth": 0,
              "ticks": ""
             }
            },
            "type": "scattergl"
           }
          ],
          "scattermapbox": [
           {
            "marker": {
             "colorbar": {
              "outlinewidth": 0,
              "ticks": ""
             }
            },
            "type": "scattermapbox"
           }
          ],
          "scatterpolar": [
           {
            "marker": {
             "colorbar": {
              "outlinewidth": 0,
              "ticks": ""
             }
            },
            "type": "scatterpolar"
           }
          ],
          "scatterpolargl": [
           {
            "marker": {
             "colorbar": {
              "outlinewidth": 0,
              "ticks": ""
             }
            },
            "type": "scatterpolargl"
           }
          ],
          "scatterternary": [
           {
            "marker": {
             "colorbar": {
              "outlinewidth": 0,
              "ticks": ""
             }
            },
            "type": "scatterternary"
           }
          ],
          "surface": [
           {
            "colorbar": {
             "outlinewidth": 0,
             "ticks": ""
            },
            "colorscale": [
             [
              0,
              "#0d0887"
             ],
             [
              0.1111111111111111,
              "#46039f"
             ],
             [
              0.2222222222222222,
              "#7201a8"
             ],
             [
              0.3333333333333333,
              "#9c179e"
             ],
             [
              0.4444444444444444,
              "#bd3786"
             ],
             [
              0.5555555555555556,
              "#d8576b"
             ],
             [
              0.6666666666666666,
              "#ed7953"
             ],
             [
              0.7777777777777778,
              "#fb9f3a"
             ],
             [
              0.8888888888888888,
              "#fdca26"
             ],
             [
              1,
              "#f0f921"
             ]
            ],
            "type": "surface"
           }
          ],
          "table": [
           {
            "cells": {
             "fill": {
              "color": "#EBF0F8"
             },
             "line": {
              "color": "white"
             }
            },
            "header": {
             "fill": {
              "color": "#C8D4E3"
             },
             "line": {
              "color": "white"
             }
            },
            "type": "table"
           }
          ]
         },
         "layout": {
          "annotationdefaults": {
           "arrowcolor": "#2a3f5f",
           "arrowhead": 0,
           "arrowwidth": 1
          },
          "autotypenumbers": "strict",
          "coloraxis": {
           "colorbar": {
            "outlinewidth": 0,
            "ticks": ""
           }
          },
          "colorscale": {
           "diverging": [
            [
             0,
             "#8e0152"
            ],
            [
             0.1,
             "#c51b7d"
            ],
            [
             0.2,
             "#de77ae"
            ],
            [
             0.3,
             "#f1b6da"
            ],
            [
             0.4,
             "#fde0ef"
            ],
            [
             0.5,
             "#f7f7f7"
            ],
            [
             0.6,
             "#e6f5d0"
            ],
            [
             0.7,
             "#b8e186"
            ],
            [
             0.8,
             "#7fbc41"
            ],
            [
             0.9,
             "#4d9221"
            ],
            [
             1,
             "#276419"
            ]
           ],
           "sequential": [
            [
             0,
             "#0d0887"
            ],
            [
             0.1111111111111111,
             "#46039f"
            ],
            [
             0.2222222222222222,
             "#7201a8"
            ],
            [
             0.3333333333333333,
             "#9c179e"
            ],
            [
             0.4444444444444444,
             "#bd3786"
            ],
            [
             0.5555555555555556,
             "#d8576b"
            ],
            [
             0.6666666666666666,
             "#ed7953"
            ],
            [
             0.7777777777777778,
             "#fb9f3a"
            ],
            [
             0.8888888888888888,
             "#fdca26"
            ],
            [
             1,
             "#f0f921"
            ]
           ],
           "sequentialminus": [
            [
             0,
             "#0d0887"
            ],
            [
             0.1111111111111111,
             "#46039f"
            ],
            [
             0.2222222222222222,
             "#7201a8"
            ],
            [
             0.3333333333333333,
             "#9c179e"
            ],
            [
             0.4444444444444444,
             "#bd3786"
            ],
            [
             0.5555555555555556,
             "#d8576b"
            ],
            [
             0.6666666666666666,
             "#ed7953"
            ],
            [
             0.7777777777777778,
             "#fb9f3a"
            ],
            [
             0.8888888888888888,
             "#fdca26"
            ],
            [
             1,
             "#f0f921"
            ]
           ]
          },
          "colorway": [
           "#636efa",
           "#EF553B",
           "#00cc96",
           "#ab63fa",
           "#FFA15A",
           "#19d3f3",
           "#FF6692",
           "#B6E880",
           "#FF97FF",
           "#FECB52"
          ],
          "font": {
           "color": "#2a3f5f"
          },
          "geo": {
           "bgcolor": "white",
           "lakecolor": "white",
           "landcolor": "#E5ECF6",
           "showlakes": true,
           "showland": true,
           "subunitcolor": "white"
          },
          "hoverlabel": {
           "align": "left"
          },
          "hovermode": "closest",
          "mapbox": {
           "style": "light"
          },
          "paper_bgcolor": "white",
          "plot_bgcolor": "#E5ECF6",
          "polar": {
           "angularaxis": {
            "gridcolor": "white",
            "linecolor": "white",
            "ticks": ""
           },
           "bgcolor": "#E5ECF6",
           "radialaxis": {
            "gridcolor": "white",
            "linecolor": "white",
            "ticks": ""
           }
          },
          "scene": {
           "xaxis": {
            "backgroundcolor": "#E5ECF6",
            "gridcolor": "white",
            "gridwidth": 2,
            "linecolor": "white",
            "showbackground": true,
            "ticks": "",
            "zerolinecolor": "white"
           },
           "yaxis": {
            "backgroundcolor": "#E5ECF6",
            "gridcolor": "white",
            "gridwidth": 2,
            "linecolor": "white",
            "showbackground": true,
            "ticks": "",
            "zerolinecolor": "white"
           },
           "zaxis": {
            "backgroundcolor": "#E5ECF6",
            "gridcolor": "white",
            "gridwidth": 2,
            "linecolor": "white",
            "showbackground": true,
            "ticks": "",
            "zerolinecolor": "white"
           }
          },
          "shapedefaults": {
           "line": {
            "color": "#2a3f5f"
           }
          },
          "ternary": {
           "aaxis": {
            "gridcolor": "white",
            "linecolor": "white",
            "ticks": ""
           },
           "baxis": {
            "gridcolor": "white",
            "linecolor": "white",
            "ticks": ""
           },
           "bgcolor": "#E5ECF6",
           "caxis": {
            "gridcolor": "white",
            "linecolor": "white",
            "ticks": ""
           }
          },
          "title": {
           "x": 0.05
          },
          "xaxis": {
           "automargin": true,
           "gridcolor": "white",
           "linecolor": "white",
           "ticks": "",
           "title": {
            "standoff": 15
           },
           "zerolinecolor": "white",
           "zerolinewidth": 2
          },
          "yaxis": {
           "automargin": true,
           "gridcolor": "white",
           "linecolor": "white",
           "ticks": "",
           "title": {
            "standoff": 15
           },
           "zerolinecolor": "white",
           "zerolinewidth": 2
          }
         }
        },
        "title": {
         "text": "Odległość rakiety<b> Falcon 1🚀</b> od Ziemi po starcie"
        },
        "xaxis": {
         "title": {
          "text": "czas[s]"
         }
        },
        "yaxis": {
         "title": {
          "text": "odległość [m]"
         }
        }
       }
      }
     },
     "metadata": {},
     "output_type": "display_data"
    }
   ],
   "source": [
    "fig1 = ex.scatter(\n",
    "    df_falcon, \n",
    "    x='czas', \n",
    "    y=['filtr alfa', 'filtr alfa-beta', 'filtr alfa-beta-gama', 'kalman 1-d'], \n",
    "    title='Wartość prędkości w kolejnych pomiarach',\n",
    "    )\n",
    "fig2 = ex.line(\n",
    "    df_falcon,\n",
    "    x='czas', \n",
    "    y='odległość rzeczywista',\n",
    ")\n",
    "\n",
    "fig2.update_traces(line_color='green', name='real')\n",
    "fig = go.Figure(\n",
    "    data=fig1.data + fig2.data\n",
    "    )\n",
    "fig.update_layout(\n",
    "    xaxis_title=\"czas[s]\",\n",
    "    yaxis_title=\"odległość [m]\",\n",
    "    title='Odległość rakiety<b> Falcon 1🚀</b> od Ziemi po starcie'\n",
    ")\n",
    "fig.show()"
   ]
  },
  {
   "cell_type": "code",
   "execution_count": 21,
   "id": "aa7b9b3a",
   "metadata": {},
   "outputs": [],
   "source": [
    "columns = df_falcon.columns\n",
    "columns = list(columns[3:])\n",
    "columns.remove('filtr alfa')"
   ]
  },
  {
   "cell_type": "code",
   "execution_count": 22,
   "id": "aabb52db",
   "metadata": {},
   "outputs": [],
   "source": [
    "sqr_errors = []\n",
    "\n",
    "for f in columns:\n",
    "    sqr_errors.append(mean_squared_error(df_falcon['odległość rzeczywista'], df_falcon[f]))\n",
    "\n",
    "errors = pd.DataFrame()\n",
    "errors['filters'] = columns\n",
    "errors['error'] = sqr_errors"
   ]
  },
  {
   "cell_type": "code",
   "execution_count": 25,
   "id": "f2b31e25",
   "metadata": {},
   "outputs": [
    {
     "data": {
      "application/vnd.plotly.v1+json": {
       "config": {
        "plotlyServerURL": "https://plot.ly"
       },
       "data": [
        {
         "alignmentgroup": "True",
         "hovertemplate": "filters=%{x}<br>error=%{y}<extra></extra>",
         "legendgroup": "",
         "marker": {
          "color": "#636efa",
          "pattern": {
           "shape": ""
          }
         },
         "name": "",
         "offsetgroup": "",
         "orientation": "v",
         "showlegend": false,
         "textposition": "auto",
         "type": "bar",
         "x": [
          "filtr alfa-beta",
          "filtr alfa-beta-gama",
          "kalman 1-d"
         ],
         "xaxis": "x",
         "y": [
          98445061.68694423,
          169541696.7400475,
          4517.8893467822845
         ],
         "yaxis": "y"
        }
       ],
       "layout": {
        "barmode": "relative",
        "legend": {
         "tracegroupgap": 0
        },
        "margin": {
         "t": 60
        },
        "template": {
         "data": {
          "bar": [
           {
            "error_x": {
             "color": "#2a3f5f"
            },
            "error_y": {
             "color": "#2a3f5f"
            },
            "marker": {
             "line": {
              "color": "#E5ECF6",
              "width": 0.5
             },
             "pattern": {
              "fillmode": "overlay",
              "size": 10,
              "solidity": 0.2
             }
            },
            "type": "bar"
           }
          ],
          "barpolar": [
           {
            "marker": {
             "line": {
              "color": "#E5ECF6",
              "width": 0.5
             },
             "pattern": {
              "fillmode": "overlay",
              "size": 10,
              "solidity": 0.2
             }
            },
            "type": "barpolar"
           }
          ],
          "carpet": [
           {
            "aaxis": {
             "endlinecolor": "#2a3f5f",
             "gridcolor": "white",
             "linecolor": "white",
             "minorgridcolor": "white",
             "startlinecolor": "#2a3f5f"
            },
            "baxis": {
             "endlinecolor": "#2a3f5f",
             "gridcolor": "white",
             "linecolor": "white",
             "minorgridcolor": "white",
             "startlinecolor": "#2a3f5f"
            },
            "type": "carpet"
           }
          ],
          "choropleth": [
           {
            "colorbar": {
             "outlinewidth": 0,
             "ticks": ""
            },
            "type": "choropleth"
           }
          ],
          "contour": [
           {
            "colorbar": {
             "outlinewidth": 0,
             "ticks": ""
            },
            "colorscale": [
             [
              0,
              "#0d0887"
             ],
             [
              0.1111111111111111,
              "#46039f"
             ],
             [
              0.2222222222222222,
              "#7201a8"
             ],
             [
              0.3333333333333333,
              "#9c179e"
             ],
             [
              0.4444444444444444,
              "#bd3786"
             ],
             [
              0.5555555555555556,
              "#d8576b"
             ],
             [
              0.6666666666666666,
              "#ed7953"
             ],
             [
              0.7777777777777778,
              "#fb9f3a"
             ],
             [
              0.8888888888888888,
              "#fdca26"
             ],
             [
              1,
              "#f0f921"
             ]
            ],
            "type": "contour"
           }
          ],
          "contourcarpet": [
           {
            "colorbar": {
             "outlinewidth": 0,
             "ticks": ""
            },
            "type": "contourcarpet"
           }
          ],
          "heatmap": [
           {
            "colorbar": {
             "outlinewidth": 0,
             "ticks": ""
            },
            "colorscale": [
             [
              0,
              "#0d0887"
             ],
             [
              0.1111111111111111,
              "#46039f"
             ],
             [
              0.2222222222222222,
              "#7201a8"
             ],
             [
              0.3333333333333333,
              "#9c179e"
             ],
             [
              0.4444444444444444,
              "#bd3786"
             ],
             [
              0.5555555555555556,
              "#d8576b"
             ],
             [
              0.6666666666666666,
              "#ed7953"
             ],
             [
              0.7777777777777778,
              "#fb9f3a"
             ],
             [
              0.8888888888888888,
              "#fdca26"
             ],
             [
              1,
              "#f0f921"
             ]
            ],
            "type": "heatmap"
           }
          ],
          "heatmapgl": [
           {
            "colorbar": {
             "outlinewidth": 0,
             "ticks": ""
            },
            "colorscale": [
             [
              0,
              "#0d0887"
             ],
             [
              0.1111111111111111,
              "#46039f"
             ],
             [
              0.2222222222222222,
              "#7201a8"
             ],
             [
              0.3333333333333333,
              "#9c179e"
             ],
             [
              0.4444444444444444,
              "#bd3786"
             ],
             [
              0.5555555555555556,
              "#d8576b"
             ],
             [
              0.6666666666666666,
              "#ed7953"
             ],
             [
              0.7777777777777778,
              "#fb9f3a"
             ],
             [
              0.8888888888888888,
              "#fdca26"
             ],
             [
              1,
              "#f0f921"
             ]
            ],
            "type": "heatmapgl"
           }
          ],
          "histogram": [
           {
            "marker": {
             "pattern": {
              "fillmode": "overlay",
              "size": 10,
              "solidity": 0.2
             }
            },
            "type": "histogram"
           }
          ],
          "histogram2d": [
           {
            "colorbar": {
             "outlinewidth": 0,
             "ticks": ""
            },
            "colorscale": [
             [
              0,
              "#0d0887"
             ],
             [
              0.1111111111111111,
              "#46039f"
             ],
             [
              0.2222222222222222,
              "#7201a8"
             ],
             [
              0.3333333333333333,
              "#9c179e"
             ],
             [
              0.4444444444444444,
              "#bd3786"
             ],
             [
              0.5555555555555556,
              "#d8576b"
             ],
             [
              0.6666666666666666,
              "#ed7953"
             ],
             [
              0.7777777777777778,
              "#fb9f3a"
             ],
             [
              0.8888888888888888,
              "#fdca26"
             ],
             [
              1,
              "#f0f921"
             ]
            ],
            "type": "histogram2d"
           }
          ],
          "histogram2dcontour": [
           {
            "colorbar": {
             "outlinewidth": 0,
             "ticks": ""
            },
            "colorscale": [
             [
              0,
              "#0d0887"
             ],
             [
              0.1111111111111111,
              "#46039f"
             ],
             [
              0.2222222222222222,
              "#7201a8"
             ],
             [
              0.3333333333333333,
              "#9c179e"
             ],
             [
              0.4444444444444444,
              "#bd3786"
             ],
             [
              0.5555555555555556,
              "#d8576b"
             ],
             [
              0.6666666666666666,
              "#ed7953"
             ],
             [
              0.7777777777777778,
              "#fb9f3a"
             ],
             [
              0.8888888888888888,
              "#fdca26"
             ],
             [
              1,
              "#f0f921"
             ]
            ],
            "type": "histogram2dcontour"
           }
          ],
          "mesh3d": [
           {
            "colorbar": {
             "outlinewidth": 0,
             "ticks": ""
            },
            "type": "mesh3d"
           }
          ],
          "parcoords": [
           {
            "line": {
             "colorbar": {
              "outlinewidth": 0,
              "ticks": ""
             }
            },
            "type": "parcoords"
           }
          ],
          "pie": [
           {
            "automargin": true,
            "type": "pie"
           }
          ],
          "scatter": [
           {
            "fillpattern": {
             "fillmode": "overlay",
             "size": 10,
             "solidity": 0.2
            },
            "type": "scatter"
           }
          ],
          "scatter3d": [
           {
            "line": {
             "colorbar": {
              "outlinewidth": 0,
              "ticks": ""
             }
            },
            "marker": {
             "colorbar": {
              "outlinewidth": 0,
              "ticks": ""
             }
            },
            "type": "scatter3d"
           }
          ],
          "scattercarpet": [
           {
            "marker": {
             "colorbar": {
              "outlinewidth": 0,
              "ticks": ""
             }
            },
            "type": "scattercarpet"
           }
          ],
          "scattergeo": [
           {
            "marker": {
             "colorbar": {
              "outlinewidth": 0,
              "ticks": ""
             }
            },
            "type": "scattergeo"
           }
          ],
          "scattergl": [
           {
            "marker": {
             "colorbar": {
              "outlinewidth": 0,
              "ticks": ""
             }
            },
            "type": "scattergl"
           }
          ],
          "scattermapbox": [
           {
            "marker": {
             "colorbar": {
              "outlinewidth": 0,
              "ticks": ""
             }
            },
            "type": "scattermapbox"
           }
          ],
          "scatterpolar": [
           {
            "marker": {
             "colorbar": {
              "outlinewidth": 0,
              "ticks": ""
             }
            },
            "type": "scatterpolar"
           }
          ],
          "scatterpolargl": [
           {
            "marker": {
             "colorbar": {
              "outlinewidth": 0,
              "ticks": ""
             }
            },
            "type": "scatterpolargl"
           }
          ],
          "scatterternary": [
           {
            "marker": {
             "colorbar": {
              "outlinewidth": 0,
              "ticks": ""
             }
            },
            "type": "scatterternary"
           }
          ],
          "surface": [
           {
            "colorbar": {
             "outlinewidth": 0,
             "ticks": ""
            },
            "colorscale": [
             [
              0,
              "#0d0887"
             ],
             [
              0.1111111111111111,
              "#46039f"
             ],
             [
              0.2222222222222222,
              "#7201a8"
             ],
             [
              0.3333333333333333,
              "#9c179e"
             ],
             [
              0.4444444444444444,
              "#bd3786"
             ],
             [
              0.5555555555555556,
              "#d8576b"
             ],
             [
              0.6666666666666666,
              "#ed7953"
             ],
             [
              0.7777777777777778,
              "#fb9f3a"
             ],
             [
              0.8888888888888888,
              "#fdca26"
             ],
             [
              1,
              "#f0f921"
             ]
            ],
            "type": "surface"
           }
          ],
          "table": [
           {
            "cells": {
             "fill": {
              "color": "#EBF0F8"
             },
             "line": {
              "color": "white"
             }
            },
            "header": {
             "fill": {
              "color": "#C8D4E3"
             },
             "line": {
              "color": "white"
             }
            },
            "type": "table"
           }
          ]
         },
         "layout": {
          "annotationdefaults": {
           "arrowcolor": "#2a3f5f",
           "arrowhead": 0,
           "arrowwidth": 1
          },
          "autotypenumbers": "strict",
          "coloraxis": {
           "colorbar": {
            "outlinewidth": 0,
            "ticks": ""
           }
          },
          "colorscale": {
           "diverging": [
            [
             0,
             "#8e0152"
            ],
            [
             0.1,
             "#c51b7d"
            ],
            [
             0.2,
             "#de77ae"
            ],
            [
             0.3,
             "#f1b6da"
            ],
            [
             0.4,
             "#fde0ef"
            ],
            [
             0.5,
             "#f7f7f7"
            ],
            [
             0.6,
             "#e6f5d0"
            ],
            [
             0.7,
             "#b8e186"
            ],
            [
             0.8,
             "#7fbc41"
            ],
            [
             0.9,
             "#4d9221"
            ],
            [
             1,
             "#276419"
            ]
           ],
           "sequential": [
            [
             0,
             "#0d0887"
            ],
            [
             0.1111111111111111,
             "#46039f"
            ],
            [
             0.2222222222222222,
             "#7201a8"
            ],
            [
             0.3333333333333333,
             "#9c179e"
            ],
            [
             0.4444444444444444,
             "#bd3786"
            ],
            [
             0.5555555555555556,
             "#d8576b"
            ],
            [
             0.6666666666666666,
             "#ed7953"
            ],
            [
             0.7777777777777778,
             "#fb9f3a"
            ],
            [
             0.8888888888888888,
             "#fdca26"
            ],
            [
             1,
             "#f0f921"
            ]
           ],
           "sequentialminus": [
            [
             0,
             "#0d0887"
            ],
            [
             0.1111111111111111,
             "#46039f"
            ],
            [
             0.2222222222222222,
             "#7201a8"
            ],
            [
             0.3333333333333333,
             "#9c179e"
            ],
            [
             0.4444444444444444,
             "#bd3786"
            ],
            [
             0.5555555555555556,
             "#d8576b"
            ],
            [
             0.6666666666666666,
             "#ed7953"
            ],
            [
             0.7777777777777778,
             "#fb9f3a"
            ],
            [
             0.8888888888888888,
             "#fdca26"
            ],
            [
             1,
             "#f0f921"
            ]
           ]
          },
          "colorway": [
           "#636efa",
           "#EF553B",
           "#00cc96",
           "#ab63fa",
           "#FFA15A",
           "#19d3f3",
           "#FF6692",
           "#B6E880",
           "#FF97FF",
           "#FECB52"
          ],
          "font": {
           "color": "#2a3f5f"
          },
          "geo": {
           "bgcolor": "white",
           "lakecolor": "white",
           "landcolor": "#E5ECF6",
           "showlakes": true,
           "showland": true,
           "subunitcolor": "white"
          },
          "hoverlabel": {
           "align": "left"
          },
          "hovermode": "closest",
          "mapbox": {
           "style": "light"
          },
          "paper_bgcolor": "white",
          "plot_bgcolor": "#E5ECF6",
          "polar": {
           "angularaxis": {
            "gridcolor": "white",
            "linecolor": "white",
            "ticks": ""
           },
           "bgcolor": "#E5ECF6",
           "radialaxis": {
            "gridcolor": "white",
            "linecolor": "white",
            "ticks": ""
           }
          },
          "scene": {
           "xaxis": {
            "backgroundcolor": "#E5ECF6",
            "gridcolor": "white",
            "gridwidth": 2,
            "linecolor": "white",
            "showbackground": true,
            "ticks": "",
            "zerolinecolor": "white"
           },
           "yaxis": {
            "backgroundcolor": "#E5ECF6",
            "gridcolor": "white",
            "gridwidth": 2,
            "linecolor": "white",
            "showbackground": true,
            "ticks": "",
            "zerolinecolor": "white"
           },
           "zaxis": {
            "backgroundcolor": "#E5ECF6",
            "gridcolor": "white",
            "gridwidth": 2,
            "linecolor": "white",
            "showbackground": true,
            "ticks": "",
            "zerolinecolor": "white"
           }
          },
          "shapedefaults": {
           "line": {
            "color": "#2a3f5f"
           }
          },
          "ternary": {
           "aaxis": {
            "gridcolor": "white",
            "linecolor": "white",
            "ticks": ""
           },
           "baxis": {
            "gridcolor": "white",
            "linecolor": "white",
            "ticks": ""
           },
           "bgcolor": "#E5ECF6",
           "caxis": {
            "gridcolor": "white",
            "linecolor": "white",
            "ticks": ""
           }
          },
          "title": {
           "x": 0.05
          },
          "xaxis": {
           "automargin": true,
           "gridcolor": "white",
           "linecolor": "white",
           "ticks": "",
           "title": {
            "standoff": 15
           },
           "zerolinecolor": "white",
           "zerolinewidth": 2
          },
          "yaxis": {
           "automargin": true,
           "gridcolor": "white",
           "linecolor": "white",
           "ticks": "",
           "title": {
            "standoff": 15
           },
           "zerolinecolor": "white",
           "zerolinewidth": 2
          }
         }
        },
        "xaxis": {
         "anchor": "y",
         "domain": [
          0,
          1
         ],
         "title": {
          "text": "filters"
         }
        },
        "yaxis": {
         "anchor": "x",
         "domain": [
          0,
          1
         ],
         "title": {
          "text": "error"
         },
         "type": "log"
        }
       }
      }
     },
     "metadata": {},
     "output_type": "display_data"
    }
   ],
   "source": [
    "fig = ex.bar(errors, x='filters', y='error', log_y=True)\n",
    "fig.show()"
   ]
  },
  {
   "cell_type": "code",
   "execution_count": 26,
   "id": "19084b88",
   "metadata": {},
   "outputs": [
    {
     "data": {
      "text/html": [
       "<div>\n",
       "<style scoped>\n",
       "    .dataframe tbody tr th:only-of-type {\n",
       "        vertical-align: middle;\n",
       "    }\n",
       "\n",
       "    .dataframe tbody tr th {\n",
       "        vertical-align: top;\n",
       "    }\n",
       "\n",
       "    .dataframe thead th {\n",
       "        text-align: right;\n",
       "    }\n",
       "</style>\n",
       "<table border=\"1\" class=\"dataframe\">\n",
       "  <thead>\n",
       "    <tr style=\"text-align: right;\">\n",
       "      <th></th>\n",
       "      <th>filters</th>\n",
       "      <th>error</th>\n",
       "    </tr>\n",
       "  </thead>\n",
       "  <tbody>\n",
       "    <tr>\n",
       "      <th>0</th>\n",
       "      <td>filtr alfa-beta</td>\n",
       "      <td>9.844506e+07</td>\n",
       "    </tr>\n",
       "    <tr>\n",
       "      <th>1</th>\n",
       "      <td>filtr alfa-beta-gama</td>\n",
       "      <td>1.695417e+08</td>\n",
       "    </tr>\n",
       "    <tr>\n",
       "      <th>2</th>\n",
       "      <td>kalman 1-d</td>\n",
       "      <td>4.517889e+03</td>\n",
       "    </tr>\n",
       "  </tbody>\n",
       "</table>\n",
       "</div>"
      ],
      "text/plain": [
       "                filters         error\n",
       "0       filtr alfa-beta  9.844506e+07\n",
       "1  filtr alfa-beta-gama  1.695417e+08\n",
       "2            kalman 1-d  4.517889e+03"
      ]
     },
     "execution_count": 26,
     "metadata": {},
     "output_type": "execute_result"
    }
   ],
   "source": [
    "errors"
   ]
  }
 ],
 "metadata": {
  "interpreter": {
   "hash": "11938c6bc6919ae2720b4d5011047913343b08a43b18698fd82dedb0d4417594"
  },
  "kernelspec": {
   "display_name": "Python 3.9.12 64-bit",
   "language": "python",
   "name": "python3"
  },
  "language_info": {
   "codemirror_mode": {
    "name": "ipython",
    "version": 3
   },
   "file_extension": ".py",
   "mimetype": "text/x-python",
   "name": "python",
   "nbconvert_exporter": "python",
   "pygments_lexer": "ipython3",
   "version": "3.11.6"
  }
 },
 "nbformat": 4,
 "nbformat_minor": 5
}
