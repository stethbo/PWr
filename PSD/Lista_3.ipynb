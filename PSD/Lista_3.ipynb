{
 "cells": [
  {
   "cell_type": "markdown",
   "id": "6500e3be-8d11-46f3-843f-4293f9445aac",
   "metadata": {},
   "source": [
    "# Sprawozdanie PSD - list 3 #\n",
    "# <b>Filtr Kalmana</b> #\n",
    "### Stefan Borek ###\n",
    "### 10-6-2022 ###\n"
   ]
  },
  {
   "cell_type": "code",
   "execution_count": 1,
   "id": "786c99f8",
   "metadata": {},
   "outputs": [],
   "source": [
    "import numpy as np\n",
    "import plotly.graph_objects as go\n",
    "import plotly.express as ex\n",
    "import pandas as pd\n",
    "from datetime import datetime\n",
    "from sklearn.metrics import mean_squared_error\n",
    "from IPython import display\n"
   ]
  },
  {
   "cell_type": "markdown",
   "id": "ee04d15f",
   "metadata": {},
   "source": [
    "## <b> 1.1 Filtr $\\alpha $ </b> \n",
    "\n",
    "<b>Równanie aktualizacji estymaty stanu:</b>\n",
    "\n",
    "$\\hat x_{N,N} = \\hat x_{N,N-1} + frac{1}{N}(z_{N}-\\hat{x}_{N, N-1})$"
   ]
  },
  {
   "cell_type": "code",
   "execution_count": 2,
   "id": "e8f38d2a-5eba-4a9d-803c-95a1ddf0d305",
   "metadata": {},
   "outputs": [],
   "source": [
    "def alpha_filter(x0, Z, N):\n",
    "    '''\n",
    "    * param x0: poczatkowe założenie nt. estymowanego parametru\n",
    "    * param list `Z`: ciąf obserwacji\n",
    "    :param int N: liczba obserwacji\n",
    "\n",
    "    :return x_nn: estymowane wartości w następnych N krokach\n",
    "    '''\n",
    "    x_nn = [x0]\n",
    "\n",
    "    for n in range(1, N):\n",
    "        x_new = x_nn[n-1] + 1/n * (Z[n] - x_nn[n-1])\n",
    "        x_nn.append(x_new)\n",
    "    return x_nn"
   ]
  },
  {
   "cell_type": "code",
   "execution_count": 3,
   "id": "8f14887e",
   "metadata": {},
   "outputs": [
    {
     "data": {
      "text/html": [
       "<div>\n",
       "<style scoped>\n",
       "    .dataframe tbody tr th:only-of-type {\n",
       "        vertical-align: middle;\n",
       "    }\n",
       "\n",
       "    .dataframe tbody tr th {\n",
       "        vertical-align: top;\n",
       "    }\n",
       "\n",
       "    .dataframe thead th {\n",
       "        text-align: right;\n",
       "    }\n",
       "</style>\n",
       "<table border=\"1\" class=\"dataframe\">\n",
       "  <thead>\n",
       "    <tr style=\"text-align: right;\">\n",
       "      <th></th>\n",
       "      <th>num</th>\n",
       "      <th>pomiar prędkości</th>\n",
       "      <th>prędkość rzeczywista</th>\n",
       "    </tr>\n",
       "  </thead>\n",
       "  <tbody>\n",
       "    <tr>\n",
       "      <th>0</th>\n",
       "      <td>0</td>\n",
       "      <td>19.692206</td>\n",
       "      <td>20</td>\n",
       "    </tr>\n",
       "    <tr>\n",
       "      <th>1</th>\n",
       "      <td>1</td>\n",
       "      <td>19.928873</td>\n",
       "      <td>20</td>\n",
       "    </tr>\n",
       "    <tr>\n",
       "      <th>2</th>\n",
       "      <td>2</td>\n",
       "      <td>19.150757</td>\n",
       "      <td>20</td>\n",
       "    </tr>\n",
       "    <tr>\n",
       "      <th>3</th>\n",
       "      <td>3</td>\n",
       "      <td>19.866888</td>\n",
       "      <td>20</td>\n",
       "    </tr>\n",
       "    <tr>\n",
       "      <th>4</th>\n",
       "      <td>4</td>\n",
       "      <td>19.790455</td>\n",
       "      <td>20</td>\n",
       "    </tr>\n",
       "  </tbody>\n",
       "</table>\n",
       "</div>"
      ],
      "text/plain": [
       "   num  pomiar prędkości  prędkość rzeczywista\n",
       "0    0         19.692206                    20\n",
       "1    1         19.928873                    20\n",
       "2    2         19.150757                    20\n",
       "3    3         19.866888                    20\n",
       "4    4         19.790455                    20"
      ]
     },
     "execution_count": 3,
     "metadata": {},
     "output_type": "execute_result"
    }
   ],
   "source": [
    "n = 100\n",
    "\n",
    "v_m = [20 + np.random.normal(0, .1) for _ in range(n)]\n",
    "v_real = [20 for _ in range(n)]\n",
    "x = np.arange(n)\n",
    "df = pd.DataFrame()\n",
    "df['num'] = np.arange(n)\n",
    "df['pomiar prędkości'] = [20 + np.random.normal(0, .5) for _ in range(n)]\n",
    "df['prędkość rzeczywista'] = [20 for _ in range(n)]\n",
    "df.head()"
   ]
  },
  {
   "cell_type": "code",
   "execution_count": 4,
   "id": "52fcd392",
   "metadata": {},
   "outputs": [],
   "source": [
    "X_nn = alpha_filter(v_m[0], v_m, len(v_m))"
   ]
  },
  {
   "cell_type": "code",
   "execution_count": 5,
   "id": "796e23fc",
   "metadata": {},
   "outputs": [
    {
     "data": {
      "text/html": [
       "<div>\n",
       "<style scoped>\n",
       "    .dataframe tbody tr th:only-of-type {\n",
       "        vertical-align: middle;\n",
       "    }\n",
       "\n",
       "    .dataframe tbody tr th {\n",
       "        vertical-align: top;\n",
       "    }\n",
       "\n",
       "    .dataframe thead th {\n",
       "        text-align: right;\n",
       "    }\n",
       "</style>\n",
       "<table border=\"1\" class=\"dataframe\">\n",
       "  <thead>\n",
       "    <tr style=\"text-align: right;\">\n",
       "      <th></th>\n",
       "      <th>num</th>\n",
       "      <th>pomiar prędkości</th>\n",
       "      <th>prędkość rzeczywista</th>\n",
       "      <th>prędkość po filterze alpfa</th>\n",
       "    </tr>\n",
       "  </thead>\n",
       "  <tbody>\n",
       "    <tr>\n",
       "      <th>0</th>\n",
       "      <td>0</td>\n",
       "      <td>19.692206</td>\n",
       "      <td>20</td>\n",
       "      <td>19.889585</td>\n",
       "    </tr>\n",
       "    <tr>\n",
       "      <th>1</th>\n",
       "      <td>1</td>\n",
       "      <td>19.928873</td>\n",
       "      <td>20</td>\n",
       "      <td>20.009442</td>\n",
       "    </tr>\n",
       "    <tr>\n",
       "      <th>2</th>\n",
       "      <td>2</td>\n",
       "      <td>19.150757</td>\n",
       "      <td>20</td>\n",
       "      <td>20.110495</td>\n",
       "    </tr>\n",
       "    <tr>\n",
       "      <th>3</th>\n",
       "      <td>3</td>\n",
       "      <td>19.866888</td>\n",
       "      <td>20</td>\n",
       "      <td>20.082467</td>\n",
       "    </tr>\n",
       "    <tr>\n",
       "      <th>4</th>\n",
       "      <td>4</td>\n",
       "      <td>19.790455</td>\n",
       "      <td>20</td>\n",
       "      <td>20.076249</td>\n",
       "    </tr>\n",
       "  </tbody>\n",
       "</table>\n",
       "</div>"
      ],
      "text/plain": [
       "   num  pomiar prędkości  prędkość rzeczywista  prędkość po filterze alpfa\n",
       "0    0         19.692206                    20                   19.889585\n",
       "1    1         19.928873                    20                   20.009442\n",
       "2    2         19.150757                    20                   20.110495\n",
       "3    3         19.866888                    20                   20.082467\n",
       "4    4         19.790455                    20                   20.076249"
      ]
     },
     "execution_count": 5,
     "metadata": {},
     "output_type": "execute_result"
    }
   ],
   "source": [
    "df['prędkość po filterze alpfa'] = X_nn\n",
    "df.head()"
   ]
  },
  {
   "cell_type": "code",
   "execution_count": 6,
   "id": "4717d393",
   "metadata": {},
   "outputs": [
    {
     "data": {
      "application/vnd.plotly.v1+json": {
       "config": {
        "plotlyServerURL": "https://plot.ly"
       },
       "data": [
        {
         "hovertemplate": "variable=pomiar prędkości<br>num=%{x}<br>value=%{y}<extra></extra>",
         "legendgroup": "pomiar prędkości",
         "marker": {
          "color": "#636efa",
          "symbol": "circle"
         },
         "mode": "markers",
         "name": "pomiar prędkości",
         "orientation": "v",
         "showlegend": true,
         "type": "scatter",
         "x": [
          0,
          1,
          2,
          3,
          4,
          5,
          6,
          7,
          8,
          9,
          10,
          11,
          12,
          13,
          14,
          15,
          16,
          17,
          18,
          19,
          20,
          21,
          22,
          23,
          24,
          25,
          26,
          27,
          28,
          29,
          30,
          31,
          32,
          33,
          34,
          35,
          36,
          37,
          38,
          39,
          40,
          41,
          42,
          43,
          44,
          45,
          46,
          47,
          48,
          49,
          50,
          51,
          52,
          53,
          54,
          55,
          56,
          57,
          58,
          59,
          60,
          61,
          62,
          63,
          64,
          65,
          66,
          67,
          68,
          69,
          70,
          71,
          72,
          73,
          74,
          75,
          76,
          77,
          78,
          79,
          80,
          81,
          82,
          83,
          84,
          85,
          86,
          87,
          88,
          89,
          90,
          91,
          92,
          93,
          94,
          95,
          96,
          97,
          98,
          99
         ],
         "xaxis": "x",
         "y": [
          19.692205958533684,
          19.928873435080018,
          19.15075726601781,
          19.86688777366245,
          19.79045541156281,
          20.15109797625098,
          20.458597422538226,
          20.47463090451891,
          20.15539823369675,
          20.014560084425668,
          19.736875768108067,
          19.607120456365298,
          19.439132106144964,
          19.79945439279122,
          18.923710837251548,
          20.23215079669604,
          20.48414140789851,
          20.178189706045657,
          20.29087763799337,
          20.256992416086852,
          20.436421715305887,
          19.493455015383834,
          20.11782278496513,
          19.50182829422708,
          19.612088079044305,
          19.977579078357817,
          20.591352666371208,
          19.53070336793183,
          19.602398812231595,
          19.870221745113007,
          19.876502907152343,
          20.17132271116025,
          19.61535605752643,
          20.115416271440115,
          19.932168934695163,
          19.89948074475699,
          19.330824375400663,
          19.69132075609598,
          20.863830070605232,
          19.407158503222266,
          20.683509500436003,
          19.215329611276662,
          20.64483242867693,
          19.642492468392852,
          19.924280741335,
          20.33897210798166,
          19.835559426081428,
          20.077305050670738,
          19.920562088982223,
          20.082823503052865,
          20.065797260916504,
          20.309583899137827,
          19.850885504002946,
          19.442280975062587,
          20.155464344712197,
          19.340499720180524,
          19.797228595209113,
          20.05914524652973,
          20.758381514958174,
          20.305546420885978,
          20.46053379006495,
          20.259335802900793,
          20.015697310294147,
          20.034957301371755,
          19.828708007638113,
          19.64297820289995,
          20.86643212135382,
          20.92885523952306,
          20.157488408177233,
          21.03587953930629,
          20.380827753105063,
          20.502563776123196,
          20.96205001878898,
          19.42705819544195,
          19.76737337657127,
          19.786345324605072,
          19.750438941365417,
          20.15775283968169,
          19.775364586459272,
          20.078235518535543,
          20.864270632089415,
          20.01420499127571,
          19.62770994537974,
          20.86256833742019,
          20.061848518743222,
          20.628939832372517,
          19.9011698240899,
          20.172557202917613,
          19.120761680328965,
          20.389570556003257,
          19.498573472536172,
          19.75515043574917,
          19.808750897205847,
          20.80243693392206,
          19.96277756928385,
          19.85301185018886,
          20.229230729035443,
          18.571695591571665,
          19.49310548202813,
          20.764657062962215
         ],
         "yaxis": "y"
        },
        {
         "hovertemplate": "variable=prędkość po filterze alpfa<br>num=%{x}<br>value=%{y}<extra></extra>",
         "legendgroup": "prędkość po filterze alpfa",
         "marker": {
          "color": "#EF553B",
          "symbol": "circle"
         },
         "mode": "markers",
         "name": "prędkość po filterze alpfa",
         "orientation": "v",
         "showlegend": true,
         "type": "scatter",
         "x": [
          0,
          1,
          2,
          3,
          4,
          5,
          6,
          7,
          8,
          9,
          10,
          11,
          12,
          13,
          14,
          15,
          16,
          17,
          18,
          19,
          20,
          21,
          22,
          23,
          24,
          25,
          26,
          27,
          28,
          29,
          30,
          31,
          32,
          33,
          34,
          35,
          36,
          37,
          38,
          39,
          40,
          41,
          42,
          43,
          44,
          45,
          46,
          47,
          48,
          49,
          50,
          51,
          52,
          53,
          54,
          55,
          56,
          57,
          58,
          59,
          60,
          61,
          62,
          63,
          64,
          65,
          66,
          67,
          68,
          69,
          70,
          71,
          72,
          73,
          74,
          75,
          76,
          77,
          78,
          79,
          80,
          81,
          82,
          83,
          84,
          85,
          86,
          87,
          88,
          89,
          90,
          91,
          92,
          93,
          94,
          95,
          96,
          97,
          98,
          99
         ],
         "xaxis": "x",
         "y": [
          19.889585201907867,
          20.009441905568423,
          20.110495327623255,
          20.08246745805332,
          20.076249116311928,
          20.016968738527407,
          20.02390256878707,
          20.011122131793787,
          20.01295436847182,
          20.009968808142695,
          20.008459911037484,
          19.991410391223436,
          19.994781295337308,
          19.980117164273622,
          19.986505894453412,
          19.979926545709077,
          19.98075245728391,
          19.97913316837741,
          19.993168949969352,
          19.996779542929673,
          20.002071052643558,
          20.009611230661005,
          20.008998889576397,
          20.010407093043412,
          20.018733899736695,
          20.0133611793924,
          20.0097905289507,
          20.01494476392436,
          20.01437893470906,
          20.017284561567447,
          20.021157093124636,
          20.02174201276332,
          20.01558427622956,
          20.015868765356107,
          20.014426610045696,
          20.011784130258043,
          20.011537422341682,
          20.0162805305714,
          20.01528962285311,
          20.015404181449696,
          20.015394590558966,
          20.011887081804453,
          20.01507205686467,
          20.013805398398837,
          20.013924911418197,
          20.008898086906335,
          20.00871150936772,
          20.005484576109176,
          20.00668101225745,
          20.008238378795696,
          20.008521133844376,
          20.010118962645244,
          20.00968932186362,
          20.009011610429567,
          20.00760520496167,
          20.009877423181,
          20.00806660356724,
          20.00827149242288,
          20.009318891473068,
          20.009601163320852,
          20.008779661930863,
          20.008426369631955,
          20.00989451038211,
          20.0108560407888,
          20.01230223040975,
          20.012494481770045,
          20.010458560450903,
          20.009760311398043,
          20.009234624764748,
          20.008445063171926,
          20.009130507240293,
          20.007222231971003,
          20.00684073482792,
          20.005738194160056,
          20.007412447473122,
          20.00519856613057,
          20.004942359552736,
          20.00555566572573,
          20.007871808127703,
          20.00707222822391,
          20.006024253651375,
          20.00646922123257,
          20.00532403250326,
          20.00587106305691,
          20.007060293113927,
          20.006501017891992,
          20.005284733343565,
          20.00564124732382,
          20.00631986962911,
          20.004753363054615,
          20.003613348805658,
          20.00357606891389,
          20.00469350670357,
          20.002969717445364,
          20.002639917326587,
          20.00227914712561,
          20.00449783712111,
          20.002718384931445,
          20.002861877517866,
          20.00369821245987
         ],
         "yaxis": "y"
        },
        {
         "hovertemplate": "num=%{x}<br>prędkość rzeczywista=%{y}<extra></extra>",
         "legendgroup": "",
         "line": {
          "color": "green",
          "dash": "solid"
         },
         "marker": {
          "symbol": "circle"
         },
         "mode": "lines",
         "name": "real",
         "orientation": "v",
         "showlegend": false,
         "type": "scatter",
         "x": [
          0,
          1,
          2,
          3,
          4,
          5,
          6,
          7,
          8,
          9,
          10,
          11,
          12,
          13,
          14,
          15,
          16,
          17,
          18,
          19,
          20,
          21,
          22,
          23,
          24,
          25,
          26,
          27,
          28,
          29,
          30,
          31,
          32,
          33,
          34,
          35,
          36,
          37,
          38,
          39,
          40,
          41,
          42,
          43,
          44,
          45,
          46,
          47,
          48,
          49,
          50,
          51,
          52,
          53,
          54,
          55,
          56,
          57,
          58,
          59,
          60,
          61,
          62,
          63,
          64,
          65,
          66,
          67,
          68,
          69,
          70,
          71,
          72,
          73,
          74,
          75,
          76,
          77,
          78,
          79,
          80,
          81,
          82,
          83,
          84,
          85,
          86,
          87,
          88,
          89,
          90,
          91,
          92,
          93,
          94,
          95,
          96,
          97,
          98,
          99
         ],
         "xaxis": "x",
         "y": [
          20,
          20,
          20,
          20,
          20,
          20,
          20,
          20,
          20,
          20,
          20,
          20,
          20,
          20,
          20,
          20,
          20,
          20,
          20,
          20,
          20,
          20,
          20,
          20,
          20,
          20,
          20,
          20,
          20,
          20,
          20,
          20,
          20,
          20,
          20,
          20,
          20,
          20,
          20,
          20,
          20,
          20,
          20,
          20,
          20,
          20,
          20,
          20,
          20,
          20,
          20,
          20,
          20,
          20,
          20,
          20,
          20,
          20,
          20,
          20,
          20,
          20,
          20,
          20,
          20,
          20,
          20,
          20,
          20,
          20,
          20,
          20,
          20,
          20,
          20,
          20,
          20,
          20,
          20,
          20,
          20,
          20,
          20,
          20,
          20,
          20,
          20,
          20,
          20,
          20,
          20,
          20,
          20,
          20,
          20,
          20,
          20,
          20,
          20,
          20
         ],
         "yaxis": "y"
        }
       ],
       "layout": {
        "template": {
         "data": {
          "bar": [
           {
            "error_x": {
             "color": "#2a3f5f"
            },
            "error_y": {
             "color": "#2a3f5f"
            },
            "marker": {
             "line": {
              "color": "#E5ECF6",
              "width": 0.5
             },
             "pattern": {
              "fillmode": "overlay",
              "size": 10,
              "solidity": 0.2
             }
            },
            "type": "bar"
           }
          ],
          "barpolar": [
           {
            "marker": {
             "line": {
              "color": "#E5ECF6",
              "width": 0.5
             },
             "pattern": {
              "fillmode": "overlay",
              "size": 10,
              "solidity": 0.2
             }
            },
            "type": "barpolar"
           }
          ],
          "carpet": [
           {
            "aaxis": {
             "endlinecolor": "#2a3f5f",
             "gridcolor": "white",
             "linecolor": "white",
             "minorgridcolor": "white",
             "startlinecolor": "#2a3f5f"
            },
            "baxis": {
             "endlinecolor": "#2a3f5f",
             "gridcolor": "white",
             "linecolor": "white",
             "minorgridcolor": "white",
             "startlinecolor": "#2a3f5f"
            },
            "type": "carpet"
           }
          ],
          "choropleth": [
           {
            "colorbar": {
             "outlinewidth": 0,
             "ticks": ""
            },
            "type": "choropleth"
           }
          ],
          "contour": [
           {
            "colorbar": {
             "outlinewidth": 0,
             "ticks": ""
            },
            "colorscale": [
             [
              0,
              "#0d0887"
             ],
             [
              0.1111111111111111,
              "#46039f"
             ],
             [
              0.2222222222222222,
              "#7201a8"
             ],
             [
              0.3333333333333333,
              "#9c179e"
             ],
             [
              0.4444444444444444,
              "#bd3786"
             ],
             [
              0.5555555555555556,
              "#d8576b"
             ],
             [
              0.6666666666666666,
              "#ed7953"
             ],
             [
              0.7777777777777778,
              "#fb9f3a"
             ],
             [
              0.8888888888888888,
              "#fdca26"
             ],
             [
              1,
              "#f0f921"
             ]
            ],
            "type": "contour"
           }
          ],
          "contourcarpet": [
           {
            "colorbar": {
             "outlinewidth": 0,
             "ticks": ""
            },
            "type": "contourcarpet"
           }
          ],
          "heatmap": [
           {
            "colorbar": {
             "outlinewidth": 0,
             "ticks": ""
            },
            "colorscale": [
             [
              0,
              "#0d0887"
             ],
             [
              0.1111111111111111,
              "#46039f"
             ],
             [
              0.2222222222222222,
              "#7201a8"
             ],
             [
              0.3333333333333333,
              "#9c179e"
             ],
             [
              0.4444444444444444,
              "#bd3786"
             ],
             [
              0.5555555555555556,
              "#d8576b"
             ],
             [
              0.6666666666666666,
              "#ed7953"
             ],
             [
              0.7777777777777778,
              "#fb9f3a"
             ],
             [
              0.8888888888888888,
              "#fdca26"
             ],
             [
              1,
              "#f0f921"
             ]
            ],
            "type": "heatmap"
           }
          ],
          "heatmapgl": [
           {
            "colorbar": {
             "outlinewidth": 0,
             "ticks": ""
            },
            "colorscale": [
             [
              0,
              "#0d0887"
             ],
             [
              0.1111111111111111,
              "#46039f"
             ],
             [
              0.2222222222222222,
              "#7201a8"
             ],
             [
              0.3333333333333333,
              "#9c179e"
             ],
             [
              0.4444444444444444,
              "#bd3786"
             ],
             [
              0.5555555555555556,
              "#d8576b"
             ],
             [
              0.6666666666666666,
              "#ed7953"
             ],
             [
              0.7777777777777778,
              "#fb9f3a"
             ],
             [
              0.8888888888888888,
              "#fdca26"
             ],
             [
              1,
              "#f0f921"
             ]
            ],
            "type": "heatmapgl"
           }
          ],
          "histogram": [
           {
            "marker": {
             "pattern": {
              "fillmode": "overlay",
              "size": 10,
              "solidity": 0.2
             }
            },
            "type": "histogram"
           }
          ],
          "histogram2d": [
           {
            "colorbar": {
             "outlinewidth": 0,
             "ticks": ""
            },
            "colorscale": [
             [
              0,
              "#0d0887"
             ],
             [
              0.1111111111111111,
              "#46039f"
             ],
             [
              0.2222222222222222,
              "#7201a8"
             ],
             [
              0.3333333333333333,
              "#9c179e"
             ],
             [
              0.4444444444444444,
              "#bd3786"
             ],
             [
              0.5555555555555556,
              "#d8576b"
             ],
             [
              0.6666666666666666,
              "#ed7953"
             ],
             [
              0.7777777777777778,
              "#fb9f3a"
             ],
             [
              0.8888888888888888,
              "#fdca26"
             ],
             [
              1,
              "#f0f921"
             ]
            ],
            "type": "histogram2d"
           }
          ],
          "histogram2dcontour": [
           {
            "colorbar": {
             "outlinewidth": 0,
             "ticks": ""
            },
            "colorscale": [
             [
              0,
              "#0d0887"
             ],
             [
              0.1111111111111111,
              "#46039f"
             ],
             [
              0.2222222222222222,
              "#7201a8"
             ],
             [
              0.3333333333333333,
              "#9c179e"
             ],
             [
              0.4444444444444444,
              "#bd3786"
             ],
             [
              0.5555555555555556,
              "#d8576b"
             ],
             [
              0.6666666666666666,
              "#ed7953"
             ],
             [
              0.7777777777777778,
              "#fb9f3a"
             ],
             [
              0.8888888888888888,
              "#fdca26"
             ],
             [
              1,
              "#f0f921"
             ]
            ],
            "type": "histogram2dcontour"
           }
          ],
          "mesh3d": [
           {
            "colorbar": {
             "outlinewidth": 0,
             "ticks": ""
            },
            "type": "mesh3d"
           }
          ],
          "parcoords": [
           {
            "line": {
             "colorbar": {
              "outlinewidth": 0,
              "ticks": ""
             }
            },
            "type": "parcoords"
           }
          ],
          "pie": [
           {
            "automargin": true,
            "type": "pie"
           }
          ],
          "scatter": [
           {
            "fillpattern": {
             "fillmode": "overlay",
             "size": 10,
             "solidity": 0.2
            },
            "type": "scatter"
           }
          ],
          "scatter3d": [
           {
            "line": {
             "colorbar": {
              "outlinewidth": 0,
              "ticks": ""
             }
            },
            "marker": {
             "colorbar": {
              "outlinewidth": 0,
              "ticks": ""
             }
            },
            "type": "scatter3d"
           }
          ],
          "scattercarpet": [
           {
            "marker": {
             "colorbar": {
              "outlinewidth": 0,
              "ticks": ""
             }
            },
            "type": "scattercarpet"
           }
          ],
          "scattergeo": [
           {
            "marker": {
             "colorbar": {
              "outlinewidth": 0,
              "ticks": ""
             }
            },
            "type": "scattergeo"
           }
          ],
          "scattergl": [
           {
            "marker": {
             "colorbar": {
              "outlinewidth": 0,
              "ticks": ""
             }
            },
            "type": "scattergl"
           }
          ],
          "scattermapbox": [
           {
            "marker": {
             "colorbar": {
              "outlinewidth": 0,
              "ticks": ""
             }
            },
            "type": "scattermapbox"
           }
          ],
          "scatterpolar": [
           {
            "marker": {
             "colorbar": {
              "outlinewidth": 0,
              "ticks": ""
             }
            },
            "type": "scatterpolar"
           }
          ],
          "scatterpolargl": [
           {
            "marker": {
             "colorbar": {
              "outlinewidth": 0,
              "ticks": ""
             }
            },
            "type": "scatterpolargl"
           }
          ],
          "scatterternary": [
           {
            "marker": {
             "colorbar": {
              "outlinewidth": 0,
              "ticks": ""
             }
            },
            "type": "scatterternary"
           }
          ],
          "surface": [
           {
            "colorbar": {
             "outlinewidth": 0,
             "ticks": ""
            },
            "colorscale": [
             [
              0,
              "#0d0887"
             ],
             [
              0.1111111111111111,
              "#46039f"
             ],
             [
              0.2222222222222222,
              "#7201a8"
             ],
             [
              0.3333333333333333,
              "#9c179e"
             ],
             [
              0.4444444444444444,
              "#bd3786"
             ],
             [
              0.5555555555555556,
              "#d8576b"
             ],
             [
              0.6666666666666666,
              "#ed7953"
             ],
             [
              0.7777777777777778,
              "#fb9f3a"
             ],
             [
              0.8888888888888888,
              "#fdca26"
             ],
             [
              1,
              "#f0f921"
             ]
            ],
            "type": "surface"
           }
          ],
          "table": [
           {
            "cells": {
             "fill": {
              "color": "#EBF0F8"
             },
             "line": {
              "color": "white"
             }
            },
            "header": {
             "fill": {
              "color": "#C8D4E3"
             },
             "line": {
              "color": "white"
             }
            },
            "type": "table"
           }
          ]
         },
         "layout": {
          "annotationdefaults": {
           "arrowcolor": "#2a3f5f",
           "arrowhead": 0,
           "arrowwidth": 1
          },
          "autotypenumbers": "strict",
          "coloraxis": {
           "colorbar": {
            "outlinewidth": 0,
            "ticks": ""
           }
          },
          "colorscale": {
           "diverging": [
            [
             0,
             "#8e0152"
            ],
            [
             0.1,
             "#c51b7d"
            ],
            [
             0.2,
             "#de77ae"
            ],
            [
             0.3,
             "#f1b6da"
            ],
            [
             0.4,
             "#fde0ef"
            ],
            [
             0.5,
             "#f7f7f7"
            ],
            [
             0.6,
             "#e6f5d0"
            ],
            [
             0.7,
             "#b8e186"
            ],
            [
             0.8,
             "#7fbc41"
            ],
            [
             0.9,
             "#4d9221"
            ],
            [
             1,
             "#276419"
            ]
           ],
           "sequential": [
            [
             0,
             "#0d0887"
            ],
            [
             0.1111111111111111,
             "#46039f"
            ],
            [
             0.2222222222222222,
             "#7201a8"
            ],
            [
             0.3333333333333333,
             "#9c179e"
            ],
            [
             0.4444444444444444,
             "#bd3786"
            ],
            [
             0.5555555555555556,
             "#d8576b"
            ],
            [
             0.6666666666666666,
             "#ed7953"
            ],
            [
             0.7777777777777778,
             "#fb9f3a"
            ],
            [
             0.8888888888888888,
             "#fdca26"
            ],
            [
             1,
             "#f0f921"
            ]
           ],
           "sequentialminus": [
            [
             0,
             "#0d0887"
            ],
            [
             0.1111111111111111,
             "#46039f"
            ],
            [
             0.2222222222222222,
             "#7201a8"
            ],
            [
             0.3333333333333333,
             "#9c179e"
            ],
            [
             0.4444444444444444,
             "#bd3786"
            ],
            [
             0.5555555555555556,
             "#d8576b"
            ],
            [
             0.6666666666666666,
             "#ed7953"
            ],
            [
             0.7777777777777778,
             "#fb9f3a"
            ],
            [
             0.8888888888888888,
             "#fdca26"
            ],
            [
             1,
             "#f0f921"
            ]
           ]
          },
          "colorway": [
           "#636efa",
           "#EF553B",
           "#00cc96",
           "#ab63fa",
           "#FFA15A",
           "#19d3f3",
           "#FF6692",
           "#B6E880",
           "#FF97FF",
           "#FECB52"
          ],
          "font": {
           "color": "#2a3f5f"
          },
          "geo": {
           "bgcolor": "white",
           "lakecolor": "white",
           "landcolor": "#E5ECF6",
           "showlakes": true,
           "showland": true,
           "subunitcolor": "white"
          },
          "hoverlabel": {
           "align": "left"
          },
          "hovermode": "closest",
          "mapbox": {
           "style": "light"
          },
          "paper_bgcolor": "white",
          "plot_bgcolor": "#E5ECF6",
          "polar": {
           "angularaxis": {
            "gridcolor": "white",
            "linecolor": "white",
            "ticks": ""
           },
           "bgcolor": "#E5ECF6",
           "radialaxis": {
            "gridcolor": "white",
            "linecolor": "white",
            "ticks": ""
           }
          },
          "scene": {
           "xaxis": {
            "backgroundcolor": "#E5ECF6",
            "gridcolor": "white",
            "gridwidth": 2,
            "linecolor": "white",
            "showbackground": true,
            "ticks": "",
            "zerolinecolor": "white"
           },
           "yaxis": {
            "backgroundcolor": "#E5ECF6",
            "gridcolor": "white",
            "gridwidth": 2,
            "linecolor": "white",
            "showbackground": true,
            "ticks": "",
            "zerolinecolor": "white"
           },
           "zaxis": {
            "backgroundcolor": "#E5ECF6",
            "gridcolor": "white",
            "gridwidth": 2,
            "linecolor": "white",
            "showbackground": true,
            "ticks": "",
            "zerolinecolor": "white"
           }
          },
          "shapedefaults": {
           "line": {
            "color": "#2a3f5f"
           }
          },
          "ternary": {
           "aaxis": {
            "gridcolor": "white",
            "linecolor": "white",
            "ticks": ""
           },
           "baxis": {
            "gridcolor": "white",
            "linecolor": "white",
            "ticks": ""
           },
           "bgcolor": "#E5ECF6",
           "caxis": {
            "gridcolor": "white",
            "linecolor": "white",
            "ticks": ""
           }
          },
          "title": {
           "x": 0.05
          },
          "xaxis": {
           "automargin": true,
           "gridcolor": "white",
           "linecolor": "white",
           "ticks": "",
           "title": {
            "standoff": 15
           },
           "zerolinecolor": "white",
           "zerolinewidth": 2
          },
          "yaxis": {
           "automargin": true,
           "gridcolor": "white",
           "linecolor": "white",
           "ticks": "",
           "title": {
            "standoff": 15
           },
           "zerolinecolor": "white",
           "zerolinewidth": 2
          }
         }
        },
        "title": {
         "text": "Prędkość w kolejnych pomiarach"
        },
        "xaxis": {
         "title": {
          "text": "nr. pomiaru"
         }
        },
        "yaxis": {
         "title": {
          "text": "prędkość [km/h]"
         }
        }
       }
      }
     },
     "metadata": {},
     "output_type": "display_data"
    }
   ],
   "source": [
    "fig1 = ex.scatter(\n",
    "    df, \n",
    "    x='num', \n",
    "    y=['pomiar prędkości', 'prędkość po filterze alpfa'], \n",
    "    title='Wartość prędkości w kolejnych pomiarach',\n",
    "    )\n",
    "fig2 = ex.line(\n",
    "    df,\n",
    "    x='num', \n",
    "    y='prędkość rzeczywista',\n",
    ")\n",
    "fig2.update_traces(line_color='green', name='real')\n",
    "fig = go.Figure(\n",
    "    data=fig1.data + fig2.data\n",
    "    )\n",
    "fig.update_layout(\n",
    "    xaxis_title=\"nr. pomiaru\",\n",
    "    yaxis_title=\"prędkość [km/h]\",\n",
    "    title='Prędkość w kolejnych pomiarach'\n",
    ")\n",
    "fig.show()"
   ]
  },
  {
   "cell_type": "markdown",
   "id": "0de452af",
   "metadata": {},
   "source": [
    "## <b>1.2 Filtr $\\alpha - \\beta $ </b>"
   ]
  },
  {
   "cell_type": "markdown",
   "id": "8b660aa5",
   "metadata": {},
   "source": [
    "<b>Równanie stanu dla położenia </b> \\\n",
    " $\\hat x_{n,n} = \\hat{x}_{n,n−1} + \\alpha(z_{n} − \\hat x_{n,n−1})$\n",
    "\n",
    "<b>Równanie stanu dla prędkości</b>\n",
    "\n",
    "  $\\hat{\\dot x }_{n,n} = \\hat{\\dot x}_{n,n−1} + \\beta(\\frac{z_{n} − \\hat x_{n,n−1}}{\\Delta t})$\n",
    "\n",
    "\n",
    "Parametr $ \\alpha $ i $ \\beta $ odpowiadają za precycję radaru, to znaczy są to niepewności pomiarowe."
   ]
  },
  {
   "cell_type": "code",
   "execution_count": 10,
   "id": "66b4c088",
   "metadata": {},
   "outputs": [],
   "source": [
    "def alpha_beta_filter(x0, dx0, Z, N, d_t, alpha=0.2, beta=0.1):\n",
    "    \"\"\"\n",
    "    Funkcja aplikująca filtra alfa - beta\n",
    "    :param x0: początkowa wartość estymowana\n",
    "    :param dx0: pochodna początkowej wartości\n",
    "    :param Z: kolejne obserwacje/estymacje\n",
    "    :param N: liczba obserwacji\n",
    "    :param float d_t: delat t, czas co który wykonujemy pomiar\n",
    "    :param alpha: parametr odpowiadający za niepwenosć pomiarową, domyślnie 0.2\n",
    "    :param beta: parametr odpowiadający za niepwenosć pomiarową, domyślnie 0.1\n",
    "    :return x_nn: estyator następnego stanu po N krokach\n",
    "    \"\"\"\n",
    "    x_nn = [x0 + d_t * dx0]\n",
    "    dx_nn = [dx0]\n",
    "    for n in range(1, N):\n",
    "        x_new = x_nn[n-1] + alpha * (Z[n] - x_nn[n-1])\n",
    "        dx_new = dx_nn[n-1] + beta * ( (Z[n]-x_nn[n-1]) / (d_t))\n",
    "\n",
    "        x_new = x_new + dx_new * d_t\n",
    "\n",
    "        x_nn.append(x_new)\n",
    "        dx_nn.append(dx_new)\n",
    "\n",
    "    return x_nn"
   ]
  },
  {
   "cell_type": "markdown",
   "id": "da4c798e",
   "metadata": {},
   "source": [
    "### <b> Zadanie parametrów do filtru $ \\alpha - \\beta $. </b> ###\n",
    "<b> Starman </b> - to manekin kosmonauty siedzącego w samochodzie Tesla Roadster wystrzelonym na orbitę przez firmę SpaceX🚀. Jego prędkość względem ziemi podawan jest na 7.97 km/s a odległość 322,461,474 km od Ziemi (09-06-2022). Na tej podstawie wygenerujemy dane na których zastosujemy filtr $ \\alpha - \\beta $."
   ]
  },
  {
   "cell_type": "code",
   "execution_count": 11,
   "id": "d0975112",
   "metadata": {},
   "outputs": [],
   "source": [
    "v = 7.97\n",
    "delta_time = 5 # co ile wykonujemy krok\n",
    "s = [322461474] # odległość starmana od ziemi\n",
    "s_real = [322461474]\n",
    "t = [1654804370] # w czasie pisania zadania 9-6-2022 ok 22:00 GMT+2\n",
    "for n in range(1, 100):\n",
    "    s.append(s[n-1] + delta_time * 7.97 + np.random.normal(0, 1) * 7.97)\n",
    "    s_real.append(s_real[n-1] + delta_time * 7.97)\n",
    "    t.append(t[n-1] + delta_time)"
   ]
  },
  {
   "cell_type": "code",
   "execution_count": 12,
   "id": "b002c7a0",
   "metadata": {},
   "outputs": [],
   "source": [
    "X_nn_ab = alpha_beta_filter(\n",
    "    x0=s[0],\n",
    "    dx0=v,\n",
    "    Z=s,\n",
    "    N=len(s),\n",
    "    d_t=delta_time,\n",
    ")"
   ]
  },
  {
   "cell_type": "code",
   "execution_count": 13,
   "id": "ec1e6679",
   "metadata": {},
   "outputs": [
    {
     "data": {
      "text/plain": [
       "'21:52:50 06/09/22'"
      ]
     },
     "execution_count": 13,
     "metadata": {},
     "output_type": "execute_result"
    }
   ],
   "source": [
    "datetime.fromtimestamp(t[0]).strftime('%H:%M:%S %D')"
   ]
  },
  {
   "cell_type": "code",
   "execution_count": 14,
   "id": "fad20d32",
   "metadata": {},
   "outputs": [
    {
     "data": {
      "text/html": [
       "<div>\n",
       "<style scoped>\n",
       "    .dataframe tbody tr th:only-of-type {\n",
       "        vertical-align: middle;\n",
       "    }\n",
       "\n",
       "    .dataframe tbody tr th {\n",
       "        vertical-align: top;\n",
       "    }\n",
       "\n",
       "    .dataframe thead th {\n",
       "        text-align: right;\n",
       "    }\n",
       "</style>\n",
       "<table border=\"1\" class=\"dataframe\">\n",
       "  <thead>\n",
       "    <tr style=\"text-align: right;\">\n",
       "      <th></th>\n",
       "      <th>czas</th>\n",
       "      <th>odległość estymowana</th>\n",
       "      <th>odległość rzeczywista</th>\n",
       "      <th>filtrowana odległość</th>\n",
       "    </tr>\n",
       "  </thead>\n",
       "  <tbody>\n",
       "    <tr>\n",
       "      <th>0</th>\n",
       "      <td>2022-06-09 21:52:50</td>\n",
       "      <td>3.224615e+08</td>\n",
       "      <td>3.224615e+08</td>\n",
       "      <td>3.224615e+08</td>\n",
       "    </tr>\n",
       "    <tr>\n",
       "      <th>1</th>\n",
       "      <td>2022-06-09 21:52:55</td>\n",
       "      <td>3.224615e+08</td>\n",
       "      <td>3.224615e+08</td>\n",
       "      <td>3.224616e+08</td>\n",
       "    </tr>\n",
       "    <tr>\n",
       "      <th>2</th>\n",
       "      <td>2022-06-09 21:53:00</td>\n",
       "      <td>3.224615e+08</td>\n",
       "      <td>3.224616e+08</td>\n",
       "      <td>3.224616e+08</td>\n",
       "    </tr>\n",
       "    <tr>\n",
       "      <th>3</th>\n",
       "      <td>2022-06-09 21:53:05</td>\n",
       "      <td>3.224616e+08</td>\n",
       "      <td>3.224616e+08</td>\n",
       "      <td>3.224616e+08</td>\n",
       "    </tr>\n",
       "    <tr>\n",
       "      <th>4</th>\n",
       "      <td>2022-06-09 21:53:10</td>\n",
       "      <td>3.224616e+08</td>\n",
       "      <td>3.224616e+08</td>\n",
       "      <td>3.224617e+08</td>\n",
       "    </tr>\n",
       "  </tbody>\n",
       "</table>\n",
       "</div>"
      ],
      "text/plain": [
       "                 czas  odległość estymowana  odległość rzeczywista  \\\n",
       "0 2022-06-09 21:52:50          3.224615e+08           3.224615e+08   \n",
       "1 2022-06-09 21:52:55          3.224615e+08           3.224615e+08   \n",
       "2 2022-06-09 21:53:00          3.224615e+08           3.224616e+08   \n",
       "3 2022-06-09 21:53:05          3.224616e+08           3.224616e+08   \n",
       "4 2022-06-09 21:53:10          3.224616e+08           3.224616e+08   \n",
       "\n",
       "   filtrowana odległość  \n",
       "0          3.224615e+08  \n",
       "1          3.224616e+08  \n",
       "2          3.224616e+08  \n",
       "3          3.224616e+08  \n",
       "4          3.224617e+08  "
      ]
     },
     "execution_count": 14,
     "metadata": {},
     "output_type": "execute_result"
    }
   ],
   "source": [
    "df_starman = pd.DataFrame()\n",
    "df_starman['czas'] = [datetime.fromtimestamp(d).strftime('%H:%M:%S %D') for d in t]\n",
    "df_starman['odległość estymowana'] = s\n",
    "df_starman['odległość rzeczywista'] = s_real\n",
    "df_starman['filtrowana odległość'] = X_nn_ab\n",
    "\n",
    "df_starman['czas'] = pd.to_datetime(df_starman['czas'])\n",
    "df_starman.head()"
   ]
  },
  {
   "cell_type": "code",
   "execution_count": 15,
   "id": "0281b290",
   "metadata": {},
   "outputs": [
    {
     "data": {
      "application/vnd.plotly.v1+json": {
       "config": {
        "plotlyServerURL": "https://plot.ly"
       },
       "data": [
        {
         "hovertemplate": "variable=odległość estymowana<br>czas=%{x}<br>value=%{y}<extra></extra>",
         "legendgroup": "odległość estymowana",
         "marker": {
          "color": "#636efa",
          "symbol": "circle"
         },
         "mode": "markers",
         "name": "odległość estymowana",
         "orientation": "v",
         "showlegend": true,
         "type": "scatter",
         "x": [
          "2022-06-09T21:52:50",
          "2022-06-09T21:52:55",
          "2022-06-09T21:53:00",
          "2022-06-09T21:53:05",
          "2022-06-09T21:53:10",
          "2022-06-09T21:53:15",
          "2022-06-09T21:53:20",
          "2022-06-09T21:53:25",
          "2022-06-09T21:53:30",
          "2022-06-09T21:53:35",
          "2022-06-09T21:53:40",
          "2022-06-09T21:53:45",
          "2022-06-09T21:53:50",
          "2022-06-09T21:53:55",
          "2022-06-09T21:54:00",
          "2022-06-09T21:54:05",
          "2022-06-09T21:54:10",
          "2022-06-09T21:54:15",
          "2022-06-09T21:54:20",
          "2022-06-09T21:54:25",
          "2022-06-09T21:54:30",
          "2022-06-09T21:54:35",
          "2022-06-09T21:54:40",
          "2022-06-09T21:54:45",
          "2022-06-09T21:54:50",
          "2022-06-09T21:54:55",
          "2022-06-09T21:55:00",
          "2022-06-09T21:55:05",
          "2022-06-09T21:55:10",
          "2022-06-09T21:55:15",
          "2022-06-09T21:55:20",
          "2022-06-09T21:55:25",
          "2022-06-09T21:55:30",
          "2022-06-09T21:55:35",
          "2022-06-09T21:55:40",
          "2022-06-09T21:55:45",
          "2022-06-09T21:55:50",
          "2022-06-09T21:55:55",
          "2022-06-09T21:56:00",
          "2022-06-09T21:56:05",
          "2022-06-09T21:56:10",
          "2022-06-09T21:56:15",
          "2022-06-09T21:56:20",
          "2022-06-09T21:56:25",
          "2022-06-09T21:56:30",
          "2022-06-09T21:56:35",
          "2022-06-09T21:56:40",
          "2022-06-09T21:56:45",
          "2022-06-09T21:56:50",
          "2022-06-09T21:56:55",
          "2022-06-09T21:57:00",
          "2022-06-09T21:57:05",
          "2022-06-09T21:57:10",
          "2022-06-09T21:57:15",
          "2022-06-09T21:57:20",
          "2022-06-09T21:57:25",
          "2022-06-09T21:57:30",
          "2022-06-09T21:57:35",
          "2022-06-09T21:57:40",
          "2022-06-09T21:57:45",
          "2022-06-09T21:57:50",
          "2022-06-09T21:57:55",
          "2022-06-09T21:58:00",
          "2022-06-09T21:58:05",
          "2022-06-09T21:58:10",
          "2022-06-09T21:58:15",
          "2022-06-09T21:58:20",
          "2022-06-09T21:58:25",
          "2022-06-09T21:58:30",
          "2022-06-09T21:58:35",
          "2022-06-09T21:58:40",
          "2022-06-09T21:58:45",
          "2022-06-09T21:58:50",
          "2022-06-09T21:58:55",
          "2022-06-09T21:59:00",
          "2022-06-09T21:59:05",
          "2022-06-09T21:59:10",
          "2022-06-09T21:59:15",
          "2022-06-09T21:59:20",
          "2022-06-09T21:59:25",
          "2022-06-09T21:59:30",
          "2022-06-09T21:59:35",
          "2022-06-09T21:59:40",
          "2022-06-09T21:59:45",
          "2022-06-09T21:59:50",
          "2022-06-09T21:59:55",
          "2022-06-09T22:00:00",
          "2022-06-09T22:00:05",
          "2022-06-09T22:00:10",
          "2022-06-09T22:00:15",
          "2022-06-09T22:00:20",
          "2022-06-09T22:00:25",
          "2022-06-09T22:00:30",
          "2022-06-09T22:00:35",
          "2022-06-09T22:00:40",
          "2022-06-09T22:00:45",
          "2022-06-09T22:00:50",
          "2022-06-09T22:00:55",
          "2022-06-09T22:01:00",
          "2022-06-09T22:01:05"
         ],
         "xaxis": "x",
         "y": [
          322461474,
          322461506.9645016,
          322461542.70504934,
          322461584.4730502,
          322461617.79999274,
          322461659.7417513,
          322461688.34733653,
          322461730.86959434,
          322461773.2766654,
          322461809.9133259,
          322461846.51888615,
          322461887.6801396,
          322461935.2903317,
          322461960.45444274,
          322462001.11077505,
          322462043.85395646,
          322462097.94076055,
          322462129.14551485,
          322462160.80445653,
          322462195.97479236,
          322462232.99106187,
          322462268.6005782,
          322462312.14091015,
          322462355.03575915,
          322462403.21893984,
          322462432.95295364,
          322462469.1742432,
          322462507.25841945,
          322462547.07058257,
          322462592.0246786,
          322462619.1101081,
          322462657.9387837,
          322462703.24606013,
          322462730.4634812,
          322462765.0023141,
          322462811.151522,
          322462849.7888231,
          322462895.0444304,
          322462918.4613101,
          322462955.6682304,
          322462992.1327992,
          322463039.771334,
          322463084.1863725,
          322463131.05997634,
          322463160.4125935,
          322463201.49090874,
          322463232.7707892,
          322463274.88052213,
          322463305.4110357,
          322463342.0592655,
          322463377.5184276,
          322463415.8336342,
          322463454.87970537,
          322463493.12735134,
          322463529.3577845,
          322463566.2107064,
          322463613.1143331,
          322463656.54804295,
          322463691.00323504,
          322463726.06052333,
          322463774.146442,
          322463801.77610815,
          322463858.55687577,
          322463892.78774273,
          322463938.13330555,
          322463987.195493,
          322464027.64437276,
          322464068.08119845,
          322464104.85211694,
          322464147.4053832,
          322464190.3552152,
          322464224.6967731,
          322464267.7762424,
          322464297.59549075,
          322464331.24188584,
          322464382.6930847,
          322464428.50488037,
          322464479.64685977,
          322464526.0126764,
          322464560.8091263,
          322464612.29030955,
          322464645.69050986,
          322464693.51680493,
          322464736.51409084,
          322464789.54754585,
          322464826.1837847,
          322464865.9888907,
          322464910.0039354,
          322464955.3638386,
          322464997.59498274,
          322465036.5990763,
          322465067.37483746,
          322465102.95031226,
          322465131.4629402,
          322465188.2830181,
          322465228.33199537,
          322465270.9199898,
          322465315.5372642,
          322465339.6085056,
          322465372.71122205
         ],
         "yaxis": "y"
        },
        {
         "hovertemplate": "variable=filtrowana odległość<br>czas=%{x}<br>value=%{y}<extra></extra>",
         "legendgroup": "filtrowana odległość",
         "marker": {
          "color": "#EF553B",
          "symbol": "circle"
         },
         "mode": "markers",
         "name": "filtrowana odległość",
         "orientation": "v",
         "showlegend": true,
         "type": "scatter",
         "x": [
          "2022-06-09T21:52:50",
          "2022-06-09T21:52:55",
          "2022-06-09T21:53:00",
          "2022-06-09T21:53:05",
          "2022-06-09T21:53:10",
          "2022-06-09T21:53:15",
          "2022-06-09T21:53:20",
          "2022-06-09T21:53:25",
          "2022-06-09T21:53:30",
          "2022-06-09T21:53:35",
          "2022-06-09T21:53:40",
          "2022-06-09T21:53:45",
          "2022-06-09T21:53:50",
          "2022-06-09T21:53:55",
          "2022-06-09T21:54:00",
          "2022-06-09T21:54:05",
          "2022-06-09T21:54:10",
          "2022-06-09T21:54:15",
          "2022-06-09T21:54:20",
          "2022-06-09T21:54:25",
          "2022-06-09T21:54:30",
          "2022-06-09T21:54:35",
          "2022-06-09T21:54:40",
          "2022-06-09T21:54:45",
          "2022-06-09T21:54:50",
          "2022-06-09T21:54:55",
          "2022-06-09T21:55:00",
          "2022-06-09T21:55:05",
          "2022-06-09T21:55:10",
          "2022-06-09T21:55:15",
          "2022-06-09T21:55:20",
          "2022-06-09T21:55:25",
          "2022-06-09T21:55:30",
          "2022-06-09T21:55:35",
          "2022-06-09T21:55:40",
          "2022-06-09T21:55:45",
          "2022-06-09T21:55:50",
          "2022-06-09T21:55:55",
          "2022-06-09T21:56:00",
          "2022-06-09T21:56:05",
          "2022-06-09T21:56:10",
          "2022-06-09T21:56:15",
          "2022-06-09T21:56:20",
          "2022-06-09T21:56:25",
          "2022-06-09T21:56:30",
          "2022-06-09T21:56:35",
          "2022-06-09T21:56:40",
          "2022-06-09T21:56:45",
          "2022-06-09T21:56:50",
          "2022-06-09T21:56:55",
          "2022-06-09T21:57:00",
          "2022-06-09T21:57:05",
          "2022-06-09T21:57:10",
          "2022-06-09T21:57:15",
          "2022-06-09T21:57:20",
          "2022-06-09T21:57:25",
          "2022-06-09T21:57:30",
          "2022-06-09T21:57:35",
          "2022-06-09T21:57:40",
          "2022-06-09T21:57:45",
          "2022-06-09T21:57:50",
          "2022-06-09T21:57:55",
          "2022-06-09T21:58:00",
          "2022-06-09T21:58:05",
          "2022-06-09T21:58:10",
          "2022-06-09T21:58:15",
          "2022-06-09T21:58:20",
          "2022-06-09T21:58:25",
          "2022-06-09T21:58:30",
          "2022-06-09T21:58:35",
          "2022-06-09T21:58:40",
          "2022-06-09T21:58:45",
          "2022-06-09T21:58:50",
          "2022-06-09T21:58:55",
          "2022-06-09T21:59:00",
          "2022-06-09T21:59:05",
          "2022-06-09T21:59:10",
          "2022-06-09T21:59:15",
          "2022-06-09T21:59:20",
          "2022-06-09T21:59:25",
          "2022-06-09T21:59:30",
          "2022-06-09T21:59:35",
          "2022-06-09T21:59:40",
          "2022-06-09T21:59:45",
          "2022-06-09T21:59:50",
          "2022-06-09T21:59:55",
          "2022-06-09T22:00:00",
          "2022-06-09T22:00:05",
          "2022-06-09T22:00:10",
          "2022-06-09T22:00:15",
          "2022-06-09T22:00:20",
          "2022-06-09T22:00:25",
          "2022-06-09T22:00:30",
          "2022-06-09T22:00:35",
          "2022-06-09T22:00:40",
          "2022-06-09T22:00:45",
          "2022-06-09T22:00:50",
          "2022-06-09T22:00:55",
          "2022-06-09T22:01:00",
          "2022-06-09T22:01:05"
         ],
         "xaxis": "x",
         "y": [
          322461513.85,
          322461551.6343505,
          322461588.1170103,
          322461625.2923423,
          322461660.94876146,
          322461697.74154747,
          322461731.95747226,
          322461767.72587585,
          322461805.3770919,
          322461843.27902025,
          322461881.24566156,
          322461920.49467313,
          322461962.89548665,
          322462001.6048553,
          322462040.65420866,
          322462080.7623024,
          322462125.383984,
          322462167.6984332,
          322462207.1923833,
          322462244.6998514,
          322462280.93820083,
          322462315.81702137,
          322462352.0605331,
          322462389.9318349,
          322462431.1942229,
          322462470.32680917,
          322462508.76187944,
          322462546.97642493,
          322462585.51990974,
          322462625.9959937,
          322462663.1053582,
          322462700.04192746,
          322462738.9730514,
          322462774.71047777,
          322462809.23736906,
          322462846.28013897,
          322462883.99268353,
          322462924.3190153,
          322462960.6776862,
          322462996.70506144,
          322463032.3626491,
          322463071.15729463,
          322463112.3789266,
          322463156.59905785,
          322463198.2270399,
          322463240.0714755,
          322463279.0729314,
          322463318.2768018,
          322463354.45942426,
          322463389.4951523,
          322463423.41789466,
          322463457.46070385,
          322463492.24606556,
          322463527.8120127,
          322463563.66543424,
          322463599.97328305,
          322463639.7143924,
          322463681.8773869,
          322463723.4114058,
          322463763.9149903,
          322463806.9581868,
          322463846.40046936,
          322463890.52608955,
          322463932.89892447,
          322463976.38974303,
          322464022.07541037,
          322464067.2706165,
          322464111.5952047,
          322464153.7347502,
          322464195.3241032,
          322464236.6886631,
          322464275.4494336,
          322464314.3066248,
          322464349.685114,
          322464382.87286156,
          322464419.6953217,
          322464459.1966048,
          322464503.0710527,
          322464549.7379366,
          322464595.1378527,
          322464643.469268,
          322464689.03656447,
          322464735.50368464,
          322464781.37787867,
          322464829.50089157,
          322464874.99483895,
          322464918.45042324,
          322464961.17325085,
          322465003.8425523,
          322465045.79946536,
          322465086.24577564,
          322465122.8708823,
          322465157.2940055,
          322465187.9519232,
          322465223.87538236,
          322465261.0696065,
          322465300.327623,
          322465342.17845523,
          322465380.21637434,
          322465416.5167377
         ],
         "yaxis": "y"
        },
        {
         "hovertemplate": "czas=%{x}<br>odległość rzeczywista=%{y}<extra></extra>",
         "legendgroup": "",
         "line": {
          "color": "green",
          "dash": "solid"
         },
         "marker": {
          "symbol": "circle"
         },
         "mode": "lines",
         "name": "real",
         "orientation": "v",
         "showlegend": false,
         "type": "scatter",
         "x": [
          "2022-06-09T21:52:50",
          "2022-06-09T21:52:55",
          "2022-06-09T21:53:00",
          "2022-06-09T21:53:05",
          "2022-06-09T21:53:10",
          "2022-06-09T21:53:15",
          "2022-06-09T21:53:20",
          "2022-06-09T21:53:25",
          "2022-06-09T21:53:30",
          "2022-06-09T21:53:35",
          "2022-06-09T21:53:40",
          "2022-06-09T21:53:45",
          "2022-06-09T21:53:50",
          "2022-06-09T21:53:55",
          "2022-06-09T21:54:00",
          "2022-06-09T21:54:05",
          "2022-06-09T21:54:10",
          "2022-06-09T21:54:15",
          "2022-06-09T21:54:20",
          "2022-06-09T21:54:25",
          "2022-06-09T21:54:30",
          "2022-06-09T21:54:35",
          "2022-06-09T21:54:40",
          "2022-06-09T21:54:45",
          "2022-06-09T21:54:50",
          "2022-06-09T21:54:55",
          "2022-06-09T21:55:00",
          "2022-06-09T21:55:05",
          "2022-06-09T21:55:10",
          "2022-06-09T21:55:15",
          "2022-06-09T21:55:20",
          "2022-06-09T21:55:25",
          "2022-06-09T21:55:30",
          "2022-06-09T21:55:35",
          "2022-06-09T21:55:40",
          "2022-06-09T21:55:45",
          "2022-06-09T21:55:50",
          "2022-06-09T21:55:55",
          "2022-06-09T21:56:00",
          "2022-06-09T21:56:05",
          "2022-06-09T21:56:10",
          "2022-06-09T21:56:15",
          "2022-06-09T21:56:20",
          "2022-06-09T21:56:25",
          "2022-06-09T21:56:30",
          "2022-06-09T21:56:35",
          "2022-06-09T21:56:40",
          "2022-06-09T21:56:45",
          "2022-06-09T21:56:50",
          "2022-06-09T21:56:55",
          "2022-06-09T21:57:00",
          "2022-06-09T21:57:05",
          "2022-06-09T21:57:10",
          "2022-06-09T21:57:15",
          "2022-06-09T21:57:20",
          "2022-06-09T21:57:25",
          "2022-06-09T21:57:30",
          "2022-06-09T21:57:35",
          "2022-06-09T21:57:40",
          "2022-06-09T21:57:45",
          "2022-06-09T21:57:50",
          "2022-06-09T21:57:55",
          "2022-06-09T21:58:00",
          "2022-06-09T21:58:05",
          "2022-06-09T21:58:10",
          "2022-06-09T21:58:15",
          "2022-06-09T21:58:20",
          "2022-06-09T21:58:25",
          "2022-06-09T21:58:30",
          "2022-06-09T21:58:35",
          "2022-06-09T21:58:40",
          "2022-06-09T21:58:45",
          "2022-06-09T21:58:50",
          "2022-06-09T21:58:55",
          "2022-06-09T21:59:00",
          "2022-06-09T21:59:05",
          "2022-06-09T21:59:10",
          "2022-06-09T21:59:15",
          "2022-06-09T21:59:20",
          "2022-06-09T21:59:25",
          "2022-06-09T21:59:30",
          "2022-06-09T21:59:35",
          "2022-06-09T21:59:40",
          "2022-06-09T21:59:45",
          "2022-06-09T21:59:50",
          "2022-06-09T21:59:55",
          "2022-06-09T22:00:00",
          "2022-06-09T22:00:05",
          "2022-06-09T22:00:10",
          "2022-06-09T22:00:15",
          "2022-06-09T22:00:20",
          "2022-06-09T22:00:25",
          "2022-06-09T22:00:30",
          "2022-06-09T22:00:35",
          "2022-06-09T22:00:40",
          "2022-06-09T22:00:45",
          "2022-06-09T22:00:50",
          "2022-06-09T22:00:55",
          "2022-06-09T22:01:00",
          "2022-06-09T22:01:05"
         ],
         "xaxis": "x",
         "y": [
          322461474,
          322461513.85,
          322461553.70000005,
          322461593.5500001,
          322461633.4000001,
          322461673.2500001,
          322461713.10000014,
          322461752.95000017,
          322461792.8000002,
          322461832.6500002,
          322461872.50000024,
          322461912.35000026,
          322461952.2000003,
          322461992.0500003,
          322462031.90000033,
          322462071.75000036,
          322462111.6000004,
          322462151.4500004,
          322462191.3000004,
          322462231.15000045,
          322462271.0000005,
          322462310.8500005,
          322462350.7000005,
          322462390.55000055,
          322462430.4000006,
          322462470.2500006,
          322462510.1000006,
          322462549.95000064,
          322462589.80000067,
          322462629.6500007,
          322462669.5000007,
          322462709.35000074,
          322462749.20000076,
          322462789.0500008,
          322462828.9000008,
          322462868.75000083,
          322462908.60000086,
          322462948.4500009,
          322462988.3000009,
          322463028.15000093,
          322463068.00000095,
          322463107.850001,
          322463147.700001,
          322463187.550001,
          322463227.40000105,
          322463267.2500011,
          322463307.1000011,
          322463346.9500011,
          322463386.80000114,
          322463426.65000117,
          322463466.5000012,
          322463506.3500012,
          322463546.20000124,
          322463586.05000126,
          322463625.9000013,
          322463665.7500013,
          322463705.60000134,
          322463745.45000136,
          322463785.3000014,
          322463825.1500014,
          322463865.00000143,
          322463904.85000145,
          322463944.7000015,
          322463984.5500015,
          322464024.4000015,
          322464064.25000155,
          322464104.1000016,
          322464143.9500016,
          322464183.8000016,
          322464223.65000165,
          322464263.50000167,
          322464303.3500017,
          322464343.2000017,
          322464383.05000174,
          322464422.90000176,
          322464462.7500018,
          322464502.6000018,
          322464542.45000184,
          322464582.30000186,
          322464622.1500019,
          322464662.0000019,
          322464701.85000193,
          322464741.70000196,
          322464781.550002,
          322464821.400002,
          322464861.250002,
          322464901.10000205,
          322464940.9500021,
          322464980.8000021,
          322465020.6500021,
          322465060.50000215,
          322465100.35000217,
          322465140.2000022,
          322465180.0500022,
          322465219.90000224,
          322465259.75000226,
          322465299.6000023,
          322465339.4500023,
          322465379.30000234,
          322465419.15000236
         ],
         "yaxis": "y"
        }
       ],
       "layout": {
        "template": {
         "data": {
          "bar": [
           {
            "error_x": {
             "color": "#2a3f5f"
            },
            "error_y": {
             "color": "#2a3f5f"
            },
            "marker": {
             "line": {
              "color": "#E5ECF6",
              "width": 0.5
             },
             "pattern": {
              "fillmode": "overlay",
              "size": 10,
              "solidity": 0.2
             }
            },
            "type": "bar"
           }
          ],
          "barpolar": [
           {
            "marker": {
             "line": {
              "color": "#E5ECF6",
              "width": 0.5
             },
             "pattern": {
              "fillmode": "overlay",
              "size": 10,
              "solidity": 0.2
             }
            },
            "type": "barpolar"
           }
          ],
          "carpet": [
           {
            "aaxis": {
             "endlinecolor": "#2a3f5f",
             "gridcolor": "white",
             "linecolor": "white",
             "minorgridcolor": "white",
             "startlinecolor": "#2a3f5f"
            },
            "baxis": {
             "endlinecolor": "#2a3f5f",
             "gridcolor": "white",
             "linecolor": "white",
             "minorgridcolor": "white",
             "startlinecolor": "#2a3f5f"
            },
            "type": "carpet"
           }
          ],
          "choropleth": [
           {
            "colorbar": {
             "outlinewidth": 0,
             "ticks": ""
            },
            "type": "choropleth"
           }
          ],
          "contour": [
           {
            "colorbar": {
             "outlinewidth": 0,
             "ticks": ""
            },
            "colorscale": [
             [
              0,
              "#0d0887"
             ],
             [
              0.1111111111111111,
              "#46039f"
             ],
             [
              0.2222222222222222,
              "#7201a8"
             ],
             [
              0.3333333333333333,
              "#9c179e"
             ],
             [
              0.4444444444444444,
              "#bd3786"
             ],
             [
              0.5555555555555556,
              "#d8576b"
             ],
             [
              0.6666666666666666,
              "#ed7953"
             ],
             [
              0.7777777777777778,
              "#fb9f3a"
             ],
             [
              0.8888888888888888,
              "#fdca26"
             ],
             [
              1,
              "#f0f921"
             ]
            ],
            "type": "contour"
           }
          ],
          "contourcarpet": [
           {
            "colorbar": {
             "outlinewidth": 0,
             "ticks": ""
            },
            "type": "contourcarpet"
           }
          ],
          "heatmap": [
           {
            "colorbar": {
             "outlinewidth": 0,
             "ticks": ""
            },
            "colorscale": [
             [
              0,
              "#0d0887"
             ],
             [
              0.1111111111111111,
              "#46039f"
             ],
             [
              0.2222222222222222,
              "#7201a8"
             ],
             [
              0.3333333333333333,
              "#9c179e"
             ],
             [
              0.4444444444444444,
              "#bd3786"
             ],
             [
              0.5555555555555556,
              "#d8576b"
             ],
             [
              0.6666666666666666,
              "#ed7953"
             ],
             [
              0.7777777777777778,
              "#fb9f3a"
             ],
             [
              0.8888888888888888,
              "#fdca26"
             ],
             [
              1,
              "#f0f921"
             ]
            ],
            "type": "heatmap"
           }
          ],
          "heatmapgl": [
           {
            "colorbar": {
             "outlinewidth": 0,
             "ticks": ""
            },
            "colorscale": [
             [
              0,
              "#0d0887"
             ],
             [
              0.1111111111111111,
              "#46039f"
             ],
             [
              0.2222222222222222,
              "#7201a8"
             ],
             [
              0.3333333333333333,
              "#9c179e"
             ],
             [
              0.4444444444444444,
              "#bd3786"
             ],
             [
              0.5555555555555556,
              "#d8576b"
             ],
             [
              0.6666666666666666,
              "#ed7953"
             ],
             [
              0.7777777777777778,
              "#fb9f3a"
             ],
             [
              0.8888888888888888,
              "#fdca26"
             ],
             [
              1,
              "#f0f921"
             ]
            ],
            "type": "heatmapgl"
           }
          ],
          "histogram": [
           {
            "marker": {
             "pattern": {
              "fillmode": "overlay",
              "size": 10,
              "solidity": 0.2
             }
            },
            "type": "histogram"
           }
          ],
          "histogram2d": [
           {
            "colorbar": {
             "outlinewidth": 0,
             "ticks": ""
            },
            "colorscale": [
             [
              0,
              "#0d0887"
             ],
             [
              0.1111111111111111,
              "#46039f"
             ],
             [
              0.2222222222222222,
              "#7201a8"
             ],
             [
              0.3333333333333333,
              "#9c179e"
             ],
             [
              0.4444444444444444,
              "#bd3786"
             ],
             [
              0.5555555555555556,
              "#d8576b"
             ],
             [
              0.6666666666666666,
              "#ed7953"
             ],
             [
              0.7777777777777778,
              "#fb9f3a"
             ],
             [
              0.8888888888888888,
              "#fdca26"
             ],
             [
              1,
              "#f0f921"
             ]
            ],
            "type": "histogram2d"
           }
          ],
          "histogram2dcontour": [
           {
            "colorbar": {
             "outlinewidth": 0,
             "ticks": ""
            },
            "colorscale": [
             [
              0,
              "#0d0887"
             ],
             [
              0.1111111111111111,
              "#46039f"
             ],
             [
              0.2222222222222222,
              "#7201a8"
             ],
             [
              0.3333333333333333,
              "#9c179e"
             ],
             [
              0.4444444444444444,
              "#bd3786"
             ],
             [
              0.5555555555555556,
              "#d8576b"
             ],
             [
              0.6666666666666666,
              "#ed7953"
             ],
             [
              0.7777777777777778,
              "#fb9f3a"
             ],
             [
              0.8888888888888888,
              "#fdca26"
             ],
             [
              1,
              "#f0f921"
             ]
            ],
            "type": "histogram2dcontour"
           }
          ],
          "mesh3d": [
           {
            "colorbar": {
             "outlinewidth": 0,
             "ticks": ""
            },
            "type": "mesh3d"
           }
          ],
          "parcoords": [
           {
            "line": {
             "colorbar": {
              "outlinewidth": 0,
              "ticks": ""
             }
            },
            "type": "parcoords"
           }
          ],
          "pie": [
           {
            "automargin": true,
            "type": "pie"
           }
          ],
          "scatter": [
           {
            "fillpattern": {
             "fillmode": "overlay",
             "size": 10,
             "solidity": 0.2
            },
            "type": "scatter"
           }
          ],
          "scatter3d": [
           {
            "line": {
             "colorbar": {
              "outlinewidth": 0,
              "ticks": ""
             }
            },
            "marker": {
             "colorbar": {
              "outlinewidth": 0,
              "ticks": ""
             }
            },
            "type": "scatter3d"
           }
          ],
          "scattercarpet": [
           {
            "marker": {
             "colorbar": {
              "outlinewidth": 0,
              "ticks": ""
             }
            },
            "type": "scattercarpet"
           }
          ],
          "scattergeo": [
           {
            "marker": {
             "colorbar": {
              "outlinewidth": 0,
              "ticks": ""
             }
            },
            "type": "scattergeo"
           }
          ],
          "scattergl": [
           {
            "marker": {
             "colorbar": {
              "outlinewidth": 0,
              "ticks": ""
             }
            },
            "type": "scattergl"
           }
          ],
          "scattermapbox": [
           {
            "marker": {
             "colorbar": {
              "outlinewidth": 0,
              "ticks": ""
             }
            },
            "type": "scattermapbox"
           }
          ],
          "scatterpolar": [
           {
            "marker": {
             "colorbar": {
              "outlinewidth": 0,
              "ticks": ""
             }
            },
            "type": "scatterpolar"
           }
          ],
          "scatterpolargl": [
           {
            "marker": {
             "colorbar": {
              "outlinewidth": 0,
              "ticks": ""
             }
            },
            "type": "scatterpolargl"
           }
          ],
          "scatterternary": [
           {
            "marker": {
             "colorbar": {
              "outlinewidth": 0,
              "ticks": ""
             }
            },
            "type": "scatterternary"
           }
          ],
          "surface": [
           {
            "colorbar": {
             "outlinewidth": 0,
             "ticks": ""
            },
            "colorscale": [
             [
              0,
              "#0d0887"
             ],
             [
              0.1111111111111111,
              "#46039f"
             ],
             [
              0.2222222222222222,
              "#7201a8"
             ],
             [
              0.3333333333333333,
              "#9c179e"
             ],
             [
              0.4444444444444444,
              "#bd3786"
             ],
             [
              0.5555555555555556,
              "#d8576b"
             ],
             [
              0.6666666666666666,
              "#ed7953"
             ],
             [
              0.7777777777777778,
              "#fb9f3a"
             ],
             [
              0.8888888888888888,
              "#fdca26"
             ],
             [
              1,
              "#f0f921"
             ]
            ],
            "type": "surface"
           }
          ],
          "table": [
           {
            "cells": {
             "fill": {
              "color": "#EBF0F8"
             },
             "line": {
              "color": "white"
             }
            },
            "header": {
             "fill": {
              "color": "#C8D4E3"
             },
             "line": {
              "color": "white"
             }
            },
            "type": "table"
           }
          ]
         },
         "layout": {
          "annotationdefaults": {
           "arrowcolor": "#2a3f5f",
           "arrowhead": 0,
           "arrowwidth": 1
          },
          "autotypenumbers": "strict",
          "coloraxis": {
           "colorbar": {
            "outlinewidth": 0,
            "ticks": ""
           }
          },
          "colorscale": {
           "diverging": [
            [
             0,
             "#8e0152"
            ],
            [
             0.1,
             "#c51b7d"
            ],
            [
             0.2,
             "#de77ae"
            ],
            [
             0.3,
             "#f1b6da"
            ],
            [
             0.4,
             "#fde0ef"
            ],
            [
             0.5,
             "#f7f7f7"
            ],
            [
             0.6,
             "#e6f5d0"
            ],
            [
             0.7,
             "#b8e186"
            ],
            [
             0.8,
             "#7fbc41"
            ],
            [
             0.9,
             "#4d9221"
            ],
            [
             1,
             "#276419"
            ]
           ],
           "sequential": [
            [
             0,
             "#0d0887"
            ],
            [
             0.1111111111111111,
             "#46039f"
            ],
            [
             0.2222222222222222,
             "#7201a8"
            ],
            [
             0.3333333333333333,
             "#9c179e"
            ],
            [
             0.4444444444444444,
             "#bd3786"
            ],
            [
             0.5555555555555556,
             "#d8576b"
            ],
            [
             0.6666666666666666,
             "#ed7953"
            ],
            [
             0.7777777777777778,
             "#fb9f3a"
            ],
            [
             0.8888888888888888,
             "#fdca26"
            ],
            [
             1,
             "#f0f921"
            ]
           ],
           "sequentialminus": [
            [
             0,
             "#0d0887"
            ],
            [
             0.1111111111111111,
             "#46039f"
            ],
            [
             0.2222222222222222,
             "#7201a8"
            ],
            [
             0.3333333333333333,
             "#9c179e"
            ],
            [
             0.4444444444444444,
             "#bd3786"
            ],
            [
             0.5555555555555556,
             "#d8576b"
            ],
            [
             0.6666666666666666,
             "#ed7953"
            ],
            [
             0.7777777777777778,
             "#fb9f3a"
            ],
            [
             0.8888888888888888,
             "#fdca26"
            ],
            [
             1,
             "#f0f921"
            ]
           ]
          },
          "colorway": [
           "#636efa",
           "#EF553B",
           "#00cc96",
           "#ab63fa",
           "#FFA15A",
           "#19d3f3",
           "#FF6692",
           "#B6E880",
           "#FF97FF",
           "#FECB52"
          ],
          "font": {
           "color": "#2a3f5f"
          },
          "geo": {
           "bgcolor": "white",
           "lakecolor": "white",
           "landcolor": "#E5ECF6",
           "showlakes": true,
           "showland": true,
           "subunitcolor": "white"
          },
          "hoverlabel": {
           "align": "left"
          },
          "hovermode": "closest",
          "mapbox": {
           "style": "light"
          },
          "paper_bgcolor": "white",
          "plot_bgcolor": "#E5ECF6",
          "polar": {
           "angularaxis": {
            "gridcolor": "white",
            "linecolor": "white",
            "ticks": ""
           },
           "bgcolor": "#E5ECF6",
           "radialaxis": {
            "gridcolor": "white",
            "linecolor": "white",
            "ticks": ""
           }
          },
          "scene": {
           "xaxis": {
            "backgroundcolor": "#E5ECF6",
            "gridcolor": "white",
            "gridwidth": 2,
            "linecolor": "white",
            "showbackground": true,
            "ticks": "",
            "zerolinecolor": "white"
           },
           "yaxis": {
            "backgroundcolor": "#E5ECF6",
            "gridcolor": "white",
            "gridwidth": 2,
            "linecolor": "white",
            "showbackground": true,
            "ticks": "",
            "zerolinecolor": "white"
           },
           "zaxis": {
            "backgroundcolor": "#E5ECF6",
            "gridcolor": "white",
            "gridwidth": 2,
            "linecolor": "white",
            "showbackground": true,
            "ticks": "",
            "zerolinecolor": "white"
           }
          },
          "shapedefaults": {
           "line": {
            "color": "#2a3f5f"
           }
          },
          "ternary": {
           "aaxis": {
            "gridcolor": "white",
            "linecolor": "white",
            "ticks": ""
           },
           "baxis": {
            "gridcolor": "white",
            "linecolor": "white",
            "ticks": ""
           },
           "bgcolor": "#E5ECF6",
           "caxis": {
            "gridcolor": "white",
            "linecolor": "white",
            "ticks": ""
           }
          },
          "title": {
           "x": 0.05
          },
          "xaxis": {
           "automargin": true,
           "gridcolor": "white",
           "linecolor": "white",
           "ticks": "",
           "title": {
            "standoff": 15
           },
           "zerolinecolor": "white",
           "zerolinewidth": 2
          },
          "yaxis": {
           "automargin": true,
           "gridcolor": "white",
           "linecolor": "white",
           "ticks": "",
           "title": {
            "standoff": 15
           },
           "zerolinecolor": "white",
           "zerolinewidth": 2
          }
         }
        },
        "title": {
         "text": "Odległość <b>Starmana🚀</b> od Ziemi🌍"
        },
        "xaxis": {
         "title": {
          "text": "czas"
         }
        },
        "yaxis": {
         "title": {
          "text": "odległość [km]"
         }
        }
       }
      }
     },
     "metadata": {},
     "output_type": "display_data"
    }
   ],
   "source": [
    "fig1 = ex.scatter(\n",
    "    df_starman, \n",
    "    x='czas', \n",
    "    y=['odległość estymowana',\t'filtrowana odległość'], \n",
    "    title='Wartość prędkości w kolejnych pomiarach',\n",
    "    )\n",
    "fig2 = ex.line(\n",
    "    df_starman,\n",
    "    x='czas', \n",
    "    y='odległość rzeczywista',\n",
    ")\n",
    "\n",
    "fig2.update_traces(line_color='green', name='real')\n",
    "fig = go.Figure(\n",
    "    data=fig1.data + fig2.data\n",
    "    )\n",
    "fig.update_layout(\n",
    "    xaxis_title=\"czas\",\n",
    "    yaxis_title=\"odległość [km]\",\n",
    "    title='Odległość <b>Starmana🚀</b> od Ziemi🌍'\n",
    ")\n",
    "fig.show()"
   ]
  },
  {
   "cell_type": "markdown",
   "id": "bf04400d",
   "metadata": {},
   "source": [
    "## <b> 1.3 Filtr $\\alpha - \\beta - \\gamma $ </b>"
   ]
  },
  {
   "cell_type": "markdown",
   "id": "e26c8d49",
   "metadata": {},
   "source": [
    "W przypadku filtru $\\alpha - \\beta - \\gamma $ będziemy uwzględniać stałą wartość przyspieszenia. \\\n",
    "<b> Filtr opisujemy 3 równaniami stanu: </b> \n",
    "\n",
    "  $\\hat x_{n,n} = \\hat{x}_{n,n-1} + \\alpha(z_{n} − \\hat x_{n,n−1})$\n",
    "\n",
    "\n",
    "  $\\hat{\\dot x }_{n,n} = \\hat{\\dot x}_{n,n−1} + \\beta(\\frac{z_{n} − \\hat x_{n,n−1}}{\\Delta t})$\n",
    "\n",
    "\n",
    "  $\\hat{ \\ddot {x}}_{n,n}=\\hat{ \\ddot {x}}_{n,n} + \\gamma(\\frac{z_n-\\hat x_{n,n-1}}{0.5 \\Delta t^2})$\n",
    "\n",
    "\n",
    "Parametr $ \\alpha $ i $ \\beta $ odpowiadają za precycję radaru, to znaczy są to niepewności pomiarowe."
   ]
  },
  {
   "cell_type": "code",
   "execution_count": 16,
   "id": "5a042257",
   "metadata": {},
   "outputs": [],
   "source": [
    "def alpha_beta_gamma_filter(x0, dx0, Z, N, d_t, alpha=0.5, beta=0.4, gamma=0.1):\n",
    "    \"\"\"\n",
    "    Funkcja aplikująca filtra alfa - beta\n",
    "    :param x0: początkowa wartość estymowana\n",
    "    :param dx0: pochodna początkowej wartości\n",
    "    :param Z: kolejne obserwacje/estymacje\n",
    "    :param N: liczba obserwacji\n",
    "    :param float d_t: delat t, czas co który wykonujemy pomiar\n",
    "    :param alpha: parametr odpowiadający za niepwenosć pomiarową, domyślnie 0.2\n",
    "    :param beta: parametr odpowiadający za niepwenosć pomiarową, domyślnie 0.1\n",
    "    :param gamma: parametr gamma \n",
    "    :return x_nn: estyator następnego stanu po N krokach\n",
    "    :return dx_nn: estymator staun dla prędkości w następnych krokach\n",
    "    \"\"\"\n",
    "    x_nn = [x0 + d_t * dx0]\n",
    "    dx_nn = [dx0]\n",
    "    ddx_nn = [0]\n",
    "    for n in range(1, N):\n",
    "        x_new = x_nn[n-1] + alpha * (Z[n] - x_nn[n-1])\n",
    "        dx_new = dx_nn[n-1] + beta * ( (Z[n]-x_nn[n-1]) / (d_t))\n",
    "        ddx_new = ddx_nn[n-1] + gamma * ( (Z[n] - x_nn[n-1]) / (0.5 * d_t ** 2))\n",
    "\n",
    "        x_nn.append(x_new + dx_new * d_t + ddx_new * (d_t ** 2 / 2))\n",
    "        dx_nn.append(dx_new + ddx_new * d_t)\n",
    "        ddx_nn.append(ddx_new)\n",
    "    \n",
    "    return x_nn"
   ]
  },
  {
   "cell_type": "code",
   "execution_count": 17,
   "id": "a887d5c8",
   "metadata": {},
   "outputs": [],
   "source": [
    "T = np.arange(0, 300, 5)\n",
    "\n",
    "v_0 = 0\n",
    "a = 15 # m/s^2\n",
    "s_real = [0 + 0.5 * a * t ** 2 for t in T]\n",
    "s_est = [s + np.random.normal(0, 1) * 0.5 * a * 5 ** 2 for s in s_real]\n",
    "s_est[0] = abs(s_est[0])\n",
    "v = a * T"
   ]
  },
  {
   "cell_type": "code",
   "execution_count": 18,
   "id": "7574354f",
   "metadata": {},
   "outputs": [],
   "source": [
    "s_abg = alpha_beta_gamma_filter(\n",
    "    x0=s_est[0],\n",
    "    dx0=v[0],\n",
    "    Z=s_est,\n",
    "    N=len(s_est),\n",
    "    d_t=delta_time,   \n",
    ")\n",
    "\n",
    "s_ab = alpha_beta_filter(\n",
    "    x0=s_est[0],\n",
    "    dx0=v[0],\n",
    "    Z=s_est,\n",
    "    N=len(s_est),\n",
    "    d_t=delta_time,   \n",
    ")\n",
    "\n",
    "s_a = alpha_filter(\n",
    "    x0=s_est[0],\n",
    "    Z=s_est,\n",
    "    N=len(s_est)\n",
    "    )"
   ]
  },
  {
   "cell_type": "code",
   "execution_count": 19,
   "id": "3920a105",
   "metadata": {},
   "outputs": [
    {
     "data": {
      "text/html": [
       "<div>\n",
       "<style scoped>\n",
       "    .dataframe tbody tr th:only-of-type {\n",
       "        vertical-align: middle;\n",
       "    }\n",
       "\n",
       "    .dataframe tbody tr th {\n",
       "        vertical-align: top;\n",
       "    }\n",
       "\n",
       "    .dataframe thead th {\n",
       "        text-align: right;\n",
       "    }\n",
       "</style>\n",
       "<table border=\"1\" class=\"dataframe\">\n",
       "  <thead>\n",
       "    <tr style=\"text-align: right;\">\n",
       "      <th></th>\n",
       "      <th>czas</th>\n",
       "      <th>odległość rzeczywista</th>\n",
       "      <th>odległość estymowana</th>\n",
       "      <th>filtr alfa</th>\n",
       "      <th>filtr alfa-beta</th>\n",
       "      <th>filtr alfa-beta-gama</th>\n",
       "    </tr>\n",
       "  </thead>\n",
       "  <tbody>\n",
       "    <tr>\n",
       "      <th>0</th>\n",
       "      <td>0</td>\n",
       "      <td>0.0</td>\n",
       "      <td>23.246102</td>\n",
       "      <td>23.246102</td>\n",
       "      <td>23.246102</td>\n",
       "      <td>23.246102</td>\n",
       "    </tr>\n",
       "    <tr>\n",
       "      <th>1</th>\n",
       "      <td>5</td>\n",
       "      <td>187.5</td>\n",
       "      <td>-103.591391</td>\n",
       "      <td>-103.591391</td>\n",
       "      <td>-14.805146</td>\n",
       "      <td>-103.591391</td>\n",
       "    </tr>\n",
       "    <tr>\n",
       "      <th>2</th>\n",
       "      <td>10</td>\n",
       "      <td>750.0</td>\n",
       "      <td>765.050849</td>\n",
       "      <td>330.729729</td>\n",
       "      <td>206.467903</td>\n",
       "      <td>676.264604</td>\n",
       "    </tr>\n",
       "    <tr>\n",
       "      <th>3</th>\n",
       "      <td>15</td>\n",
       "      <td>1687.5</td>\n",
       "      <td>1648.857077</td>\n",
       "      <td>770.105512</td>\n",
       "      <td>704.486506</td>\n",
       "      <td>2142.752901</td>\n",
       "    </tr>\n",
       "    <tr>\n",
       "      <th>4</th>\n",
       "      <td>20</td>\n",
       "      <td>3000.0</td>\n",
       "      <td>2575.987800</td>\n",
       "      <td>1221.576084</td>\n",
       "      <td>1475.477662</td>\n",
       "      <td>3899.059305</td>\n",
       "    </tr>\n",
       "  </tbody>\n",
       "</table>\n",
       "</div>"
      ],
      "text/plain": [
       "   czas  odległość rzeczywista  odległość estymowana   filtr alfa  \\\n",
       "0     0                    0.0             23.246102    23.246102   \n",
       "1     5                  187.5           -103.591391  -103.591391   \n",
       "2    10                  750.0            765.050849   330.729729   \n",
       "3    15                 1687.5           1648.857077   770.105512   \n",
       "4    20                 3000.0           2575.987800  1221.576084   \n",
       "\n",
       "   filtr alfa-beta  filtr alfa-beta-gama  \n",
       "0        23.246102             23.246102  \n",
       "1       -14.805146           -103.591391  \n",
       "2       206.467903            676.264604  \n",
       "3       704.486506           2142.752901  \n",
       "4      1475.477662           3899.059305  "
      ]
     },
     "execution_count": 19,
     "metadata": {},
     "output_type": "execute_result"
    }
   ],
   "source": [
    "df_falcon = pd.DataFrame()\n",
    "df_falcon['czas'] = T\n",
    "df_falcon['odległość rzeczywista'] = s_real\n",
    "df_falcon['odległość estymowana'] = s_est\n",
    "df_falcon['filtr alfa'] = s_a\n",
    "df_falcon['filtr alfa-beta'] = s_ab\n",
    "df_falcon['filtr alfa-beta-gama'] = s_abg\n",
    "df_falcon.head()"
   ]
  },
  {
   "cell_type": "code",
   "execution_count": 20,
   "id": "57f62f47",
   "metadata": {},
   "outputs": [
    {
     "data": {
      "application/vnd.plotly.v1+json": {
       "config": {
        "plotlyServerURL": "https://plot.ly"
       },
       "data": [
        {
         "hovertemplate": "variable=filtr alfa<br>czas=%{x}<br>value=%{y}<extra></extra>",
         "legendgroup": "filtr alfa",
         "marker": {
          "color": "#636efa",
          "symbol": "circle"
         },
         "mode": "markers",
         "name": "filtr alfa",
         "orientation": "v",
         "showlegend": true,
         "type": "scatter",
         "x": [
          0,
          5,
          10,
          15,
          20,
          25,
          30,
          35,
          40,
          45,
          50,
          55,
          60,
          65,
          70,
          75,
          80,
          85,
          90,
          95,
          100,
          105,
          110,
          115,
          120,
          125,
          130,
          135,
          140,
          145,
          150,
          155,
          160,
          165,
          170,
          175,
          180,
          185,
          190,
          195,
          200,
          205,
          210,
          215,
          220,
          225,
          230,
          235,
          240,
          245,
          250,
          255,
          260,
          265,
          270,
          275,
          280,
          285,
          290,
          295
         ],
         "xaxis": "x",
         "y": [
          23.246101851146562,
          -103.59139093073736,
          330.7297288579409,
          770.1055116477969,
          1221.5760837650516,
          1909.4614513095103,
          2739.55814233783,
          3691.4411140460606,
          4715.620094868235,
          5848.757099765599,
          7133.1507472515605,
          8552.591969471734,
          10072.62297526156,
          11740.717996596493,
          13536.228753380612,
          15465.353409017423,
          17499.4448184176,
          19662.745146035053,
          21958.63239869658,
          24359.79969100805,
          26896.916800485982,
          29554.564929781493,
          32343.63330726051,
          35256.531222448604,
          38295.78851270931,
          41453.55970865071,
          44743.28961882477,
          48145.16221284772,
          51689.14678317109,
          55337.556019903066,
          59115.50062814531,
          63024.278799667474,
          67051.59682066848,
          71209.42839910451,
          75488.8082131683,
          79884.86459189645,
          84410.77604633302,
          89067.18918185288,
          93852.94836352539,
          98758.35440772328,
          103790.6817245763,
          108944.60280893893,
          114235.77522372478,
          119643.3876847673,
          125172.42852318053,
          130827.46549031124,
          136613.3615317825,
          142525.30754343452,
          148557.0467390867,
          154715.20321685701,
          160993.12973517153,
          167399.44013192665,
          173927.7603783294,
          180582.34486059277,
          187358.9090380544,
          194266.0500721863,
          201292.7867910908,
          208452.34828938497,
          215731.17557483705,
          223144.44489451402
         ],
         "yaxis": "y"
        },
        {
         "hovertemplate": "variable=filtr alfa-beta<br>czas=%{x}<br>value=%{y}<extra></extra>",
         "legendgroup": "filtr alfa-beta",
         "marker": {
          "color": "#EF553B",
          "symbol": "circle"
         },
         "mode": "markers",
         "name": "filtr alfa-beta",
         "orientation": "v",
         "showlegend": true,
         "type": "scatter",
         "x": [
          0,
          5,
          10,
          15,
          20,
          25,
          30,
          35,
          40,
          45,
          50,
          55,
          60,
          65,
          70,
          75,
          80,
          85,
          90,
          95,
          100,
          105,
          110,
          115,
          120,
          125,
          130,
          135,
          140,
          145,
          150,
          155,
          160,
          165,
          170,
          175,
          180,
          185,
          190,
          195,
          200,
          205,
          210,
          215,
          220,
          225,
          230,
          235,
          240,
          245,
          250,
          255,
          260,
          265,
          270,
          275,
          280,
          285,
          290,
          295
         ],
         "xaxis": "x",
         "y": [
          23.246101851146562,
          -14.805145983418617,
          206.46790312740433,
          704.486505542251,
          1475.4776615094463,
          2827.826136555098,
          4761.734197882469,
          7275.500590948867,
          10243.877745635047,
          13691.373044379146,
          17705.269423535174,
          22231.422127083475,
          27117.69045056397,
          32483.70073228675,
          38239.92781138541,
          44387.272551590795,
          50775.04615883555,
          57488.262353238024,
          64551.51370403612,
          71823.46356126684,
          79473.1574645718,
          87437.42671935278,
          95797.81471839988,
          104525.61540590964,
          113646.84920062081,
          123111.43060195983,
          133019.90019253906,
          143225.53326834663,
          153961.73552523978,
          164927.08213636943,
          176310.81656210762,
          188137.83077665302,
          200297.6709230675,
          212894.09652626963,
          225842.32219757492,
          239080.2365400029,
          252737.69115169827,
          266835.76895373245,
          281368.8533134954,
          296222.36307904765,
          311465.6118906891,
          327033.79418959795,
          343116.82464205974,
          359465.7310084002,
          376122.01616340684,
          393145.3333693003,
          410613.24040766933,
          428472.95254182833,
          446633.0988595088,
          465180.1624857041,
          484021.9130478983,
          503285.3043572522,
          522886.12285853445,
          542889.9681662191,
          563234.9431411435,
          584059.5664928574,
          605191.9672411324,
          626842.3675076291,
          648788.1917849735,
          671275.3854899643
         ],
         "yaxis": "y"
        },
        {
         "hovertemplate": "variable=filtr alfa-beta-gama<br>czas=%{x}<br>value=%{y}<extra></extra>",
         "legendgroup": "filtr alfa-beta-gama",
         "marker": {
          "color": "#00cc96",
          "symbol": "circle"
         },
         "mode": "markers",
         "name": "filtr alfa-beta-gama",
         "orientation": "v",
         "showlegend": true,
         "type": "scatter",
         "x": [
          0,
          5,
          10,
          15,
          20,
          25,
          30,
          35,
          40,
          45,
          50,
          55,
          60,
          65,
          70,
          75,
          80,
          85,
          90,
          95,
          100,
          105,
          110,
          115,
          120,
          125,
          130,
          135,
          140,
          145,
          150,
          155,
          160,
          165,
          170,
          175,
          180,
          185,
          190,
          195,
          200,
          205,
          210,
          215,
          220,
          225,
          230,
          235,
          240,
          245,
          250,
          255,
          260,
          265,
          270,
          275,
          280,
          285,
          290,
          295
         ],
         "xaxis": "x",
         "y": [
          23.246101851146562,
          -103.59139093073735,
          676.2646036993006,
          2142.752901427963,
          3899.05930514611,
          6630.218299663572,
          9822.143930897026,
          13098.632733254895,
          15921.063065595727,
          18650.41021238838,
          22031.450554200554,
          26221.164394271662,
          30882.273329683332,
          36504.799564023,
          42609.45154736874,
          49012.679045934274,
          55076.41233424792,
          61234.03499872625,
          67780.41672156235,
          74434.43585686035,
          82000.62627556689,
          90218.06850251462,
          99197.6446691997,
          108530.64513172476,
          118047.69841937005,
          127444.01549362835,
          137146.06777310133,
          146792.543694657,
          157456.77423566853,
          168139.44831761846,
          179621.99259713263,
          191890.77889435805,
          204356.3860087527,
          217245.30296417713,
          230149.6583920023,
          242920.45097200613,
          256224.9662406976,
          270270.4677827834,
          285046.1143248603,
          300053.8821458345,
          315466.15064192965,
          330980.21581903985,
          347262.6043521053,
          363379.7537741553,
          379619.250386054,
          396357.3291530015,
          413947.26556497155,
          432123.7784469415,
          450436.7293404089,
          469117.36867788824,
          487791.3819057228,
          506974.9309014815,
          526411.6064527517,
          546406.0184206445,
          566745.6689185336,
          587897.0910562235,
          609124.1000239587,
          631117.3066330281,
          652974.0429124465,
          675607.0459941453
         ],
         "yaxis": "y"
        },
        {
         "hovertemplate": "czas=%{x}<br>odległość rzeczywista=%{y}<extra></extra>",
         "legendgroup": "",
         "line": {
          "color": "green",
          "dash": "solid"
         },
         "marker": {
          "symbol": "circle"
         },
         "mode": "lines",
         "name": "real",
         "orientation": "v",
         "showlegend": false,
         "type": "scatter",
         "x": [
          0,
          5,
          10,
          15,
          20,
          25,
          30,
          35,
          40,
          45,
          50,
          55,
          60,
          65,
          70,
          75,
          80,
          85,
          90,
          95,
          100,
          105,
          110,
          115,
          120,
          125,
          130,
          135,
          140,
          145,
          150,
          155,
          160,
          165,
          170,
          175,
          180,
          185,
          190,
          195,
          200,
          205,
          210,
          215,
          220,
          225,
          230,
          235,
          240,
          245,
          250,
          255,
          260,
          265,
          270,
          275,
          280,
          285,
          290,
          295
         ],
         "xaxis": "x",
         "y": [
          0,
          187.5,
          750,
          1687.5,
          3000,
          4687.5,
          6750,
          9187.5,
          12000,
          15187.5,
          18750,
          22687.5,
          27000,
          31687.5,
          36750,
          42187.5,
          48000,
          54187.5,
          60750,
          67687.5,
          75000,
          82687.5,
          90750,
          99187.5,
          108000,
          117187.5,
          126750,
          136687.5,
          147000,
          157687.5,
          168750,
          180187.5,
          192000,
          204187.5,
          216750,
          229687.5,
          243000,
          256687.5,
          270750,
          285187.5,
          300000,
          315187.5,
          330750,
          346687.5,
          363000,
          379687.5,
          396750,
          414187.5,
          432000,
          450187.5,
          468750,
          487687.5,
          507000,
          526687.5,
          546750,
          567187.5,
          588000,
          609187.5,
          630750,
          652687.5
         ],
         "yaxis": "y"
        }
       ],
       "layout": {
        "template": {
         "data": {
          "bar": [
           {
            "error_x": {
             "color": "#2a3f5f"
            },
            "error_y": {
             "color": "#2a3f5f"
            },
            "marker": {
             "line": {
              "color": "#E5ECF6",
              "width": 0.5
             },
             "pattern": {
              "fillmode": "overlay",
              "size": 10,
              "solidity": 0.2
             }
            },
            "type": "bar"
           }
          ],
          "barpolar": [
           {
            "marker": {
             "line": {
              "color": "#E5ECF6",
              "width": 0.5
             },
             "pattern": {
              "fillmode": "overlay",
              "size": 10,
              "solidity": 0.2
             }
            },
            "type": "barpolar"
           }
          ],
          "carpet": [
           {
            "aaxis": {
             "endlinecolor": "#2a3f5f",
             "gridcolor": "white",
             "linecolor": "white",
             "minorgridcolor": "white",
             "startlinecolor": "#2a3f5f"
            },
            "baxis": {
             "endlinecolor": "#2a3f5f",
             "gridcolor": "white",
             "linecolor": "white",
             "minorgridcolor": "white",
             "startlinecolor": "#2a3f5f"
            },
            "type": "carpet"
           }
          ],
          "choropleth": [
           {
            "colorbar": {
             "outlinewidth": 0,
             "ticks": ""
            },
            "type": "choropleth"
           }
          ],
          "contour": [
           {
            "colorbar": {
             "outlinewidth": 0,
             "ticks": ""
            },
            "colorscale": [
             [
              0,
              "#0d0887"
             ],
             [
              0.1111111111111111,
              "#46039f"
             ],
             [
              0.2222222222222222,
              "#7201a8"
             ],
             [
              0.3333333333333333,
              "#9c179e"
             ],
             [
              0.4444444444444444,
              "#bd3786"
             ],
             [
              0.5555555555555556,
              "#d8576b"
             ],
             [
              0.6666666666666666,
              "#ed7953"
             ],
             [
              0.7777777777777778,
              "#fb9f3a"
             ],
             [
              0.8888888888888888,
              "#fdca26"
             ],
             [
              1,
              "#f0f921"
             ]
            ],
            "type": "contour"
           }
          ],
          "contourcarpet": [
           {
            "colorbar": {
             "outlinewidth": 0,
             "ticks": ""
            },
            "type": "contourcarpet"
           }
          ],
          "heatmap": [
           {
            "colorbar": {
             "outlinewidth": 0,
             "ticks": ""
            },
            "colorscale": [
             [
              0,
              "#0d0887"
             ],
             [
              0.1111111111111111,
              "#46039f"
             ],
             [
              0.2222222222222222,
              "#7201a8"
             ],
             [
              0.3333333333333333,
              "#9c179e"
             ],
             [
              0.4444444444444444,
              "#bd3786"
             ],
             [
              0.5555555555555556,
              "#d8576b"
             ],
             [
              0.6666666666666666,
              "#ed7953"
             ],
             [
              0.7777777777777778,
              "#fb9f3a"
             ],
             [
              0.8888888888888888,
              "#fdca26"
             ],
             [
              1,
              "#f0f921"
             ]
            ],
            "type": "heatmap"
           }
          ],
          "heatmapgl": [
           {
            "colorbar": {
             "outlinewidth": 0,
             "ticks": ""
            },
            "colorscale": [
             [
              0,
              "#0d0887"
             ],
             [
              0.1111111111111111,
              "#46039f"
             ],
             [
              0.2222222222222222,
              "#7201a8"
             ],
             [
              0.3333333333333333,
              "#9c179e"
             ],
             [
              0.4444444444444444,
              "#bd3786"
             ],
             [
              0.5555555555555556,
              "#d8576b"
             ],
             [
              0.6666666666666666,
              "#ed7953"
             ],
             [
              0.7777777777777778,
              "#fb9f3a"
             ],
             [
              0.8888888888888888,
              "#fdca26"
             ],
             [
              1,
              "#f0f921"
             ]
            ],
            "type": "heatmapgl"
           }
          ],
          "histogram": [
           {
            "marker": {
             "pattern": {
              "fillmode": "overlay",
              "size": 10,
              "solidity": 0.2
             }
            },
            "type": "histogram"
           }
          ],
          "histogram2d": [
           {
            "colorbar": {
             "outlinewidth": 0,
             "ticks": ""
            },
            "colorscale": [
             [
              0,
              "#0d0887"
             ],
             [
              0.1111111111111111,
              "#46039f"
             ],
             [
              0.2222222222222222,
              "#7201a8"
             ],
             [
              0.3333333333333333,
              "#9c179e"
             ],
             [
              0.4444444444444444,
              "#bd3786"
             ],
             [
              0.5555555555555556,
              "#d8576b"
             ],
             [
              0.6666666666666666,
              "#ed7953"
             ],
             [
              0.7777777777777778,
              "#fb9f3a"
             ],
             [
              0.8888888888888888,
              "#fdca26"
             ],
             [
              1,
              "#f0f921"
             ]
            ],
            "type": "histogram2d"
           }
          ],
          "histogram2dcontour": [
           {
            "colorbar": {
             "outlinewidth": 0,
             "ticks": ""
            },
            "colorscale": [
             [
              0,
              "#0d0887"
             ],
             [
              0.1111111111111111,
              "#46039f"
             ],
             [
              0.2222222222222222,
              "#7201a8"
             ],
             [
              0.3333333333333333,
              "#9c179e"
             ],
             [
              0.4444444444444444,
              "#bd3786"
             ],
             [
              0.5555555555555556,
              "#d8576b"
             ],
             [
              0.6666666666666666,
              "#ed7953"
             ],
             [
              0.7777777777777778,
              "#fb9f3a"
             ],
             [
              0.8888888888888888,
              "#fdca26"
             ],
             [
              1,
              "#f0f921"
             ]
            ],
            "type": "histogram2dcontour"
           }
          ],
          "mesh3d": [
           {
            "colorbar": {
             "outlinewidth": 0,
             "ticks": ""
            },
            "type": "mesh3d"
           }
          ],
          "parcoords": [
           {
            "line": {
             "colorbar": {
              "outlinewidth": 0,
              "ticks": ""
             }
            },
            "type": "parcoords"
           }
          ],
          "pie": [
           {
            "automargin": true,
            "type": "pie"
           }
          ],
          "scatter": [
           {
            "fillpattern": {
             "fillmode": "overlay",
             "size": 10,
             "solidity": 0.2
            },
            "type": "scatter"
           }
          ],
          "scatter3d": [
           {
            "line": {
             "colorbar": {
              "outlinewidth": 0,
              "ticks": ""
             }
            },
            "marker": {
             "colorbar": {
              "outlinewidth": 0,
              "ticks": ""
             }
            },
            "type": "scatter3d"
           }
          ],
          "scattercarpet": [
           {
            "marker": {
             "colorbar": {
              "outlinewidth": 0,
              "ticks": ""
             }
            },
            "type": "scattercarpet"
           }
          ],
          "scattergeo": [
           {
            "marker": {
             "colorbar": {
              "outlinewidth": 0,
              "ticks": ""
             }
            },
            "type": "scattergeo"
           }
          ],
          "scattergl": [
           {
            "marker": {
             "colorbar": {
              "outlinewidth": 0,
              "ticks": ""
             }
            },
            "type": "scattergl"
           }
          ],
          "scattermapbox": [
           {
            "marker": {
             "colorbar": {
              "outlinewidth": 0,
              "ticks": ""
             }
            },
            "type": "scattermapbox"
           }
          ],
          "scatterpolar": [
           {
            "marker": {
             "colorbar": {
              "outlinewidth": 0,
              "ticks": ""
             }
            },
            "type": "scatterpolar"
           }
          ],
          "scatterpolargl": [
           {
            "marker": {
             "colorbar": {
              "outlinewidth": 0,
              "ticks": ""
             }
            },
            "type": "scatterpolargl"
           }
          ],
          "scatterternary": [
           {
            "marker": {
             "colorbar": {
              "outlinewidth": 0,
              "ticks": ""
             }
            },
            "type": "scatterternary"
           }
          ],
          "surface": [
           {
            "colorbar": {
             "outlinewidth": 0,
             "ticks": ""
            },
            "colorscale": [
             [
              0,
              "#0d0887"
             ],
             [
              0.1111111111111111,
              "#46039f"
             ],
             [
              0.2222222222222222,
              "#7201a8"
             ],
             [
              0.3333333333333333,
              "#9c179e"
             ],
             [
              0.4444444444444444,
              "#bd3786"
             ],
             [
              0.5555555555555556,
              "#d8576b"
             ],
             [
              0.6666666666666666,
              "#ed7953"
             ],
             [
              0.7777777777777778,
              "#fb9f3a"
             ],
             [
              0.8888888888888888,
              "#fdca26"
             ],
             [
              1,
              "#f0f921"
             ]
            ],
            "type": "surface"
           }
          ],
          "table": [
           {
            "cells": {
             "fill": {
              "color": "#EBF0F8"
             },
             "line": {
              "color": "white"
             }
            },
            "header": {
             "fill": {
              "color": "#C8D4E3"
             },
             "line": {
              "color": "white"
             }
            },
            "type": "table"
           }
          ]
         },
         "layout": {
          "annotationdefaults": {
           "arrowcolor": "#2a3f5f",
           "arrowhead": 0,
           "arrowwidth": 1
          },
          "autotypenumbers": "strict",
          "coloraxis": {
           "colorbar": {
            "outlinewidth": 0,
            "ticks": ""
           }
          },
          "colorscale": {
           "diverging": [
            [
             0,
             "#8e0152"
            ],
            [
             0.1,
             "#c51b7d"
            ],
            [
             0.2,
             "#de77ae"
            ],
            [
             0.3,
             "#f1b6da"
            ],
            [
             0.4,
             "#fde0ef"
            ],
            [
             0.5,
             "#f7f7f7"
            ],
            [
             0.6,
             "#e6f5d0"
            ],
            [
             0.7,
             "#b8e186"
            ],
            [
             0.8,
             "#7fbc41"
            ],
            [
             0.9,
             "#4d9221"
            ],
            [
             1,
             "#276419"
            ]
           ],
           "sequential": [
            [
             0,
             "#0d0887"
            ],
            [
             0.1111111111111111,
             "#46039f"
            ],
            [
             0.2222222222222222,
             "#7201a8"
            ],
            [
             0.3333333333333333,
             "#9c179e"
            ],
            [
             0.4444444444444444,
             "#bd3786"
            ],
            [
             0.5555555555555556,
             "#d8576b"
            ],
            [
             0.6666666666666666,
             "#ed7953"
            ],
            [
             0.7777777777777778,
             "#fb9f3a"
            ],
            [
             0.8888888888888888,
             "#fdca26"
            ],
            [
             1,
             "#f0f921"
            ]
           ],
           "sequentialminus": [
            [
             0,
             "#0d0887"
            ],
            [
             0.1111111111111111,
             "#46039f"
            ],
            [
             0.2222222222222222,
             "#7201a8"
            ],
            [
             0.3333333333333333,
             "#9c179e"
            ],
            [
             0.4444444444444444,
             "#bd3786"
            ],
            [
             0.5555555555555556,
             "#d8576b"
            ],
            [
             0.6666666666666666,
             "#ed7953"
            ],
            [
             0.7777777777777778,
             "#fb9f3a"
            ],
            [
             0.8888888888888888,
             "#fdca26"
            ],
            [
             1,
             "#f0f921"
            ]
           ]
          },
          "colorway": [
           "#636efa",
           "#EF553B",
           "#00cc96",
           "#ab63fa",
           "#FFA15A",
           "#19d3f3",
           "#FF6692",
           "#B6E880",
           "#FF97FF",
           "#FECB52"
          ],
          "font": {
           "color": "#2a3f5f"
          },
          "geo": {
           "bgcolor": "white",
           "lakecolor": "white",
           "landcolor": "#E5ECF6",
           "showlakes": true,
           "showland": true,
           "subunitcolor": "white"
          },
          "hoverlabel": {
           "align": "left"
          },
          "hovermode": "closest",
          "mapbox": {
           "style": "light"
          },
          "paper_bgcolor": "white",
          "plot_bgcolor": "#E5ECF6",
          "polar": {
           "angularaxis": {
            "gridcolor": "white",
            "linecolor": "white",
            "ticks": ""
           },
           "bgcolor": "#E5ECF6",
           "radialaxis": {
            "gridcolor": "white",
            "linecolor": "white",
            "ticks": ""
           }
          },
          "scene": {
           "xaxis": {
            "backgroundcolor": "#E5ECF6",
            "gridcolor": "white",
            "gridwidth": 2,
            "linecolor": "white",
            "showbackground": true,
            "ticks": "",
            "zerolinecolor": "white"
           },
           "yaxis": {
            "backgroundcolor": "#E5ECF6",
            "gridcolor": "white",
            "gridwidth": 2,
            "linecolor": "white",
            "showbackground": true,
            "ticks": "",
            "zerolinecolor": "white"
           },
           "zaxis": {
            "backgroundcolor": "#E5ECF6",
            "gridcolor": "white",
            "gridwidth": 2,
            "linecolor": "white",
            "showbackground": true,
            "ticks": "",
            "zerolinecolor": "white"
           }
          },
          "shapedefaults": {
           "line": {
            "color": "#2a3f5f"
           }
          },
          "ternary": {
           "aaxis": {
            "gridcolor": "white",
            "linecolor": "white",
            "ticks": ""
           },
           "baxis": {
            "gridcolor": "white",
            "linecolor": "white",
            "ticks": ""
           },
           "bgcolor": "#E5ECF6",
           "caxis": {
            "gridcolor": "white",
            "linecolor": "white",
            "ticks": ""
           }
          },
          "title": {
           "x": 0.05
          },
          "xaxis": {
           "automargin": true,
           "gridcolor": "white",
           "linecolor": "white",
           "ticks": "",
           "title": {
            "standoff": 15
           },
           "zerolinecolor": "white",
           "zerolinewidth": 2
          },
          "yaxis": {
           "automargin": true,
           "gridcolor": "white",
           "linecolor": "white",
           "ticks": "",
           "title": {
            "standoff": 15
           },
           "zerolinecolor": "white",
           "zerolinewidth": 2
          }
         }
        },
        "title": {
         "text": "Odległość rakiety<b> Falcon 1🚀</b> od Ziemi po starcie"
        },
        "xaxis": {
         "title": {
          "text": "czas[s]"
         }
        },
        "yaxis": {
         "title": {
          "text": "odległość [m]"
         }
        }
       }
      }
     },
     "metadata": {},
     "output_type": "display_data"
    }
   ],
   "source": [
    "fig1 = ex.scatter(\n",
    "    df_falcon, \n",
    "    x='czas', \n",
    "    y=['filtr alfa', 'filtr alfa-beta', 'filtr alfa-beta-gama'], \n",
    "    title='Wartość prędkości w kolejnych pomiarach',\n",
    "    )\n",
    "fig2 = ex.line(\n",
    "    df_falcon,\n",
    "    x='czas', \n",
    "    y='odległość rzeczywista',\n",
    ")\n",
    "\n",
    "fig2.update_traces(line_color='green', name='real')\n",
    "fig = go.Figure(\n",
    "    data=fig1.data + fig2.data\n",
    "    )\n",
    "fig.update_layout(\n",
    "    xaxis_title=\"czas[s]\",\n",
    "    yaxis_title=\"odległość [m]\",\n",
    "    title='Odległość rakiety<b> Falcon 1🚀</b> od Ziemi po starcie'\n",
    ")\n",
    "fig.show()"
   ]
  },
  {
   "cell_type": "markdown",
   "id": "35986e9e",
   "metadata": {},
   "source": [
    "## <b> 2.1 Filtr Kalmana 1-d </b> ##"
   ]
  },
  {
   "cell_type": "code",
   "execution_count": 21,
   "id": "f4ca2306",
   "metadata": {},
   "outputs": [],
   "source": [
    "def kalman_filter_1d(x0, dx0, ddx0, Z, d_t):\n",
    "    \"\"\"\n",
    "    :param float x0: początkowy stan systemu\n",
    "    :param dx0: początkowa pochodna\n",
    "    :param ddx0: druga pochodna początkowego stanu\n",
    "    :param list Z: obserwacje\n",
    "    :param int d_t: delta t, przyrost czasu w każdym kroku\n",
    "    \"\"\"\n",
    "\n",
    "    p0 = np.var(Z)\n",
    "    r = np.random.normal(0, p0 ** 2)\n",
    "\n",
    "    p_nn = [p0]\n",
    "    kn = p0/(p0 + r)\n",
    "    x_nn = [x0]\n",
    "    dx_nn = [dx0]\n",
    "    ddx_nn = [ddx0]\n",
    "\n",
    "    for n in range(1, len(Z)):\n",
    "        # aktualizowanie estymatora stanu\n",
    "        x_new = x_nn[n-1] + kn * (Z[n] - x_nn[n-1])\n",
    "\n",
    "        # predykcja\n",
    "        x_nn.append(x_new + dx_nn[n-1] * d_t + ddx_nn[n-1] * (d_t ** 2 / 2))\n",
    "        dx_nn.append(dx_nn[n-1] + ddx_nn[n-1] * d_t)\n",
    "        ddx_nn.append(ddx_nn[n-1])\n",
    "\n",
    "        # wzmocnienie kalmana\n",
    "        kn = p_nn[n-1] / (p_nn[n-1] + r)\n",
    "        \n",
    "        # aktualizacja kowariancji\n",
    "        p_nn.append((1 - kn) * p_nn[n-1])\n",
    "\n",
    "    return x_nn "
   ]
  },
  {
   "cell_type": "code",
   "execution_count": 22,
   "id": "3eece808",
   "metadata": {},
   "outputs": [],
   "source": [
    "df_falcon['kalman 1-d'] = kalman_filter_1d(\n",
    "    x0=s_est[0],\n",
    "    dx0=v[0],\n",
    "    ddx0=a,\n",
    "    Z=s_est,\n",
    "    d_t=delta_time\n",
    ")"
   ]
  },
  {
   "cell_type": "code",
   "execution_count": 23,
   "id": "9d2ff374",
   "metadata": {},
   "outputs": [
    {
     "data": {
      "application/vnd.plotly.v1+json": {
       "config": {
        "plotlyServerURL": "https://plot.ly"
       },
       "data": [
        {
         "hovertemplate": "variable=filtr alfa<br>czas=%{x}<br>value=%{y}<extra></extra>",
         "legendgroup": "filtr alfa",
         "marker": {
          "color": "#636efa",
          "symbol": "circle"
         },
         "mode": "markers",
         "name": "filtr alfa",
         "orientation": "v",
         "showlegend": true,
         "type": "scatter",
         "x": [
          0,
          5,
          10,
          15,
          20,
          25,
          30,
          35,
          40,
          45,
          50,
          55,
          60,
          65,
          70,
          75,
          80,
          85,
          90,
          95,
          100,
          105,
          110,
          115,
          120,
          125,
          130,
          135,
          140,
          145,
          150,
          155,
          160,
          165,
          170,
          175,
          180,
          185,
          190,
          195,
          200,
          205,
          210,
          215,
          220,
          225,
          230,
          235,
          240,
          245,
          250,
          255,
          260,
          265,
          270,
          275,
          280,
          285,
          290,
          295
         ],
         "xaxis": "x",
         "y": [
          23.246101851146562,
          -103.59139093073736,
          330.7297288579409,
          770.1055116477969,
          1221.5760837650516,
          1909.4614513095103,
          2739.55814233783,
          3691.4411140460606,
          4715.620094868235,
          5848.757099765599,
          7133.1507472515605,
          8552.591969471734,
          10072.62297526156,
          11740.717996596493,
          13536.228753380612,
          15465.353409017423,
          17499.4448184176,
          19662.745146035053,
          21958.63239869658,
          24359.79969100805,
          26896.916800485982,
          29554.564929781493,
          32343.63330726051,
          35256.531222448604,
          38295.78851270931,
          41453.55970865071,
          44743.28961882477,
          48145.16221284772,
          51689.14678317109,
          55337.556019903066,
          59115.50062814531,
          63024.278799667474,
          67051.59682066848,
          71209.42839910451,
          75488.8082131683,
          79884.86459189645,
          84410.77604633302,
          89067.18918185288,
          93852.94836352539,
          98758.35440772328,
          103790.6817245763,
          108944.60280893893,
          114235.77522372478,
          119643.3876847673,
          125172.42852318053,
          130827.46549031124,
          136613.3615317825,
          142525.30754343452,
          148557.0467390867,
          154715.20321685701,
          160993.12973517153,
          167399.44013192665,
          173927.7603783294,
          180582.34486059277,
          187358.9090380544,
          194266.0500721863,
          201292.7867910908,
          208452.34828938497,
          215731.17557483705,
          223144.44489451402
         ],
         "yaxis": "y"
        },
        {
         "hovertemplate": "variable=filtr alfa-beta<br>czas=%{x}<br>value=%{y}<extra></extra>",
         "legendgroup": "filtr alfa-beta",
         "marker": {
          "color": "#EF553B",
          "symbol": "circle"
         },
         "mode": "markers",
         "name": "filtr alfa-beta",
         "orientation": "v",
         "showlegend": true,
         "type": "scatter",
         "x": [
          0,
          5,
          10,
          15,
          20,
          25,
          30,
          35,
          40,
          45,
          50,
          55,
          60,
          65,
          70,
          75,
          80,
          85,
          90,
          95,
          100,
          105,
          110,
          115,
          120,
          125,
          130,
          135,
          140,
          145,
          150,
          155,
          160,
          165,
          170,
          175,
          180,
          185,
          190,
          195,
          200,
          205,
          210,
          215,
          220,
          225,
          230,
          235,
          240,
          245,
          250,
          255,
          260,
          265,
          270,
          275,
          280,
          285,
          290,
          295
         ],
         "xaxis": "x",
         "y": [
          23.246101851146562,
          -14.805145983418617,
          206.46790312740433,
          704.486505542251,
          1475.4776615094463,
          2827.826136555098,
          4761.734197882469,
          7275.500590948867,
          10243.877745635047,
          13691.373044379146,
          17705.269423535174,
          22231.422127083475,
          27117.69045056397,
          32483.70073228675,
          38239.92781138541,
          44387.272551590795,
          50775.04615883555,
          57488.262353238024,
          64551.51370403612,
          71823.46356126684,
          79473.1574645718,
          87437.42671935278,
          95797.81471839988,
          104525.61540590964,
          113646.84920062081,
          123111.43060195983,
          133019.90019253906,
          143225.53326834663,
          153961.73552523978,
          164927.08213636943,
          176310.81656210762,
          188137.83077665302,
          200297.6709230675,
          212894.09652626963,
          225842.32219757492,
          239080.2365400029,
          252737.69115169827,
          266835.76895373245,
          281368.8533134954,
          296222.36307904765,
          311465.6118906891,
          327033.79418959795,
          343116.82464205974,
          359465.7310084002,
          376122.01616340684,
          393145.3333693003,
          410613.24040766933,
          428472.95254182833,
          446633.0988595088,
          465180.1624857041,
          484021.9130478983,
          503285.3043572522,
          522886.12285853445,
          542889.9681662191,
          563234.9431411435,
          584059.5664928574,
          605191.9672411324,
          626842.3675076291,
          648788.1917849735,
          671275.3854899643
         ],
         "yaxis": "y"
        },
        {
         "hovertemplate": "variable=filtr alfa-beta-gama<br>czas=%{x}<br>value=%{y}<extra></extra>",
         "legendgroup": "filtr alfa-beta-gama",
         "marker": {
          "color": "#00cc96",
          "symbol": "circle"
         },
         "mode": "markers",
         "name": "filtr alfa-beta-gama",
         "orientation": "v",
         "showlegend": true,
         "type": "scatter",
         "x": [
          0,
          5,
          10,
          15,
          20,
          25,
          30,
          35,
          40,
          45,
          50,
          55,
          60,
          65,
          70,
          75,
          80,
          85,
          90,
          95,
          100,
          105,
          110,
          115,
          120,
          125,
          130,
          135,
          140,
          145,
          150,
          155,
          160,
          165,
          170,
          175,
          180,
          185,
          190,
          195,
          200,
          205,
          210,
          215,
          220,
          225,
          230,
          235,
          240,
          245,
          250,
          255,
          260,
          265,
          270,
          275,
          280,
          285,
          290,
          295
         ],
         "xaxis": "x",
         "y": [
          23.246101851146562,
          -103.59139093073735,
          676.2646036993006,
          2142.752901427963,
          3899.05930514611,
          6630.218299663572,
          9822.143930897026,
          13098.632733254895,
          15921.063065595727,
          18650.41021238838,
          22031.450554200554,
          26221.164394271662,
          30882.273329683332,
          36504.799564023,
          42609.45154736874,
          49012.679045934274,
          55076.41233424792,
          61234.03499872625,
          67780.41672156235,
          74434.43585686035,
          82000.62627556689,
          90218.06850251462,
          99197.6446691997,
          108530.64513172476,
          118047.69841937005,
          127444.01549362835,
          137146.06777310133,
          146792.543694657,
          157456.77423566853,
          168139.44831761846,
          179621.99259713263,
          191890.77889435805,
          204356.3860087527,
          217245.30296417713,
          230149.6583920023,
          242920.45097200613,
          256224.9662406976,
          270270.4677827834,
          285046.1143248603,
          300053.8821458345,
          315466.15064192965,
          330980.21581903985,
          347262.6043521053,
          363379.7537741553,
          379619.250386054,
          396357.3291530015,
          413947.26556497155,
          432123.7784469415,
          450436.7293404089,
          469117.36867788824,
          487791.3819057228,
          506974.9309014815,
          526411.6064527517,
          546406.0184206445,
          566745.6689185336,
          587897.0910562235,
          609124.1000239587,
          631117.3066330281,
          652974.0429124465,
          675607.0459941453
         ],
         "yaxis": "y"
        },
        {
         "hovertemplate": "variable=kalman 1-d<br>czas=%{x}<br>value=%{y}<extra></extra>",
         "legendgroup": "kalman 1-d",
         "marker": {
          "color": "#ab63fa",
          "symbol": "circle"
         },
         "mode": "markers",
         "name": "kalman 1-d",
         "orientation": "v",
         "showlegend": true,
         "type": "scatter",
         "x": [
          0,
          5,
          10,
          15,
          20,
          25,
          30,
          35,
          40,
          45,
          50,
          55,
          60,
          65,
          70,
          75,
          80,
          85,
          90,
          95,
          100,
          105,
          110,
          115,
          120,
          125,
          130,
          135,
          140,
          145,
          150,
          155,
          160,
          165,
          170,
          175,
          180,
          185,
          190,
          195,
          200,
          205,
          210,
          215,
          220,
          225,
          230,
          235,
          240,
          245,
          250,
          255,
          260,
          265,
          270,
          275,
          280,
          285,
          290,
          295
         ],
         "xaxis": "x",
         "y": [
          23.246101851146562,
          210.74610185346035,
          773.2461018433487,
          1710.7461018273757,
          3023.246101811592,
          4710.746101781716,
          6773.246101741961,
          9210.746101693992,
          12023.24610164521,
          15210.74610159248,
          18773.246101528963,
          22710.746101456472,
          27023.246101382003,
          31710.746101295634,
          36773.246101201374,
          42210.7461010974,
          48023.24610099159,
          54210.746100877535,
          60773.246100753895,
          67710.74610062971,
          75023.24610049487,
          82710.74610035469,
          90773.24610020504,
          99210.74610004877,
          108023.24609988481,
          117210.74609971668,
          126773.24609953834,
          136710.74609935918,
          147023.24609916462,
          157710.74609897364,
          168773.2460987736,
          180210.74609856357,
          192023.24609835036,
          204210.74609812713,
          216773.24609789916,
          229710.74609766973,
          243023.24609743065,
          256710.7460971812,
          270773.24609692185,
          285210.74609665934,
          300023.2460963886,
          315210.7460961136,
          330773.24609582237,
          346710.7460955307,
          363023.246095235,
          379710.74609493173,
          396773.2460946167,
          414210.7460942938,
          432023.2460939684,
          450210.74609363487,
          468773.2460932992,
          487710.74609295366,
          507023.2460926041,
          526710.7460922466,
          546773.2460918853,
          567210.7460915117,
          588023.2460911367,
          609210.746090747,
          630773.2460903564,
          652710.7460899488
         ],
         "yaxis": "y"
        },
        {
         "hovertemplate": "czas=%{x}<br>odległość rzeczywista=%{y}<extra></extra>",
         "legendgroup": "",
         "line": {
          "color": "green",
          "dash": "solid"
         },
         "marker": {
          "symbol": "circle"
         },
         "mode": "lines",
         "name": "real",
         "orientation": "v",
         "showlegend": false,
         "type": "scatter",
         "x": [
          0,
          5,
          10,
          15,
          20,
          25,
          30,
          35,
          40,
          45,
          50,
          55,
          60,
          65,
          70,
          75,
          80,
          85,
          90,
          95,
          100,
          105,
          110,
          115,
          120,
          125,
          130,
          135,
          140,
          145,
          150,
          155,
          160,
          165,
          170,
          175,
          180,
          185,
          190,
          195,
          200,
          205,
          210,
          215,
          220,
          225,
          230,
          235,
          240,
          245,
          250,
          255,
          260,
          265,
          270,
          275,
          280,
          285,
          290,
          295
         ],
         "xaxis": "x",
         "y": [
          0,
          187.5,
          750,
          1687.5,
          3000,
          4687.5,
          6750,
          9187.5,
          12000,
          15187.5,
          18750,
          22687.5,
          27000,
          31687.5,
          36750,
          42187.5,
          48000,
          54187.5,
          60750,
          67687.5,
          75000,
          82687.5,
          90750,
          99187.5,
          108000,
          117187.5,
          126750,
          136687.5,
          147000,
          157687.5,
          168750,
          180187.5,
          192000,
          204187.5,
          216750,
          229687.5,
          243000,
          256687.5,
          270750,
          285187.5,
          300000,
          315187.5,
          330750,
          346687.5,
          363000,
          379687.5,
          396750,
          414187.5,
          432000,
          450187.5,
          468750,
          487687.5,
          507000,
          526687.5,
          546750,
          567187.5,
          588000,
          609187.5,
          630750,
          652687.5
         ],
         "yaxis": "y"
        }
       ],
       "layout": {
        "template": {
         "data": {
          "bar": [
           {
            "error_x": {
             "color": "#2a3f5f"
            },
            "error_y": {
             "color": "#2a3f5f"
            },
            "marker": {
             "line": {
              "color": "#E5ECF6",
              "width": 0.5
             },
             "pattern": {
              "fillmode": "overlay",
              "size": 10,
              "solidity": 0.2
             }
            },
            "type": "bar"
           }
          ],
          "barpolar": [
           {
            "marker": {
             "line": {
              "color": "#E5ECF6",
              "width": 0.5
             },
             "pattern": {
              "fillmode": "overlay",
              "size": 10,
              "solidity": 0.2
             }
            },
            "type": "barpolar"
           }
          ],
          "carpet": [
           {
            "aaxis": {
             "endlinecolor": "#2a3f5f",
             "gridcolor": "white",
             "linecolor": "white",
             "minorgridcolor": "white",
             "startlinecolor": "#2a3f5f"
            },
            "baxis": {
             "endlinecolor": "#2a3f5f",
             "gridcolor": "white",
             "linecolor": "white",
             "minorgridcolor": "white",
             "startlinecolor": "#2a3f5f"
            },
            "type": "carpet"
           }
          ],
          "choropleth": [
           {
            "colorbar": {
             "outlinewidth": 0,
             "ticks": ""
            },
            "type": "choropleth"
           }
          ],
          "contour": [
           {
            "colorbar": {
             "outlinewidth": 0,
             "ticks": ""
            },
            "colorscale": [
             [
              0,
              "#0d0887"
             ],
             [
              0.1111111111111111,
              "#46039f"
             ],
             [
              0.2222222222222222,
              "#7201a8"
             ],
             [
              0.3333333333333333,
              "#9c179e"
             ],
             [
              0.4444444444444444,
              "#bd3786"
             ],
             [
              0.5555555555555556,
              "#d8576b"
             ],
             [
              0.6666666666666666,
              "#ed7953"
             ],
             [
              0.7777777777777778,
              "#fb9f3a"
             ],
             [
              0.8888888888888888,
              "#fdca26"
             ],
             [
              1,
              "#f0f921"
             ]
            ],
            "type": "contour"
           }
          ],
          "contourcarpet": [
           {
            "colorbar": {
             "outlinewidth": 0,
             "ticks": ""
            },
            "type": "contourcarpet"
           }
          ],
          "heatmap": [
           {
            "colorbar": {
             "outlinewidth": 0,
             "ticks": ""
            },
            "colorscale": [
             [
              0,
              "#0d0887"
             ],
             [
              0.1111111111111111,
              "#46039f"
             ],
             [
              0.2222222222222222,
              "#7201a8"
             ],
             [
              0.3333333333333333,
              "#9c179e"
             ],
             [
              0.4444444444444444,
              "#bd3786"
             ],
             [
              0.5555555555555556,
              "#d8576b"
             ],
             [
              0.6666666666666666,
              "#ed7953"
             ],
             [
              0.7777777777777778,
              "#fb9f3a"
             ],
             [
              0.8888888888888888,
              "#fdca26"
             ],
             [
              1,
              "#f0f921"
             ]
            ],
            "type": "heatmap"
           }
          ],
          "heatmapgl": [
           {
            "colorbar": {
             "outlinewidth": 0,
             "ticks": ""
            },
            "colorscale": [
             [
              0,
              "#0d0887"
             ],
             [
              0.1111111111111111,
              "#46039f"
             ],
             [
              0.2222222222222222,
              "#7201a8"
             ],
             [
              0.3333333333333333,
              "#9c179e"
             ],
             [
              0.4444444444444444,
              "#bd3786"
             ],
             [
              0.5555555555555556,
              "#d8576b"
             ],
             [
              0.6666666666666666,
              "#ed7953"
             ],
             [
              0.7777777777777778,
              "#fb9f3a"
             ],
             [
              0.8888888888888888,
              "#fdca26"
             ],
             [
              1,
              "#f0f921"
             ]
            ],
            "type": "heatmapgl"
           }
          ],
          "histogram": [
           {
            "marker": {
             "pattern": {
              "fillmode": "overlay",
              "size": 10,
              "solidity": 0.2
             }
            },
            "type": "histogram"
           }
          ],
          "histogram2d": [
           {
            "colorbar": {
             "outlinewidth": 0,
             "ticks": ""
            },
            "colorscale": [
             [
              0,
              "#0d0887"
             ],
             [
              0.1111111111111111,
              "#46039f"
             ],
             [
              0.2222222222222222,
              "#7201a8"
             ],
             [
              0.3333333333333333,
              "#9c179e"
             ],
             [
              0.4444444444444444,
              "#bd3786"
             ],
             [
              0.5555555555555556,
              "#d8576b"
             ],
             [
              0.6666666666666666,
              "#ed7953"
             ],
             [
              0.7777777777777778,
              "#fb9f3a"
             ],
             [
              0.8888888888888888,
              "#fdca26"
             ],
             [
              1,
              "#f0f921"
             ]
            ],
            "type": "histogram2d"
           }
          ],
          "histogram2dcontour": [
           {
            "colorbar": {
             "outlinewidth": 0,
             "ticks": ""
            },
            "colorscale": [
             [
              0,
              "#0d0887"
             ],
             [
              0.1111111111111111,
              "#46039f"
             ],
             [
              0.2222222222222222,
              "#7201a8"
             ],
             [
              0.3333333333333333,
              "#9c179e"
             ],
             [
              0.4444444444444444,
              "#bd3786"
             ],
             [
              0.5555555555555556,
              "#d8576b"
             ],
             [
              0.6666666666666666,
              "#ed7953"
             ],
             [
              0.7777777777777778,
              "#fb9f3a"
             ],
             [
              0.8888888888888888,
              "#fdca26"
             ],
             [
              1,
              "#f0f921"
             ]
            ],
            "type": "histogram2dcontour"
           }
          ],
          "mesh3d": [
           {
            "colorbar": {
             "outlinewidth": 0,
             "ticks": ""
            },
            "type": "mesh3d"
           }
          ],
          "parcoords": [
           {
            "line": {
             "colorbar": {
              "outlinewidth": 0,
              "ticks": ""
             }
            },
            "type": "parcoords"
           }
          ],
          "pie": [
           {
            "automargin": true,
            "type": "pie"
           }
          ],
          "scatter": [
           {
            "fillpattern": {
             "fillmode": "overlay",
             "size": 10,
             "solidity": 0.2
            },
            "type": "scatter"
           }
          ],
          "scatter3d": [
           {
            "line": {
             "colorbar": {
              "outlinewidth": 0,
              "ticks": ""
             }
            },
            "marker": {
             "colorbar": {
              "outlinewidth": 0,
              "ticks": ""
             }
            },
            "type": "scatter3d"
           }
          ],
          "scattercarpet": [
           {
            "marker": {
             "colorbar": {
              "outlinewidth": 0,
              "ticks": ""
             }
            },
            "type": "scattercarpet"
           }
          ],
          "scattergeo": [
           {
            "marker": {
             "colorbar": {
              "outlinewidth": 0,
              "ticks": ""
             }
            },
            "type": "scattergeo"
           }
          ],
          "scattergl": [
           {
            "marker": {
             "colorbar": {
              "outlinewidth": 0,
              "ticks": ""
             }
            },
            "type": "scattergl"
           }
          ],
          "scattermapbox": [
           {
            "marker": {
             "colorbar": {
              "outlinewidth": 0,
              "ticks": ""
             }
            },
            "type": "scattermapbox"
           }
          ],
          "scatterpolar": [
           {
            "marker": {
             "colorbar": {
              "outlinewidth": 0,
              "ticks": ""
             }
            },
            "type": "scatterpolar"
           }
          ],
          "scatterpolargl": [
           {
            "marker": {
             "colorbar": {
              "outlinewidth": 0,
              "ticks": ""
             }
            },
            "type": "scatterpolargl"
           }
          ],
          "scatterternary": [
           {
            "marker": {
             "colorbar": {
              "outlinewidth": 0,
              "ticks": ""
             }
            },
            "type": "scatterternary"
           }
          ],
          "surface": [
           {
            "colorbar": {
             "outlinewidth": 0,
             "ticks": ""
            },
            "colorscale": [
             [
              0,
              "#0d0887"
             ],
             [
              0.1111111111111111,
              "#46039f"
             ],
             [
              0.2222222222222222,
              "#7201a8"
             ],
             [
              0.3333333333333333,
              "#9c179e"
             ],
             [
              0.4444444444444444,
              "#bd3786"
             ],
             [
              0.5555555555555556,
              "#d8576b"
             ],
             [
              0.6666666666666666,
              "#ed7953"
             ],
             [
              0.7777777777777778,
              "#fb9f3a"
             ],
             [
              0.8888888888888888,
              "#fdca26"
             ],
             [
              1,
              "#f0f921"
             ]
            ],
            "type": "surface"
           }
          ],
          "table": [
           {
            "cells": {
             "fill": {
              "color": "#EBF0F8"
             },
             "line": {
              "color": "white"
             }
            },
            "header": {
             "fill": {
              "color": "#C8D4E3"
             },
             "line": {
              "color": "white"
             }
            },
            "type": "table"
           }
          ]
         },
         "layout": {
          "annotationdefaults": {
           "arrowcolor": "#2a3f5f",
           "arrowhead": 0,
           "arrowwidth": 1
          },
          "autotypenumbers": "strict",
          "coloraxis": {
           "colorbar": {
            "outlinewidth": 0,
            "ticks": ""
           }
          },
          "colorscale": {
           "diverging": [
            [
             0,
             "#8e0152"
            ],
            [
             0.1,
             "#c51b7d"
            ],
            [
             0.2,
             "#de77ae"
            ],
            [
             0.3,
             "#f1b6da"
            ],
            [
             0.4,
             "#fde0ef"
            ],
            [
             0.5,
             "#f7f7f7"
            ],
            [
             0.6,
             "#e6f5d0"
            ],
            [
             0.7,
             "#b8e186"
            ],
            [
             0.8,
             "#7fbc41"
            ],
            [
             0.9,
             "#4d9221"
            ],
            [
             1,
             "#276419"
            ]
           ],
           "sequential": [
            [
             0,
             "#0d0887"
            ],
            [
             0.1111111111111111,
             "#46039f"
            ],
            [
             0.2222222222222222,
             "#7201a8"
            ],
            [
             0.3333333333333333,
             "#9c179e"
            ],
            [
             0.4444444444444444,
             "#bd3786"
            ],
            [
             0.5555555555555556,
             "#d8576b"
            ],
            [
             0.6666666666666666,
             "#ed7953"
            ],
            [
             0.7777777777777778,
             "#fb9f3a"
            ],
            [
             0.8888888888888888,
             "#fdca26"
            ],
            [
             1,
             "#f0f921"
            ]
           ],
           "sequentialminus": [
            [
             0,
             "#0d0887"
            ],
            [
             0.1111111111111111,
             "#46039f"
            ],
            [
             0.2222222222222222,
             "#7201a8"
            ],
            [
             0.3333333333333333,
             "#9c179e"
            ],
            [
             0.4444444444444444,
             "#bd3786"
            ],
            [
             0.5555555555555556,
             "#d8576b"
            ],
            [
             0.6666666666666666,
             "#ed7953"
            ],
            [
             0.7777777777777778,
             "#fb9f3a"
            ],
            [
             0.8888888888888888,
             "#fdca26"
            ],
            [
             1,
             "#f0f921"
            ]
           ]
          },
          "colorway": [
           "#636efa",
           "#EF553B",
           "#00cc96",
           "#ab63fa",
           "#FFA15A",
           "#19d3f3",
           "#FF6692",
           "#B6E880",
           "#FF97FF",
           "#FECB52"
          ],
          "font": {
           "color": "#2a3f5f"
          },
          "geo": {
           "bgcolor": "white",
           "lakecolor": "white",
           "landcolor": "#E5ECF6",
           "showlakes": true,
           "showland": true,
           "subunitcolor": "white"
          },
          "hoverlabel": {
           "align": "left"
          },
          "hovermode": "closest",
          "mapbox": {
           "style": "light"
          },
          "paper_bgcolor": "white",
          "plot_bgcolor": "#E5ECF6",
          "polar": {
           "angularaxis": {
            "gridcolor": "white",
            "linecolor": "white",
            "ticks": ""
           },
           "bgcolor": "#E5ECF6",
           "radialaxis": {
            "gridcolor": "white",
            "linecolor": "white",
            "ticks": ""
           }
          },
          "scene": {
           "xaxis": {
            "backgroundcolor": "#E5ECF6",
            "gridcolor": "white",
            "gridwidth": 2,
            "linecolor": "white",
            "showbackground": true,
            "ticks": "",
            "zerolinecolor": "white"
           },
           "yaxis": {
            "backgroundcolor": "#E5ECF6",
            "gridcolor": "white",
            "gridwidth": 2,
            "linecolor": "white",
            "showbackground": true,
            "ticks": "",
            "zerolinecolor": "white"
           },
           "zaxis": {
            "backgroundcolor": "#E5ECF6",
            "gridcolor": "white",
            "gridwidth": 2,
            "linecolor": "white",
            "showbackground": true,
            "ticks": "",
            "zerolinecolor": "white"
           }
          },
          "shapedefaults": {
           "line": {
            "color": "#2a3f5f"
           }
          },
          "ternary": {
           "aaxis": {
            "gridcolor": "white",
            "linecolor": "white",
            "ticks": ""
           },
           "baxis": {
            "gridcolor": "white",
            "linecolor": "white",
            "ticks": ""
           },
           "bgcolor": "#E5ECF6",
           "caxis": {
            "gridcolor": "white",
            "linecolor": "white",
            "ticks": ""
           }
          },
          "title": {
           "x": 0.05
          },
          "xaxis": {
           "automargin": true,
           "gridcolor": "white",
           "linecolor": "white",
           "ticks": "",
           "title": {
            "standoff": 15
           },
           "zerolinecolor": "white",
           "zerolinewidth": 2
          },
          "yaxis": {
           "automargin": true,
           "gridcolor": "white",
           "linecolor": "white",
           "ticks": "",
           "title": {
            "standoff": 15
           },
           "zerolinecolor": "white",
           "zerolinewidth": 2
          }
         }
        },
        "title": {
         "text": "Odległość rakiety<b> Falcon 1🚀</b> od Ziemi po starcie"
        },
        "xaxis": {
         "title": {
          "text": "czas[s]"
         }
        },
        "yaxis": {
         "title": {
          "text": "odległość [m]"
         }
        }
       }
      }
     },
     "metadata": {},
     "output_type": "display_data"
    }
   ],
   "source": [
    "fig1 = ex.scatter(\n",
    "    df_falcon, \n",
    "    x='czas', \n",
    "    y=['filtr alfa', 'filtr alfa-beta', 'filtr alfa-beta-gama', 'kalman 1-d'], \n",
    "    title='Wartość prędkości w kolejnych pomiarach',\n",
    "    )\n",
    "fig2 = ex.line(\n",
    "    df_falcon,\n",
    "    x='czas', \n",
    "    y='odległość rzeczywista',\n",
    ")\n",
    "\n",
    "fig2.update_traces(line_color='green', name='real')\n",
    "fig = go.Figure(\n",
    "    data=fig1.data + fig2.data\n",
    "    )\n",
    "fig.update_layout(\n",
    "    xaxis_title=\"czas[s]\",\n",
    "    yaxis_title=\"odległość [m]\",\n",
    "    title='Odległość rakiety<b> Falcon 1🚀</b> od Ziemi po starcie'\n",
    ")\n",
    "fig.show()"
   ]
  },
  {
   "cell_type": "code",
   "execution_count": 24,
   "id": "aa7b9b3a",
   "metadata": {},
   "outputs": [],
   "source": [
    "columns = df_falcon.columns\n",
    "columns = list(columns[3:])\n",
    "columns.remove('filtr alfa')"
   ]
  },
  {
   "cell_type": "code",
   "execution_count": 25,
   "id": "aabb52db",
   "metadata": {},
   "outputs": [],
   "source": [
    "sqr_errors = []\n",
    "\n",
    "for f in columns:\n",
    "    sqr_errors.append(mean_squared_error(df_falcon['odległość rzeczywista'], df_falcon[f]))\n",
    "\n",
    "errors = pd.DataFrame()\n",
    "errors['filters'] = columns\n",
    "errors['error'] = sqr_errors"
   ]
  },
  {
   "cell_type": "code",
   "execution_count": 26,
   "id": "f2b31e25",
   "metadata": {},
   "outputs": [
    {
     "data": {
      "application/vnd.plotly.v1+json": {
       "config": {
        "plotlyServerURL": "https://plot.ly"
       },
       "data": [
        {
         "alignmentgroup": "True",
         "hovertemplate": "filters=%{x}<br>error=%{y}<extra></extra>",
         "legendgroup": "",
         "marker": {
          "color": "#636efa",
          "pattern": {
           "shape": ""
          }
         },
         "name": "",
         "offsetgroup": "",
         "orientation": "v",
         "showlegend": false,
         "textposition": "auto",
         "type": "bar",
         "x": [
          "filtr alfa-beta",
          "filtr alfa-beta-gama",
          "kalman 1-d"
         ],
         "xaxis": "x",
         "y": [
          98272734.86820343,
          169936597.99437922,
          540.3810655611036
         ],
         "yaxis": "y"
        }
       ],
       "layout": {
        "barmode": "relative",
        "legend": {
         "tracegroupgap": 0
        },
        "margin": {
         "t": 60
        },
        "template": {
         "data": {
          "bar": [
           {
            "error_x": {
             "color": "#2a3f5f"
            },
            "error_y": {
             "color": "#2a3f5f"
            },
            "marker": {
             "line": {
              "color": "#E5ECF6",
              "width": 0.5
             },
             "pattern": {
              "fillmode": "overlay",
              "size": 10,
              "solidity": 0.2
             }
            },
            "type": "bar"
           }
          ],
          "barpolar": [
           {
            "marker": {
             "line": {
              "color": "#E5ECF6",
              "width": 0.5
             },
             "pattern": {
              "fillmode": "overlay",
              "size": 10,
              "solidity": 0.2
             }
            },
            "type": "barpolar"
           }
          ],
          "carpet": [
           {
            "aaxis": {
             "endlinecolor": "#2a3f5f",
             "gridcolor": "white",
             "linecolor": "white",
             "minorgridcolor": "white",
             "startlinecolor": "#2a3f5f"
            },
            "baxis": {
             "endlinecolor": "#2a3f5f",
             "gridcolor": "white",
             "linecolor": "white",
             "minorgridcolor": "white",
             "startlinecolor": "#2a3f5f"
            },
            "type": "carpet"
           }
          ],
          "choropleth": [
           {
            "colorbar": {
             "outlinewidth": 0,
             "ticks": ""
            },
            "type": "choropleth"
           }
          ],
          "contour": [
           {
            "colorbar": {
             "outlinewidth": 0,
             "ticks": ""
            },
            "colorscale": [
             [
              0,
              "#0d0887"
             ],
             [
              0.1111111111111111,
              "#46039f"
             ],
             [
              0.2222222222222222,
              "#7201a8"
             ],
             [
              0.3333333333333333,
              "#9c179e"
             ],
             [
              0.4444444444444444,
              "#bd3786"
             ],
             [
              0.5555555555555556,
              "#d8576b"
             ],
             [
              0.6666666666666666,
              "#ed7953"
             ],
             [
              0.7777777777777778,
              "#fb9f3a"
             ],
             [
              0.8888888888888888,
              "#fdca26"
             ],
             [
              1,
              "#f0f921"
             ]
            ],
            "type": "contour"
           }
          ],
          "contourcarpet": [
           {
            "colorbar": {
             "outlinewidth": 0,
             "ticks": ""
            },
            "type": "contourcarpet"
           }
          ],
          "heatmap": [
           {
            "colorbar": {
             "outlinewidth": 0,
             "ticks": ""
            },
            "colorscale": [
             [
              0,
              "#0d0887"
             ],
             [
              0.1111111111111111,
              "#46039f"
             ],
             [
              0.2222222222222222,
              "#7201a8"
             ],
             [
              0.3333333333333333,
              "#9c179e"
             ],
             [
              0.4444444444444444,
              "#bd3786"
             ],
             [
              0.5555555555555556,
              "#d8576b"
             ],
             [
              0.6666666666666666,
              "#ed7953"
             ],
             [
              0.7777777777777778,
              "#fb9f3a"
             ],
             [
              0.8888888888888888,
              "#fdca26"
             ],
             [
              1,
              "#f0f921"
             ]
            ],
            "type": "heatmap"
           }
          ],
          "heatmapgl": [
           {
            "colorbar": {
             "outlinewidth": 0,
             "ticks": ""
            },
            "colorscale": [
             [
              0,
              "#0d0887"
             ],
             [
              0.1111111111111111,
              "#46039f"
             ],
             [
              0.2222222222222222,
              "#7201a8"
             ],
             [
              0.3333333333333333,
              "#9c179e"
             ],
             [
              0.4444444444444444,
              "#bd3786"
             ],
             [
              0.5555555555555556,
              "#d8576b"
             ],
             [
              0.6666666666666666,
              "#ed7953"
             ],
             [
              0.7777777777777778,
              "#fb9f3a"
             ],
             [
              0.8888888888888888,
              "#fdca26"
             ],
             [
              1,
              "#f0f921"
             ]
            ],
            "type": "heatmapgl"
           }
          ],
          "histogram": [
           {
            "marker": {
             "pattern": {
              "fillmode": "overlay",
              "size": 10,
              "solidity": 0.2
             }
            },
            "type": "histogram"
           }
          ],
          "histogram2d": [
           {
            "colorbar": {
             "outlinewidth": 0,
             "ticks": ""
            },
            "colorscale": [
             [
              0,
              "#0d0887"
             ],
             [
              0.1111111111111111,
              "#46039f"
             ],
             [
              0.2222222222222222,
              "#7201a8"
             ],
             [
              0.3333333333333333,
              "#9c179e"
             ],
             [
              0.4444444444444444,
              "#bd3786"
             ],
             [
              0.5555555555555556,
              "#d8576b"
             ],
             [
              0.6666666666666666,
              "#ed7953"
             ],
             [
              0.7777777777777778,
              "#fb9f3a"
             ],
             [
              0.8888888888888888,
              "#fdca26"
             ],
             [
              1,
              "#f0f921"
             ]
            ],
            "type": "histogram2d"
           }
          ],
          "histogram2dcontour": [
           {
            "colorbar": {
             "outlinewidth": 0,
             "ticks": ""
            },
            "colorscale": [
             [
              0,
              "#0d0887"
             ],
             [
              0.1111111111111111,
              "#46039f"
             ],
             [
              0.2222222222222222,
              "#7201a8"
             ],
             [
              0.3333333333333333,
              "#9c179e"
             ],
             [
              0.4444444444444444,
              "#bd3786"
             ],
             [
              0.5555555555555556,
              "#d8576b"
             ],
             [
              0.6666666666666666,
              "#ed7953"
             ],
             [
              0.7777777777777778,
              "#fb9f3a"
             ],
             [
              0.8888888888888888,
              "#fdca26"
             ],
             [
              1,
              "#f0f921"
             ]
            ],
            "type": "histogram2dcontour"
           }
          ],
          "mesh3d": [
           {
            "colorbar": {
             "outlinewidth": 0,
             "ticks": ""
            },
            "type": "mesh3d"
           }
          ],
          "parcoords": [
           {
            "line": {
             "colorbar": {
              "outlinewidth": 0,
              "ticks": ""
             }
            },
            "type": "parcoords"
           }
          ],
          "pie": [
           {
            "automargin": true,
            "type": "pie"
           }
          ],
          "scatter": [
           {
            "fillpattern": {
             "fillmode": "overlay",
             "size": 10,
             "solidity": 0.2
            },
            "type": "scatter"
           }
          ],
          "scatter3d": [
           {
            "line": {
             "colorbar": {
              "outlinewidth": 0,
              "ticks": ""
             }
            },
            "marker": {
             "colorbar": {
              "outlinewidth": 0,
              "ticks": ""
             }
            },
            "type": "scatter3d"
           }
          ],
          "scattercarpet": [
           {
            "marker": {
             "colorbar": {
              "outlinewidth": 0,
              "ticks": ""
             }
            },
            "type": "scattercarpet"
           }
          ],
          "scattergeo": [
           {
            "marker": {
             "colorbar": {
              "outlinewidth": 0,
              "ticks": ""
             }
            },
            "type": "scattergeo"
           }
          ],
          "scattergl": [
           {
            "marker": {
             "colorbar": {
              "outlinewidth": 0,
              "ticks": ""
             }
            },
            "type": "scattergl"
           }
          ],
          "scattermapbox": [
           {
            "marker": {
             "colorbar": {
              "outlinewidth": 0,
              "ticks": ""
             }
            },
            "type": "scattermapbox"
           }
          ],
          "scatterpolar": [
           {
            "marker": {
             "colorbar": {
              "outlinewidth": 0,
              "ticks": ""
             }
            },
            "type": "scatterpolar"
           }
          ],
          "scatterpolargl": [
           {
            "marker": {
             "colorbar": {
              "outlinewidth": 0,
              "ticks": ""
             }
            },
            "type": "scatterpolargl"
           }
          ],
          "scatterternary": [
           {
            "marker": {
             "colorbar": {
              "outlinewidth": 0,
              "ticks": ""
             }
            },
            "type": "scatterternary"
           }
          ],
          "surface": [
           {
            "colorbar": {
             "outlinewidth": 0,
             "ticks": ""
            },
            "colorscale": [
             [
              0,
              "#0d0887"
             ],
             [
              0.1111111111111111,
              "#46039f"
             ],
             [
              0.2222222222222222,
              "#7201a8"
             ],
             [
              0.3333333333333333,
              "#9c179e"
             ],
             [
              0.4444444444444444,
              "#bd3786"
             ],
             [
              0.5555555555555556,
              "#d8576b"
             ],
             [
              0.6666666666666666,
              "#ed7953"
             ],
             [
              0.7777777777777778,
              "#fb9f3a"
             ],
             [
              0.8888888888888888,
              "#fdca26"
             ],
             [
              1,
              "#f0f921"
             ]
            ],
            "type": "surface"
           }
          ],
          "table": [
           {
            "cells": {
             "fill": {
              "color": "#EBF0F8"
             },
             "line": {
              "color": "white"
             }
            },
            "header": {
             "fill": {
              "color": "#C8D4E3"
             },
             "line": {
              "color": "white"
             }
            },
            "type": "table"
           }
          ]
         },
         "layout": {
          "annotationdefaults": {
           "arrowcolor": "#2a3f5f",
           "arrowhead": 0,
           "arrowwidth": 1
          },
          "autotypenumbers": "strict",
          "coloraxis": {
           "colorbar": {
            "outlinewidth": 0,
            "ticks": ""
           }
          },
          "colorscale": {
           "diverging": [
            [
             0,
             "#8e0152"
            ],
            [
             0.1,
             "#c51b7d"
            ],
            [
             0.2,
             "#de77ae"
            ],
            [
             0.3,
             "#f1b6da"
            ],
            [
             0.4,
             "#fde0ef"
            ],
            [
             0.5,
             "#f7f7f7"
            ],
            [
             0.6,
             "#e6f5d0"
            ],
            [
             0.7,
             "#b8e186"
            ],
            [
             0.8,
             "#7fbc41"
            ],
            [
             0.9,
             "#4d9221"
            ],
            [
             1,
             "#276419"
            ]
           ],
           "sequential": [
            [
             0,
             "#0d0887"
            ],
            [
             0.1111111111111111,
             "#46039f"
            ],
            [
             0.2222222222222222,
             "#7201a8"
            ],
            [
             0.3333333333333333,
             "#9c179e"
            ],
            [
             0.4444444444444444,
             "#bd3786"
            ],
            [
             0.5555555555555556,
             "#d8576b"
            ],
            [
             0.6666666666666666,
             "#ed7953"
            ],
            [
             0.7777777777777778,
             "#fb9f3a"
            ],
            [
             0.8888888888888888,
             "#fdca26"
            ],
            [
             1,
             "#f0f921"
            ]
           ],
           "sequentialminus": [
            [
             0,
             "#0d0887"
            ],
            [
             0.1111111111111111,
             "#46039f"
            ],
            [
             0.2222222222222222,
             "#7201a8"
            ],
            [
             0.3333333333333333,
             "#9c179e"
            ],
            [
             0.4444444444444444,
             "#bd3786"
            ],
            [
             0.5555555555555556,
             "#d8576b"
            ],
            [
             0.6666666666666666,
             "#ed7953"
            ],
            [
             0.7777777777777778,
             "#fb9f3a"
            ],
            [
             0.8888888888888888,
             "#fdca26"
            ],
            [
             1,
             "#f0f921"
            ]
           ]
          },
          "colorway": [
           "#636efa",
           "#EF553B",
           "#00cc96",
           "#ab63fa",
           "#FFA15A",
           "#19d3f3",
           "#FF6692",
           "#B6E880",
           "#FF97FF",
           "#FECB52"
          ],
          "font": {
           "color": "#2a3f5f"
          },
          "geo": {
           "bgcolor": "white",
           "lakecolor": "white",
           "landcolor": "#E5ECF6",
           "showlakes": true,
           "showland": true,
           "subunitcolor": "white"
          },
          "hoverlabel": {
           "align": "left"
          },
          "hovermode": "closest",
          "mapbox": {
           "style": "light"
          },
          "paper_bgcolor": "white",
          "plot_bgcolor": "#E5ECF6",
          "polar": {
           "angularaxis": {
            "gridcolor": "white",
            "linecolor": "white",
            "ticks": ""
           },
           "bgcolor": "#E5ECF6",
           "radialaxis": {
            "gridcolor": "white",
            "linecolor": "white",
            "ticks": ""
           }
          },
          "scene": {
           "xaxis": {
            "backgroundcolor": "#E5ECF6",
            "gridcolor": "white",
            "gridwidth": 2,
            "linecolor": "white",
            "showbackground": true,
            "ticks": "",
            "zerolinecolor": "white"
           },
           "yaxis": {
            "backgroundcolor": "#E5ECF6",
            "gridcolor": "white",
            "gridwidth": 2,
            "linecolor": "white",
            "showbackground": true,
            "ticks": "",
            "zerolinecolor": "white"
           },
           "zaxis": {
            "backgroundcolor": "#E5ECF6",
            "gridcolor": "white",
            "gridwidth": 2,
            "linecolor": "white",
            "showbackground": true,
            "ticks": "",
            "zerolinecolor": "white"
           }
          },
          "shapedefaults": {
           "line": {
            "color": "#2a3f5f"
           }
          },
          "ternary": {
           "aaxis": {
            "gridcolor": "white",
            "linecolor": "white",
            "ticks": ""
           },
           "baxis": {
            "gridcolor": "white",
            "linecolor": "white",
            "ticks": ""
           },
           "bgcolor": "#E5ECF6",
           "caxis": {
            "gridcolor": "white",
            "linecolor": "white",
            "ticks": ""
           }
          },
          "title": {
           "x": 0.05
          },
          "xaxis": {
           "automargin": true,
           "gridcolor": "white",
           "linecolor": "white",
           "ticks": "",
           "title": {
            "standoff": 15
           },
           "zerolinecolor": "white",
           "zerolinewidth": 2
          },
          "yaxis": {
           "automargin": true,
           "gridcolor": "white",
           "linecolor": "white",
           "ticks": "",
           "title": {
            "standoff": 15
           },
           "zerolinecolor": "white",
           "zerolinewidth": 2
          }
         }
        },
        "xaxis": {
         "anchor": "y",
         "domain": [
          0,
          1
         ],
         "title": {
          "text": "filters"
         }
        },
        "yaxis": {
         "anchor": "x",
         "domain": [
          0,
          1
         ],
         "title": {
          "text": "error"
         },
         "type": "log"
        }
       }
      }
     },
     "metadata": {},
     "output_type": "display_data"
    }
   ],
   "source": [
    "fig = ex.bar(errors, x='filters', y='error', log_y=True)\n",
    "fig.show()"
   ]
  },
  {
   "cell_type": "code",
   "execution_count": 27,
   "id": "19084b88",
   "metadata": {},
   "outputs": [
    {
     "data": {
      "text/html": [
       "<div>\n",
       "<style scoped>\n",
       "    .dataframe tbody tr th:only-of-type {\n",
       "        vertical-align: middle;\n",
       "    }\n",
       "\n",
       "    .dataframe tbody tr th {\n",
       "        vertical-align: top;\n",
       "    }\n",
       "\n",
       "    .dataframe thead th {\n",
       "        text-align: right;\n",
       "    }\n",
       "</style>\n",
       "<table border=\"1\" class=\"dataframe\">\n",
       "  <thead>\n",
       "    <tr style=\"text-align: right;\">\n",
       "      <th></th>\n",
       "      <th>filters</th>\n",
       "      <th>error</th>\n",
       "    </tr>\n",
       "  </thead>\n",
       "  <tbody>\n",
       "    <tr>\n",
       "      <th>0</th>\n",
       "      <td>filtr alfa-beta</td>\n",
       "      <td>9.827273e+07</td>\n",
       "    </tr>\n",
       "    <tr>\n",
       "      <th>1</th>\n",
       "      <td>filtr alfa-beta-gama</td>\n",
       "      <td>1.699366e+08</td>\n",
       "    </tr>\n",
       "    <tr>\n",
       "      <th>2</th>\n",
       "      <td>kalman 1-d</td>\n",
       "      <td>5.403811e+02</td>\n",
       "    </tr>\n",
       "  </tbody>\n",
       "</table>\n",
       "</div>"
      ],
      "text/plain": [
       "                filters         error\n",
       "0       filtr alfa-beta  9.827273e+07\n",
       "1  filtr alfa-beta-gama  1.699366e+08\n",
       "2            kalman 1-d  5.403811e+02"
      ]
     },
     "execution_count": 27,
     "metadata": {},
     "output_type": "execute_result"
    }
   ],
   "source": [
    "errors"
   ]
  }
 ],
 "metadata": {
  "interpreter": {
   "hash": "11938c6bc6919ae2720b4d5011047913343b08a43b18698fd82dedb0d4417594"
  },
  "kernelspec": {
   "display_name": "Python 3.9.12 64-bit",
   "language": "python",
   "name": "python3"
  },
  "language_info": {
   "codemirror_mode": {
    "name": "ipython",
    "version": 3
   },
   "file_extension": ".py",
   "mimetype": "text/x-python",
   "name": "python",
   "nbconvert_exporter": "python",
   "pygments_lexer": "ipython3",
   "version": "3.9.12"
  }
 },
 "nbformat": 4,
 "nbformat_minor": 5
}
