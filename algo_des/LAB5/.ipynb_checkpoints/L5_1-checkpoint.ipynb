{
 "cells": [
  {
   "cell_type": "markdown",
   "metadata": {},
   "source": [
    "## Zadanie 1 - rozkład na czynniki pierwsze. ##\n",
    "Zaimplementuj funkcję $czp(p)$ która zwróci listę czynników pierwszych zadanej liczby naturalnej $n$. Zrób to\n",
    "rekurencyjnie sprawdzając podzielność liczby przez kolejne liczby naturalne (aż do $ \\sqrt[2]{n} $) – rekurencja pojawia\n",
    "się, gdy liczba jest podzielna – wtedy uruchamiamy algorytm na jej dzielnikach, o ile nie są pierwsze."
   ]
  },
  {
   "cell_type": "code",
   "execution_count": 1,
   "metadata": {},
   "outputs": [],
   "source": [
    "from math import sqrt\n",
    "import numpy as np"
   ]
  },
  {
   "cell_type": "code",
   "execution_count": 10,
   "metadata": {},
   "outputs": [
    {
     "name": "stdout",
     "output_type": "stream",
     "text": [
      "[1]\n"
     ]
    }
   ],
   "source": [
    "def czp(p):\n",
    "    devidors = []\n",
    "    if p == 1:\n",
    "        return [1]\n",
    "    else:\n",
    "        devidors.append(1)\n",
    "\n",
    "    for n in range(2, int(sqrt(p))+1):\n",
    "\n",
    "        if p % n == 0:\n",
    "            devidors.append(n)\n",
    "            devs = czp(n)\n",
    "            \n",
    "            for i in devs:\n",
    "                if i not in devidors:\n",
    "                    devidors.append(i)\n",
    "    \n",
    "    \n",
    "    return devidors\n",
    "\n",
    "print(czp(127))\n",
    "\n",
    "\n",
    "\n",
    "        "
   ]
  },
  {
   "cell_type": "markdown",
   "metadata": {},
   "source": [
    "## Zadanie 1.2 - $sito\\ Eratostenesa$ ##"
   ]
  },
  {
   "cell_type": "code",
   "execution_count": null,
   "metadata": {},
   "outputs": [],
   "source": [
    "def sera(p):\n",
    "    if p <= 1:\n",
    "        return\n",
    "    x = np.ones(p-1)\n",
    "    for n in range(int(sqrt(p))):\n",
    "        if x[n] == 1:\n",
    "            for j in range(int(sqrt(p)/2)):\n",
    "                "
   ]
  },
  {
   "cell_type": "code",
   "execution_count": null,
   "metadata": {},
   "outputs": [],
   "source": []
  }
 ],
 "metadata": {
  "interpreter": {
   "hash": "1f89e5638bc21e5a353878479e7a3da0844c21839df4668e59f62c45fd240760"
  },
  "kernelspec": {
   "display_name": "Python 3 (ipykernel)",
   "language": "python",
   "name": "python3"
  },
  "language_info": {
   "codemirror_mode": {
    "name": "ipython",
    "version": 3
   },
   "file_extension": ".py",
   "mimetype": "text/x-python",
   "name": "python",
   "nbconvert_exporter": "python",
   "pygments_lexer": "ipython3",
   "version": "3.9.0"
  }
 },
 "nbformat": 4,
 "nbformat_minor": 2
}
