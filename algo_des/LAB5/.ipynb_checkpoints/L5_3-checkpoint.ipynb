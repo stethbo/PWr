{
 "cells": [
  {
   "cell_type": "markdown",
   "metadata": {},
   "source": [
    "## Zadanie 3 - probabilistyczne testy pierwszości ##\n",
    "Zaimplementuj dwa algorytmy probabilistycznego testowania pierwszości\\\n",
    "&emsp;• test Fermata,\\\n",
    "&emsp;• test Millera-Rabina.\\\n",
    "Wykorzystaj szybki algorytm potęgowania modulo.\\\n",
    "**Test Fermata** dla liczby p polega na wielokrotnym losowaniu liczby $q$ takiej, że $ q\\; \\in [1, 2, 3,..., p)\\;$, oraz $q$, $p$ są względnie pierwsze. Następnie sprawdzamy, czy $q^{p−1}\\; mod\\; p\\; =\\; 1$. Jeśli nie, to liczba $p$ nie jest pierwsza.\n",
    "Jeśli natomiast test wyjdzie pozytywnie dla wielu $q$, to liczba $p$ prawdopodobnie jest pierwsza (im więcej\n",
    "testów, tym większe prawdopodobieństwo)."
   ]
  },
  {
   "cell_type": "code",
   "execution_count": 2,
   "metadata": {},
   "outputs": [],
   "source": [
    "import numpy as np"
   ]
  },
  {
   "cell_type": "code",
   "execution_count": 3,
   "metadata": {},
   "outputs": [],
   "source": [
    "# Algorytm Euklidesa dla 2 liczb x, y zwraca NWD\n",
    "def euclides(x, y):\n",
    "    if y == 0:\n",
    "        return x\n",
    "    else: \n",
    "        return euclides(y, x%y)"
   ]
  },
  {
   "cell_type": "code",
   "execution_count": 4,
   "metadata": {},
   "outputs": [],
   "source": [
    "# Funkcja kontrolna sprawdza czy liczba x jest pierwsza\n",
    "def is_prime(x):\n",
    "    if x <= 1:\n",
    "        return False\n",
    "    for n in range(2, int(x/2)):\n",
    "        if x % n == 0:\n",
    "            return False\n",
    "    return True"
   ]
  },
  {
   "cell_type": "code",
   "execution_count": 5,
   "metadata": {
    "vscode": {
     "languageId": "plaintext"
    }
   },
   "outputs": [
    {
     "name": "stdout",
     "output_type": "stream",
     "text": [
      "100 %\n"
     ]
    },
    {
     "data": {
      "text/plain": [
       "'Prawdopodobnie pierwsza'"
      ]
     },
     "execution_count": 5,
     "metadata": {},
     "output_type": "execute_result"
    }
   ],
   "source": [
    "# Test Fermata\n",
    "def fermat(p):\n",
    "    t = 0  # licznik przypadków prawdziwych (prawdopodobnie pierwsza)\n",
    "    f = 0  # licznik przypadków fałszywych prawdopodobnie złożona\n",
    "    \n",
    "    for q in range(2, p+1):\n",
    "        # sprawdzamy czy q, p są względnie pierwsze ( NWD = 1)\n",
    "        if euclides(q, p) == 1:\n",
    "            # test pierwszości \n",
    "            if q ** (p - 1) % p == 1:\n",
    "                t+=1\n",
    "            else:\n",
    "                f+=1\n",
    "    \n",
    "    # jeśli w 75% przypadków q^(p-1) mod p = 1 zwracamy (prawdopodobnie pierwsza)\n",
    "    if t / (f+t) > 0.75:\n",
    "        print(int(t / (f+t) * 100), '%')\n",
    "        return 'Prawdopodobnie pierwsza'\n",
    "    else:\n",
    "        print(int(t / (f+t) * 100), '%')\n",
    "        return 'Złożona'\n",
    "\n",
    "fermat(997)"
   ]
  },
  {
   "cell_type": "markdown",
   "metadata": {},
   "source": [
    "**Test Millera-Rabina** dla nieparzystej liczby p > 1 zaczyna się od przedstawienia tej liczby w postaci\n",
    "$p = 2^r \\times q+1$ (czyli od znalezienia r, a w konsekwencji q). Następnie wykonujemy:\n",
    "1. losuj $a \\in [2, p − 2]$\n",
    "2. niech $x = a^q \\;mod\\; p$\n",
    "3. jeśli $x \\in {[1, p − 1]}$ to wracamy do pkt. 1\n",
    "4. Powtarzaj $r − 1$ razy\n",
    "5. $x := x^2\\;mod\\; p$\n",
    "6. Jeśli $x = \\;p − 1$ to zwróć: prawdopodobnie piewsza\n",
    "7. zwróć: złożona\\\n",
    "\\\n",
    "Przedstawioną procedurę potwarzamy wielokrotnie. Każde powtórzenie, które nie stwierdza, że liczba p jest\n",
    "złożona zwiększa prawdopodobieństwo, że jest ona piewsza.\\\n",
    "\n",
    "write n as 2r·d + 1 with d odd (by factoring out powers of 2 from n − 1)\\\n",
    "WitnessLoop: repeat $k$ times:\\\n",
    "    pick a random integer a in the range [2, n − 2]\\\n",
    "    x ← ad mod n\\\n",
    "    if x = 1 or x = n − 1 then\\\n",
    "        continue WitnessLoop\\\n",
    "    repeat r − 1 times:\\\n",
    "        $x ← x^2 mod n$\n",
    "        if x = n − 1 then\\\n",
    "            continue WitnessLoop\\\n",
    "    return “composite”\\\n",
    "return “probably prime”\\"
   ]
  },
  {
   "cell_type": "code",
   "execution_count": 35,
   "metadata": {},
   "outputs": [
    {
     "name": "stdout",
     "output_type": "stream",
     "text": [
      "Złożona\n"
     ]
    }
   ],
   "source": [
    "from time import sleep\n",
    "\n",
    "def miller_rabin(p, k):\n",
    "    \"\"\"\n",
    "    Funkcja wykonująca test Millera-Rabina\n",
    "    :param int p: p>3 nieparzysta liczba do przetestowania\n",
    "    :param int k: liczba pętli do wykonania\n",
    "    :return string: informacj o złożoności liczby 'złożona' lub 'prawdopodobnie pierwsza'\n",
    "    \"\"\"\n",
    "    \n",
    "    # test wykonujemy dla nieparzystych p większych od 1\n",
    "    if p <= 1 or p % 2 == 0:\n",
    "        return\n",
    "\n",
    "    \n",
    "    # ustalenie q i r tak że p = 2^r * q + 1\n",
    "    for i in range(1, p):\n",
    "        for j in range(p):\n",
    "            if 2 ** i * j + 1 == p:\n",
    "                r = i\n",
    "                q = j\n",
    "                \n",
    "    for _ in range(k): # wykonujemy pętle tyle ile zadaliśmy w parametrze\n",
    "        a = np.random.randint(2, p-1)\n",
    "        x = a ** q % p\n",
    "        if x == 1 or x == p - 1:\n",
    "            pass\n",
    "        for _ in range(r - 1):\n",
    "            x = x ** 2 % p\n",
    "            if x == p - 1:\n",
    "                continue\n",
    "        else:\n",
    "            return 'Złożona'\n",
    "                \n",
    "    return 'Prawdopodobnie pierwsza'\n",
    "        \n",
    "        \n",
    "        \n",
    "    \n",
    "\n",
    "print(miller_rabin(85, 10))\n",
    "    "
   ]
  },
  {
   "cell_type": "code",
   "execution_count": 15,
   "metadata": {},
   "outputs": [
    {
     "data": {
      "text/plain": [
       "True"
      ]
     },
     "execution_count": 15,
     "metadata": {},
     "output_type": "execute_result"
    }
   ],
   "source": [
    "is_prime(101)"
   ]
  }
 ],
 "metadata": {
  "kernelspec": {
   "display_name": "Python 3 (ipykernel)",
   "language": "python",
   "name": "python3"
  },
  "language_info": {
   "codemirror_mode": {
    "name": "ipython",
    "version": 3
   },
   "file_extension": ".py",
   "mimetype": "text/x-python",
   "name": "python",
   "nbconvert_exporter": "python",
   "pygments_lexer": "ipython3",
   "version": "3.9.0"
  }
 },
 "nbformat": 4,
 "nbformat_minor": 4
}
