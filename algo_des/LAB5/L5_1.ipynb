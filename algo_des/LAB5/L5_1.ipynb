{
 "cells": [
  {
   "cell_type": "markdown",
   "metadata": {},
   "source": [
    "## Zadanie 1 - rozkład na czynniki pierwsze. ##\n",
    "Zaimplementuj funkcję $czp(p)$ która zwróci listę czynników pierwszych zadanej liczby naturalnej $n$. Zrób to\n",
    "rekurencyjnie sprawdzając podzielność liczby przez kolejne liczby naturalne (aż do $ \\sqrt[2]{n} $) – rekurencja pojawia\n",
    "się, gdy liczba jest podzielna – wtedy uruchamiamy algorytm na jej dzielnikach, o ile nie są pierwsze."
   ]
  },
  {
   "cell_type": "code",
   "execution_count": 2,
   "metadata": {},
   "outputs": [],
   "source": [
    "from math import sqrt\n",
    "import numpy as np"
   ]
  },
  {
   "cell_type": "code",
   "execution_count": 3,
   "metadata": {},
   "outputs": [
    {
     "name": "stdout",
     "output_type": "stream",
     "text": [
      "[1, 2]\n"
     ]
    }
   ],
   "source": [
    "def czp(p):\n",
    "    devidors = []\n",
    "    if p == 1:\n",
    "        return [1]\n",
    "    else:\n",
    "        devidors.append(1)\n",
    "\n",
    "    for n in range(2, int(sqrt(p))+1):\n",
    "\n",
    "        if p % n == 0:\n",
    "            devidors.append(n)\n",
    "            devs = czp(n)\n",
    "            \n",
    "            for i in devs:\n",
    "                if i not in devidors:\n",
    "                    devidors.append(i)\n",
    "    \n",
    "    \n",
    "    return devidors\n",
    "\n",
    "print(czp(6))\n",
    "\n",
    "\n",
    "\n",
    "        "
   ]
  },
  {
   "cell_type": "code",
   "execution_count": 7,
   "metadata": {},
   "outputs": [
    {
     "data": {
      "text/plain": [
       "[167, 2]"
      ]
     },
     "execution_count": 7,
     "metadata": {},
     "output_type": "execute_result"
    }
   ],
   "source": [
    "def czp(number):\n",
    "    res = []\n",
    "    start = 2 #szukam dzielnika, zaczynam od 2\n",
    "    while start < sqrt(number): #sprawdzam podzielność liczby przez kolejne liczby naturalne (aż do √n)\n",
    "        if number % start == 0: #warunek sprawdzenia podzielnosci\n",
    "            return czp(number // start) + czp(start) # jak znajdujemyu jakis dzielnik to zwracamy dzielnik jego dzielnika i dzielnki tego drugiego rekurencja\n",
    "        else:\n",
    "            start += 1\n",
    "    if not res: #sprawdzenie czy liczba jes pierwsza\n",
    "        return [number]\n",
    "\n",
    "czp(334)"
   ]
  },
  {
   "cell_type": "markdown",
   "metadata": {},
   "source": [
    "## Zadanie 1.2 - $sito\\ Eratostenesa$ ##"
   ]
  },
  {
   "cell_type": "code",
   "execution_count": null,
   "metadata": {},
   "outputs": [],
   "source": [
    "def sera(p):\n",
    "    if p <= 1:\n",
    "        return\n",
    "    x = np.ones(p-1)\n",
    "    for n in range(int(sqrt(p))):\n",
    "        if x[n] == 1:\n",
    "            for j in range(int(sqrt(p)/2)):\n",
    "                "
   ]
  },
  {
   "cell_type": "code",
   "execution_count": null,
   "metadata": {},
   "outputs": [],
   "source": []
  }
 ],
 "metadata": {
  "interpreter": {
   "hash": "1f89e5638bc21e5a353878479e7a3da0844c21839df4668e59f62c45fd240760"
  },
  "kernelspec": {
   "display_name": "Python 3 (ipykernel)",
   "language": "python",
   "name": "python3"
  },
  "language_info": {
   "codemirror_mode": {
    "name": "ipython",
    "version": 3
   },
   "file_extension": ".py",
   "mimetype": "text/x-python",
   "name": "python",
   "nbconvert_exporter": "python",
   "pygments_lexer": "ipython3",
   "version": "3.9.0"
  }
 },
 "nbformat": 4,
 "nbformat_minor": 4
}
