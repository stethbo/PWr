{
 "cells": [
  {
   "cell_type": "markdown",
   "id": "2d9363ea-fc18-4fc8-8f28-db56df940b05",
   "metadata": {},
   "source": [
    "## Zadanie 4. ##\n",
    "Zaimplementuj szybki algorytm wyznaczania dyskretnej transformaty Fouriera (FFT).\\\n",
    "• Zaimplementuj naiwną procedurę mnożenia wielomianów reprezentowanych przez współczynniki.\n",
    "\n",
    "• Zaimplementuj szybką procedurę mnożenia wielomianów reprezentowanych przez współczynniki (wykorzystaj FFT)\n",
    "\n",
    "• Eksperymentalnie zbadaj szybkość obu procedur dla rosnącego stopnia wielomianu. Wyniki przedstaw\n",
    "na wykresie czasu działania algorytmu od rozmiaru wielomianu.\n",
    "    \n"
   ]
  },
  {
   "cell_type": "code",
   "execution_count": 23,
   "id": "4debebfd-af64-4633-b276-d54173b43f76",
   "metadata": {},
   "outputs": [
    {
     "ename": "NameError",
     "evalue": "name 're1' is not defined",
     "output_type": "error",
     "traceback": [
      "\u001b[1;31m---------------------------------------------------------------------------\u001b[0m",
      "\u001b[1;31mNameError\u001b[0m                                 Traceback (most recent call last)",
      "\u001b[1;32m~\\AppData\\Local\\Temp/ipykernel_4256/1642271091.py\u001b[0m in \u001b[0;36m<module>\u001b[1;34m\u001b[0m\n\u001b[0;32m     62\u001b[0m     \u001b[0mT2\u001b[0m\u001b[1;33m.\u001b[0m\u001b[0mappend\u001b[0m\u001b[1;33m(\u001b[0m\u001b[0mtime2\u001b[0m\u001b[1;33m)\u001b[0m\u001b[1;33m\u001b[0m\u001b[1;33m\u001b[0m\u001b[0m\n\u001b[0;32m     63\u001b[0m \u001b[1;33m\u001b[0m\u001b[0m\n\u001b[1;32m---> 64\u001b[1;33m     \u001b[0mprint\u001b[0m\u001b[1;33m(\u001b[0m\u001b[0mre1\u001b[0m\u001b[1;33m)\u001b[0m\u001b[1;33m\u001b[0m\u001b[1;33m\u001b[0m\u001b[0m\n\u001b[0m\u001b[0;32m     65\u001b[0m     \u001b[0mprint\u001b[0m\u001b[1;33m(\u001b[0m\u001b[0mret2\u001b[0m\u001b[1;33m)\u001b[0m\u001b[1;33m\u001b[0m\u001b[1;33m\u001b[0m\u001b[0m\n\u001b[0;32m     66\u001b[0m \u001b[1;33m\u001b[0m\u001b[0m\n",
      "\u001b[1;31mNameError\u001b[0m: name 're1' is not defined"
     ]
    }
   ],
   "source": [
    "import numpy as np\n",
    "from timeit import default_timer as timer\n",
    "from numpy.fft import rfft, irfft\n",
    "from timeit import default_timer as timer\n",
    "from matplotlib import pyplot as plt\n",
    "\n",
    "\n",
    "def fft(x):\n",
    "    '''Oblicza FFT dla sygnału x o długości będącej potęgą 2.'''\n",
    "    N = len(x)\n",
    "    if N == 2:\n",
    "        return np.array([x[0] + x[1], x[0] - x[1]], dtype=complex)\n",
    "    Xp = fft(x[::2])\n",
    "    Xn = fft(x[1::2])\n",
    "    w = np.exp(-2 * np.pi * 1j * np.arange(N // 2) / N)\n",
    "    X = np.hstack((Xp + w * Xn, Xp - w * Xn))\n",
    "    return X\n",
    "\n",
    "\n",
    "def naive_multiply(A, B):\n",
    "    ''' Naiwne mnożenie '''\n",
    "    start = timer()\n",
    "    m = len(A)\n",
    "    n = len(B)\n",
    "    # tworzymy tablicę o wymiarach n + m - 1\n",
    "    prod = [0] * (m + n - 1)\n",
    "    \n",
    "    for i in range(m):\n",
    "        for j in range(n):\n",
    "            prod[i + j] += A[i] * B[j]\n",
    "            end = timer()\n",
    "            \n",
    "    return prod, end - start\n",
    "\n",
    "\n",
    "def fft_multiply(arr_a, arr_b):\n",
    "    start = timer()\n",
    "    L = len(arr_a) + len(arr_b)\n",
    "    # wywołanie funkcji np.rfft - zwraca jednowymiarową dyskretną transformatę fouriera\n",
    "    a_f = rfft(arr_a, L)\n",
    "    b_f = rfft(arr_b, L)\n",
    "    end = timer()\n",
    "    return irfft(a_f * b_f), end - start\n",
    "\n",
    "\n",
    "A = []\n",
    "B = []\n",
    "T1 = []\n",
    "T2 = []\n",
    "\n",
    "for _ in range(10):\n",
    "    # losowanie tablic(wielomianów)\n",
    "    A.append(np.random.randint(1, 10))\n",
    "    B.append(np.random.randint(1, 10))\n",
    "    \n",
    "    # wywołanie obu sposobów mnożenia\n",
    "    ret1, time1 = naive_multiply(A, B)\n",
    "    ret2, time2 = fft_multiply(A, B)\n",
    "    \n",
    "    # dodanie czasu do tablic(wyników)\n",
    "    T1.append(time1)\n",
    "    T2.append(time2)\n",
    "    \n",
    "    print(re1)\n",
    "    print(ret2)\n",
    "\n",
    "plt.plot(T1, color='r', label='Naiwne mnożenie')\n",
    "plt.plot(T2, color='g', label='Mnożenie FFT')\n",
    "plt.title('Czas mnożenia wielomianów dwoma metodami', size=18)\n",
    "plt.xlabel('Rozmiar')\n",
    "plt.ylabel('Czas [s]')\n",
    "plt.legend()\n",
    "plt.show()"
   ]
  },
  {
   "cell_type": "code",
   "execution_count": null,
   "id": "12be5806-8f94-4970-94ec-cfd3b5b56ca3",
   "metadata": {},
   "outputs": [],
   "source": []
  }
 ],
 "metadata": {
  "kernelspec": {
   "display_name": "Python 3 (ipykernel)",
   "language": "python",
   "name": "python3"
  },
  "language_info": {
   "codemirror_mode": {
    "name": "ipython",
    "version": 3
   },
   "file_extension": ".py",
   "mimetype": "text/x-python",
   "name": "python",
   "nbconvert_exporter": "python",
   "pygments_lexer": "ipython3",
   "version": "3.9.0"
  }
 },
 "nbformat": 4,
 "nbformat_minor": 5
}
