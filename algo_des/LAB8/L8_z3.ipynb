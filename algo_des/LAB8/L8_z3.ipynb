{
 "cells": [
  {
   "cell_type": "markdown",
   "metadata": {},
   "source": [
    "## Zadanie nr 3 – drzewa czerwono-czarne ##\n",
    "- Zaimplementuj strukturę danych do przechowywania drzewa czerowno-czarnego (drzewa przeszukiwańbinarnych o dodatkowym polu – kolorze – w każdym wierzchołku).\n",
    "- Zaimplementuj algorytm weryfikacji, czy zadane drzewo spełnia własność czerwono-czarną (każdy liść\n",
    "jest czarny, jeśli węzeł jest czerwony, to jego synowie są czarni, każda ścieżka prosta z ustalonego węzła\n",
    "do liścia ma tyle samo czarnych węzłów).\n",
    "- Zaimplementuj efektywne algorytmy:\n",
    "    - prawej i lewej rotacji,\n",
    "Prawa rotacja dwóch węzłów – ojca i prawego syna – polega na zamianie węzła ojca na węzeł\n",
    "prawego syna, a prawego syna ojca na lewego syna prawego syna. Lewa rotacja analogicznie\n",
    "    - wstawiania i usuwania węzła (przy zachowaniu własności drzewa czerwono-czarnego)."
   ]
  },
  {
   "cell_type": "code",
   "execution_count": null,
   "metadata": {},
   "outputs": [],
   "source": [
    "class RBNode:\n",
    "    def __init__(self, color, key, left, right, parent):\n",
    "        self.color = color\n",
    "        self.key = key\n",
    "        self.left = left\n",
    "        self.right = right\n",
    "        self.parent = parent"
   ]
  }
 ],
 "metadata": {
  "language_info": {
   "name": "python"
  },
  "orig_nbformat": 4
 },
 "nbformat": 4,
 "nbformat_minor": 2
}
