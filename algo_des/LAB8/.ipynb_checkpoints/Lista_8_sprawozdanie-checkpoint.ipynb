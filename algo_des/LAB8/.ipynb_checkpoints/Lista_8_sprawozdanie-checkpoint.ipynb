{
 "cells": [
  {
   "cell_type": "code",
   "execution_count": 1,
   "id": "a666bbe2-43b1-45fd-8258-3f400cd80b5a",
   "metadata": {},
   "outputs": [],
   "source": [
    "import numpy as np\n",
    "import networkx as nx\n",
    "from networkx.drawing.nx_pydot import graphviz_layout\n",
    "import matplotlib.pyplot as plt"
   ]
  },
  {
   "cell_type": "code",
   "execution_count": 2,
   "id": "fea8800d-f3fc-47df-abb1-04e0112c2498",
   "metadata": {},
   "outputs": [
    {
     "data": {
      "text/plain": [
       "array([ 7,  2, 18,  9,  3,  6, 19, 14, 10, 13])"
      ]
     },
     "execution_count": 2,
     "metadata": {},
     "output_type": "execute_result"
    }
   ],
   "source": [
    "np.random.seed(33)\n",
    "\n",
    "vec = np.random.randint(0, 20, 10)\n",
    "vec"
   ]
  },
  {
   "cell_type": "code",
   "execution_count": 3,
   "id": "c8bf6b2f",
   "metadata": {},
   "outputs": [],
   "source": [
    "class Node:\n",
    "    def __init__(self, value, left=None, right=None):\n",
    "        self.value = value\n",
    "        self.left = left\n",
    "        self.right = right\n",
    "\n",
    "    def add_left(self, value):\n",
    "        self.left = Node(value)\n",
    "\n",
    "    def add_left(self, value):\n",
    "        self.right = Node(value)\n",
    "\n",
    "    def print_graph(self):\n",
    "        if self.left:\n",
    "            self.left.print_graph()\n",
    "        print(self.value),\n",
    "        if self.right:\n",
    "            self.right.print_graph()\n",
    "            \n",
    "    def get_edges(self):\n",
    "        edges = []\n",
    "        root = self\n",
    "        if root.left:\n",
    "            edges.append((root.value, root.left.value))\n",
    "            edges += get_edges(self.left)\n",
    "        if root.right:\n",
    "            edges.append((root.value, root.right.value))\n",
    "            edges += get_edges(self.right)\n",
    "        \n",
    "        return edges\n",
    "        \n",
    "            \n",
    "    def visualize_tree(self):\n",
    "        root = self\n",
    "        edges = get_edges(self)\n",
    "            \n",
    "                \n",
    "        g = nx.Graph()\n",
    "        g.add_edges_from(edges)\n",
    "        pos = graphviz_layout(g, prog=\"twopi\")\n",
    "        nx.draw(g, pos)\n",
    "        plt.show()\n",
    "        \n",
    "    def inorder_traversal(self, root):\n",
    "        res = []\n",
    "\n",
    "        if root:\n",
    "            res = self.inorder_traversal(root.left)\n",
    "            res.append(root.value)\n",
    "            res += res + self.inorder_traversal(root.right)\n",
    "        return res"
   ]
  },
  {
   "cell_type": "code",
   "execution_count": 4,
   "id": "220c943a-586a-4f4b-9dd8-83291d1f6ffd",
   "metadata": {},
   "outputs": [],
   "source": [
    "def create_bst(vector):\n",
    "    \"\"\"\n",
    "    Funkcja tworzy drzewo przeszukiwania binarnego na podanym wektorze\n",
    "    :param list vector: tablica liczb - które staną się wirzchołkami\n",
    "    :return list tree_nodes: list wierzchołków drzewa\n",
    "    \"\"\"\n",
    "    tree_nodes = []\n",
    "    root = Node(vector.pop(0))\n",
    "    tree_nodes.append(root)\n",
    "\n",
    "    for n in vector:\n",
    "        \n",
    "        temp_root = root\n",
    "        \n",
    "        \n",
    "        while True:\n",
    "            \n",
    "            if n > temp_root.value:\n",
    "                # idziemy do prawej części drzewa\n",
    "                \n",
    "                if temp_root.right == None:\n",
    "                    node = Node(n)\n",
    "                    temp_root.right = node\n",
    "                    tree_nodes.append(node)\n",
    "                    break\n",
    "                    \n",
    "                else:\n",
    "                    temp_root = temp_root.right\n",
    "                    \n",
    "            elif n <= temp_root.value:\n",
    "                #idziemy do lewej części drzewa\n",
    "                \n",
    "                if temp_root.left == None:\n",
    "                    node = Node(n)\n",
    "                    temp_root.left = node\n",
    "                    tree_nodes.append(node)\n",
    "                    break\n",
    "                    \n",
    "                else:\n",
    "                    temp_root = temp_root.left\n",
    "                    \n",
    "    return tree_nodes"
   ]
  },
  {
   "cell_type": "code",
   "execution_count": 5,
   "id": "50befbd4-eb82-4901-ab33-0d843a4dc2e3",
   "metadata": {},
   "outputs": [],
   "source": [
    "tree = create_bst(list(vec))"
   ]
  },
  {
   "cell_type": "code",
   "execution_count": 6,
   "id": "1d22a394-b568-4b07-bef1-4200a0a10db7",
   "metadata": {},
   "outputs": [
    {
     "name": "stdout",
     "output_type": "stream",
     "text": [
      "\t 7\n",
      "2 \t\t 18\n",
      "---------------------------------\n",
      "\t 2\n",
      "None \t\t 3\n",
      "---------------------------------\n",
      "\t 18\n",
      "9 \t\t 19\n",
      "---------------------------------\n",
      "\t 9\n",
      "None \t\t 14\n",
      "---------------------------------\n",
      "\t 3\n",
      "None \t\t 6\n",
      "---------------------------------\n",
      "\t 6\n",
      "None \t\t None\n",
      "---------------------------------\n",
      "\t 19\n",
      "None \t\t None\n",
      "---------------------------------\n",
      "\t 14\n",
      "10 \t\t None\n",
      "---------------------------------\n",
      "\t 10\n",
      "None \t\t 13\n",
      "---------------------------------\n",
      "\t 13\n",
      "None \t\t None\n",
      "---------------------------------\n"
     ]
    }
   ],
   "source": [
    "for n in tree:\n",
    "    print('\\t', n.value)\n",
    "    if n.left:\n",
    "        l = n.left.value\n",
    "    else:\n",
    "        l = None\n",
    "    if n.right:\n",
    "        r = n.right.value\n",
    "    else:\n",
    "        r = None\n",
    "        \n",
    "    print(l, '\\t\\t', r)\n",
    "    print('---------------------------------')"
   ]
  },
  {
   "cell_type": "code",
   "execution_count": 7,
   "id": "5ad59c28-e461-4c11-88b8-dac48bd94c2d",
   "metadata": {},
   "outputs": [
    {
     "data": {
      "text/plain": [
       "<__main__.Node at 0x1800f08e310>"
      ]
     },
     "execution_count": 7,
     "metadata": {},
     "output_type": "execute_result"
    }
   ],
   "source": [
    "root = tree[0]\n",
    "root"
   ]
  },
  {
   "cell_type": "code",
   "execution_count": 8,
   "id": "684f3935-4cc2-4087-9445-58dd891a8a51",
   "metadata": {},
   "outputs": [
    {
     "ename": "MemoryError",
     "evalue": "",
     "output_type": "error",
     "traceback": [
      "\u001b[1;31m---------------------------------------------------------------------------\u001b[0m",
      "\u001b[1;31mMemoryError\u001b[0m                               Traceback (most recent call last)",
      "Input \u001b[1;32mIn [8]\u001b[0m, in \u001b[0;36m<cell line: 1>\u001b[1;34m()\u001b[0m\n\u001b[1;32m----> 1\u001b[0m \u001b[43mroot\u001b[49m\u001b[38;5;241;43m.\u001b[39;49m\u001b[43mvisualize_tree\u001b[49m\u001b[43m(\u001b[49m\u001b[43m)\u001b[49m\n",
      "Input \u001b[1;32mIn [3]\u001b[0m, in \u001b[0;36mNode.visualize_tree\u001b[1;34m(self)\u001b[0m\n\u001b[0;32m     23\u001b[0m \u001b[38;5;28;01mwhile\u001b[39;00m root:\n\u001b[0;32m     24\u001b[0m     \u001b[38;5;28;01mif\u001b[39;00m root\u001b[38;5;241m.\u001b[39mleft:\n\u001b[1;32m---> 25\u001b[0m         \u001b[43medges\u001b[49m\u001b[38;5;241;43m.\u001b[39;49m\u001b[43mappend\u001b[49m\u001b[43m(\u001b[49m\u001b[43m(\u001b[49m\u001b[43mroot\u001b[49m\u001b[38;5;241;43m.\u001b[39;49m\u001b[43mvalue\u001b[49m\u001b[43m,\u001b[49m\u001b[43m \u001b[49m\u001b[43mroot\u001b[49m\u001b[38;5;241;43m.\u001b[39;49m\u001b[43mleft\u001b[49m\u001b[38;5;241;43m.\u001b[39;49m\u001b[43mvalue\u001b[49m\u001b[43m)\u001b[49m\u001b[43m)\u001b[49m\n\u001b[0;32m     26\u001b[0m     \u001b[38;5;28;01mif\u001b[39;00m root\u001b[38;5;241m.\u001b[39mright:\n\u001b[0;32m     27\u001b[0m         edges\u001b[38;5;241m.\u001b[39mappend((root\u001b[38;5;241m.\u001b[39mvalue, root\u001b[38;5;241m.\u001b[39mright\u001b[38;5;241m.\u001b[39mvalue))\n",
      "\u001b[1;31mMemoryError\u001b[0m: "
     ]
    }
   ],
   "source": [
    "root.visualize_tree()"
   ]
  },
  {
   "cell_type": "code",
   "execution_count": null,
   "id": "173ed7ae-b480-4906-8c2f-6e58ad929c85",
   "metadata": {},
   "outputs": [],
   "source": []
  }
 ],
 "metadata": {
  "kernelspec": {
   "display_name": "Python 3 (ipykernel)",
   "language": "python",
   "name": "python3"
  },
  "language_info": {
   "codemirror_mode": {
    "name": "ipython",
    "version": 3
   },
   "file_extension": ".py",
   "mimetype": "text/x-python",
   "name": "python",
   "nbconvert_exporter": "python",
   "pygments_lexer": "ipython3",
   "version": "3.9.12"
  }
 },
 "nbformat": 4,
 "nbformat_minor": 5
}
