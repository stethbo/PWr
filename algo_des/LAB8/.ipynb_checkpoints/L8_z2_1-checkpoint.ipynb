{
 "cells": [
  {
   "cell_type": "markdown",
   "id": "e3737e35",
   "metadata": {},
   "source": [
    "## Zadanie 2 - słownik ##\n",
    "- Zaimplementuj metodę generującą drzewo przeszukiwania binarnego na podstawie struktury robotówz wcześniejszych list.Kluczowy parametr struktury (parametr robota, względem którego tworzone jest drzewo) zadaje użytkownik. Zaimplementuj efektywne algorytmy:\n",
    "    - przechodzenia drzewa metodami inorder, preorder i postorder,\n",
    "    - wyszukiwania elementu (i ścieżki prowadzącej do tego elementu, zaczynając od korzenia),\n",
    "    - wyszukiwania minimum i maksimum,\n",
    "    -  wyszukiwania następnika i poprzednika zadanego węzła,\n",
    "    - wstawiania i usuwania węzła."
   ]
  },
  {
   "cell_type": "code",
   "execution_count": 8,
   "id": "a666bbe2-43b1-45fd-8258-3f400cd80b5a",
   "metadata": {},
   "outputs": [],
   "source": [
    "import networkx as nx\n",
    "#from L6_0_data_structure import create_m_bots\n",
    "import matplotlib.pyplot as plt"
   ]
  },
  {
   "cell_type": "code",
   "execution_count": 9,
   "id": "c8bf6b2f",
   "metadata": {},
   "outputs": [],
   "source": [
    "class Node:\n",
    "    def __init__(self, value, params, left=None, right=None):\n",
    "        self.value = value\n",
    "        self.params = params\n",
    "        self.left = left\n",
    "        self.right = right\n",
    "\n",
    "    def add_left(self, value):\n",
    "        self.left = Node(value)\n",
    "\n",
    "    def add_left(self, value):\n",
    "        self.right = Node(value)\n",
    "\n",
    "    def print_graph(self):\n",
    "        if self.left:\n",
    "            self.left.print_graph()\n",
    "        print(self.value),\n",
    "        if self.right:\n",
    "            self.right.print_graph()\n",
    "        \n",
    "    def inorder_traversal(self, root):\n",
    "        res = []\n",
    "\n",
    "        if root:\n",
    "            res = self.inorder_traversal(root.left)\n",
    "            res.append(root.value)\n",
    "            res += res + self.inorder_traversal(root.right)\n",
    "        return res"
   ]
  },
  {
   "cell_type": "code",
   "execution_count": 10,
   "id": "220c943a-586a-4f4b-9dd8-83291d1f6ffd",
   "metadata": {},
   "outputs": [],
   "source": [
    "def create_bst(vector):\n",
    "    \"\"\"\n",
    "    Funkcja tworzy drzewo przeszukiwania binarnego na podanym wektorze\n",
    "    :param list vector: tablica liczb - które staną się wirzchołkami\n",
    "    :return list tree_nodes: list wierzchołków drzewa\n",
    "    \"\"\"\n",
    "    tree_nodes = []\n",
    "    root = Node(vector.pop(0))\n",
    "    tree_nodes.append(root)\n",
    "\n",
    "    for n in vector:\n",
    "        \n",
    "        temp_root = root\n",
    "        \n",
    "        \n",
    "        while True:\n",
    "            \n",
    "            if n > temp_root.value: #w BST prawe dziecko ma wieksa wartosc\n",
    "                # idziemy do prawej części drzewa\n",
    "                \n",
    "                if temp_root.right == None:\n",
    "                    node = Node(n)\n",
    "                    temp_root.right = node\n",
    "                    tree_nodes.append(node)\n",
    "                    break\n",
    "                    \n",
    "                else:\n",
    "                    temp_root = temp_root.right\n",
    "                    \n",
    "            elif n <= temp_root.value: #lewe dziecko ma miec mniejsza wartosc od rodzica\n",
    "                #idziemy do lewej części drzewa\n",
    "                \n",
    "                if temp_root.left == None:\n",
    "                    node = Node(n)\n",
    "                    temp_root.left = node\n",
    "                    tree_nodes.append(node)\n",
    "                    break\n",
    "                    \n",
    "                else:\n",
    "                    temp_root = temp_root.left\n",
    "                    \n",
    "    return tree_nodes"
   ]
  },
  {
   "cell_type": "code",
   "execution_count": 11,
   "id": "3c3c56ee",
   "metadata": {},
   "outputs": [],
   "source": [
    "def array_to_tree(arr, f):\n",
    "    \"\"\"\n",
    "    Funkcja tworząca zrównowarzone drzewo binarne z posortowanej listy wierzchołków\n",
    "    :param list arr: posortowana lista wierzchołków\n",
    "    :param f: główna cecha która świadczy o wartości węzła\n",
    "    :return object root: objekt klasy Node - korzeń grafu\n",
    "    \"\"\"\n",
    "    if not arr:\n",
    "        return None\n",
    " \n",
    "    mid = (len(arr)) // 2\n",
    "\n",
    "    \n",
    "    # przypisanie środkowego elementu jako węzła drzewa \n",
    "    root = Node(arr[mid][f], arr[mid])\n",
    "\n",
    "    # podział listy na pół\n",
    "    root.left = array_to_tree(arr[:mid], f)\n",
    "    root.right = array_to_tree(arr[mid+1:], f)\n",
    "\n",
    "    return root"
   ]
  },
  {
   "cell_type": "code",
   "execution_count": 12,
   "id": "559c2065",
   "metadata": {},
   "outputs": [],
   "source": [
    "def get_edges(root):\n",
    "    edges = []\n",
    "    if root.left:\n",
    "        edges += get_edges(root.left)\n",
    "        edges.append((root.value, root.left.value))\n",
    "        \n",
    "    if root.right:\n",
    "        edges += get_edges(root.right)\n",
    "        edges.append((root.value, root.right.value))\n",
    "\n",
    "    return edges\n",
    "        \n",
    "\n",
    "def visualiz_graph(root):\n",
    "    \"\"\"\n",
    "    Funkcja tworząca wykres drzewa\n",
    "    :param root: korzeń - węzeł od którego zaczynamy tworzyć drzewo\n",
    "    \"\"\"\n",
    "    nodes = []\n",
    "    edges = get_edges(root)\n",
    "\n",
    "    for item in edges:\n",
    "        if item[0] not in nodes:\n",
    "            nodes.append(item[0])\n",
    "        if item[1] not in nodes:\n",
    "            nodes.append(item[1])\n",
    "\n",
    "    g = nx.Graph()\n",
    "    colors = ['red' if n == root.value else 'orange' for n in nodes]\n",
    "\n",
    "    g.add_nodes_from(nodes)\n",
    "    g.add_edges_from(edges)\n",
    "    pos = hierarchy_pos(g, root.value)\n",
    "    nx.draw(g, pos, node_color=colors)\n",
    "    nx.draw_networkx_labels(g, pos=pos)\n",
    "    plt.show()"
   ]
  },
  {
   "cell_type": "code",
   "execution_count": 13,
   "id": "50befbd4-eb82-4901-ab33-0d843a4dc2e3",
   "metadata": {},
   "outputs": [],
   "source": [
    "# generownie wektora robotów\n",
    "#bots = create_m_bots(15)\n",
    "#bots = [b.save_robot() for b in bots]\n",
    "bots = [{'id': '1101', 'typ': 'WUU', 'masa': 1219, 'roz': 26},\n",
    " {'id': '0000', 'typ': 'VNN', 'masa': 1745, 'roz': 9},\n",
    " {'id': '1110', 'typ': 'GVV', 'masa': 131, 'roz': 24},\n",
    " {'id': '1011', 'typ': 'NAV', 'masa': 758, 'roz': 29},\n",
    " {'id': '1000', 'typ': 'NGW', 'masa': 96, 'roz': 11},\n",
    " {'id': '0111', 'typ': 'CNN', 'masa': 1217, 'roz': 13},\n",
    " {'id': '0000', 'typ': 'UAG', 'masa': 762, 'roz': 27},\n",
    " {'id': '1000', 'typ': 'VCU', 'masa': 1833, 'roz': 17},\n",
    " {'id': '0100', 'typ': 'GUA', 'masa': 544, 'roz': 24},\n",
    " {'id': '0011', 'typ': 'VWN', 'masa': 1008, 'roz': 25},\n",
    " {'id': '1101', 'typ': 'CUG', 'masa': 871, 'roz': 1},\n",
    " {'id': '1110', 'typ': 'AVU', 'masa': 359, 'roz': 21},\n",
    " {'id': '0101', 'typ': 'ANV', 'masa': 1471, 'roz': 16},\n",
    " {'id': '1011', 'typ': 'UCN', 'masa': 1025, 'roz': 18},\n",
    " {'id': '1100', 'typ': 'WNA', 'masa': 1762, 'roz': 7}]"
   ]
  },
  {
   "cell_type": "markdown",
   "id": "b4d351f3",
   "metadata": {},
   "source": [
    "<h1>Pierwszy podpunkt</h1>\n",
    "Zaimplementuj metodę generującą drzewo przeszukiwania binarnego na podstawie struktury robotów\n",
    "z wcześniejszych list. Kluczowy parametr struktury (parametr robota, względem którego tworzone jest\n",
    "drzewo) zadaje użytkownik."
   ]
  },
  {
   "cell_type": "code",
   "execution_count": 14,
   "id": "47d6535a",
   "metadata": {},
   "outputs": [
    {
     "data": {
      "text/plain": [
       "<__main__.Node at 0x2a3fc2728b0>"
      ]
     },
     "execution_count": 14,
     "metadata": {},
     "output_type": "execute_result"
    }
   ],
   "source": [
    "# wybranie cechy przez użytkownika\n",
    "#feat = input('Podaj cechę: ')\n",
    "feat = 'masa'\n",
    "feat\n",
    "bots = sorted(bots, key=lambda x: x['masa'])\n",
    "\"\"\"vec = [b[feat] for b in bots]\n",
    "vec.sort()\"\"\"\n",
    "ROOT = array_to_tree(bots, feat)\n",
    "ROOT"
   ]
  },
  {
   "cell_type": "code",
   "execution_count": 15,
   "id": "f85defc3",
   "metadata": {},
   "outputs": [
    {
     "data": {
      "image/png": "[encoded data removed]",
      "text/plain": [
       "<Figure size 432x288 with 1 Axes>"
      ]
     },
     "metadata": {},
     "output_type": "display_data"
    }
   ],
   "source": [
    "visualiz_graph(ROOT)"
   ]
  },
  {
   "cell_type": "markdown",
   "id": "8a5f9c7c",
   "metadata": {},
   "source": [
    "## Przechodznie metodą in-order ##\n",
    "Najpierw przechodzimy lewe poddrzewo danego węzła, następnie odwiedzamy węzeł i na koniec przechodzimy prawe poddrzewo\n",
    "\n",
    "lewy - korzeń - prawy"
   ]
  },
  {
   "cell_type": "code",
   "execution_count": 16,
   "id": "bd67415d",
   "metadata": {},
   "outputs": [
    {
     "name": "stdout",
     "output_type": "stream",
     "text": [
      "[96, 131, 359, 544, 758, 762, 871, 1008, 1025, 1217, 1219, 1471, 1745, 1762, 1833]\n"
     ]
    }
   ],
   "source": [
    "def inorder_traversal(root):\n",
    "    # left - root - right \n",
    "    path = []\n",
    "\n",
    "    if root:\n",
    "\n",
    "        path += inorder_traversal(root.left)\n",
    "        path.append(root.value)\n",
    "\n",
    "        path += inorder_traversal(root.right)\n",
    "\n",
    "    return path\n",
    "\n",
    "print(inorder_traversal(ROOT))"
   ]
  },
  {
   "cell_type": "code",
   "execution_count": 17,
   "id": "4bdbe58d",
   "metadata": {},
   "outputs": [
    {
     "data": {
      "image/png": "[encoded data removed]",
      "text/plain": [
       "<Figure size 432x288 with 1 Axes>"
      ]
     },
     "metadata": {},
     "output_type": "display_data"
    }
   ],
   "source": [
    "visualiz_graph(ROOT)"
   ]
  },
  {
   "cell_type": "markdown",
   "id": "170c70ab",
   "metadata": {},
   "source": [
    "## Przechodzenie drzewa metodą preorder ##\n",
    "Najpierw odwiedzamy korzeń poddrzewa, a następnie przechodzimy kolejne lewe i prawe poddrzewo \n",
    "\n",
    "korzeń - lewy - prawy"
   ]
  },
  {
   "cell_type": "code",
   "execution_count": 18,
   "id": "2c53b174",
   "metadata": {},
   "outputs": [
    {
     "name": "stdout",
     "output_type": "stream",
     "text": [
      "[1008, 544, 131, 96, 359, 762, 758, 871, 1471, 1217, 1025, 1219, 1762, 1745, 1833]\n"
     ]
    },
    {
     "data": {
      "image/png": "[encoded data removed]",
      "text/plain": [
       "<Figure size 432x288 with 1 Axes>"
      ]
     },
     "metadata": {},
     "output_type": "display_data"
    }
   ],
   "source": [
    "def preorder(root):\n",
    "    path = []\n",
    "\n",
    "    if root:\n",
    "        path.append(root.value)\n",
    "        path += preorder(root.left)\n",
    "        path += preorder(root.right)\n",
    "    \n",
    "    return path\n",
    "\n",
    "print(preorder(ROOT))\n",
    "visualiz_graph(ROOT)"
   ]
  },
  {
   "cell_type": "markdown",
   "id": "d5aa46ce",
   "metadata": {},
   "source": [
    "## Przechodznie drzewa metodą postorder ##\n",
    "Najpierw przechodzimy lewe poddrzewo, następnie prawe, a dopiero na końcu przetwazamy węzeł\n",
    "\n",
    "lewy - prawy - korzeń"
   ]
  },
  {
   "cell_type": "code",
   "execution_count": 19,
   "id": "208f7cd6",
   "metadata": {},
   "outputs": [
    {
     "name": "stdout",
     "output_type": "stream",
     "text": [
      "[96, 359, 131, 758, 871, 762, 544, 1025, 1219, 1217, 1745, 1833, 1762, 1471, 1008]\n"
     ]
    }
   ],
   "source": [
    "def post_order(root):\n",
    "    path = []\n",
    "\n",
    "    if root:\n",
    "        path += post_order(root.left)\n",
    "        path += post_order(root.right)\n",
    "        path.append(root.value)\n",
    "    \n",
    "    return path\n",
    "\n",
    "\n",
    "print(post_order(ROOT))"
   ]
  },
  {
   "cell_type": "code",
   "execution_count": 20,
   "id": "7e88175d",
   "metadata": {},
   "outputs": [
    {
     "data": {
      "image/png": "[encoded data removed]",
      "text/plain": [
       "<Figure size 432x288 with 1 Axes>"
      ]
     },
     "metadata": {},
     "output_type": "display_data"
    }
   ],
   "source": [
    "visualiz_graph(ROOT)"
   ]
  },
  {
   "cell_type": "markdown",
   "id": "ffd0b171",
   "metadata": {},
   "source": [
    "## Wyszukiwanie elementu ##"
   ]
  },
  {
   "cell_type": "code",
   "execution_count": 21,
   "id": "64edc9b9",
   "metadata": {},
   "outputs": [
    {
     "name": "stdout",
     "output_type": "stream",
     "text": [
      "{'id': '0111', 'typ': 'CNN', 'masa': 1217, 'roz': 13}\n"
     ]
    }
   ],
   "source": [
    "def find_node(root, value):\n",
    "    if not root:\n",
    "        return None\n",
    "    if value == root.value:\n",
    "        return root\n",
    "\n",
    "    if value < root.value:\n",
    "        return find_node(root.left, value)\n",
    "    \n",
    "    if value > root.value:\n",
    "        return find_node(root.right, value)\n",
    "\n",
    "\n",
    "node = find_node(ROOT, 1217)\n",
    "print(node.params)"
   ]
  },
  {
   "cell_type": "markdown",
   "id": "99545785",
   "metadata": {},
   "source": [
    "## Wyszukiwanie minimum i maksimum ##"
   ]
  },
  {
   "cell_type": "code",
   "execution_count": 22,
   "id": "3c07244c",
   "metadata": {},
   "outputs": [
    {
     "name": "stdout",
     "output_type": "stream",
     "text": [
      "MIN {'id': '1000', 'typ': 'NGW', 'masa': 96, 'roz': 11}\n",
      "MAX {'id': '1000', 'typ': 'VCU', 'masa': 1833, 'roz': 17}\n"
     ]
    }
   ],
   "source": [
    "def find_max(root):\n",
    "    if root.right:\n",
    "        return find_max(root.right)\n",
    "    elif root.left:\n",
    "        return root.left\n",
    "    else:\n",
    "        return root\n",
    "\n",
    "def find_min(root):\n",
    "    if root.left:\n",
    "        return find_min(root.left)\n",
    "    elif root.right:\n",
    "        return root.right\n",
    "    else:\n",
    "        return root\n",
    "\n",
    "print('MIN', find_min(ROOT).params)\n",
    "print('MAX', find_max(ROOT).params)"
   ]
  },
  {
   "cell_type": "markdown",
   "id": "e8b9e753",
   "metadata": {},
   "source": [
    "## Wyszukiwania następnika i poprzednika zadanego węzła ##\n",
    "Następnik danego węzła jest węzłem, który jest odwiedzany jako następny w przypadku przechodzenia drzewa metodą in-order."
   ]
  },
  {
   "cell_type": "code",
   "execution_count": 23,
   "id": "c2698327",
   "metadata": {},
   "outputs": [
    {
     "name": "stdout",
     "output_type": "stream",
     "text": [
      "{'id': '0111', 'typ': 'CNN', 'masa': 1217, 'roz': 13}\n",
      "{'id': '1101', 'typ': 'WUU', 'masa': 1219, 'roz': 26}\n",
      "{'id': '1011', 'typ': 'UCN', 'masa': 1025, 'roz': 18}\n"
     ]
    }
   ],
   "source": [
    "def find_succesor(root, node): #następca\n",
    "    # Step 1 of the above algorithm\n",
    "    if node.right is not None:\n",
    "        return find_min(node.right)\n",
    " \n",
    "    # Step 2 of the above algorithm\n",
    "    succ=Node(None)\n",
    "     \n",
    "     \n",
    "    while(root):\n",
    "        if(root.data < node.data):\n",
    "            root=root.right\n",
    "        elif(root.data > node.data):\n",
    "            succ=root\n",
    "            root=root.left\n",
    "        else:\n",
    "            break\n",
    "    return succ\n",
    "\n",
    "\n",
    "def find_predcessor(root, value, prec=None): #poprzednik\n",
    " \n",
    "    # przypadek podstawowy\n",
    "    if root is None:\n",
    "        return prec\n",
    " \n",
    "    if root.value == value:\n",
    "        if root.left:\n",
    "            return find_max(root.left)\n",
    " \n",
    "    elif value < root.value:\n",
    "        return find_predcessor(root.left, value, prec)\n",
    " \n",
    "    else:\n",
    "        prec = root\n",
    "        return find_predcessor(root.right, value, prec)\n",
    " \n",
    "    return prec\n",
    "\n",
    "\n",
    "n = find_node(ROOT, 1217)\n",
    "print(n.params)\n",
    "print(find_succesor(ROOT, n).params)\n",
    "print(find_predcessor(ROOT, 1217, None).params)"
   ]
  },
  {
   "cell_type": "markdown",
   "id": "46aa22a0",
   "metadata": {},
   "source": [
    "## Wstawiania i usuwania węzła ##"
   ]
  },
  {
   "cell_type": "code",
   "execution_count": 24,
   "id": "559e366f",
   "metadata": {},
   "outputs": [
    {
     "data": {
      "text/plain": [
       "<__main__.Node at 0x2a3fc2728b0>"
      ]
     },
     "execution_count": 24,
     "metadata": {},
     "output_type": "execute_result"
    }
   ],
   "source": [
    "def insert_node(root, value, params):\n",
    "    # sprawdznie czy drzewo nie jest puste\n",
    "    if root == None:\n",
    "        return Node(value, params)\n",
    "    else:\n",
    "        if value <= root.value:\n",
    "            # idzemy na lewo\n",
    "            temp = insert_node(root.left, value, params)\n",
    "            root.left = temp\n",
    "\n",
    "        else:\n",
    "            # idziemy na prowo\n",
    "            temp = insert_node(root.right, value, params)\n",
    "            root.right = temp\n",
    "\n",
    "    return root\n",
    "\n",
    "v = 1000\n",
    "insert_node(ROOT, v, {'id': '1110', 'typ': 'VVW', 'masa': v, 'roz': 20})"
   ]
  },
  {
   "cell_type": "code",
   "execution_count": 25,
   "id": "7c0b5cee",
   "metadata": {},
   "outputs": [
    {
     "data": {
      "image/png": "[encoded data removed]",
      "text/plain": [
       "<Figure size 432x288 with 1 Axes>"
      ]
     },
     "metadata": {},
     "output_type": "display_data"
    }
   ],
   "source": [
    "visualiz_graph(ROOT)"
   ]
  },
  {
   "cell_type": "code",
   "execution_count": 28,
   "id": "0d66c2d9",
   "metadata": {},
   "outputs": [
    {
     "data": {
      "text/plain": [
       "<__main__.Node at 0x2a3fc2728b0>"
      ]
     },
     "execution_count": 28,
     "metadata": {},
     "output_type": "execute_result"
    }
   ],
   "source": [
    "def delete_node(root, value):\n",
    "    # if root doesn't exist, just return it\n",
    "    if not root: \n",
    "        return root\n",
    "    # Find the node in the left subtree\tif key value is less than root value\n",
    "    if root.value > value: \n",
    "        root.left = delete_node(root.left, value)\n",
    "    # Find the node in right subtree if key value is greater than root value, \n",
    "    elif root.value < value: \n",
    "        root.right= delete_node(root.right, value)\n",
    "    # Delete the node if root.value == key\n",
    "    else: \n",
    "    # If there is no right children delete the node and new root would be root.left\n",
    "        if not root.right:\n",
    "            return root.left\n",
    "    # If there is no left children delete the node and new root would be root.right\t\n",
    "        if not root.left:\n",
    "            return root.right\n",
    "# If both left and right children exist in the node replace its value with \n",
    "# the minmimum value in the right subtree. Now delete that minimum node\n",
    "# in the right subtree\n",
    "        temp_val = root.right\n",
    "        mini_val = temp_val.value\n",
    "        while temp_val.left:\n",
    "            temp_val = temp_val.left\n",
    "            mini_val = temp_val.value\n",
    "# Delete the minimum node in right subtree\n",
    "        root.right = delete_node(root.right, root.value)\n",
    "    return root\n",
    "\n",
    "\n",
    "delete_node(ROOT, 1000)\n"
   ]
  },
  {
   "cell_type": "code",
   "execution_count": 29,
   "id": "4f053f59",
   "metadata": {},
   "outputs": [
    {
     "data": {
      "image/png": "[encoded data removed]",
      "text/plain": [
       "<Figure size 432x288 with 1 Axes>"
      ]
     },
     "metadata": {},
     "output_type": "display_data"
    }
   ],
   "source": [
    "visualiz_graph(ROOT)"
   ]
  },
  {
   "cell_type": "code",
   "execution_count": 2,
   "id": "efce731d",
   "metadata": {},
   "outputs": [
    {
     "ename": "NameError",
     "evalue": "name 'array_to_tree' is not defined",
     "output_type": "error",
     "traceback": [
      "\u001b[1;31m---------------------------------------------------------------------------\u001b[0m",
      "\u001b[1;31mNameError\u001b[0m                                 Traceback (most recent call last)",
      "\u001b[1;32mc:\\Users\\marci\\Downloads\\L8_z2.ipynb Cell 30'\u001b[0m in \u001b[0;36m<cell line: 2>\u001b[1;34m()\u001b[0m\n\u001b[0;32m      <a href='vscode-notebook-cell:/c%3A/Users/marci/Downloads/L8_z2.ipynb#ch0000028?line=0'>1</a>\u001b[0m \u001b[39m# Komórka do resetowania drzewa\u001b[39;00m\n\u001b[1;32m----> <a href='vscode-notebook-cell:/c%3A/Users/marci/Downloads/L8_z2.ipynb#ch0000028?line=1'>2</a>\u001b[0m ROOT \u001b[39m=\u001b[39m array_to_tree(bots, feat)\n\u001b[0;32m      <a href='vscode-notebook-cell:/c%3A/Users/marci/Downloads/L8_z2.ipynb#ch0000028?line=2'>3</a>\u001b[0m visualiz_graph(ROOT)\n",
      "\u001b[1;31mNameError\u001b[0m: name 'array_to_tree' is not defined"
     ]
    }
   ],
   "source": [
    "# Komórka do resetowania drzewa\n",
    "ROOT = array_to_tree(bots, feat)\n",
    "visualiz_graph(ROOT)"
   ]
  },
  {
   "cell_type": "markdown",
   "id": "04d15ac4",
   "metadata": {},
   "source": [
    "value = 795\n",
    "node = 1081 value = 795 ->left\n",
    "node = 593 value = 795 -> right\n",
    "node = 794 value = 795 -> right\n",
    "node = 1019 value = 795 -> left\n",
    "node = None  value = 795 return None\n",
    "node = 1019 value = 795 1019->right->None\n",
    "1081 -> left\n",
    "593 -> right\n",
    "794 -> right\n",
    "1019 return 1019 \n",
    "temp = 1019\n",
    "\n"
   ]
  },
  {
   "cell_type": "code",
   "execution_count": 5,
   "id": "325d335c",
   "metadata": {},
   "outputs": [],
   "source": [
    "import networkx as nx\n",
    "import random\n",
    "\n",
    "    \n",
    "def hierarchy_pos(G, root=None, width=1., vert_gap = 0.2, vert_loc = 0, xcenter = 0.5):\n",
    "\n",
    "    '''\n",
    "    From Joel's answer at https://stackoverflow.com/a/29597209/2966723.  \n",
    "    Licensed under Creative Commons Attribution-Share Alike \n",
    "    \n",
    "    If the graph is a tree this will return the positions to plot this in a \n",
    "    hierarchical layout.\n",
    "    \n",
    "    G: the graph (must be a tree)\n",
    "    \n",
    "    root: the root node of current branch \n",
    "    - if the tree is directed and this is not given, \n",
    "      the root will be found and used\n",
    "    - if the tree is directed and this is given, then \n",
    "      the positions will be just for the descendants of this node.\n",
    "    - if the tree is undirected and not given, \n",
    "      then a random choice will be used.\n",
    "    \n",
    "    width: horizontal space allocated for this branch - avoids overlap with other branches\n",
    "    \n",
    "    vert_gap: gap between levels of hierarchy\n",
    "    \n",
    "    vert_loc: vertical location of root\n",
    "    \n",
    "    xcenter: horizontal location of root\n",
    "    '''\n",
    "    if not nx.is_tree(G):\n",
    "        raise TypeError('cannot use hierarchy_pos on a graph that is not a tree')\n",
    "\n",
    "    if root is None:\n",
    "        if isinstance(G, nx.DiGraph):\n",
    "            root = next(iter(nx.topological_sort(G)))  #allows back compatibility with nx version 1.11\n",
    "        else:\n",
    "            root = random.choice(list(G.nodes))\n",
    "\n",
    "    def _hierarchy_pos(G, root, width=1., vert_gap = 0.2, vert_loc = 0, xcenter = 0.5, pos = None, parent = None):\n",
    "        '''\n",
    "        see hierarchy_pos docstring for most arguments\n",
    "\n",
    "        pos: a dict saying where all nodes go if they have been assigned\n",
    "        parent: parent of this branch. - only affects it if non-directed\n",
    "\n",
    "        '''\n",
    "    \n",
    "        if pos is None:\n",
    "            pos = {root:(xcenter,vert_loc)}\n",
    "        else:\n",
    "            pos[root] = (xcenter, vert_loc)\n",
    "        children = list(G.neighbors(root))\n",
    "        if not isinstance(G, nx.DiGraph) and parent is not None:\n",
    "            children.remove(parent)  \n",
    "        if len(children)!=0:\n",
    "            dx = width/len(children) \n",
    "            nextx = xcenter - width/2 - dx/2\n",
    "            for child in children:\n",
    "                nextx += dx\n",
    "                pos = _hierarchy_pos(G,child, width = dx, vert_gap = vert_gap, \n",
    "                                    vert_loc = vert_loc-vert_gap, xcenter=nextx,\n",
    "                                    pos=pos, parent = root)\n",
    "        return pos\n",
    "\n",
    "            \n",
    "    return _hierarchy_pos(G, root, width, vert_gap, vert_loc, xcenter)"
   ]
  },
  {
   "cell_type": "code",
   "execution_count": null,
   "id": "e7686fad",
   "metadata": {},
   "outputs": [],
   "source": []
  },
  {
   "cell_type": "code",
   "execution_count": null,
   "id": "9565c709",
   "metadata": {},
   "outputs": [],
   "source": []
  }
 ],
 "metadata": {
  "interpreter": {
   "hash": "9fde8d99479f26ad017d0dd7d1ac1c3e8173cd787a7675643711b2652c39d2b6"
  },
  "kernelspec": {
   "display_name": "Python 3.9.0 64-bit",
   "language": "python",
   "name": "python3"
  },
  "language_info": {
   "codemirror_mode": {
    "name": "ipython",
    "version": 3
   },
   "file_extension": ".py",
   "mimetype": "text/x-python",
   "name": "python",
   "nbconvert_exporter": "python",
   "pygments_lexer": "ipython3",
   "version": "3.9.0"
  }
 },
 "nbformat": 4,
 "nbformat_minor": 5
}
