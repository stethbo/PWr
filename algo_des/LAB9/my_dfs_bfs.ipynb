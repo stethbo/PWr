{
 "cells": [
  {
   "cell_type": "code",
   "execution_count": 1,
   "metadata": {},
   "outputs": [],
   "source": [
    "import matplotlib.pyplot as plt\n",
    "import networkx as nx"
   ]
  },
  {
   "cell_type": "code",
   "execution_count": 3,
   "metadata": {},
   "outputs": [],
   "source": [
    "def display_with_colors(graph, vis):\n",
    "    cmap = ['orange' if node in vis else 'lightblue' for node in list(graph.nodes())]\n",
    "    nx.draw(\n",
    "        graph, \n",
    "        with_labels=True, \n",
    "        node_color=cmap,\n",
    "        pos=nx.spring_layout(graph, seed=2)\n",
    "        )\n",
    "    plt.title('Orange - visited\\nBlue - unvisited')\n",
    "    plt.show()"
   ]
  },
  {
   "cell_type": "code",
   "execution_count": 4,
   "metadata": {},
   "outputs": [],
   "source": [
    "def dfs(g, s, display=True) -> list:\n",
    "    # Deapth first search\n",
    "    # Contributor Stefan Borek, github: @Stefanlet100k\n",
    "    # 1. creating two lists visited and stack (not visited)\n",
    "    visited = []\n",
    "\n",
    "    # 2. we put start vertex on top of the stack\n",
    "    stack = [s]\n",
    "\n",
    "    # 3. as long as there are unvisited nodes\n",
    "    while stack:\n",
    "        # taking first node from the stack\n",
    "        current = stack.pop()\n",
    "        # adding it to the stack\n",
    "        visited.append(current)\n",
    "\n",
    "        if display:\n",
    "            display_with_colors(g, visited)\n",
    "\n",
    "        # for every uvisited neighbour\n",
    "        for v in list(g.neighbors(current)):\n",
    "            if v not in visited:\n",
    "                stack.append(v)\n",
    "\n",
    "\n",
    "    return visited\n"
   ]
  },
  {
   "cell_type": "code",
   "execution_count": 5,
   "metadata": {},
   "outputs": [],
   "source": [
    "def bfs(g, s, display=True) -> list:\n",
    "    # Breath first search\n",
    "    # contributor Stefan Borek, github: @Stefanlet100k\n",
    "\n",
    "    # 1. creating two lists visited and stack (not visited)\n",
    "    visited = []\n",
    "\n",
    "    # 2. we creaate queue and add starting vertex\n",
    "    queue = [s]\n",
    "\n",
    "    # 3. as long as there are unvisited nodes\n",
    "    while queue:\n",
    "        # taking last node from the queue\n",
    "        # (first in list as it has been added earliest)\n",
    "        current = queue.pop(0)\n",
    "        \n",
    "        # adding it to the queue\n",
    "        visited.append(current)\n",
    "\n",
    "        if display:\n",
    "            display_with_colors(g, visited)\n",
    "\n",
    "        # for every uvisited neighbour\n",
    "        for v in list(g.neighbors(current)):\n",
    "            if v not in visited:\n",
    "                queue.append(v)\n",
    "\n",
    "\n",
    "    return visited"
   ]
  },
  {
   "cell_type": "code",
   "execution_count": 7,
   "metadata": {},
   "outputs": [
    {
     "data": {
      "text/plain": [
       "[6, 1, 10, 0, 9, 11, 8, 7, 2, 5, 4, 3]"
      ]
     },
     "execution_count": 7,
     "metadata": {},
     "output_type": "execute_result"
    }
   ],
   "source": [
    "g = nx.random_tree(12, seed=2001)\n",
    "dfs(g, 6, display=False)"
   ]
  },
  {
   "cell_type": "code",
   "execution_count": 9,
   "metadata": {},
   "outputs": [
    {
     "data": {
      "text/plain": [
       "[4, 5, 0, 3, 10, 9, 1, 2, 7, 8, 11, 6]"
      ]
     },
     "execution_count": 9,
     "metadata": {},
     "output_type": "execute_result"
    }
   ],
   "source": [
    "bfs(g, 4, display=False)"
   ]
  },
  {
   "cell_type": "code",
   "execution_count": 8,
   "metadata": {},
   "outputs": [
    {
     "data": {
      "image/png": "[encoded data removed]",
      "text/plain": [
       "<Figure size 432x288 with 1 Axes>"
      ]
     },
     "metadata": {},
     "output_type": "display_data"
    }
   ],
   "source": [
    "nx.draw(g, with_labels=True)"
   ]
  },
  {
   "cell_type": "code",
   "execution_count": null,
   "metadata": {},
   "outputs": [],
   "source": []
  }
 ],
 "metadata": {
  "kernelspec": {
   "display_name": "Python 3.9.12 64-bit",
   "language": "python",
   "name": "python3"
  },
  "language_info": {
   "codemirror_mode": {
    "name": "ipython",
    "version": 3
   },
   "file_extension": ".py",
   "mimetype": "text/x-python",
   "name": "python",
   "nbconvert_exporter": "python",
   "pygments_lexer": "ipython3",
   "version": "3.9.12"
  },
  "orig_nbformat": 4,
  "vscode": {
   "interpreter": {
    "hash": "11938c6bc6919ae2720b4d5011047913343b08a43b18698fd82dedb0d4417594"
   }
  }
 },
 "nbformat": 4,
 "nbformat_minor": 2
}
