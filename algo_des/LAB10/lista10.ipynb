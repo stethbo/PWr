{
 "cells": [
  {
   "cell_type": "markdown",
   "metadata": {},
   "source": [
    "# Lista 10 - sieci przepływowe #\n"
   ]
  },
  {
   "cell_type": "code",
   "execution_count": 1,
   "metadata": {},
   "outputs": [],
   "source": [
    "import networkx as nx\n",
    "import matplotlib.pyplot as plt"
   ]
  },
  {
   "cell_type": "markdown",
   "metadata": {},
   "source": [
    "\n",
    "### <b> Zadanie nr 1 </b> ###\n",
    "Zaimplementuj algorytm Edmondsa-Karpa dla sieci przepływowej zadanej w pliku. Zaproponuj format danych w pliku. Wyświetl sieci rezydualne w każdym kroku algorytmu.\n",
    "\n",
    "Zadbaj o to, żeby sieć była wyświetlana przejrzyście - z wyraźnie zaznaczonymi kierunkami przepływu, bez\n",
    "losowości w pozycjach wierzchołków itd."
   ]
  },
  {
   "cell_type": "code",
   "execution_count": 47,
   "metadata": {},
   "outputs": [
    {
     "name": "stdout",
     "output_type": "stream",
     "text": [
      "{0: [], 1: [(0, 1)]}\n",
      "{0: [], 1: [(0, 1)], 2: [(0, 2)]}\n",
      "{0: [], 1: [(0, 1)], 2: [(0, 2)], 3: [(0, 1), (1, 3)]}\n",
      "{0: [], 1: [(0, 1)], 2: [(0, 2)], 3: [(0, 1), (1, 3)], 4: [(0, 2), (2, 4)]}\n",
      "{0: [], 1: [(0, 1)], 2: [(0, 2)], 3: [(0, 1), (1, 3)], 4: [(0, 2), (2, 4)], 5: [(0, 1), (1, 3), (3, 5)]}\n",
      "{0: [], 1: [(0, 1)]}\n",
      "{0: [], 1: [(0, 1)], 2: [(0, 2)]}\n",
      "{0: [], 1: [(0, 1)], 2: [(0, 2)], 3: [(0, 1), (1, 3)]}\n",
      "{0: [], 1: [(0, 1)], 2: [(0, 2)], 3: [(0, 1), (1, 3)], 4: [(0, 2), (2, 4)]}\n",
      "{0: [], 1: [(0, 1)], 2: [(0, 2)], 3: [(0, 1), (1, 3)], 4: [(0, 2), (2, 4)], 5: [(0, 2), (2, 4), (4, 5)]}\n",
      "{0: [], 1: [(0, 1)]}\n",
      "{0: [], 1: [(0, 1)], 2: [(0, 2)]}\n",
      "{0: [], 1: [(0, 1)], 2: [(0, 2)], 3: [(0, 1), (1, 3)]}\n",
      "{0: [], 1: [(0, 1)], 2: [(0, 2)], 3: [(0, 1), (1, 3)], 4: [(0, 1), (1, 3), (3, 4)]}\n",
      "{0: [], 1: [(0, 1)], 2: [(0, 2)], 3: [(0, 1), (1, 3)], 4: [(0, 1), (1, 3), (3, 4)], 5: [(0, 1), (1, 3), (3, 4), (4, 5)]}\n",
      "{0: [], 2: [(0, 2)]}\n",
      "Algorytm Edmondsa-Karpa\n",
      "Maksymalny przpływ:  5\n"
     ]
    },
    {
     "data": {
      "image/png": "[encoded data removed]",
      "text/plain": [
       "<Figure size 432x288 with 1 Axes>"
      ]
     },
     "metadata": {},
     "output_type": "display_data"
    }
   ],
   "source": [
    "import json\n",
    "import networkx as nx\n",
    "import matplotlib.pyplot as plt\n",
    "\n",
    "#Edmonds-Karp Algorithm\n",
    "def max_flow(C, s, t):\n",
    "        n = len(C) # C is the capacity matrix\n",
    "        F = [[0] * n for i in range(n)]\n",
    "        path = bfs(C, F, s, t)\n",
    "      #  print path\n",
    "        while path != None:\n",
    "            flow = min(C[u][v] - F[u][v] for u,v in path)\n",
    "            for u,v in path:\n",
    "                F[u][v] += flow\n",
    "                F[v][u] -= flow\n",
    "            path = bfs(C, F, s, t)\n",
    "        return sum(F[s][i] for i in range(n))\n",
    "\n",
    "#find path by using BFS\n",
    "def bfs(C, F, s, t):\n",
    "        queue = [s]\n",
    "        paths = {s:[]}\n",
    "        if s == t:\n",
    "            return paths[s]\n",
    "        while queue: \n",
    "            u = queue.pop(0)\n",
    "            for v in range(len(C)):\n",
    "                    if(C[u][v]-F[u][v]>0) and v not in paths:\n",
    "                        paths[v] = paths[u]+[(u,v)]\n",
    "                        print(paths)\n",
    "                        if v == t:\n",
    "                            return paths[v]\n",
    "                        queue.append(v)\n",
    "        return None\n",
    "    \n",
    "def CtoNE(C):\n",
    "    \"\"\"capacity matrix to Edges and Nodes\"\"\"\n",
    "    N = []\n",
    "    e = []\n",
    "    E = [] #(u,v,weight)\n",
    "    # 97 - a\n",
    "    N = [i for i in range(len(C))]\n",
    "    for i in range(len(C)):\n",
    "        for j in range(len(C)):\n",
    "            if C[i][j] != 0:\n",
    "                E.append((N[i], N[j], '0/'+str(C[i][j]))) \n",
    "                e.append((N[i], N[j], C[i][j])) \n",
    "    return e, E    \n",
    "\n",
    "def plot(C):\n",
    "    e, E = CtoNE(C)\n",
    "    G = nx.DiGraph()\n",
    "    G.add_weighted_edges_from(e)\n",
    "    pos = nx.spring_layout(G, seed=7)  # positions for all nodes - seed for reproducibility\n",
    "    G = nx.DiGraph()\n",
    "    G.add_weighted_edges_from(E)\n",
    "\n",
    "    # nodes\n",
    "    nx.draw_networkx_nodes(G, pos, node_size=700)\n",
    "\n",
    "    # edges\n",
    "    nx.draw_networkx_edges(G, pos, width=3)\n",
    "\n",
    "    # node labels\n",
    "    nx.draw_networkx_labels(G, pos, font_size=20, font_family=\"sans-serif\")\n",
    "    # edge weight labels\n",
    "    edge_labels = nx.get_edge_attributes(G, \"weight\")\n",
    "    nx.draw_networkx_edge_labels(G, pos, edge_labels)\n",
    "\n",
    "    ax = plt.gca()\n",
    "    ax.margins(0.08)\n",
    "    plt.axis(\"off\")\n",
    "    plt.tight_layout()\n",
    "    plt.show()\n",
    "\n",
    "def ford_fulkerson(C, source, sink):\n",
    "        parent = [-1] * (len(C))\n",
    "        max_flow = 0\n",
    "\n",
    "        while bfs(C, source, sink, parent):\n",
    "\n",
    "            path_flow = float(\"Inf\")\n",
    "            s = sink\n",
    "            while(s != source):\n",
    "                path_flow = min(path_flow, C[parent[s]][s])\n",
    "                s = parent[s]\n",
    "\n",
    "            # Adding the path flows\n",
    "            max_flow += path_flow\n",
    "\n",
    "            # Updating the residual values of edges\n",
    "            v = sink\n",
    "            while(v != source):\n",
    "                u = parent[v]\n",
    "                C[u][v] -= path_flow\n",
    "                C[v][u] += path_flow\n",
    "                v = parent[v]\n",
    "\n",
    "        return max_flow\n",
    "\n",
    "with open('graph.json', 'r') as f:\n",
    "    C = json.load(f)\n",
    "C = C['C']\n",
    "\n",
    "\n",
    "\n",
    "\n",
    "source = 0  # a\n",
    "sink = 5    # f\n",
    "max_flow_value = max_flow(C, source, sink)\n",
    "print(\"Algorytm Edmondsa-Karpa\")\n",
    "print(\"Maksymalny przpływ: \",max_flow_value)\n",
    "\n",
    "\n",
    "plot(C)"
   ]
  },
  {
   "cell_type": "markdown",
   "metadata": {},
   "source": [
    "### <b>Zadanie nr 2</b> ###\n",
    "\n",
    "Zaimplementuj algorytm Forda-Fulkersona dla sieci przepływowej jak w poprzednim zadaniu. Umożliw podawanie ścieżek powiększającyh przepływ (podaje użytkownik – w każdym kroku algorytmu).\n",
    "\n",
    "Zadbaj o to, żeby sieć była wyświetlana przejrzyście - z wyraźnie zaznaczonymi kierunkami przepływu, bez losowości w pozycjach wierzchołków itd."
   ]
  },
  {
   "cell_type": "code",
   "execution_count": 49,
   "metadata": {},
   "outputs": [],
   "source": [
    "edges = [\n",
    "    (0, 1, 3),\n",
    "    (1, 2, 4),\n",
    "    (1, 3, 3),\n",
    "    (0, 2, 5),\n",
    "    (2, 3, 7),\n",
    "    (3, 4, 6),\n",
    "    (3, 5, 5),\n",
    "    (4, 6, 4),\n",
    "    (5, 6, 7),\n",
    "    (6, 7, 8),\n",
    "    (5, 7, 5),\n",
    "]"
   ]
  },
  {
   "cell_type": "code",
   "execution_count": 50,
   "metadata": {},
   "outputs": [],
   "source": [
    "size = 100\n",
    "nodes = list(G.nodes())\n",
    "\n",
    "pos = {}\n",
    "x = 1\n",
    "y = 1\n",
    "pos[nodes[0]] = [x, y]\n",
    "\n",
    "for node in nodes[1:-1]:\n",
    "    if int(node) % 2:\n",
    "        x += .1\n",
    "    pos[node] = [x, y + (-1) ** int(node) * .1]\n",
    "\n",
    "pos[nodes[-1]] = [ pos[nodes[-2]][0] + .1, pos[nodes[0]][-1] ]"
   ]
  },
  {
   "cell_type": "code",
   "execution_count": 51,
   "metadata": {},
   "outputs": [],
   "source": [
    "G = nx.DiGraph()\n",
    "G.add_weighted_edges_from(edges)"
   ]
  },
  {
   "cell_type": "code",
   "execution_count": 52,
   "metadata": {},
   "outputs": [],
   "source": [
    "def plot_net(flows):\n",
    "    cmap = []\n",
    "    labels = {}\n",
    "\n",
    "    for edge in flows:\n",
    "        f = flows[edge]['flow']\n",
    "        w = flows[edge]['weight']\n",
    "        labels[edge] = str(f) + '/' + str(w)\n",
    "        if w == f:\n",
    "            cmap.append('red')\n",
    "        elif f:\n",
    "            cmap.append('green')\n",
    "        else:\n",
    "            cmap.append('black')\n",
    "    plt.figure(dpi=120)\n",
    "    nx.draw(\n",
    "        G,\n",
    "        pos=pos,\n",
    "        with_labels=True\n",
    "        )\n",
    "\n",
    "    nx.draw_networkx_edge_labels(\n",
    "        G,\n",
    "        pos=pos,\n",
    "        edge_labels=labels,\n",
    "        )\n",
    "\n",
    "    nx.draw_networkx_edges(\n",
    "        G,\n",
    "        pos=pos,\n",
    "        edge_color=cmap\n",
    "    )\n",
    "    plt.show()"
   ]
  },
  {
   "cell_type": "code",
   "execution_count": 53,
   "metadata": {},
   "outputs": [],
   "source": [
    "def get_path_from_user():\n",
    "    path = input('Podaj ścieżkę:')\n",
    "    if path == 'q':\n",
    "        return path\n",
    "    path.replace(' ', '')   \n",
    "    path = [int(n) for n in path.split(',')]\n",
    "\n",
    "    return path"
   ]
  },
  {
   "cell_type": "code",
   "execution_count": 54,
   "metadata": {},
   "outputs": [],
   "source": [
    "def check_adj_flows(flws, s, t):\n",
    "    f = 0  # flow\n",
    "    c = 0  # capacity\n",
    "\n",
    "    # sprawdzenie czy może coś wypłynąć z wierzchołka początkowego\n",
    "    for edge in flws:\n",
    "        if edge[0] == s:\n",
    "            f += flws[edge]['flow']\n",
    "            c += flws[edge]['weight']\n",
    "    \n",
    "    if f == c:\n",
    "        return f\n",
    "\n",
    "    f, c = 0,  0\n",
    "\n",
    "    # sprawdzenie czy może coś wpłynąć do wierzchołka końcowego\n",
    "    for edge in flws:\n",
    "        if edge[1] == s:\n",
    "            f += flws[edge]['flow']\n",
    "            c += flws[edge]['weight']\n",
    "\n",
    "    if f == c:\n",
    "        return f\n",
    "    else: \n",
    "        return\n"
   ]
  },
  {
   "cell_type": "code",
   "execution_count": 55,
   "metadata": {},
   "outputs": [
    {
     "data": {
      "image/png": "[encoded data removed]",
      "text/plain": [
       "<Figure size 720x480 with 1 Axes>"
      ]
     },
     "metadata": {},
     "output_type": "display_data"
    },
    {
     "name": "stdout",
     "output_type": "stream",
     "text": [
      "Maksymalny przepływ: None\n"
     ]
    }
   ],
   "source": [
    "def ffa(g, s, t):\n",
    "    \"\"\"\n",
    "    Algorytm forda-focusa\n",
    "    :param g: graf\n",
    "    :param s: 'kran' (węzeł początkowy)\n",
    "    :param t: 'zlew' (węzeł końcowy) \n",
    "    :return :\n",
    "    \"\"\"\n",
    "    flows = {}\n",
    "\n",
    "    flows = {}\n",
    "    for edge in (g.edges()):\n",
    "        flows[edge] = {\n",
    "            'flow' : 0,\n",
    "            'weight': G[edge[0]][edge[1]]['weight']\n",
    "            }\n",
    "\n",
    "    plot_net(flows)\n",
    "    path = get_path_from_user()\n",
    "\n",
    "    while path != 'q':\n",
    "        path_edges = []\n",
    "        weights = []\n",
    "        for n in range(1, len(path)):\n",
    "            temp_edge = (path[n-1], path[n])\n",
    "            path_edges.append(temp_edge)\n",
    "            weights.append(flows[temp_edge]['weight'] - flows[temp_edge]['flow'])\n",
    "        for edge in path_edges:\n",
    "            flows[edge]['flow'] += min(weights)\n",
    "\n",
    "        plot_net(flows)\n",
    "\n",
    "        max_flow = check_adj_flows(flows, s, t)\n",
    "\n",
    "        if max_flow:\n",
    "            return max_flow\n",
    "        \n",
    "\n",
    "        path = get_path_from_user()\n",
    "\n",
    "        if path[0] != s or path[-1] != t:\n",
    "            return 'wrong input'\n",
    "\n",
    "            \n",
    "print('Maksymalny przepływ:', ffa(G, 0, 7))"
   ]
  },
  {
   "cell_type": "code",
   "execution_count": null,
   "metadata": {},
   "outputs": [],
   "source": []
  }
 ],
 "metadata": {
  "interpreter": {
   "hash": "11938c6bc6919ae2720b4d5011047913343b08a43b18698fd82dedb0d4417594"
  },
  "kernelspec": {
   "display_name": "Python 3.9.12 64-bit",
   "language": "python",
   "name": "python3"
  },
  "language_info": {
   "codemirror_mode": {
    "name": "ipython",
    "version": 3
   },
   "file_extension": ".py",
   "mimetype": "text/x-python",
   "name": "python",
   "nbconvert_exporter": "python",
   "pygments_lexer": "ipython3",
   "version": "3.9.12"
  },
  "orig_nbformat": 4
 },
 "nbformat": 4,
 "nbformat_minor": 2
}
