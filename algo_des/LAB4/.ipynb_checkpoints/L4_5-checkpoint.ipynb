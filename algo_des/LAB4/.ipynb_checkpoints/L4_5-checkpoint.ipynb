{
 "cells": [
  {
   "cell_type": "markdown",
   "metadata": {},
   "source": [
    "### Zad5 ###\n",
    "Złożoność algorytmu z zadania 4\n",
    "\n",
    "U - liczba uslug\n",
    "\n",
    "N - liczba \n",
    "\n",
    "\n",
    "-pętla po dlugosci listy uslug #zlozonosc O(U)\n",
    "\n",
    "-pętla po dlugisci listy wierzcholkow #zlozonosc O(N)\n",
    "\n",
    "-funkcja dodwanaia uslugi #zlozonosc O(N+U)\n",
    "\n",
    " petla po wierzcholkach\n",
    "\n",
    " petla po uslugach\n",
    "\n",
    "-petla po wierzcholkach #zlozonosc O(N)\n",
    "\n",
    "-petla po wierzcholkach #zlozonosc O(N*max_pol)\n",
    "\n",
    "\tzagniezdzona petla po max_pol\n",
    "\n",
    "-petla po liscie wiercholkow #zlozonosc O(N)\n",
    "\n",
    "-funkcja kolorowania wiercholkow #zlozonosc O(N*len(corr_cololr))\n",
    "\n",
    " petla po wierzcholkach\n",
    "\n",
    "\tzagniezdzona petla po dlugosci listy corr_color\n",
    "\n",
    "Złozonosc calego programu to suma wszyskich zlozonosci, a w praktyce jest to najwyzsza zlozonosc\n",
    "\n",
    "W naszym przypadku jest to O(N*len(corr_cololr)"
   ]
  }
 ],
 "metadata": {
  "language_info": {
   "name": "python"
  },
  "orig_nbformat": 4
 },
 "nbformat": 4,
 "nbformat_minor": 2
}
