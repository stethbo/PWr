{
 "cells": [
  {
   "cell_type": "markdown",
   "metadata": {},
   "source": [
    "# Lista 6 - wysukiwanie i funkcje haszujące #\n",
    "\n",
    "## Zadanie 0. - przygotowanie strutury ##\n",
    "• Utwórz strukturę (może być klasa) do przechowywania opisów floty robotów mobilnych wykorzysty-\n",
    "wanych w zadaniach eksploracji i inspekcji. Pola składowe struktury to: identyfikator, typ, masa,\n",
    "zasięg, rozdzielczość (kamery).\\\n",
    "• Zaimplementuj funkcję generującą opis pojedynczego robota (jeden obiekt) o parametrach losowanych\n",
    "jak następuje: identyfikator – ciąg znaków alfanumerycznych o długości N, typ – „AUV”, ”AFV”,\n",
    "„AGV”, masa – od 50 do 2000 [dag], zasięg – od 1 do 1000 [km], rozdzielczość – od 1 do 30 [MP].\n",
    "Wartości liczbowe są całkowite.\\\n",
    "• Zaimplementuj funkcję generującą opisy M robotów o losowych parametrach. Opisy, w postaci struktur\n",
    "są zapisywane w M-elementowym wektorze.\\\n",
    "• Zaimplementuj funkcję wyświetlającą wygenerowaną strukturę w postaci tabelki (jeden wiersz – jeden\n",
    "robot; równe odstępy między kolejnymi polami).\\\n",
    "• Zaimplementuj funkcję zapisującą/odczytującą opisy do/z pliku.\\\n",
    "Na tym wektorze robotów realizowane są kolejne zadania.\n",
    "\\\n",
    "Uwaga: nie zakładaj, że wartości parametrów są unikalne.\n"
   ]
  },
  {
   "cell_type": "code",
   "execution_count": 3,
   "metadata": {},
   "outputs": [],
   "source": [
    "import random\n",
    "import pandas as pd\n",
    "import numpy as np"
   ]
  },
  {
   "cell_type": "code",
   "execution_count": 4,
   "metadata": {},
   "outputs": [
    {
     "name": "stderr",
     "output_type": "stream",
     "text": [
      "C:\\Users\\sztef\\AppData\\Local\\Temp\\ipykernel_11356\\1684982038.py:55: FutureWarning: The frame.append method is deprecated and will be removed from pandas in a future version. Use pandas.concat instead.\n",
      "  df = df.append(b.save_robot(), ignore_index=True)\n",
      "C:\\Users\\sztef\\AppData\\Local\\Temp\\ipykernel_11356\\1684982038.py:55: FutureWarning: The frame.append method is deprecated and will be removed from pandas in a future version. Use pandas.concat instead.\n",
      "  df = df.append(b.save_robot(), ignore_index=True)\n",
      "C:\\Users\\sztef\\AppData\\Local\\Temp\\ipykernel_11356\\1684982038.py:55: FutureWarning: The frame.append method is deprecated and will be removed from pandas in a future version. Use pandas.concat instead.\n",
      "  df = df.append(b.save_robot(), ignore_index=True)\n",
      "C:\\Users\\sztef\\AppData\\Local\\Temp\\ipykernel_11356\\1684982038.py:55: FutureWarning: The frame.append method is deprecated and will be removed from pandas in a future version. Use pandas.concat instead.\n",
      "  df = df.append(b.save_robot(), ignore_index=True)\n",
      "C:\\Users\\sztef\\AppData\\Local\\Temp\\ipykernel_11356\\1684982038.py:55: FutureWarning: The frame.append method is deprecated and will be removed from pandas in a future version. Use pandas.concat instead.\n",
      "  df = df.append(b.save_robot(), ignore_index=True)\n",
      "C:\\Users\\sztef\\AppData\\Local\\Temp\\ipykernel_11356\\1684982038.py:55: FutureWarning: The frame.append method is deprecated and will be removed from pandas in a future version. Use pandas.concat instead.\n",
      "  df = df.append(b.save_robot(), ignore_index=True)\n",
      "C:\\Users\\sztef\\AppData\\Local\\Temp\\ipykernel_11356\\1684982038.py:55: FutureWarning: The frame.append method is deprecated and will be removed from pandas in a future version. Use pandas.concat instead.\n",
      "  df = df.append(b.save_robot(), ignore_index=True)\n",
      "C:\\Users\\sztef\\AppData\\Local\\Temp\\ipykernel_11356\\1684982038.py:55: FutureWarning: The frame.append method is deprecated and will be removed from pandas in a future version. Use pandas.concat instead.\n",
      "  df = df.append(b.save_robot(), ignore_index=True)\n",
      "C:\\Users\\sztef\\AppData\\Local\\Temp\\ipykernel_11356\\1684982038.py:55: FutureWarning: The frame.append method is deprecated and will be removed from pandas in a future version. Use pandas.concat instead.\n",
      "  df = df.append(b.save_robot(), ignore_index=True)\n",
      "C:\\Users\\sztef\\AppData\\Local\\Temp\\ipykernel_11356\\1684982038.py:55: FutureWarning: The frame.append method is deprecated and will be removed from pandas in a future version. Use pandas.concat instead.\n",
      "  df = df.append(b.save_robot(), ignore_index=True)\n"
     ]
    }
   ],
   "source": [
    "class Robot:\n",
    "    def __init__(self, id, typ, masa, zas, roz):\n",
    "        self.id = id\n",
    "        self.typ = typ\n",
    "        self.masa = masa\n",
    "        self.zas = zas\n",
    "        self.roz = roz\n",
    "\n",
    "    def save_robot(self):\n",
    "        \"\"\"\n",
    "        :return dict robot: zwraca słownik z oarametrami robota\n",
    "        \"\"\"\n",
    "        robot = {\n",
    "            'id': self.id,\n",
    "            'typ': self.typ,\n",
    "            'masa': self.masa,\n",
    "            'roz': self.roz\n",
    "        }\n",
    "        return robot\n",
    "\n",
    "\n",
    "def create_robot():\n",
    "    \"\"\"\n",
    "    Funkcja tworząca robota\n",
    "    :return bot: objekt klasy robot\n",
    "    \"\"\"\n",
    "    bot = Robot(\n",
    "        id=''.join(random.choices(['0', '1'], k=4)),\n",
    "        typ=''.join(random.choices(['A', 'U', 'V', 'G', 'C', 'W', 'N'], k=3)),\n",
    "        masa=np.random.randint(50, 2001),\n",
    "        zas=np.random.randint(1, 1000),\n",
    "        roz=np.random.randint(1, 30)\n",
    "    )\n",
    "    return bot\n",
    "\n",
    "\n",
    "def create_m_bots(m):\n",
    "    \"\"\"\n",
    "    Funkcja wywolująca m razy funkcję tworzącom robota, dodatkowo zapisuje obiekty w liście\n",
    "    :param int m: liczba robotów\n",
    "    :return list bots: lista robotów\n",
    "    \"\"\"\n",
    "    bots = list()\n",
    "    for _ in range(m):\n",
    "        bots.append(create_robot())\n",
    "    return bots\n",
    "\n",
    "\n",
    "# stworzenie m robotów\n",
    "botslist = create_m_bots(10)\n",
    "# stworzenie ramnki danych (tabelka)\n",
    "df = pd.DataFrame()\n",
    "# zapisanie robotów do tabelki\n",
    "for b in botslist:\n",
    "    df = df.append(b.save_robot(), ignore_index=True)\n",
    "\n",
    "\n",
    "\n",
    "def save_to_file(data):\n",
    "    \"\"\"\n",
    "    Funkcja zapisująca listę robotów do pliku\n",
    "    :param data: ramka Pandas\n",
    "    \"\"\"\n",
    "    data.to_csv('pliki/roboty.csv')\n",
    "\n",
    "\n",
    "def read_from_file(path):\n",
    "    \"\"\"\n",
    "    Funkcja odczytująca plik csv i zapisująca zawartość do ramki pandas\n",
    "    :param string path: ścieżka do pliku\n",
    "    \"\"\"\n",
    "    data = pd.read_csv(path)\n",
    "    return data"
   ]
  },
  {
   "cell_type": "code",
   "execution_count": 5,
   "metadata": {},
   "outputs": [
    {
     "name": "stdout",
     "output_type": "stream",
     "text": [
      "     id  typ  masa  roz\n",
      "0  1001  UCA  1182   25\n",
      "1  1010  GGC  1360   26\n",
      "2  1001  GVG  1955   16\n",
      "3  1010  VWC   843   16\n",
      "4  0101  VAC   246   28\n",
      "5  1111  UWG  1644   25\n",
      "6  0001  NAW   932   13\n",
      "7  1100  VGW   985    4\n",
      "8  1111  WWN   948    6\n",
      "9  1100  WVN  1696   21\n",
      "   Unnamed: 0    id  typ  masa  roz\n",
      "0           0  1001  UCA  1182   25\n",
      "1           1  1010  GGC  1360   26\n",
      "2           2  1001  GVG  1955   16\n",
      "3           3  1010  VWC   843   16\n",
      "4           4   101  VAC   246   28\n",
      "5           5  1111  UWG  1644   25\n",
      "6           6     1  NAW   932   13\n",
      "7           7  1100  VGW   985    4\n",
      "8           8  1111  WWN   948    6\n",
      "9           9  1100  WVN  1696   21\n"
     ]
    }
   ],
   "source": [
    "# wyświetlenie tabeli\n",
    "print(df)\n",
    "\n",
    "# zapisanie do plik\n",
    "save_to_file(df)\n",
    "\n",
    "# odczytanie z pliku\n",
    "print(read_from_file('pliki/roboty.csv'))"
   ]
  },
  {
   "cell_type": "markdown",
   "metadata": {},
   "source": [
    "## Zadanie 1. - wyszukiwanie liniowe ##\n",
    "\n",
    "• Zaimplementuj funkcję wyszukującą jednego robota z wektora robotów. Poszukiwanie odbywa się\n",
    "względem jednego parametru (parametr wybierany przez użytkownika; szukana wartość wybierana\n",
    "przez użytkownika). Funkcja realizuje algorytm wyszukiwania liniowego i zwraca strukturę z pierwszym\n",
    "znalezionym robotem (lub None, jeśli robota nie znajdzie).\\\n",
    "• Rozwiń napisaną funkcję tak, aby wyszukiwanie odbywało się po zbiorze parametrów. Zbiór i wartości\n",
    "są zadawane przez użytkownika w postaci struktury analogicznej do tej reprezentującej pojedynczego\n",
    "robota; parametry, po których wyszukiwanie się nie odbywa pozostają puste (None), np. (None, „AUV”,\n",
    "50, 10, None).\\\n",
    "• Rozwiń napisaną funkcję tak, aby akceptowała też wektory wartości parametrów, np. (None, „AUV”,\n",
    "[90, 51, 52, 53], [10, 11, 15], None). Zagnieźdź algorytmy wyszukiwania liniowego tak, aby\n",
    "parametr robota był wyszukiwany w liście dopuszczalnych wartości."
   ]
  },
  {
   "cell_type": "code",
   "execution_count": 6,
   "metadata": {},
   "outputs": [],
   "source": [
    "from time import sleep"
   ]
  },
  {
   "cell_type": "code",
   "execution_count": 7,
   "metadata": {},
   "outputs": [],
   "source": [
    "bots = create_m_bots(1000)\n",
    "if type(bots) != dict:\n",
    "    robots = []\n",
    "    for bot in bots:\n",
    "        robots.append(bot.save_robot())"
   ]
  },
  {
   "cell_type": "code",
   "execution_count": 8,
   "metadata": {},
   "outputs": [],
   "source": [
    "# zamiast losować można też użyć poniższy wektor robotów\n",
    "robots = [\n",
    "    {'id': 'X11298816', 'typ': 'CWN', 'masa': 660, 'roz': 20}, \n",
    "    {'id': '3Y059465Z', 'typ': 'WAC', 'masa': 83, 'roz': 25}, \n",
    "    {'id': '3241363YX', 'typ': 'CAG', 'masa': 1848, 'roz': 28}, \n",
    "    {'id': 'X81X30X7Y', 'typ': 'ACU', 'masa': 1964, 'roz': 11}, \n",
    "    {'id': '294Y0760X', 'typ': 'WCV', 'masa': 342, 'roz': 1}, \n",
    "    {'id': 'Z49161Z71', 'typ': 'GUC', 'masa': 810, 'roz': 8}, \n",
    "    {'id': 'Z27535428', 'typ': 'UAV', 'masa': 452, 'roz': 4}, \n",
    "    {'id': '30XY877X0', 'typ': 'WUU', 'masa': 1071, 'roz': 14}, \n",
    "    {'id': '4Y89757Y1', 'typ': 'VNA', 'masa': 1979, 'roz': 2}, \n",
    "    {'id': '6831Z4147', 'typ': 'WCW', 'masa': 574, 'roz': 7}]"
   ]
  },
  {
   "cell_type": "code",
   "execution_count": 9,
   "metadata": {},
   "outputs": [],
   "source": [
    "def find_robot_1(p_name, p_value, robots_list=robots, many=0):\n",
    "    \"\"\"\n",
    "    Funkcja szukająca pierwszego robota z zadanym parametrem\n",
    "    :param p_name: nazwa parametru\n",
    "    :param p_value: wartość parametru\n",
    "    :param robots_list: lista robotów do pszeszukania, domyślnie lista wcześniej wygenerowanych robotów\n",
    "    :param bool many: informacja czy zwrócić wszytkie roboty spełniające kryteria czy tylko jednego\n",
    "    :return b or None: zwraca robota (słownik) lub None jeśli dany robot nie istnij\n",
    "    \"\"\"\n",
    "    fulfilling = []\n",
    "    for b in robots_list:\n",
    "        if b[p_name] == p_value:\n",
    "            if not many:\n",
    "                return b\n",
    "            fulfilling.append(b)\n",
    "\n",
    "    return\n",
    "\n",
    "\n",
    "def find_robot_many(features, display=False):\n",
    "    \"\"\"\n",
    "    Funkcja szuka robota z wieloma parametrami\n",
    "    :param dict features: słownik z parametrami dla szukanego robota\n",
    "    :param display: domyślnie False, można ustawić na True wtedy będzie wyświetlany krok wisualizacji co 1s\n",
    "    :return dict b or None: zwracamy robota o określonych parametrach lub None jeśli taki robot nie istnieje\n",
    "    \"\"\"\n",
    "    # słownik cech które nie są None\n",
    "    params = dict()\n",
    "    for f in features:\n",
    "        if features[f]:\n",
    "            params[f] = features[f]\n",
    "\n",
    "    for b in robots:\n",
    "        if display:\n",
    "            print(b)\n",
    "            print(features)\n",
    "            sleep(1)\n",
    "        correct_params = 0\n",
    "        for p in params:\n",
    "            if type(params[p]) == list:\n",
    "                if b[p] in params[p]:\n",
    "                    correct_params += 1\n",
    "                else:\n",
    "                    break\n",
    "            else:\n",
    "                if b[p] == params[p]:\n",
    "                    correct_params += 1\n",
    "                else:\n",
    "                    break\n",
    "\n",
    "        if correct_params == len(params):\n",
    "            return b\n",
    "    return"
   ]
  },
  {
   "cell_type": "code",
   "execution_count": 10,
   "metadata": {},
   "outputs": [
    {
     "name": "stdout",
     "output_type": "stream",
     "text": [
      "Wektor robotów:\n",
      "[{'id': 'X11298816', 'typ': 'CWN', 'masa': 660, 'roz': 20}, {'id': '3Y059465Z', 'typ': 'WAC', 'masa': 83, 'roz': 25}, {'id': '3241363YX', 'typ': 'CAG', 'masa': 1848, 'roz': 28}, {'id': 'X81X30X7Y', 'typ': 'ACU', 'masa': 1964, 'roz': 11}, {'id': '294Y0760X', 'typ': 'WCV', 'masa': 342, 'roz': 1}, {'id': 'Z49161Z71', 'typ': 'GUC', 'masa': 810, 'roz': 8}, {'id': 'Z27535428', 'typ': 'UAV', 'masa': 452, 'roz': 4}, {'id': '30XY877X0', 'typ': 'WUU', 'masa': 1071, 'roz': 14}, {'id': '4Y89757Y1', 'typ': 'VNA', 'masa': 1979, 'roz': 2}, {'id': '6831Z4147', 'typ': 'WCW', 'masa': 574, 'roz': 7}]\n",
      "\n",
      "Wyszukiwaie z jedną cechą: ACU\n",
      "Znaleziony robot:\n",
      "{'id': 'X81X30X7Y', 'typ': 'ACU', 'masa': 1964, 'roz': 11}\n",
      "\n",
      "Poszukiwanie z wieloma cechami i z wektorem cech:\n",
      "pożądane cechy: {'id': None, 'typ': ['AUC', 'AWU', 'AVC'], 'masa': None, 'roz': [11, 12, 13, 14, 15, 16, 17, 18, 19]} \n",
      "\n",
      "Znaleziony robot:\n",
      "None\n"
     ]
    }
   ],
   "source": [
    "print('Wektor robotów:')\n",
    "print(robots[:10])\n",
    "\n",
    "feature = 'ACU'\n",
    "print('\\nWyszukiwaie z jedną cechą:', feature)\n",
    "print('Znaleziony robot:')\n",
    "print(find_robot_1('typ', feature, robots))\n",
    "\n",
    "print(\"\\nPoszukiwanie z wieloma cechami i z wektorem cech:\")\n",
    "desired_fetures = {'id': None, 'typ': ['AUC', 'AWU', 'AVC'], 'masa': None, 'roz': [11, 12, 13, 14, 15, 16, 17, 18, 19]}\n",
    "print('pożądane cechy:', desired_fetures, '\\n')\n",
    "print('Znaleziony robot:')\n",
    "print(find_robot_many(desired_fetures))"
   ]
  },
  {
   "cell_type": "markdown",
   "metadata": {},
   "source": [
    "## Zadanie 2. - wyszukiwanie binarne. ##\n",
    "\n",
    "• Zaimplementuj funkcję sortującą wektor robotów względem wskazanego parametru. Wykorzystaj\n",
    "wbudowaną funkcję sort.\\\n",
    "• Zaimplementuj funkcję wyszukującą jednego robota o zadanym parametrze, przy założeniu, że wektor\n",
    "jest odpowiednio posortowany. Funkcja realizuje algorytm wyszukiwania binarnego i zwraca strukturę\n",
    "z pierwszym znalezionym robotem (lub None, jeśli robota nie znajdzie).\\\n",
    "• Rozwiń napisaną funkcję tak, aby akceptowała wektor dopuszczalnych wartości parametrów (posorto-\n",
    "wany). Wyszukiwanie binarne wykorzystaj wielokrotnie.\n",
    "\n",
    "\n",
    "\n",
    "Funkcje wyszukiwania uzupełnij o tryb wizualizacji krok-po-kroku."
   ]
  },
  {
   "cell_type": "code",
   "execution_count": 11,
   "metadata": {},
   "outputs": [],
   "source": [
    "# stworzenie wektora robotów\n",
    "vector = create_m_bots(20)"
   ]
  },
  {
   "cell_type": "code",
   "execution_count": 12,
   "metadata": {},
   "outputs": [
    {
     "data": {
      "text/plain": [
       "[{'id': '1011', 'typ': 'VWG', 'masa': 1595, 'roz': 24},\n",
       " {'id': '1100', 'typ': 'ACN', 'masa': 1110, 'roz': 2},\n",
       " {'id': '1101', 'typ': 'VWA', 'masa': 671, 'roz': 16},\n",
       " {'id': '0101', 'typ': 'UAN', 'masa': 354, 'roz': 15},\n",
       " {'id': '1010', 'typ': 'AUC', 'masa': 347, 'roz': 8},\n",
       " {'id': '1010', 'typ': 'AUN', 'masa': 1762, 'roz': 2},\n",
       " {'id': '1011', 'typ': 'CWN', 'masa': 1107, 'roz': 19},\n",
       " {'id': '0000', 'typ': 'NUG', 'masa': 740, 'roz': 7},\n",
       " {'id': '1110', 'typ': 'VAC', 'masa': 162, 'roz': 3},\n",
       " {'id': '0110', 'typ': 'AAC', 'masa': 84, 'roz': 10},\n",
       " {'id': '1010', 'typ': 'NAV', 'masa': 162, 'roz': 26},\n",
       " {'id': '1101', 'typ': 'CVN', 'masa': 365, 'roz': 14},\n",
       " {'id': '0101', 'typ': 'UAA', 'masa': 1460, 'roz': 25},\n",
       " {'id': '0001', 'typ': 'NAG', 'masa': 1729, 'roz': 11},\n",
       " {'id': '0000', 'typ': 'UVG', 'masa': 766, 'roz': 28},\n",
       " {'id': '0001', 'typ': 'CCV', 'masa': 1811, 'roz': 19},\n",
       " {'id': '1010', 'typ': 'CGA', 'masa': 409, 'roz': 13},\n",
       " {'id': '1100', 'typ': 'WUA', 'masa': 1700, 'roz': 27},\n",
       " {'id': '1111', 'typ': 'CVA', 'masa': 1062, 'roz': 17},\n",
       " {'id': '0001', 'typ': 'AWW', 'masa': 1693, 'roz': 2}]"
      ]
     },
     "execution_count": 12,
     "metadata": {},
     "output_type": "execute_result"
    }
   ],
   "source": [
    "# przekształcenie wektora z obiektu klasy na listę\n",
    "vector = [b.save_robot() for b in vector]\n",
    "vector"
   ]
  },
  {
   "cell_type": "code",
   "execution_count": 33,
   "metadata": {},
   "outputs": [],
   "source": [
    "# sortowanie wektora wedłu wartosci ID\n",
    "def sort_vector(vector, key_feature):\n",
    "     return sorted(vector, key=lambda x: x[key_feature])"
   ]
  },
  {
   "cell_type": "code",
   "execution_count": 45,
   "metadata": {},
   "outputs": [
    {
     "name": "stdout",
     "output_type": "stream",
     "text": [
      "id=1010 {'id': '1010', 'typ': 'NAW', 'masa': 1547, 'roz': 4}\n",
      "id=1111 {'id': '1111', 'typ': 'NUW', 'masa': 516, 'roz': 9}\n",
      "id=['1010', '1011', '1111']\n",
      " [{'id': '1010', 'typ': 'NAW', 'masa': 1547, 'roz': 4}, None, None]\n"
     ]
    }
   ],
   "source": [
    "def binary_search(w, value, feature):\n",
    "    \"\"\"\n",
    "    :param list w:\n",
    "    :param string value:\n",
    "    :return optional dict: słownik - robot z odpowiadająca cechą\n",
    "    \"\"\"\n",
    "    w = sort_vector(w, feature)\n",
    "    min_index = 0\n",
    "    max_index = len(w)\n",
    "    index = None\n",
    "    \n",
    "    # jeśli podanych jest wiele wartości szukamy robota dla każdej z nich\n",
    "    if type(value) == list:\n",
    "        results = list()\n",
    "        for v in value:\n",
    "            results.append(binary_search(w, v, feature))\n",
    "        return results\n",
    "    \n",
    "    while index != (max_index + min_index) // 2:\n",
    "        index = (max_index + min_index) // 2\n",
    "        if w[index][feature] == value:\n",
    "            return w[index]\n",
    "        elif w[index][feature] < value:\n",
    "            min_index = index+1\n",
    "        elif w[index][feature] > value:\n",
    "            max_index = index-1\n",
    "\n",
    "\n",
    "print('id=1010', binary_search(vector, '1010', 'id'))\n",
    "print('id=1111', binary_search(vector, '1111', 'id'))\n",
    "print(\"id=['1010', '1011', '1111']\\n\", binary_search(vector, ['1010', '1011', '1101'], 'id'))"
   ]
  },
  {
   "cell_type": "markdown",
   "metadata": {},
   "source": [
    "## Zadanie 3. - wyszukiwanie z wykorzystaniem funkcji haszującej ##\n",
    "\n",
    "• Zaproponuj i zaimplementuj funkcję haszującą działającą na pojedynczej strukturze robota. Zbiór\n",
    "wartości funkcji to liczba całkowita z zakresu od 0 do H − 1. Funkcja powinna uwzględniać wszystkie\n",
    "parametry robota. Do ograniczenia wartości wykorzystaj operację modulo.\n",
    "\n",
    "• Zaimplementuj funkcję generującą wektor wartości funkcji haszującej dla zadanego wektora robotów. Wektor wartości jest generowany jak następuje:\n",
    "\n",
    "<b>Algorithm 1 GWW – Generacja wektora wartości</b>\n",
    "- wejscie: wektor robotów, H >> |wektor robotów|\n",
    "1. niech wektor wartości będzie H −1 elementowym wektorem wypełnionym pustymi elementami (None)\n",
    "2. dla n := 0 do |wektor robotów| − 1\n",
    "3. oblicz wartość h funkcji haszującej na ntym elemencie wektora robotów\n",
    "4. na pierwszej pustej pozycji wektora wartości licząc od h tej pozycji (włącznie) wstaw n; jeśli dokońca wektora wartości brakuje wolnych pozycji, to kontynuuj od jego początku\n",
    "- wyjście: wektor wartości\n",
    "\n",
    "• Zaimplementuj funkcję wyszukiwania robota o zadanych wszystkich parametrach, która korzysta z\n",
    "wektora wartości i funkcji haszującej.\n",
    "\n",
    "• Zaproponuj i zaimplementuj metodę wyszukiwania robota po 2 parametrach: masa i zasięg, dopuszczając sytuację, gdy dowolny z parametrów jest nieznany, np. (None, 40). Wykorzystaj (być może zmodyfikowaną) funkcję haszującą (generacja wektora wartości może odbywać się inaczej niż w algorytmie GWW). Zwracaj listę wszystkich robotów spełniających postawione wymagania.\n",
    "\n",
    "Funkcje wyszukiwania i generacji wektora wartości uzupełnij o tryb wizualizacji krok-po-kroku."
   ]
  },
  {
   "cell_type": "code",
   "execution_count": 15,
   "metadata": {},
   "outputs": [],
   "source": [
    "def get_hash(x, H):\n",
    "    \"\"\"\n",
    "    Funkcja wyliczająca hash wartości dla tabeli o podanej długości\n",
    "    :parma x:  wartość\n",
    "    :param H: długość struktury danych w której się znajduje\n",
    "    \"\"\"\n",
    "    h = 0\n",
    "    for v in x.values():\n",
    "        h += hash(v)\n",
    "    return h % (H-1)"
   ]
  },
  {
   "cell_type": "code",
   "execution_count": 16,
   "metadata": {},
   "outputs": [],
   "source": [
    "def gww(vector):\n",
    "    \"\"\"\n",
    "    Funkcja wyznacza indeksy dla kolejnych wartosci wektora przy użyciu funkcji haszującej.\n",
    "    \n",
    "    :param vector: wektor do haszowania (w tym przypadku wektor robotów)\n",
    "    :return list hashed: posortowana lista według hashy\n",
    "    \"\"\"\n",
    "    H = len(vector)\n",
    "    hashed = [None] * H\n",
    "\n",
    "    for n in vector:\n",
    "        h = get_hash(n, H)\n",
    "\n",
    "        while hashed[h]:\n",
    "            h += 1\n",
    "            if h == H:\n",
    "                h -= H\n",
    "\n",
    "        hashed[h] = n\n",
    "\n",
    "    return hashed"
   ]
  },
  {
   "cell_type": "code",
   "execution_count": 17,
   "metadata": {},
   "outputs": [
    {
     "name": "stdout",
     "output_type": "stream",
     "text": [
      "[{'id': '0111', 'typ': 'GNG', 'masa': 141, 'roz': 8}, {'id': '0001', 'typ': 'GGC', 'masa': 598, 'roz': 26}, {'id': '1000', 'typ': 'WWW', 'masa': 249, 'roz': 12}, {'id': '0000', 'typ': 'UUV', 'masa': 1342, 'roz': 22}, {'id': '1111', 'typ': 'NVA', 'masa': 971, 'roz': 20}, {'id': '1000', 'typ': 'UUC', 'masa': 497, 'roz': 13}, {'id': '1101', 'typ': 'AGA', 'masa': 449, 'roz': 15}, {'id': '0100', 'typ': 'CAN', 'masa': 153, 'roz': 23}, {'id': '0010', 'typ': 'NNA', 'masa': 1425, 'roz': 1}, {'id': '1101', 'typ': 'WGA', 'masa': 1941, 'roz': 29}]\n",
      "[{'id': '1111', 'typ': 'NVA', 'masa': 971, 'roz': 20}, {'id': '1000', 'typ': 'UUC', 'masa': 497, 'roz': 13}, {'id': '1101', 'typ': 'WGA', 'masa': 1941, 'roz': 29}, {'id': '0111', 'typ': 'GNG', 'masa': 141, 'roz': 8}, {'id': '0100', 'typ': 'CAN', 'masa': 153, 'roz': 23}, {'id': '0001', 'typ': 'GGC', 'masa': 598, 'roz': 26}, {'id': '1000', 'typ': 'WWW', 'masa': 249, 'roz': 12}, {'id': '0000', 'typ': 'UUV', 'masa': 1342, 'roz': 22}, {'id': '1101', 'typ': 'AGA', 'masa': 449, 'roz': 15}, {'id': '0010', 'typ': 'NNA', 'masa': 1425, 'roz': 1}]\n"
     ]
    }
   ],
   "source": [
    "robots = create_m_bots(10)\n",
    "robots = [r.save_robot() for r in robots]\n",
    "\n",
    "print(robots)\n",
    "print(gww(robots))"
   ]
  },
  {
   "cell_type": "code",
   "execution_count": 18,
   "metadata": {},
   "outputs": [],
   "source": [
    "def hash_bin_search(features, val_vector):\n",
    "    h = get_hash(features, len(val_vector))\n",
    "    \n",
    "    "
   ]
  },
  {
   "cell_type": "markdown",
   "metadata": {},
   "source": [
    "## Zadanie 4. - binarne wyszukiwanie zbioru wartości ##\n",
    "\n",
    "• Zaimplementuj funkcję zwracającą zbiór indeksów wszystkich robotów, których wybrany parametr ma zadaną wartość. Wykorzystaj procedurę poszukiwania binarnego w celu znalezienia pierwszego robota spełniającego wymaganie. Zauważ, że w wyniku działania procedury znaleziony został też przedział, w którym znajdują się wszystkie poszukiwane roboty. Dokładniej, w ostatniej iteracji algorytmu, wykonano operację $mid = round( \\frac{max+min}{2})$, gdzie mid jest zwróconym indeksem robota, zaś min i max to krańce przedziału poszukiwania w ostatniej iteracji. Znając min i max, uruchom wyszukiwanie binarne na przedziałach [min, mid] i [mid, max] w celu znalezienia minimalnej i maksymalnej indeksów robotów spełniających wymaganie.\n",
    "\n",
    "• Zaimplementuj funkcję zwracającą zbiór indeksów wszystkich robotów o parametrze liczbowym z za-\n",
    "danego przedziału. Ponownie, wykorzystaj wyszukiwanie binarne."
   ]
  },
  {
   "cell_type": "code",
   "execution_count": 19,
   "metadata": {},
   "outputs": [],
   "source": [
    "# stworzenie wektora robotów\n",
    "vector = create_m_bots(10)\n",
    "\n",
    "# przekształcenie wektora z obiektu klasy na listę\n",
    "vector = [b.save_robot() for b in vector]"
   ]
  },
  {
   "cell_type": "code",
   "execution_count": 20,
   "metadata": {},
   "outputs": [],
   "source": [
    "def bin_ser_rec(v, imin, imax, value, feature):\n",
    "    \"\"\"\n",
    "    Funkcja wyszukuje binarnie wszystkich indeksów robotów o zadanej warotości danego parametru\n",
    "    :param list v: wektor robotów\n",
    "    :param int imin: dolny indeks przeszukiwania binarnego\n",
    "    :param int imax: górny indeks przeszukiwnaia binarnego\n",
    "    :param value: wartość wyszukiwanego elementu\n",
    "    :param feature: cecha według której sortujemy a następnie przeszukujemy listę\n",
    "    :return list: zwraca listę jeśli nie ma robota o zadanej cesze lista będzie pusta\n",
    "    \"\"\"\n",
    "    v = sorted(v, key=lambda x: x[feature])\n",
    "\n",
    "    if imax >= imin:\n",
    "        i = (imin + imax) // 2\n",
    "        if v[i][feature] == value:\n",
    "            if imin == imax:\n",
    "                return [i]\n",
    "            else:\n",
    "                return bin_ser_rec(v, imin, i, value, feature) + bin_ser_rec(v, i+1, imax, value, feature)\n",
    "        elif v[i][feature] > value:\n",
    "            return bin_ser_rec(v, imin, i-1, value, feature)\n",
    "        else:\n",
    "            return bin_ser_rec(v, i+1, imax, value, feature)\n",
    "\n",
    "    return []"
   ]
  },
  {
   "cell_type": "code",
   "execution_count": 21,
   "metadata": {},
   "outputs": [
    {
     "name": "stdout",
     "output_type": "stream",
     "text": [
      "Binarne wyszukiwanie zbioru wartości dla parametr: id o wartości: 0001\n",
      "Indeksy:\n",
      "[0]\n"
     ]
    },
    {
     "data": {
      "text/plain": [
       "[{'id': '0001', 'typ': 'WUV', 'masa': 1940, 'roz': 13},\n",
       " {'id': '0010', 'typ': 'NGC', 'masa': 720, 'roz': 13},\n",
       " {'id': '0010', 'typ': 'VUA', 'masa': 742, 'roz': 27},\n",
       " {'id': '0111', 'typ': 'GAU', 'masa': 1555, 'roz': 12},\n",
       " {'id': '1001', 'typ': 'NCN', 'masa': 1267, 'roz': 15},\n",
       " {'id': '1001', 'typ': 'UNN', 'masa': 1731, 'roz': 23},\n",
       " {'id': '1010', 'typ': 'NAW', 'masa': 1547, 'roz': 4},\n",
       " {'id': '1110', 'typ': 'NNA', 'masa': 1669, 'roz': 17},\n",
       " {'id': '1110', 'typ': 'AVC', 'masa': 1128, 'roz': 10},\n",
       " {'id': '1111', 'typ': 'NUW', 'masa': 516, 'roz': 9}]"
      ]
     },
     "execution_count": 21,
     "metadata": {},
     "output_type": "execute_result"
    }
   ],
   "source": [
    "# wyszukaanie indeksu robota o zadanej cesze\n",
    "val = '0001'\n",
    "feat = 'id'\n",
    "print('Binarne wyszukiwanie zbioru wartości dla parametr:', feat, 'o wartości:', val)\n",
    "print('Indeksy:')\n",
    "print(bin_ser_rec(v=vector, imin=0, imax=len(vector), value=val, feature=feat))\n",
    "sorted(vector, key=lambda x: x[feat])"
   ]
  },
  {
   "cell_type": "code",
   "execution_count": 22,
   "metadata": {},
   "outputs": [],
   "source": [
    "def bin_ser_range(vec, imin, imax, val_min, val_max, feature):\n",
    "    \"\"\"\n",
    "    Funkcja wyszukuje binarnie wszystkich indeksów robotów o zadanej warotości danego parametru\n",
    "    :param list v: wektor robotów\n",
    "    :param int imin: dolny indeks przeszukiwania binarnego\n",
    "    :param int imax: górny indeks przeszukiwnaia binarnego\n",
    "    :param val_min: dolna wartość przedziału\n",
    "    :param val_max: górna wartość przedziału\n",
    "    :param feature: cecha według której sortujemy a następnie przeszukujemy listę\n",
    "    :return list: zwraca listę jeśli nie ma robota o zadanej cesze lista będzie pusta\n",
    "    \"\"\"\n",
    "    v = sorted(vec, key=lambda x: x[feature])\n",
    "\n",
    "    if imax >= imin:\n",
    "        i = (imin + imax) // 2\n",
    "        if val_min < v[i][feature] < val_max:\n",
    "            if imin == imax:\n",
    "                return [v.index(vec[i])]\n",
    "            else:\n",
    "                return bin_ser_range(v, imin, i, val_min, val_max, feature) + \\\n",
    "                       bin_ser_range(v, i+1, imax, val_min, val_max, feature)\n",
    "        elif v[i][feature] > val_max:\n",
    "            return bin_ser_range(v, imin, i-1, val_min, val_max, feature)\n",
    "        elif v[i][feature] < val_min:\n",
    "            return bin_ser_range(v, i+1, imax, val_min, val_max, feature)\n",
    "\n",
    "    return []"
   ]
  },
  {
   "cell_type": "code",
   "execution_count": 23,
   "metadata": {},
   "outputs": [
    {
     "name": "stdout",
     "output_type": "stream",
     "text": [
      "Binarne wyszukiwanie zbioru wartości dla parametr: masa z przedziału: [100, 1000]\n",
      "Indeksy:\n",
      "[0, 1, 2]\n"
     ]
    }
   ],
   "source": [
    "# wyszukanie indeksów robotów o cechach z zadanego przedziału\n",
    "feat = 'masa'\n",
    "vmin = 100\n",
    "vmax = 1000\n",
    "print('Binarne wyszukiwanie zbioru wartości dla parametr:', feat, 'z przedziału:', [vmin, vmax])\n",
    "print('Indeksy:')\n",
    "print(bin_ser_range(vec=vector, imin=0, imax=len(vector), val_min=vmin, val_max=vmax, feature=feat))"
   ]
  },
  {
   "cell_type": "code",
   "execution_count": 24,
   "metadata": {},
   "outputs": [
    {
     "data": {
      "text/plain": [
       "[{'id': '1111', 'typ': 'NUW', 'masa': 516, 'roz': 9},\n",
       " {'id': '0010', 'typ': 'NGC', 'masa': 720, 'roz': 13},\n",
       " {'id': '0010', 'typ': 'VUA', 'masa': 742, 'roz': 27},\n",
       " {'id': '1110', 'typ': 'AVC', 'masa': 1128, 'roz': 10},\n",
       " {'id': '1001', 'typ': 'NCN', 'masa': 1267, 'roz': 15},\n",
       " {'id': '1010', 'typ': 'NAW', 'masa': 1547, 'roz': 4},\n",
       " {'id': '0111', 'typ': 'GAU', 'masa': 1555, 'roz': 12},\n",
       " {'id': '1110', 'typ': 'NNA', 'masa': 1669, 'roz': 17},\n",
       " {'id': '1001', 'typ': 'UNN', 'masa': 1731, 'roz': 23},\n",
       " {'id': '0001', 'typ': 'WUV', 'masa': 1940, 'roz': 13}]"
      ]
     },
     "execution_count": 24,
     "metadata": {},
     "output_type": "execute_result"
    }
   ],
   "source": [
    "sorted(vector, key=lambda x: x[feat])"
   ]
  },
  {
   "cell_type": "markdown",
   "metadata": {},
   "source": [
    "## Zadanie 5. - wieloatrybutowe, wielowartościowe wyszukiwanie binarne ##\n",
    "\n",
    "• Zaimplementuj funkcję tworzącą, dla każdego parametru robota wektor pomocniczy. Każdy wektor pomocniczy, o rozmiarze takim samym jak wektor robotów, zawiera indeksy z wektora robotów posortowane względem danego parametru.\n",
    "\n",
    "• Zaimplementuj funkcję wyszukiwanie binarnego realizowaną po zbiorze parametrów (każdy z dopuszczalnymi wieloma\n",
    "wartościami lub None, tak jak na końcu zadania nr 1). Wyszukiwanie wykonaj po każdym parametrze z osobna, korzystając z procedury opracowanej w poprzednim zadaniu. Następnie weź część wspólną wszystkich zbiorów indeksów (wykorzystaj funkcję intersection). Nie zakładaj, że wektor robotów jest jakkolwiek posortowany, a korzystaj z wektorów pomocniczych. Funkcje wyszukiwania uzupełnij o tryb wizualizacji krok-po-kroku."
   ]
  },
  {
   "cell_type": "code",
   "execution_count": 25,
   "metadata": {},
   "outputs": [],
   "source": [
    "def bin_ser_rec(v, vsorted, imin, imax, value, feature):\n",
    "    \"\"\"\n",
    "    Funkcja wyszukuje binarnie wszystkich indeksów robotów o zadanej warotości danego parametru\n",
    "    \n",
    "    :param list v: wektor robotów\n",
    "    :param int imin: dolny indeks przeszukiwania binarnego\n",
    "    :param int imax: górny indeks przeszukiwnaia binarnego\n",
    "    :param value: wartość wyszukiwanego elementu\n",
    "    :param feature: cecha według której sortujemy a następnie przeszukujemy listę\n",
    "    :return list: zwraca listę jeśli nie ma robota o zadanej cesze lista będzie pusta\n",
    "    \"\"\"\n",
    "    \n",
    "    if imax >= imin:\n",
    "        i = (imin + imax) // 2\n",
    "        if v[vsorted[i]][feature] == value:\n",
    "            if imin == imax:\n",
    "                return [vsorted[i]]\n",
    "            else:\n",
    "                return bin_ser_rec(v, vsorted, imin, i, value, feature) +\\\n",
    "                        bin_ser_rec(v, vsorted, i+1, imax, value, feature)\n",
    "        elif v[vsorted[i]][feature] > value:\n",
    "            return bin_ser_rec(v, vsorted, imin, i-1, value, feature)\n",
    "        else:\n",
    "            return bin_ser_rec(v, vsorted, i+1, imax, value, feature)\n",
    "\n",
    "    return []"
   ]
  },
  {
   "cell_type": "code",
   "execution_count": 26,
   "metadata": {},
   "outputs": [],
   "source": [
    "def sort_vector(v):\n",
    "    \"\"\"\n",
    "    Funkcja zwraca N posortowanych parametrów wektorów robotów każde według kolejnego parametru\n",
    "    :param v: wektor robotów\n",
    "    :return list vectors: wektor posortowanych indeksów według kolejnych parametrów\n",
    "    \"\"\"\n",
    "    vectors = list()\n",
    "    keys = list(v[0].keys())\n",
    "    for k in keys:\n",
    "        vectors.append([v.index(i) for i in sorted(v, key=lambda x: x[k])])\n",
    "    return vectors"
   ]
  },
  {
   "cell_type": "code",
   "execution_count": 27,
   "metadata": {},
   "outputs": [],
   "source": [
    "def intersection(lists):\n",
    "    s = set(lists[0])\n",
    "    for i in range(1, len(lists)):\n",
    "        s = s & set(lists[i])\n",
    "        print(s)\n",
    "    return s"
   ]
  },
  {
   "cell_type": "code",
   "execution_count": 28,
   "metadata": {},
   "outputs": [],
   "source": [
    "def search(vector, features):\n",
    "    \"\"\"\n",
    "    Binarne wyszukiwanie \n",
    "    :param vector: wektor robotów\n",
    "    :param features: dopuszczalne paramtry\n",
    "    \"\"\"\n",
    "    indexes = list()\n",
    "    sv = sort_vector(vector)\n",
    "    \n",
    "    for n in range(len(features)):\n",
    "        f = list(features.values())[n]\n",
    "        if f:\n",
    "            temp_i = list()\n",
    "            for i in f:\n",
    "                # dodanie indexów\n",
    "                temp_i += bin_ser_rec(\n",
    "                    v=vector,\n",
    "                    vsorted=sv[n],\n",
    "                    imin=0,\n",
    "                    imax=len(sv[n]),\n",
    "                    value=i, \n",
    "                    feature=list(features.keys())[n]\n",
    "                                     )\n",
    "            indexes.append(temp_i)\n",
    "    \n",
    "    indexes = intersection(indexes)\n",
    "    return indexes"
   ]
  },
  {
   "cell_type": "code",
   "execution_count": 29,
   "metadata": {},
   "outputs": [],
   "source": [
    "robots = create_m_bots(30)\n",
    "robots = [r.save_robot() for r in robots]"
   ]
  },
  {
   "cell_type": "code",
   "execution_count": 30,
   "metadata": {},
   "outputs": [
    {
     "name": "stdout",
     "output_type": "stream",
     "text": [
      "{24}\n"
     ]
    }
   ],
   "source": [
    "# pożadane cechy\n",
    "desired_features = {\n",
    "    'id': ['0011','0101'],\n",
    "    'typ': None,\n",
    "    'masa': None,\n",
    "    'roz': [10, 11, 12, 13, 14, 15, 16, 17, 18],\n",
    "}\n",
    "\n",
    "result_i = search(robots, desired_features)"
   ]
  },
  {
   "cell_type": "code",
   "execution_count": 31,
   "metadata": {},
   "outputs": [
    {
     "name": "stdout",
     "output_type": "stream",
     "text": [
      "Indexy robotów spełniajaćych kryteria\n",
      "{24}\n",
      "Roboty spełniające wymagania\n",
      "{'id': '0101', 'typ': 'CCA', 'masa': 294, 'roz': 14}\n"
     ]
    }
   ],
   "source": [
    "print('Indexy robotów spełniajaćych kryteria')\n",
    "print(result_i)\n",
    "print('Roboty spełniające wymagania')\n",
    "for i in result_i:\n",
    "    print(robots[i])"
   ]
  }
 ],
 "metadata": {
  "interpreter": {
   "hash": "11938c6bc6919ae2720b4d5011047913343b08a43b18698fd82dedb0d4417594"
  },
  "kernelspec": {
   "display_name": "Python 3.9.12 64-bit",
   "language": "python",
   "name": "python3"
  },
  "language_info": {
   "codemirror_mode": {
    "name": "ipython",
    "version": 3
   },
   "file_extension": ".py",
   "mimetype": "text/x-python",
   "name": "python",
   "nbconvert_exporter": "python",
   "pygments_lexer": "ipython3",
   "version": "3.9.12"
  }
 },
 "nbformat": 4,
 "nbformat_minor": 4
}
