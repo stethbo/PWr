{
 "cells": [
  {
   "cell_type": "markdown",
   "metadata": {},
   "source": [
    "# Lista 6 - wysukiwanie i funkcje haszujące #\n",
    "\n",
    "## Zadanie 0. - przygotowanie strutury ##\n",
    "• Utwórz strukturę (może być klasa) do przechowywania opisów floty robotów mobilnych wykorzysty-\n",
    "wanych w zadaniach eksploracji i inspekcji. Pola składowe struktury to: identyfikator, typ, masa,\n",
    "zasięg, rozdzielczość (kamery).\\\n",
    "• Zaimplementuj funkcję generującą opis pojedynczego robota (jeden obiekt) o parametrach losowanych\n",
    "jak następuje: identyfikator – ciąg znaków alfanumerycznych o długości N, typ – „AUV”, ”AFV”,\n",
    "„AGV”, masa – od 50 do 2000 [dag], zasięg – od 1 do 1000 [km], rozdzielczość – od 1 do 30 [MP].\n",
    "Wartości liczbowe są całkowite.\\\n",
    "• Zaimplementuj funkcję generującą opisy M robotów o losowych parametrach. Opisy, w postaci struktur\n",
    "są zapisywane w M-elementowym wektorze.\\\n",
    "• Zaimplementuj funkcję wyświetlającą wygenerowaną strukturę w postaci tabelki (jeden wiersz – jeden\n",
    "robot; równe odstępy między kolejnymi polami).\\\n",
    "• Zaimplementuj funkcję zapisującą/odczytującą opisy do/z pliku.\\\n",
    "Na tym wektorze robotów realizowane są kolejne zadania.\n",
    "\\\n",
    "Uwaga: nie zakładaj, że wartości parametrów są unikalne.\n"
   ]
  },
  {
   "cell_type": "code",
   "execution_count": 1,
   "metadata": {},
   "outputs": [],
   "source": [
    "import random\n",
    "import pandas as pd\n",
    "import numpy as np"
   ]
  },
  {
   "cell_type": "code",
   "execution_count": 2,
   "metadata": {},
   "outputs": [],
   "source": [
    "class Robot:\n",
    "    def __init__(self, id, typ, masa, zas, roz):\n",
    "        self.id = id\n",
    "        self.typ = typ\n",
    "        self.masa = masa\n",
    "        self.zas = zas\n",
    "        self.roz = roz\n",
    "\n",
    "    def save_robot(self):\n",
    "        \"\"\"\n",
    "        :return dict robot: zwraca słownik z oarametrami robota\n",
    "        \"\"\"\n",
    "        robot = {\n",
    "            'id': self.id,\n",
    "            'typ': self.typ,\n",
    "            'masa': self.masa,\n",
    "            'roz': self.roz\n",
    "        }\n",
    "        return robot\n",
    "\n",
    "\n",
    "def create_robot():\n",
    "    \"\"\"\n",
    "    Funkcja tworząca robota\n",
    "    :return bot: objekt klasy robot\n",
    "    \"\"\"\n",
    "    bot = Robot(\n",
    "        id=''.join(random.choices(['0', '1'], k=4)),\n",
    "        typ=''.join(random.choices(['A', 'U', 'V', 'G', 'C', 'W', 'N'], k=3)),\n",
    "        masa=np.random.randint(50, 2001),\n",
    "        zas=np.random.randint(1, 1000),\n",
    "        roz=np.random.randint(1, 30)\n",
    "    )\n",
    "    return bot\n",
    "\n",
    "\n",
    "def create_m_bots(m):\n",
    "    \"\"\"\n",
    "    Funkcja wywolująca m razy funkcję tworzącom robota, dodatkowo zapisuje obiekty w liście\n",
    "    :param int m: liczba robotów\n",
    "    :return list bots: lista robotów\n",
    "    \"\"\"\n",
    "    bots = list()\n",
    "    for _ in range(m):\n",
    "        bots.append(create_robot())\n",
    "    return bots\n",
    "\n",
    "\n",
    "# stworzenie m robotów\n",
    "botslist = create_m_bots(10)\n",
    "# stworzenie ramnki danych (tabelka)\n",
    "df = pd.DataFrame()\n",
    "# zapisanie robotów do tabelki\n",
    "for b in botslist:\n",
    "    df = df.append(b.save_robot(), ignore_index=True)\n",
    "\n",
    "\n",
    "\n",
    "def save_to_file(data):\n",
    "    \"\"\"\n",
    "    Funkcja zapisująca listę robotów do pliku\n",
    "    :param data: ramka Pandas\n",
    "    \"\"\"\n",
    "    data.to_csv('pliki/roboty.csv')\n",
    "\n",
    "\n",
    "def read_from_file(path):\n",
    "    \"\"\"\n",
    "    Funkcja odczytująca plik csv i zapisująca zawartość do ramki pandas\n",
    "    :param string path: ścieżka do pliku\n",
    "    \"\"\"\n",
    "    data = pd.read_csv(path)\n",
    "    return data"
   ]
  },
  {
   "cell_type": "code",
   "execution_count": 3,
   "metadata": {},
   "outputs": [
    {
     "name": "stdout",
     "output_type": "stream",
     "text": [
      "     id  typ    masa   roz\n",
      "0  1100  GCC   848.0  27.0\n",
      "1  1111  VWA    50.0  29.0\n",
      "2  0110  AGA    57.0  13.0\n",
      "3  0000  VUW  1418.0  16.0\n",
      "4  0001  VGG   955.0   8.0\n",
      "5  1011  UVU  1711.0  26.0\n",
      "6  0000  UCW   322.0  19.0\n",
      "7  0100  WNN  1123.0  18.0\n",
      "8  1010  UGV  1332.0  26.0\n",
      "9  1000  WGU   192.0   9.0\n",
      "   Unnamed: 0    id  typ    masa   roz\n",
      "0           0  1100  GCC   848.0  27.0\n",
      "1           1  1111  VWA    50.0  29.0\n",
      "2           2   110  AGA    57.0  13.0\n",
      "3           3     0  VUW  1418.0  16.0\n",
      "4           4     1  VGG   955.0   8.0\n",
      "5           5  1011  UVU  1711.0  26.0\n",
      "6           6     0  UCW   322.0  19.0\n",
      "7           7   100  WNN  1123.0  18.0\n",
      "8           8  1010  UGV  1332.0  26.0\n",
      "9           9  1000  WGU   192.0   9.0\n"
     ]
    }
   ],
   "source": [
    "# wyświetlenie tabeli\n",
    "print(df)\n",
    "\n",
    "# zapisanie do plik\n",
    "save_to_file(df)\n",
    "\n",
    "# odczytanie z pliku\n",
    "print(read_from_file('pliki/roboty.csv'))"
   ]
  },
  {
   "cell_type": "markdown",
   "metadata": {},
   "source": [
    "## Zadanie 1. - wyszukiwanie liniowe ##\n",
    "\n",
    "• Zaimplementuj funkcję wyszukującą jednego robota z wektora robotów. Poszukiwanie odbywa się\n",
    "względem jednego parametru (parametr wybierany przez użytkownika; szukana wartość wybierana\n",
    "przez użytkownika). Funkcja realizuje algorytm wyszukiwania liniowego i zwraca strukturę z pierwszym\n",
    "znalezionym robotem (lub None, jeśli robota nie znajdzie).\\\n",
    "• Rozwiń napisaną funkcję tak, aby wyszukiwanie odbywało się po zbiorze parametrów. Zbiór i wartości\n",
    "są zadawane przez użytkownika w postaci struktury analogicznej do tej reprezentującej pojedynczego\n",
    "robota; parametry, po których wyszukiwanie się nie odbywa pozostają puste (None), np. (None, „AUV”,\n",
    "50, 10, None).\\\n",
    "• Rozwiń napisaną funkcję tak, aby akceptowała też wektory wartości parametrów, np. (None, „AUV”,\n",
    "[90, 51, 52, 53], [10, 11, 15], None). Zagnieźdź algorytmy wyszukiwania liniowego tak, aby\n",
    "parametr robota był wyszukiwany w liście dopuszczalnych wartości."
   ]
  },
  {
   "cell_type": "code",
   "execution_count": 4,
   "metadata": {},
   "outputs": [],
   "source": [
    "from time import sleep"
   ]
  },
  {
   "cell_type": "code",
   "execution_count": 5,
   "metadata": {},
   "outputs": [],
   "source": [
    "bots = create_m_bots(1000)\n",
    "if type(bots) != dict:\n",
    "    robots = []\n",
    "    for bot in bots:\n",
    "        robots.append(bot.save_robot())"
   ]
  },
  {
   "cell_type": "code",
   "execution_count": 6,
   "metadata": {},
   "outputs": [],
   "source": [
    "# zamiast losować można też użyć poniższy wektor robotów\n",
    "robots = [\n",
    "    {'id': 'X11298816', 'typ': 'CWN', 'masa': 660, 'roz': 20}, \n",
    "    {'id': '3Y059465Z', 'typ': 'WAC', 'masa': 83, 'roz': 25}, \n",
    "    {'id': '3241363YX', 'typ': 'CAG', 'masa': 1848, 'roz': 28}, \n",
    "    {'id': 'X81X30X7Y', 'typ': 'ACU', 'masa': 1964, 'roz': 11}, \n",
    "    {'id': '294Y0760X', 'typ': 'WCV', 'masa': 342, 'roz': 1}, \n",
    "    {'id': 'Z49161Z71', 'typ': 'GUC', 'masa': 810, 'roz': 8}, \n",
    "    {'id': 'Z27535428', 'typ': 'UAV', 'masa': 452, 'roz': 4}, \n",
    "    {'id': '30XY877X0', 'typ': 'WUU', 'masa': 1071, 'roz': 14}, \n",
    "    {'id': '4Y89757Y1', 'typ': 'VNA', 'masa': 1979, 'roz': 2}, \n",
    "    {'id': '6831Z4147', 'typ': 'WCW', 'masa': 574, 'roz': 7}]"
   ]
  },
  {
   "cell_type": "code",
   "execution_count": 7,
   "metadata": {},
   "outputs": [],
   "source": [
    "def find_robot_1(p_name, p_value, robots_list=robots, many=0):\n",
    "    \"\"\"\n",
    "    Funkcja szukająca pierwszego robota z zadanym parametrem\n",
    "    :param p_name: nazwa parametru\n",
    "    :param p_value: wartość parametru\n",
    "    :param robots_list: lista robotów do pszeszukania, domyślnie lista wcześniej wygenerowanych robotów\n",
    "    :param bool many: informacja czy zwrócić wszytkie roboty spełniające kryteria czy tylko jednego\n",
    "    :return b or None: zwraca robota (słownik) lub None jeśli dany robot nie istnij\n",
    "    \"\"\"\n",
    "    fulfilling = []\n",
    "    for b in robots_list:\n",
    "        if b[p_name] == p_value:\n",
    "            if not many:\n",
    "                return b\n",
    "            fulfilling.append(b)\n",
    "\n",
    "    return\n",
    "\n",
    "\n",
    "def find_robot_many(features, display=False):\n",
    "    \"\"\"\n",
    "    Funkcja szuka robota z wieloma parametrami\n",
    "    :param dict features: słownik z parametrami dla szukanego robota\n",
    "    :param display: domyślnie False, można ustawić na True wtedy będzie wyświetlany krok wisualizacji co 1s\n",
    "    :return dict b or None: zwracamy robota o określonych parametrach lub None jeśli taki robot nie istnieje\n",
    "    \"\"\"\n",
    "    # słownik cech które nie są None\n",
    "    params = dict()\n",
    "    for f in features:\n",
    "        if features[f]:\n",
    "            params[f] = features[f]\n",
    "\n",
    "    for b in robots:\n",
    "        if display:\n",
    "            print(b)\n",
    "            print(features)\n",
    "            sleep(1)\n",
    "        correct_params = 0\n",
    "        for p in params:\n",
    "            if type(params[p]) == list:\n",
    "                if b[p] in params[p]:\n",
    "                    correct_params += 1\n",
    "                else:\n",
    "                    break\n",
    "            else:\n",
    "                if b[p] == params[p]:\n",
    "                    correct_params += 1\n",
    "                else:\n",
    "                    break\n",
    "\n",
    "        if correct_params == len(params):\n",
    "            return b\n",
    "    return"
   ]
  },
  {
   "cell_type": "code",
   "execution_count": 8,
   "metadata": {},
   "outputs": [
    {
     "name": "stdout",
     "output_type": "stream",
     "text": [
      "Wektor robotów:\n",
      "[{'id': 'X11298816', 'typ': 'CWN', 'masa': 660, 'roz': 20}, {'id': '3Y059465Z', 'typ': 'WAC', 'masa': 83, 'roz': 25}, {'id': '3241363YX', 'typ': 'CAG', 'masa': 1848, 'roz': 28}, {'id': 'X81X30X7Y', 'typ': 'ACU', 'masa': 1964, 'roz': 11}, {'id': '294Y0760X', 'typ': 'WCV', 'masa': 342, 'roz': 1}, {'id': 'Z49161Z71', 'typ': 'GUC', 'masa': 810, 'roz': 8}, {'id': 'Z27535428', 'typ': 'UAV', 'masa': 452, 'roz': 4}, {'id': '30XY877X0', 'typ': 'WUU', 'masa': 1071, 'roz': 14}, {'id': '4Y89757Y1', 'typ': 'VNA', 'masa': 1979, 'roz': 2}, {'id': '6831Z4147', 'typ': 'WCW', 'masa': 574, 'roz': 7}]\n",
      "\n",
      "Wyszukiwaie z jedną cechą: ACU\n",
      "Znaleziony robot:\n",
      "{'id': 'X81X30X7Y', 'typ': 'ACU', 'masa': 1964, 'roz': 11}\n",
      "\n",
      "Poszukiwanie z wieloma cechami i z wektorem cech:\n",
      "pożądane cechy: {'id': None, 'typ': ['AUC', 'AWU', 'AVC'], 'masa': None, 'roz': [11, 12, 13, 14, 15, 16, 17, 18, 19]} \n",
      "\n",
      "Znaleziony robot:\n",
      "None\n"
     ]
    }
   ],
   "source": [
    "print('Wektor robotów:')\n",
    "print(robots[:10])\n",
    "\n",
    "feature = 'ACU'\n",
    "print('\\nWyszukiwaie z jedną cechą:', feature)\n",
    "print('Znaleziony robot:')\n",
    "print(find_robot_1('typ', feature, robots))\n",
    "\n",
    "print(\"\\nPoszukiwanie z wieloma cechami i z wektorem cech:\")\n",
    "desired_fetures = {'id': None, 'typ': ['AUC', 'AWU', 'AVC'], 'masa': None, 'roz': [11, 12, 13, 14, 15, 16, 17, 18, 19]}\n",
    "print('pożądane cechy:', desired_fetures, '\\n')\n",
    "print('Znaleziony robot:')\n",
    "print(find_robot_many(desired_fetures))"
   ]
  },
  {
   "cell_type": "markdown",
   "metadata": {},
   "source": [
    "## Zadanie 2. - wyszukiwanie binarne. ##\n",
    "\n",
    "• Zaimplementuj funkcję sortującą wektor robotów względem wskazanego parametru. Wykorzystaj\n",
    "wbudowaną funkcję sort.\\\n",
    "• Zaimplementuj funkcję wyszukującą jednego robota o zadanym parametrze, przy założeniu, że wektor\n",
    "jest odpowiednio posortowany. Funkcja realizuje algorytm wyszukiwania binarnego i zwraca strukturę\n",
    "z pierwszym znalezionym robotem (lub None, jeśli robota nie znajdzie).\\\n",
    "• Rozwiń napisaną funkcję tak, aby akceptowała wektor dopuszczalnych wartości parametrów (posorto-\n",
    "wany). Wyszukiwanie binarne wykorzystaj wielokrotnie.\n",
    "\n",
    "\n",
    "\n",
    "Funkcje wyszukiwania uzupełnij o tryb wizualizacji krok-po-kroku."
   ]
  },
  {
   "cell_type": "code",
   "execution_count": 9,
   "metadata": {},
   "outputs": [],
   "source": [
    "# stworzenie wektora robotów\n",
    "vector = create_m_bots(20)"
   ]
  },
  {
   "cell_type": "code",
   "execution_count": 10,
   "metadata": {},
   "outputs": [
    {
     "data": {
      "text/plain": [
       "[{'id': '0011', 'typ': 'NAG', 'masa': 1350, 'roz': 21},\n",
       " {'id': '1100', 'typ': 'WCG', 'masa': 1650, 'roz': 12},\n",
       " {'id': '0101', 'typ': 'VVN', 'masa': 1854, 'roz': 29},\n",
       " {'id': '0101', 'typ': 'VAG', 'masa': 1273, 'roz': 26},\n",
       " {'id': '1111', 'typ': 'GGA', 'masa': 110, 'roz': 8},\n",
       " {'id': '0110', 'typ': 'WGA', 'masa': 1962, 'roz': 14},\n",
       " {'id': '1110', 'typ': 'WGA', 'masa': 1745, 'roz': 6},\n",
       " {'id': '0100', 'typ': 'WWW', 'masa': 1832, 'roz': 19},\n",
       " {'id': '0110', 'typ': 'WNA', 'masa': 596, 'roz': 13},\n",
       " {'id': '1100', 'typ': 'VWG', 'masa': 447, 'roz': 5},\n",
       " {'id': '0000', 'typ': 'AGU', 'masa': 1137, 'roz': 20},\n",
       " {'id': '0011', 'typ': 'GGW', 'masa': 1647, 'roz': 12},\n",
       " {'id': '1110', 'typ': 'NVU', 'masa': 374, 'roz': 20},\n",
       " {'id': '1111', 'typ': 'NCC', 'masa': 1100, 'roz': 7},\n",
       " {'id': '1101', 'typ': 'WVC', 'masa': 1138, 'roz': 8},\n",
       " {'id': '1110', 'typ': 'NCV', 'masa': 413, 'roz': 8},\n",
       " {'id': '0100', 'typ': 'WCA', 'masa': 672, 'roz': 5},\n",
       " {'id': '1101', 'typ': 'CVV', 'masa': 1715, 'roz': 7},\n",
       " {'id': '1000', 'typ': 'GAA', 'masa': 906, 'roz': 11},\n",
       " {'id': '1001', 'typ': 'WVV', 'masa': 1956, 'roz': 12}]"
      ]
     },
     "execution_count": 10,
     "metadata": {},
     "output_type": "execute_result"
    }
   ],
   "source": [
    "# przekształcenie wektora z obiektu klasy na listę\n",
    "vector = [b.save_robot() for b in vector]\n",
    "vector"
   ]
  },
  {
   "cell_type": "code",
   "execution_count": 11,
   "metadata": {},
   "outputs": [],
   "source": [
    "# sortowanie wektora wedłu wartosci ID\n",
    "def sort_vector(vector, key_feature):\n",
    "     return sorted(vector, key=lambda x: x[key_feature])"
   ]
  },
  {
   "cell_type": "code",
   "execution_count": 12,
   "metadata": {},
   "outputs": [
    {
     "name": "stdout",
     "output_type": "stream",
     "text": [
      "1010\n",
      "10\n",
      "15\n",
      "12\n",
      "11\n",
      "10\n",
      "id=1010 None\n",
      "1111\n",
      "10\n",
      "15\n",
      "18\n",
      "id=1111 {'id': '1111', 'typ': 'GGA', 'masa': 110, 'roz': 8}\n",
      "1010\n",
      "10\n",
      "15\n",
      "12\n",
      "11\n",
      "10\n",
      "1011\n",
      "10\n",
      "15\n",
      "12\n",
      "11\n",
      "10\n",
      "1101\n",
      "10\n",
      "15\n",
      "12\n",
      "13\n",
      "id=['1010', '1011', '1111']\n",
      " [None, None, {'id': '1101', 'typ': 'WVC', 'masa': 1138, 'roz': 8}]\n"
     ]
    }
   ],
   "source": [
    "def binary_search(w, value, feature):\n",
    "    \"\"\"\n",
    "    :param list w:\n",
    "    :param string value:\n",
    "    :return optional dict: słownik - robot z odpowiadająca cechą\n",
    "    \"\"\"\n",
    "    w = sort_vector(w, feature)\n",
    "    min_index = 0\n",
    "    max_index = len(w)\n",
    "    index = None\n",
    "    \n",
    "    # jeśli podanych jest wiele wartości szukamy robota dla każdej z nich\n",
    "    if type(value) == list:\n",
    "        results = list()\n",
    "        for v in value:\n",
    "            results.append(binary_search(w, v, feature))\n",
    "        return results\n",
    "    \n",
    "    print(value)\n",
    "    while index != (max_index + min_index) // 2:\n",
    "        index = (max_index + min_index) // 2\n",
    "        print(index)\n",
    "        if w[index][feature] == value:\n",
    "            return w[index]\n",
    "        elif w[index][feature] < value:\n",
    "            min_index = index+1\n",
    "        elif w[index][feature] > value:\n",
    "            max_index = index-1\n",
    "\n",
    "\n",
    "print('id=1010', binary_search(vector, '1010', 'id'))\n",
    "print('id=1111', binary_search(vector, '1111', 'id'))\n",
    "print(\"id=['1010', '1011', '1111']\\n\", binary_search(vector, ['1010', '1011', '1101'], 'id'))"
   ]
  },
  {
   "cell_type": "markdown",
   "metadata": {},
   "source": [
    "## Zadanie 3. - wyszukiwanie z wykorzystaniem funkcji haszującej ##\n",
    "\n",
    "• Zaproponuj i zaimplementuj funkcję haszującą działającą na pojedynczej strukturze robota. Zbiór\n",
    "wartości funkcji to liczba całkowita z zakresu od 0 do H − 1. Funkcja powinna uwzględniać wszystkie\n",
    "parametry robota. Do ograniczenia wartości wykorzystaj operację modulo.\n",
    "\n",
    "• Zaimplementuj funkcję generującą wektor wartości funkcji haszującej dla zadanego wektora robotów. Wektor wartości jest generowany jak następuje:\n",
    "\n",
    "<b>Algorithm 1 GWW – Generacja wektora wartości</b>\n",
    "- wejscie: wektor robotów, H >> |wektor robotów|\n",
    "1. niech wektor wartości będzie H −1 elementowym wektorem wypełnionym pustymi elementami (None)\n",
    "2. dla n := 0 do |wektor robotów| − 1\n",
    "3. oblicz wartość h funkcji haszującej na ntym elemencie wektora robotów\n",
    "4. na pierwszej pustej pozycji wektora wartości licząc od h tej pozycji (włącznie) wstaw n; jeśli dokońca wektora wartości brakuje wolnych pozycji, to kontynuuj od jego początku\n",
    "- wyjście: wektor wartości\n",
    "\n",
    "• Zaimplementuj funkcję wyszukiwania robota o zadanych wszystkich parametrach, która korzysta z\n",
    "wektora wartości i funkcji haszującej.\n",
    "\n",
    "• Zaproponuj i zaimplementuj metodę wyszukiwania robota po 2 parametrach: masa i zasięg, dopuszczając sytuację, gdy dowolny z parametrów jest nieznany, np. (None, 40). Wykorzystaj (być może zmodyfikowaną) funkcję haszującą (generacja wektora wartości może odbywać się inaczej niż w algorytmie GWW). Zwracaj listę wszystkich robotów spełniających postawione wymagania.\n",
    "\n",
    "Funkcje wyszukiwania i generacji wektora wartości uzupełnij o tryb wizualizacji krok-po-kroku."
   ]
  },
  {
   "cell_type": "code",
   "execution_count": 13,
   "metadata": {},
   "outputs": [],
   "source": [
    "def get_hash(x, H):\n",
    "    \"\"\"\n",
    "    Funkcja wyliczająca hash wartości dla tabeli o podanej długości\n",
    "    :parma x:  wartość\n",
    "    :param H: długość struktury danych w której się znajduje\n",
    "    \"\"\"\n",
    "    h = 0\n",
    "    for v in x.values():\n",
    "        h += hash(v)\n",
    "    return h % (H-1)"
   ]
  },
  {
   "cell_type": "code",
   "execution_count": 14,
   "metadata": {},
   "outputs": [],
   "source": [
    "def gww(vector):\n",
    "    \"\"\"\n",
    "    Funkcja wyznacza indeksy dla kolejnych wartosci wektora przy użyciu funkcji haszującej.\n",
    "    \n",
    "    :param vector: wektor do haszowania (w tym przypadku wektor robotów)\n",
    "    :return list hashed: posortowana lista według hashy\n",
    "    \"\"\"\n",
    "    H = len(vector)\n",
    "    hashed = [None] * H\n",
    "\n",
    "    for n in vector:\n",
    "        h = get_hash(n, H)\n",
    "\n",
    "        while hashed[h]:\n",
    "            h += 1\n",
    "            if h == H:\n",
    "                h -= H\n",
    "\n",
    "        hashed[h] = n\n",
    "\n",
    "    return hashed"
   ]
  },
  {
   "cell_type": "code",
   "execution_count": 15,
   "metadata": {},
   "outputs": [
    {
     "name": "stdout",
     "output_type": "stream",
     "text": [
      "[{'id': '0110', 'typ': 'GNU', 'masa': 890, 'roz': 7}, {'id': '1011', 'typ': 'UVU', 'masa': 563, 'roz': 13}, {'id': '1110', 'typ': 'CUG', 'masa': 555, 'roz': 13}, {'id': '0110', 'typ': 'UCA', 'masa': 1238, 'roz': 21}, {'id': '0000', 'typ': 'AGN', 'masa': 1750, 'roz': 25}, {'id': '1110', 'typ': 'VVA', 'masa': 98, 'roz': 29}, {'id': '1010', 'typ': 'VWW', 'masa': 767, 'roz': 15}, {'id': '0001', 'typ': 'ANW', 'masa': 225, 'roz': 18}, {'id': '0111', 'typ': 'UGA', 'masa': 474, 'roz': 13}, {'id': '1000', 'typ': 'GWU', 'masa': 124, 'roz': 28}]\n",
      "[{'id': '1010', 'typ': 'VWW', 'masa': 767, 'roz': 15}, {'id': '0110', 'typ': 'UCA', 'masa': 1238, 'roz': 21}, {'id': '1110', 'typ': 'VVA', 'masa': 98, 'roz': 29}, {'id': '0001', 'typ': 'ANW', 'masa': 225, 'roz': 18}, {'id': '1000', 'typ': 'GWU', 'masa': 124, 'roz': 28}, {'id': '1110', 'typ': 'CUG', 'masa': 555, 'roz': 13}, {'id': '0000', 'typ': 'AGN', 'masa': 1750, 'roz': 25}, {'id': '0111', 'typ': 'UGA', 'masa': 474, 'roz': 13}, {'id': '0110', 'typ': 'GNU', 'masa': 890, 'roz': 7}, {'id': '1011', 'typ': 'UVU', 'masa': 563, 'roz': 13}]\n"
     ]
    }
   ],
   "source": [
    "robots = create_m_bots(10)\n",
    "robots = [r.save_robot() for r in robots]\n",
    "\n",
    "print(robots)\n",
    "print(gww(robots))"
   ]
  },
  {
   "cell_type": "code",
   "execution_count": 16,
   "metadata": {},
   "outputs": [],
   "source": [
    "def hash_bin_search(features, val_vector):\n",
    "    h = get_hash(features, len(val_vector))\n",
    "    \n",
    "    "
   ]
  },
  {
   "cell_type": "markdown",
   "metadata": {},
   "source": [
    "## Zadanie 4. - binarne wyszukiwanie zbioru wartości ##\n",
    "\n",
    "• Zaimplementuj funkcję zwracającą zbiór indeksów wszystkich robotów, których wybrany parametr ma zadaną wartość. Wykorzystaj procedurę poszukiwania binarnego w celu znalezienia pierwszego robota spełniającego wymaganie. Zauważ, że w wyniku działania procedury znaleziony został też przedział, w którym znajdują się wszystkie poszukiwane roboty. Dokładniej, w ostatniej iteracji algorytmu, wykonano operację $mid = round( \\frac{max+min}{2})$, gdzie mid jest zwróconym indeksem robota, zaś min i max to krańce przedziału poszukiwania w ostatniej iteracji. Znając min i max, uruchom wyszukiwanie binarne na przedziałach [min, mid] i [mid, max] w celu znalezienia minimalnej i maksymalnej indeksów robotów spełniających wymaganie.\n",
    "\n",
    "• Zaimplementuj funkcję zwracającą zbiór indeksów wszystkich robotów o parametrze liczbowym z za-\n",
    "danego przedziału. Ponownie, wykorzystaj wyszukiwanie binarne."
   ]
  },
  {
   "cell_type": "code",
   "execution_count": 17,
   "metadata": {},
   "outputs": [],
   "source": [
    "# stworzenie wektora robotów\n",
    "vector = create_m_bots(10)\n",
    "\n",
    "# przekształcenie wektora z obiektu klasy na listę\n",
    "vector = [b.save_robot() for b in vector]"
   ]
  },
  {
   "cell_type": "code",
   "execution_count": 18,
   "metadata": {},
   "outputs": [],
   "source": [
    "def bin_ser_rec(v, imin, imax, value, feature):\n",
    "    \"\"\"\n",
    "    Funkcja wyszukuje binarnie wszystkich indeksów robotów o zadanej warotości danego parametru\n",
    "    :param list v: wektor robotów\n",
    "    :param int imin: dolny indeks przeszukiwania binarnego\n",
    "    :param int imax: górny indeks przeszukiwnaia binarnego\n",
    "    :param value: wartość wyszukiwanego elementu\n",
    "    :param feature: cecha według której sortujemy a następnie przeszukujemy listę\n",
    "    :return list: zwraca listę jeśli nie ma robota o zadanej cesze lista będzie pusta\n",
    "    \"\"\"\n",
    "    v = sorted(v, key=lambda x: x[feature])\n",
    "\n",
    "    if imax >= imin:\n",
    "        i = (imin + imax) // 2\n",
    "        if v[i][feature] == value:\n",
    "            if imin == imax:\n",
    "                return [i]\n",
    "            else:\n",
    "                return bin_ser_rec(v, imin, i, value, feature) + bin_ser_rec(v, i+1, imax, value, feature)\n",
    "        elif v[i][feature] > value:\n",
    "            return bin_ser_rec(v, imin, i-1, value, feature)\n",
    "        else:\n",
    "            return bin_ser_rec(v, i+1, imax, value, feature)\n",
    "\n",
    "    return []"
   ]
  },
  {
   "cell_type": "code",
   "execution_count": 19,
   "metadata": {},
   "outputs": [
    {
     "name": "stdout",
     "output_type": "stream",
     "text": [
      "Binarne wyszukiwanie zbioru wartości dla parametr: id o wartości: 0001\n",
      "Indeksy:\n",
      "[1]\n"
     ]
    },
    {
     "data": {
      "text/plain": [
       "[{'id': '0000', 'typ': 'WAA', 'masa': 1016, 'roz': 22},\n",
       " {'id': '0001', 'typ': 'WGG', 'masa': 1410, 'roz': 28},\n",
       " {'id': '0010', 'typ': 'WAV', 'masa': 737, 'roz': 4},\n",
       " {'id': '0100', 'typ': 'VUU', 'masa': 1884, 'roz': 22},\n",
       " {'id': '1000', 'typ': 'NWG', 'masa': 895, 'roz': 29},\n",
       " {'id': '1000', 'typ': 'CCU', 'masa': 556, 'roz': 14},\n",
       " {'id': '1001', 'typ': 'NWA', 'masa': 777, 'roz': 6},\n",
       " {'id': '1011', 'typ': 'GCN', 'masa': 1152, 'roz': 22},\n",
       " {'id': '1100', 'typ': 'WAA', 'masa': 1182, 'roz': 25},\n",
       " {'id': '1110', 'typ': 'UGG', 'masa': 1310, 'roz': 5}]"
      ]
     },
     "execution_count": 19,
     "metadata": {},
     "output_type": "execute_result"
    }
   ],
   "source": [
    "# wyszukaanie indeksu robota o zadanej cesze\n",
    "val = '0001'\n",
    "feat = 'id'\n",
    "print('Binarne wyszukiwanie zbioru wartości dla parametr:', feat, 'o wartości:', val)\n",
    "print('Indeksy:')\n",
    "print(bin_ser_rec(v=vector, imin=0, imax=len(vector), value=val, feature=feat))\n",
    "sorted(vector, key=lambda x: x[feat])"
   ]
  },
  {
   "cell_type": "code",
   "execution_count": 20,
   "metadata": {},
   "outputs": [],
   "source": [
    "def bin_ser_range(vec, imin, imax, val_min, val_max, feature):\n",
    "    \"\"\"\n",
    "    Funkcja wyszukuje binarnie wszystkich indeksów robotów o zadanej warotości danego parametru\n",
    "    :param list v: wektor robotów\n",
    "    :param int imin: dolny indeks przeszukiwania binarnego\n",
    "    :param int imax: górny indeks przeszukiwnaia binarnego\n",
    "    :param val_min: dolna wartość przedziału\n",
    "    :param val_max: górna wartość przedziału\n",
    "    :param feature: cecha według której sortujemy a następnie przeszukujemy listę\n",
    "    :return list: zwraca listę jeśli nie ma robota o zadanej cesze lista będzie pusta\n",
    "    \"\"\"\n",
    "    v = sorted(vec, key=lambda x: x[feature])\n",
    "\n",
    "    if imax >= imin:\n",
    "        i = (imin + imax) // 2\n",
    "        if val_min < v[i][feature] < val_max:\n",
    "            if imin == imax:\n",
    "                return [v.index(vec[i])]\n",
    "            else:\n",
    "                return bin_ser_range(v, imin, i, val_min, val_max, feature) + \\\n",
    "                       bin_ser_range(v, i+1, imax, val_min, val_max, feature)\n",
    "        elif v[i][feature] > val_max:\n",
    "            return bin_ser_range(v, imin, i-1, val_min, val_max, feature)\n",
    "        elif v[i][feature] < val_min:\n",
    "            return bin_ser_range(v, i+1, imax, val_min, val_max, feature)\n",
    "\n",
    "    return []"
   ]
  },
  {
   "cell_type": "code",
   "execution_count": 21,
   "metadata": {},
   "outputs": [
    {
     "name": "stdout",
     "output_type": "stream",
     "text": [
      "Binarne wyszukiwanie zbioru wartości dla parametr: masa z przedziału: [100, 1000]\n",
      "Indeksy:\n",
      "[0, 1, 2, 3]\n"
     ]
    }
   ],
   "source": [
    "# wyszukanie indeksów robotów o cechach z zadanego przedziału\n",
    "feat = 'masa'\n",
    "vmin = 100\n",
    "vmax = 1000\n",
    "print('Binarne wyszukiwanie zbioru wartości dla parametr:', feat, 'z przedziału:', [vmin, vmax])\n",
    "print('Indeksy:')\n",
    "print(bin_ser_range(vec=vector, imin=0, imax=len(vector), val_min=vmin, val_max=vmax, feature=feat))"
   ]
  },
  {
   "cell_type": "code",
   "execution_count": 22,
   "metadata": {},
   "outputs": [
    {
     "data": {
      "text/plain": [
       "[{'id': '1000', 'typ': 'CCU', 'masa': 556, 'roz': 14},\n",
       " {'id': '0010', 'typ': 'WAV', 'masa': 737, 'roz': 4},\n",
       " {'id': '1001', 'typ': 'NWA', 'masa': 777, 'roz': 6},\n",
       " {'id': '1000', 'typ': 'NWG', 'masa': 895, 'roz': 29},\n",
       " {'id': '0000', 'typ': 'WAA', 'masa': 1016, 'roz': 22},\n",
       " {'id': '1011', 'typ': 'GCN', 'masa': 1152, 'roz': 22},\n",
       " {'id': '1100', 'typ': 'WAA', 'masa': 1182, 'roz': 25},\n",
       " {'id': '1110', 'typ': 'UGG', 'masa': 1310, 'roz': 5},\n",
       " {'id': '0001', 'typ': 'WGG', 'masa': 1410, 'roz': 28},\n",
       " {'id': '0100', 'typ': 'VUU', 'masa': 1884, 'roz': 22}]"
      ]
     },
     "execution_count": 22,
     "metadata": {},
     "output_type": "execute_result"
    }
   ],
   "source": [
    "sorted(vector, key=lambda x: x[feat])"
   ]
  },
  {
   "cell_type": "markdown",
   "metadata": {},
   "source": [
    "## Zadanie 5. - wieloatrybutowe, wielowartościowe wyszukiwanie binarne ##\n",
    "\n",
    "• Zaimplementuj funkcję tworzącą, dla każdego parametru robota wektor pomocniczy. Każdy wektor pomocniczy, o rozmiarze takim samym jak wektor robotów, zawiera indeksy z wektora robotów posortowane względem danego parametru.\n",
    "\n",
    "• Zaimplementuj funkcję wyszukiwanie binarnego realizowaną po zbiorze parametrów (każdy z dopuszczalnymi wieloma\n",
    "wartościami lub None, tak jak na końcu zadania nr 1). Wyszukiwanie wykonaj po każdym parametrze z osobna, korzystając z procedury opracowanej w poprzednim zadaniu. Następnie weź część wspólną wszystkich zbiorów indeksów (wykorzystaj funkcję intersection). Nie zakładaj, że wektor robotów jest jakkolwiek posortowany, a korzystaj z wektorów pomocniczych. Funkcje wyszukiwania uzupełnij o tryb wizualizacji krok-po-kroku."
   ]
  },
  {
   "cell_type": "code",
   "execution_count": 23,
   "metadata": {},
   "outputs": [],
   "source": [
    "def bin_ser_rec(v, vsorted, imin, imax, value, feature):\n",
    "    \"\"\"\n",
    "    Funkcja wyszukuje binarnie wszystkich indeksów robotów o zadanej warotości danego parametru\n",
    "    \n",
    "    :param list v: wektor robotów\n",
    "    :param int imin: dolny indeks przeszukiwania binarnego\n",
    "    :param int imax: górny indeks przeszukiwnaia binarnego\n",
    "    :param value: wartość wyszukiwanego elementu\n",
    "    :param feature: cecha według której sortujemy a następnie przeszukujemy listę\n",
    "    :return list: zwraca listę jeśli nie ma robota o zadanej cesze lista będzie pusta\n",
    "    \"\"\"\n",
    "    \n",
    "    if imax >= imin:\n",
    "        i = (imin + imax) // 2\n",
    "        if v[vsorted[i]][feature] == value:\n",
    "            if imin == imax:\n",
    "                return [vsorted[i]]\n",
    "            else:\n",
    "                return bin_ser_rec(v, vsorted, imin, i, value, feature) +\\\n",
    "                        bin_ser_rec(v, vsorted, i+1, imax, value, feature)\n",
    "        elif v[vsorted[i]][feature] > value:\n",
    "            return bin_ser_rec(v, vsorted, imin, i-1, value, feature)\n",
    "        else:\n",
    "            return bin_ser_rec(v, vsorted, i+1, imax, value, feature)\n",
    "\n",
    "    return []"
   ]
  },
  {
   "cell_type": "code",
   "execution_count": 24,
   "metadata": {},
   "outputs": [],
   "source": [
    "def sort_vector(v):\n",
    "    \"\"\"\n",
    "    Funkcja zwraca N posortowanych parametrów wektorów robotów każde według kolejnego parametru\n",
    "    :param v: wektor robotów\n",
    "    :return list vectors: wektor posortowanych indeksów według kolejnych parametrów\n",
    "    \"\"\"\n",
    "    vectors = list()\n",
    "    keys = list(v[0].keys())\n",
    "    for k in keys:\n",
    "        vectors.append([v.index(i) for i in sorted(v, key=lambda x: x[k])])\n",
    "    return vectors"
   ]
  },
  {
   "cell_type": "code",
   "execution_count": 25,
   "metadata": {},
   "outputs": [],
   "source": [
    "def intersection(lists):\n",
    "    s = set(lists[0])\n",
    "    for i in range(1, len(lists)):\n",
    "        s = s & set(lists[i])\n",
    "        print(s)\n",
    "    return s"
   ]
  },
  {
   "cell_type": "code",
   "execution_count": 26,
   "metadata": {},
   "outputs": [],
   "source": [
    "def search(vector, features):\n",
    "    \"\"\"\n",
    "    Binarne wyszukiwanie \n",
    "    :param vector: wektor robotów\n",
    "    :param features: dopuszczalne paramtry\n",
    "    \"\"\"\n",
    "    indexes = list()\n",
    "    sv = sort_vector(vector)\n",
    "    \n",
    "    for n in range(len(features)):\n",
    "        f = list(features.values())[n]\n",
    "        if f:\n",
    "            temp_i = list()\n",
    "            for i in f:\n",
    "                # dodanie indexów\n",
    "                temp_i += bin_ser_rec(\n",
    "                    v=vector,\n",
    "                    vsorted=sv[n],\n",
    "                    imin=0,\n",
    "                    imax=len(sv[n]),\n",
    "                    value=i, \n",
    "                    feature=list(features.keys())[n]\n",
    "                                     )\n",
    "            indexes.append(temp_i)\n",
    "    \n",
    "    indexes = intersection(indexes)\n",
    "    return indexes"
   ]
  },
  {
   "cell_type": "code",
   "execution_count": 27,
   "metadata": {},
   "outputs": [],
   "source": [
    "robots = create_m_bots(30)\n",
    "robots = [r.save_robot() for r in robots]"
   ]
  },
  {
   "cell_type": "code",
   "execution_count": 28,
   "metadata": {},
   "outputs": [
    {
     "name": "stdout",
     "output_type": "stream",
     "text": [
      "{19}\n"
     ]
    }
   ],
   "source": [
    "# pożadane cechy\n",
    "desired_features = {\n",
    "    'id': ['0011','0101'],\n",
    "    'typ': None,\n",
    "    'masa': None,\n",
    "    'roz': [10, 11, 12, 13, 14, 15, 16, 17, 18],\n",
    "}\n",
    "\n",
    "result_i = search(robots, desired_features)"
   ]
  },
  {
   "cell_type": "code",
   "execution_count": 29,
   "metadata": {},
   "outputs": [
    {
     "name": "stdout",
     "output_type": "stream",
     "text": [
      "Indexy robotów spełniajaćych kryteria\n",
      "{19}\n",
      "Roboty spełniające wymagania\n",
      "{'id': '0101', 'typ': 'NVC', 'masa': 1550, 'roz': 18}\n"
     ]
    }
   ],
   "source": [
    "print('Indexy robotów spełniajaćych kryteria')\n",
    "print(result_i)\n",
    "print('Roboty spełniające wymagania')\n",
    "for i in result_i:\n",
    "    print(robots[i])"
   ]
  }
 ],
 "metadata": {
  "interpreter": {
   "hash": "1f89e5638bc21e5a353878479e7a3da0844c21839df4668e59f62c45fd240760"
  },
  "kernelspec": {
   "display_name": "Python 3 (ipykernel)",
   "language": "python",
   "name": "python3"
  },
  "language_info": {
   "codemirror_mode": {
    "name": "ipython",
    "version": 3
   },
   "file_extension": ".py",
   "mimetype": "text/x-python",
   "name": "python",
   "nbconvert_exporter": "python",
   "pygments_lexer": "ipython3",
   "version": "3.9.0"
  }
 },
 "nbformat": 4,
 "nbformat_minor": 4
}
