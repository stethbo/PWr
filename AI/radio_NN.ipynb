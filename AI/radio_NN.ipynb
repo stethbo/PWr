{
 "cells": [
  {
   "cell_type": "code",
   "execution_count": 157,
   "metadata": {},
   "outputs": [
    {
     "name": "stdout",
     "output_type": "stream",
     "text": [
      "1.13.0+cu117\n"
     ]
    }
   ],
   "source": [
    "import torch\n",
    "import torch.nn as nn\n",
    "from torch.utils.data import TensorDataset, DataLoader\n",
    "\n",
    "from sklearn.model_selection import train_test_split\n",
    "from sklearn.preprocessing import MinMaxScaler\n",
    "from sklearn.model_selection import KFold\n",
    "\n",
    "import pandas as pd\n",
    "import matplotlib.pyplot as plt\n",
    "\n",
    "print(torch.__version__)"
   ]
  },
  {
   "cell_type": "code",
   "execution_count": 158,
   "metadata": {},
   "outputs": [],
   "source": [
    "input_data = pd.read_csv('radio_train/input_data.csv', header=None)\n",
    "target_data = pd.read_csv('radio_train/target_data.csv', header=None)"
   ]
  },
  {
   "attachments": {},
   "cell_type": "markdown",
   "metadata": {},
   "source": [
    "## Data preparation"
   ]
  },
  {
   "cell_type": "code",
   "execution_count": 159,
   "metadata": {},
   "outputs": [
    {
     "data": {
      "text/html": [
       "<div>\n",
       "<style scoped>\n",
       "    .dataframe tbody tr th:only-of-type {\n",
       "        vertical-align: middle;\n",
       "    }\n",
       "\n",
       "    .dataframe tbody tr th {\n",
       "        vertical-align: top;\n",
       "    }\n",
       "\n",
       "    .dataframe thead th {\n",
       "        text-align: right;\n",
       "    }\n",
       "</style>\n",
       "<table border=\"1\" class=\"dataframe\">\n",
       "  <thead>\n",
       "    <tr style=\"text-align: right;\">\n",
       "      <th></th>\n",
       "      <th>0</th>\n",
       "      <th>1</th>\n",
       "      <th>2</th>\n",
       "      <th>3</th>\n",
       "      <th>4</th>\n",
       "      <th>5</th>\n",
       "      <th>6</th>\n",
       "      <th>7</th>\n",
       "      <th>8</th>\n",
       "      <th>9</th>\n",
       "      <th>10</th>\n",
       "      <th>11</th>\n",
       "      <th>12</th>\n",
       "      <th>13</th>\n",
       "      <th>14</th>\n",
       "      <th>15</th>\n",
       "    </tr>\n",
       "  </thead>\n",
       "  <tbody>\n",
       "    <tr>\n",
       "      <th>0</th>\n",
       "      <td>0.325311</td>\n",
       "      <td>0.355525</td>\n",
       "      <td>0.397343</td>\n",
       "      <td>0.284162</td>\n",
       "      <td>0.408696</td>\n",
       "      <td>0.853002</td>\n",
       "      <td>0.481582</td>\n",
       "      <td>0.365663</td>\n",
       "      <td>0.624396</td>\n",
       "      <td>0.630032</td>\n",
       "      <td>0.277494</td>\n",
       "      <td>0.135749</td>\n",
       "      <td>0.222464</td>\n",
       "      <td>0.361413</td>\n",
       "      <td>0.302174</td>\n",
       "      <td>0.125000</td>\n",
       "    </tr>\n",
       "    <tr>\n",
       "      <th>1</th>\n",
       "      <td>0.322621</td>\n",
       "      <td>0.348229</td>\n",
       "      <td>0.426276</td>\n",
       "      <td>0.285427</td>\n",
       "      <td>0.404809</td>\n",
       "      <td>0.853958</td>\n",
       "      <td>0.480490</td>\n",
       "      <td>0.371696</td>\n",
       "      <td>0.617918</td>\n",
       "      <td>0.633816</td>\n",
       "      <td>0.280904</td>\n",
       "      <td>0.128623</td>\n",
       "      <td>0.246894</td>\n",
       "      <td>0.367754</td>\n",
       "      <td>0.316667</td>\n",
       "      <td>0.098551</td>\n",
       "    </tr>\n",
       "    <tr>\n",
       "      <th>2</th>\n",
       "      <td>0.323370</td>\n",
       "      <td>0.346121</td>\n",
       "      <td>0.439242</td>\n",
       "      <td>0.280596</td>\n",
       "      <td>0.405495</td>\n",
       "      <td>0.853002</td>\n",
       "      <td>0.486542</td>\n",
       "      <td>0.363872</td>\n",
       "      <td>0.619163</td>\n",
       "      <td>0.627599</td>\n",
       "      <td>0.288647</td>\n",
       "      <td>0.135393</td>\n",
       "      <td>0.229469</td>\n",
       "      <td>0.358696</td>\n",
       "      <td>0.306612</td>\n",
       "      <td>0.102355</td>\n",
       "    </tr>\n",
       "    <tr>\n",
       "      <th>3</th>\n",
       "      <td>0.324827</td>\n",
       "      <td>0.342754</td>\n",
       "      <td>0.432174</td>\n",
       "      <td>0.276641</td>\n",
       "      <td>0.405217</td>\n",
       "      <td>0.853002</td>\n",
       "      <td>0.482163</td>\n",
       "      <td>0.361514</td>\n",
       "      <td>0.614332</td>\n",
       "      <td>0.630120</td>\n",
       "      <td>0.285507</td>\n",
       "      <td>0.131550</td>\n",
       "      <td>0.230490</td>\n",
       "      <td>0.365942</td>\n",
       "      <td>0.317391</td>\n",
       "      <td>0.111111</td>\n",
       "    </tr>\n",
       "    <tr>\n",
       "      <th>4</th>\n",
       "      <td>0.325362</td>\n",
       "      <td>0.347497</td>\n",
       "      <td>0.439538</td>\n",
       "      <td>0.283126</td>\n",
       "      <td>0.416476</td>\n",
       "      <td>0.852484</td>\n",
       "      <td>0.486473</td>\n",
       "      <td>0.361660</td>\n",
       "      <td>0.616667</td>\n",
       "      <td>0.628909</td>\n",
       "      <td>0.288768</td>\n",
       "      <td>0.127415</td>\n",
       "      <td>0.240777</td>\n",
       "      <td>0.362319</td>\n",
       "      <td>0.304865</td>\n",
       "      <td>0.112319</td>\n",
       "    </tr>\n",
       "  </tbody>\n",
       "</table>\n",
       "</div>"
      ],
      "text/plain": [
       "         0         1         2         3         4         5         6   \\\n",
       "0  0.325311  0.355525  0.397343  0.284162  0.408696  0.853002  0.481582   \n",
       "1  0.322621  0.348229  0.426276  0.285427  0.404809  0.853958  0.480490   \n",
       "2  0.323370  0.346121  0.439242  0.280596  0.405495  0.853002  0.486542   \n",
       "3  0.324827  0.342754  0.432174  0.276641  0.405217  0.853002  0.482163   \n",
       "4  0.325362  0.347497  0.439538  0.283126  0.416476  0.852484  0.486473   \n",
       "\n",
       "         7         8         9         10        11        12        13  \\\n",
       "0  0.365663  0.624396  0.630032  0.277494  0.135749  0.222464  0.361413   \n",
       "1  0.371696  0.617918  0.633816  0.280904  0.128623  0.246894  0.367754   \n",
       "2  0.363872  0.619163  0.627599  0.288647  0.135393  0.229469  0.358696   \n",
       "3  0.361514  0.614332  0.630120  0.285507  0.131550  0.230490  0.365942   \n",
       "4  0.361660  0.616667  0.628909  0.288768  0.127415  0.240777  0.362319   \n",
       "\n",
       "         14        15  \n",
       "0  0.302174  0.125000  \n",
       "1  0.316667  0.098551  \n",
       "2  0.306612  0.102355  \n",
       "3  0.317391  0.111111  \n",
       "4  0.304865  0.112319  "
      ]
     },
     "execution_count": 159,
     "metadata": {},
     "output_type": "execute_result"
    }
   ],
   "source": [
    "input_data.head()"
   ]
  },
  {
   "cell_type": "code",
   "execution_count": 160,
   "metadata": {},
   "outputs": [
    {
     "data": {
      "text/html": [
       "<div>\n",
       "<style scoped>\n",
       "    .dataframe tbody tr th:only-of-type {\n",
       "        vertical-align: middle;\n",
       "    }\n",
       "\n",
       "    .dataframe tbody tr th {\n",
       "        vertical-align: top;\n",
       "    }\n",
       "\n",
       "    .dataframe thead th {\n",
       "        text-align: right;\n",
       "    }\n",
       "</style>\n",
       "<table border=\"1\" class=\"dataframe\">\n",
       "  <thead>\n",
       "    <tr style=\"text-align: right;\">\n",
       "      <th></th>\n",
       "      <th>0</th>\n",
       "      <th>1</th>\n",
       "    </tr>\n",
       "  </thead>\n",
       "  <tbody>\n",
       "    <tr>\n",
       "      <th>0</th>\n",
       "      <td>0.156728</td>\n",
       "      <td>-0.070469</td>\n",
       "    </tr>\n",
       "    <tr>\n",
       "      <th>1</th>\n",
       "      <td>0.156728</td>\n",
       "      <td>-0.070469</td>\n",
       "    </tr>\n",
       "    <tr>\n",
       "      <th>2</th>\n",
       "      <td>0.156728</td>\n",
       "      <td>-0.070469</td>\n",
       "    </tr>\n",
       "    <tr>\n",
       "      <th>3</th>\n",
       "      <td>0.156728</td>\n",
       "      <td>-0.070469</td>\n",
       "    </tr>\n",
       "    <tr>\n",
       "      <th>4</th>\n",
       "      <td>0.156728</td>\n",
       "      <td>-0.070469</td>\n",
       "    </tr>\n",
       "  </tbody>\n",
       "</table>\n",
       "</div>"
      ],
      "text/plain": [
       "          0         1\n",
       "0  0.156728 -0.070469\n",
       "1  0.156728 -0.070469\n",
       "2  0.156728 -0.070469\n",
       "3  0.156728 -0.070469\n",
       "4  0.156728 -0.070469"
      ]
     },
     "execution_count": 160,
     "metadata": {},
     "output_type": "execute_result"
    }
   ],
   "source": [
    "target_data = target_data[[0, 1]]\n",
    "target_data.head()"
   ]
  },
  {
   "cell_type": "code",
   "execution_count": 161,
   "metadata": {},
   "outputs": [],
   "source": [
    "input_train, input_test, target_train, target_test = train_test_split(\n",
    "    input_data, target_data, test_size=0.2, random_state=42\n",
    ")"
   ]
  },
  {
   "cell_type": "code",
   "execution_count": 162,
   "metadata": {},
   "outputs": [],
   "source": [
    "# data for k-fold cross validation\n",
    "X = torch.from_numpy(input_data.values).float()\n",
    "y = torch.from_numpy(target_data.values).float()\n",
    "\n",
    "dataset = TensorDataset(X, y)"
   ]
  },
  {
   "cell_type": "code",
   "execution_count": 163,
   "metadata": {},
   "outputs": [
    {
     "data": {
      "text/plain": [
       "(torch.Size([1728, 16]),\n",
       " torch.Size([1728, 2]),\n",
       " torch.Size([432, 16]),\n",
       " torch.Size([432, 2]))"
      ]
     },
     "execution_count": 163,
     "metadata": {},
     "output_type": "execute_result"
    }
   ],
   "source": [
    "# Converting pandas df to torch.Tensor\n",
    "X_train = torch.from_numpy(input_train.values).float()\n",
    "X_test = torch.from_numpy(input_test.values).float()\n",
    "y_train = torch.from_numpy(target_train.values).float()\n",
    "y_test = torch.from_numpy(target_test.values).float()\n",
    "X_train.shape, y_train.shape, X_test.shape, y_test.shape"
   ]
  },
  {
   "cell_type": "code",
   "execution_count": 164,
   "metadata": {},
   "outputs": [],
   "source": [
    "BATCH_SIZE = 256\n",
    "# Creating dataset\n",
    "train_dataset = TensorDataset(X_train, y_train)\n",
    "test_dataset = TensorDataset(X_test, y_test)\n",
    "\n",
    "# Creating dataloader\n",
    "train_dl = DataLoader(train_dataset, batch_size=BATCH_SIZE)\n",
    "test_dl = DataLoader(test_dataset, batch_size=BATCH_SIZE)"
   ]
  },
  {
   "cell_type": "code",
   "execution_count": 165,
   "metadata": {},
   "outputs": [
    {
     "data": {
      "text/plain": [
       "'cpu'"
      ]
     },
     "execution_count": 165,
     "metadata": {},
     "output_type": "execute_result"
    }
   ],
   "source": [
    "device = 'cuda' if torch.cuda.is_available() else 'cpu'\n",
    "device"
   ]
  },
  {
   "cell_type": "code",
   "execution_count": 166,
   "metadata": {},
   "outputs": [],
   "source": [
    "class NeuralNet(nn.Module):\n",
    "    def __init__(self, input_features, hidden_units, output_features):\n",
    "        super().__init__()\n",
    "        self.linear_layers_stack = nn.Sequential(\n",
    "            nn.Linear(\n",
    "                in_features=input_features, \n",
    "                out_features=hidden_units,),\n",
    "            nn.PReLU(),\n",
    "            nn.Linear(in_features=hidden_units, out_features=hidden_units),\n",
    "            nn.ReLU(),\n",
    "            nn.Linear(in_features=hidden_units, out_features=hidden_units),\n",
    "            nn.ReLU(),\n",
    "            nn.Linear(in_features=hidden_units, out_features=hidden_units),\n",
    "            nn.ReLU(),\n",
    "            nn.Linear(in_features=hidden_units, out_features=hidden_units),\n",
    "            nn.ReLU(),\n",
    "            nn.Linear(in_features=hidden_units, out_features=output_features),\n",
    "        )\n",
    "\n",
    "    def forward(self, x):\n",
    "        return self.linear_layers_stack(x)\n",
    "\n",
    "\n",
    "torch.manual_seed(33)\n",
    "model = NeuralNet(\n",
    "    input_features=16,\n",
    "    hidden_units=64,\n",
    "    output_features=2,\n",
    ").to(device)"
   ]
  },
  {
   "cell_type": "code",
   "execution_count": 167,
   "metadata": {},
   "outputs": [],
   "source": [
    "loss_fn = nn.MSELoss()\n",
    "optimizer = torch.optim.SGD(model.parameters(), lr=0.000001)"
   ]
  },
  {
   "cell_type": "code",
   "execution_count": 168,
   "metadata": {},
   "outputs": [
    {
     "name": "stdout",
     "output_type": "stream",
     "text": [
      "EPOCH: 0\n",
      "Train loss: 0.00876 | Test loss: 0.00970. | Lowest loss: 0.00764\n",
      "\n",
      "EPOCH: 1\n",
      "Train loss: 0.00864 | Test loss: 0.00950. | Lowest loss: 0.00764\n",
      "\n",
      "EPOCH: 2\n",
      "Train loss: 0.00852 | Test loss: 0.00854. | Lowest loss: 0.00764\n",
      "\n",
      "EPOCH: 3\n",
      "Train loss: 0.00827 | Test loss: 0.00800. | Lowest loss: 0.00763\n",
      "\n",
      "EPOCH: 4\n",
      "Train loss: 0.00788 | Test loss: 0.00819. | Lowest loss: 0.00719\n",
      "\n",
      "EPOCH: 5\n",
      "Train loss: 0.00749 | Test loss: 0.00775. | Lowest loss: 0.00674\n",
      "\n",
      "EPOCH: 6\n",
      "Train loss: 0.00719 | Test loss: 0.00626. | Lowest loss: 0.00626\n",
      "\n",
      "EPOCH: 7\n",
      "Train loss: 0.00672 | Test loss: 0.00605. | Lowest loss: 0.00598\n",
      "\n",
      "EPOCH: 8\n",
      "Train loss: 0.00618 | Test loss: 0.00648. | Lowest loss: 0.00586\n",
      "\n",
      "EPOCH: 9\n",
      "Train loss: 0.00580 | Test loss: 0.00556. | Lowest loss: 0.00535\n",
      "\n",
      "EPOCH: 10\n",
      "Train loss: 0.00535 | Test loss: 0.00553. | Lowest loss: 0.00474\n",
      "\n",
      "EPOCH: 11\n",
      "Train loss: 0.00503 | Test loss: 0.00475. | Lowest loss: 0.00434\n",
      "\n",
      "EPOCH: 12\n",
      "Train loss: 0.00472 | Test loss: 0.00435. | Lowest loss: 0.00434\n",
      "\n",
      "EPOCH: 13\n",
      "Train loss: 0.00442 | Test loss: 0.00464. | Lowest loss: 0.00412\n",
      "\n",
      "EPOCH: 14\n",
      "Train loss: 0.00422 | Test loss: 0.00461. | Lowest loss: 0.00396\n",
      "\n",
      "EPOCH: 15\n",
      "Train loss: 0.00416 | Test loss: 0.00426. | Lowest loss: 0.00382\n",
      "\n",
      "EPOCH: 16\n",
      "Train loss: 0.00413 | Test loss: 0.00444. | Lowest loss: 0.00382\n",
      "\n",
      "EPOCH: 17\n",
      "Train loss: 0.00419 | Test loss: 0.00470. | Lowest loss: 0.00382\n",
      "\n",
      "EPOCH: 18\n",
      "Train loss: 0.00439 | Test loss: 0.00450. | Lowest loss: 0.00382\n",
      "\n",
      "EPOCH: 19\n",
      "Train loss: 0.00460 | Test loss: 0.00493. | Lowest loss: 0.00382\n",
      "\n"
     ]
    }
   ],
   "source": [
    "from sklearn.model_selection import KFold\n",
    "\n",
    "kfold = KFold(n_splits=10, shuffle=True)\n",
    "train_hist, test_hist = [], []\n",
    "\n",
    "num_epochs = 20\n",
    "lowest_loss = float('+inf')\n",
    "best_state_dict = None\n",
    "for epoch in range(num_epochs):\n",
    "    for n, (train_idx, test_idx) in enumerate(kfold.split(dataset)):\n",
    "        train_dl = DataLoader(TensorDataset(*dataset[train_idx]), batch_size=BATCH_SIZE)\n",
    "        test_dl = DataLoader(TensorDataset(*dataset[test_idx]), batch_size=BATCH_SIZE)\n",
    "\n",
    "        # training pass\n",
    "        train_loss = 0\n",
    "        for (X, y) in train_dl:\n",
    "            model.train()\n",
    "            X, y = X.to(device), y.to(device)\n",
    "\n",
    "            y_pred = model(X)\n",
    "\n",
    "            loss = loss_fn(y_pred, y)\n",
    "            train_loss += loss\n",
    "\n",
    "            optimizer.zero_grad\n",
    "            loss.backward()\n",
    "            optimizer.step()\n",
    "        \n",
    "\n",
    "        train_loss /= len(train_dl)\n",
    "\n",
    "        test_loss = 0 \n",
    "        model.eval()\n",
    "        with torch.inference_mode():\n",
    "            for (X, y) in test_dl:\n",
    "                test_pred = model(X)\n",
    "                test_loss += loss_fn(test_pred, y)\n",
    "\n",
    "            test_loss /= len(test_dl)\n",
    "        \n",
    "            train_hist.append(float(train_loss))\n",
    "            test_hist.append(float(test_loss))\n",
    "        if test_loss < lowest_loss:\n",
    "            lowest_loss = test_loss\n",
    "            best_state_dict = model.state_dict()\n",
    "\n",
    "    print(f'EPOCH: {epoch}')\n",
    "    print(f\"Train loss: {train_loss:.5f} | Test loss: {test_loss:.5f}. | Lowest loss: {lowest_loss:.5f}\\n\")"
   ]
  },
  {
   "cell_type": "code",
   "execution_count": 171,
   "metadata": {},
   "outputs": [
    {
     "data": {
      "text/plain": [
       "<matplotlib.legend.Legend at 0x7fab988f77c0>"
      ]
     },
     "execution_count": 171,
     "metadata": {},
     "output_type": "execute_result"
    },
    {
     "data": {
      "image/png": "[encoded data removed]",
      "text/plain": [
       "<Figure size 640x480 with 1 Axes>"
      ]
     },
     "metadata": {},
     "output_type": "display_data"
    }
   ],
   "source": [
    "\n",
    "plt.plot(train_hist, label='Average train loss')\n",
    "plt.plot(test_hist, label='Average test loss')\n",
    "plt.scatter(x=test_hist.index(lowest_loss), y=lowest_loss, c='green', label='Lowest loss')\n",
    "plt.xlabel('Krok uczenia')\n",
    "plt.ylabel('Średnia wartość funkcji strat')\n",
    "plt.title('Model Loss')\n",
    "plt.legend()"
   ]
  },
  {
   "cell_type": "code",
   "execution_count": null,
   "metadata": {},
   "outputs": [
    {
     "data": {
      "text/plain": [
       "<All keys matched successfully>"
      ]
     },
     "execution_count": 140,
     "metadata": {},
     "output_type": "execute_result"
    }
   ],
   "source": [
    "model.load_state_dict(best_state_dict)"
   ]
  },
  {
   "cell_type": "code",
   "execution_count": null,
   "metadata": {},
   "outputs": [],
   "source": [
    "torch.save(model, 'moded_radion_NN.pth')"
   ]
  },
  {
   "cell_type": "code",
   "execution_count": null,
   "metadata": {},
   "outputs": [
    {
     "data": {
      "text/plain": [
       "NeuralNet(\n",
       "  (linear_layers_stack): Sequential(\n",
       "    (0): Linear(in_features=16, out_features=64, bias=True)\n",
       "    (1): PReLU(num_parameters=1)\n",
       "    (2): Linear(in_features=64, out_features=64, bias=True)\n",
       "    (3): ReLU()\n",
       "    (4): Linear(in_features=64, out_features=64, bias=True)\n",
       "    (5): ReLU()\n",
       "    (6): Linear(in_features=64, out_features=64, bias=True)\n",
       "    (7): ReLU()\n",
       "    (8): Linear(in_features=64, out_features=64, bias=True)\n",
       "    (9): ReLU()\n",
       "    (10): Linear(in_features=64, out_features=2, bias=True)\n",
       "  )\n",
       ")"
      ]
     },
     "execution_count": 142,
     "metadata": {},
     "output_type": "execute_result"
    }
   ],
   "source": [
    "model"
   ]
  }
 ],
 "metadata": {
  "kernelspec": {
   "display_name": "Python 3",
   "language": "python",
   "name": "python3"
  },
  "language_info": {
   "codemirror_mode": {
    "name": "ipython",
    "version": 3
   },
   "file_extension": ".py",
   "mimetype": "text/x-python",
   "name": "python",
   "nbconvert_exporter": "python",
   "pygments_lexer": "ipython3",
   "version": "3.10.6 (main, Nov 14 2022, 16:10:14) [GCC 11.3.0]"
  },
  "orig_nbformat": 4,
  "vscode": {
   "interpreter": {
    "hash": "916dbcbb3f70747c44a77c7bcd40155683ae19c65e1c03b4aa3499c5328201f1"
   }
  }
 },
 "nbformat": 4,
 "nbformat_minor": 2
}
