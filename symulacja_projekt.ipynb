{
  "nbformat": 4,
  "nbformat_minor": 0,
  "metadata": {
    "colab": {
      "provenance": [],
      "authorship_tag": "ABX9TyMRuscRcf/QY5qr5HWMtcz/",
      "include_colab_link": true
    },
    "kernelspec": {
      "name": "python3",
      "display_name": "Python 3"
    },
    "language_info": {
      "name": "python"
    }
  },
  "cells": [
    {
      "cell_type": "markdown",
      "metadata": {
        "id": "view-in-github",
        "colab_type": "text"
      },
      "source": [
        "<a href=\"https://colab.research.google.com/github/stethbo/PWr/blob/main/symulacja_projekt.ipynb\" target=\"_parent\"><img src=\"https://colab.research.google.com/assets/colab-badge.svg\" alt=\"Open In Colab\"/></a>"
      ]
    },
    {
      "cell_type": "code",
      "execution_count": 1,
      "metadata": {
        "id": "HxsrmKFuVlj8"
      },
      "outputs": [],
      "source": [
        "import matplotlib.pyplot as plt\n",
        "import numpy as np\n",
        "import seaborn as sns\n",
        "import scipy.stats as stats\n",
        "import datetime"
      ]
    },
    {
      "cell_type": "markdown",
      "source": [
        "Losujemy wektor 'zamówień' z rozkładu normalnego wybieramy 200 wartości odpowiadających o której godzinie zostało złożone zamówienie. Listę tą sortujemy od najmniejszej wartości aby odpowiadalo to logice kolejności w czasie."
      ],
      "metadata": {
        "id": "0QSI24y979xs"
      }
    },
    {
      "cell_type": "code",
      "source": [
        "num_of_orders = 200\n",
        "# z - lista godzin zamówień(od 15 do 23)\n",
        "z = np.random.normal(19, 1.5, num_of_orders)\n",
        "\n",
        "# konwersja godzin na minuty\n",
        "z_minutes = z.copy()\n",
        "z_minutes *= 60\n",
        "z_minutes = np.round(z_minutes)\n",
        "z_readable = list()\n",
        "# konwersja na godzine w formacie dogodnym dla człowieka\n",
        "for mins in z_minutes:\n",
        "  hour = str(datetime.timedelta(minutes=mins))\n",
        "  z_readable.append(hour)\n",
        "\n",
        "print(z_readable[:10])\n",
        "\n",
        "sns.histplot(z, binwidth=0.5, kde=False).set_title('Rozkład ilości zamówień w czasie')"
      ],
      "metadata": {
        "colab": {
          "base_uri": "https://localhost:8080/",
          "height": 316
        },
        "id": "X7D20jsu74Da",
        "outputId": "32ebcac6-2ab3-4214-ed1b-97ebe96b3f96"
      },
      "execution_count": 5,
      "outputs": [
        {
          "output_type": "stream",
          "name": "stdout",
          "text": [
            "['20:20:00', '18:34:00', '19:34:00', '20:31:00', '18:20:00', '19:22:00', '18:28:00', '18:47:00', '19:41:00', '18:10:00']\n"
          ]
        },
        {
          "output_type": "execute_result",
          "data": {
            "text/plain": [
              "Text(0.5, 1.0, 'Rozkład ilości zamówień w czasie')"
            ]
          },
          "metadata": {},
          "execution_count": 5
        },
        {
          "output_type": "display_data",
          "data": {
            "text/plain": [
              "<Figure size 432x288 with 1 Axes>"
            ],
            "image/png": "[encoded data removed]"
          },
          "metadata": {
            "needs_background": "light"
          }
        }
      ]
    },
    {
      "cell_type": "markdown",
      "source": [
        "Dla każdego zamówienia z wektora z losujemy jak daleko od restauracji trzeba dowieźć zamówienie."
      ],
      "metadata": {
        "id": "pbRGHnKC8rUw"
      }
    },
    {
      "cell_type": "code",
      "source": [
        "distances = abs(np.random.normal(3, 1, num_of_orders))\n",
        "sns.histplot(distances, binwidth=0.4, kde=False).set_title('Rozkład odległości dowozów')"
      ],
      "metadata": {
        "colab": {
          "base_uri": "https://localhost:8080/",
          "height": 298
        },
        "id": "OdresGtT8quq",
        "outputId": "e833114c-8e51-4afb-a090-1a3b8a6d37c5"
      },
      "execution_count": 6,
      "outputs": [
        {
          "output_type": "execute_result",
          "data": {
            "text/plain": [
              "Text(0.5, 1.0, 'Rozkład odległości dowozów')"
            ]
          },
          "metadata": {},
          "execution_count": 6
        },
        {
          "output_type": "display_data",
          "data": {
            "text/plain": [
              "<Figure size 432x288 with 1 Axes>"
            ],
            "image/png": "[encoded data removed]"
          },
          "metadata": {
            "needs_background": "light"
          }
        }
      ]
    },
    {
      "cell_type": "markdown",
      "source": [
        "Następnie łączymy wektor zamówień z wektorem dystansów"
      ],
      "metadata": {
        "id": "ihPF8D2h74zi"
      }
    },
    {
      "cell_type": "code",
      "source": [
        "dist_time = list(zip(distances, z_minutes, z_readable))\n",
        "print(dist_time[:10])\n",
        "orders = sorted(dist_time, key=lambda x: x[1])\n",
        "print(orders[:10])"
      ],
      "metadata": {
        "colab": {
          "base_uri": "https://localhost:8080/"
        },
        "id": "RyZ4vnHL_AXb",
        "outputId": "285867b5-d172-4dff-a558-2cf3d7f8b5c9"
      },
      "execution_count": 11,
      "outputs": [
        {
          "output_type": "stream",
          "name": "stdout",
          "text": [
            "[(2.8613181358106887, 1220.0, '20:20:00'), (2.11554132478997, 1114.0, '18:34:00'), (2.1881934939614993, 1174.0, '19:34:00'), (2.557988576506731, 1231.0, '20:31:00'), (2.3292056746485317, 1100.0, '18:20:00'), (4.2605924329573295, 1162.0, '19:22:00'), (4.073906818709044, 1108.0, '18:28:00'), (5.005504996118383, 1127.0, '18:47:00'), (2.999479313541475, 1181.0, '19:41:00'), (3.3523546431246247, 1090.0, '18:10:00')]\n",
            "[(4.043742981468476, 857.0, '14:17:00'), (1.5987639624014118, 890.0, '14:50:00'), (3.1164021640506467, 922.0, '15:22:00'), (2.573400872304859, 946.0, '15:46:00'), (2.358423881523844, 962.0, '16:02:00'), (2.786070008802249, 973.0, '16:13:00'), (3.411616365261205, 981.0, '16:21:00'), (2.38730010057355, 984.0, '16:24:00'), (3.023537378765074, 995.0, '16:35:00'), (2.929102622098872, 1000.0, '16:40:00')]\n"
          ]
        }
      ]
    },
    {
      "cell_type": "code",
      "source": [
        "c_type = list()\n",
        "c_price  = list()\n",
        "amounts = {'rower': 4, 'hulajnoga': 3, 'skuter': 2}\n",
        "speeds = {'rower': 18, 'hulajnoga': 22, 'skuter': 40}\n",
        "prices = {'rower': 22, 'hulajnoga': 28, 'skuter': 35}\n",
        "\n",
        "for name in amounts:\n",
        "  for i in range(amounts[name]):\n",
        "    c_type.append(speeds[name])\n",
        "    c_price.append(prices[name])\n",
        "\n",
        "print(c_type)\n",
        "print(c_price)\n",
        "\n",
        "couriers = np.zeros_like(c_type)\n",
        "start_time = orders[0][1]\n",
        "cur_time = orders[0][1]\n",
        "total_time = 0\n",
        "total_cost = 0"
      ],
      "metadata": {
        "colab": {
          "base_uri": "https://localhost:8080/"
        },
        "id": "kIxKeJD9kyyn",
        "outputId": "ed17e78b-7704-4176-bd3d-3ddb3e541ae3"
      },
      "execution_count": 12,
      "outputs": [
        {
          "output_type": "stream",
          "name": "stdout",
          "text": [
            "[18, 18, 18, 18, 22, 22, 22, 40, 40]\n",
            "[22, 22, 22, 22, 28, 28, 28, 35, 35]\n"
          ]
        }
      ]
    },
    {
      "cell_type": "markdown",
      "source": [
        "Pętla symulująca upływ czasu. Dodaje kolejne zlecenia kurierom gdy nie są w trakcie żadnego innego zlecenia. Sumuje koszt oraz zlicza całkowity czas dostarczenia wszystkich zamówień."
      ],
      "metadata": {
        "id": "nolTtVTInu8l"
      }
    },
    {
      "cell_type": "code",
      "source": [
        "while orders:\n",
        "  for c in range(len(couriers)):\n",
        "    if couriers[c] > 0:\n",
        "      couriers[c] -= 1\n",
        "    elif len(orders) > 0 and couriers[c] == 0 and cur_time >= orders[0][1]:\n",
        "      t = orders.pop(0)[0] / c_type[c]\n",
        "      couriers[c] = round(t * 60) * 2\n",
        "      total_cost += t * c_price[c]\n",
        "  cur_time +=1\n",
        "  total_time += 1  \n"
      ],
      "metadata": {
        "id": "3F8EwftkL4W_"
      },
      "execution_count": 13,
      "outputs": []
    },
    {
      "cell_type": "code",
      "source": [
        "total_time += max(couriers)\n",
        "print(total_time)\n",
        "print('Total time: ', datetime.timedelta(minutes=round(total_time)))\n",
        "print('Total cost: ', total_cost)\n",
        "print('All orders shipped')"
      ],
      "metadata": {
        "colab": {
          "base_uri": "https://localhost:8080/"
        },
        "id": "__Pd4bVHk-vp",
        "outputId": "cc352bd8-9d0e-435c-9cf2-0f97309faffe"
      },
      "execution_count": 14,
      "outputs": [
        {
          "output_type": "stream",
          "name": "stdout",
          "text": [
            "626\n",
            "Total time:  10:26:00\n",
            "Total cost:  676.6266486109058\n",
            "All orders shipped\n"
          ]
        }
      ]
    }
  ]
}